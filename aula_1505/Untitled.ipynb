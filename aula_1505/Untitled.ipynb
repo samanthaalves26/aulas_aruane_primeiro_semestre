{
 "cells": [
  {
   "cell_type": "code",
   "execution_count": 1,
   "id": "4f4a5dda-8457-4f9b-a57b-b16f6670a004",
   "metadata": {},
   "outputs": [
    {
     "name": "stdout",
     "output_type": "stream",
     "text": [
      "Collecting neo4j\n",
      "  Downloading neo4j-5.28.1-py3-none-any.whl.metadata (5.9 kB)\n",
      "Requirement already satisfied: pytz in c:\\users\\samantha alves\\anaconda3\\lib\\site-packages (from neo4j) (2024.1)\n",
      "Downloading neo4j-5.28.1-py3-none-any.whl (312 kB)\n",
      "Installing collected packages: neo4j\n",
      "Successfully installed neo4j-5.28.1\n",
      "Note: you may need to restart the kernel to use updated packages.\n"
     ]
    }
   ],
   "source": [
    "pip install neo4j"
   ]
  },
  {
   "cell_type": "code",
   "execution_count": 2,
   "id": "96d6be3a-330d-40c0-9391-3c166c883772",
   "metadata": {},
   "outputs": [
    {
     "name": "stdout",
     "output_type": "stream",
     "text": [
      "Número de nós: 4\n"
     ]
    }
   ],
   "source": [
    "from neo4j import GraphDatabase\n",
    "\n",
    "# Configurações de conexão\n",
    "driver = GraphDatabase.driver(\"bolt://localhost:7687\", auth=(\"neo4j\", \"senai115\"))\n",
    "\n",
    "# Abrir uma sessão e contar os nós\n",
    "session = driver.session()\n",
    "resultado = session.run(\"MATCH (n) RETURN COUNT(n) AS total\")\n",
    "for registro in resultado:\n",
    "    print(f\"Número de nós: {registro['total']}\")\n",
    "session.close()\n",
    "driver.close()"
   ]
  },
  {
   "cell_type": "code",
   "execution_count": 5,
   "id": "42325f5d-e963-4594-9c13-65bae137eabb",
   "metadata": {},
   "outputs": [],
   "source": [
    "driver = GraphDatabase.driver(\"bolt://localhost:7687\", auth=(\"neo4j\", \"senai115\"))\n",
    "\n",
    "\n",
    "def criar_pessoa(nome, idade):\n",
    "    session = driver.session()\n",
    "    session.run(\"CREATE (p:Pessoa {nome: $nome, idade: $idade})\", nome=nome, idade=idade)\n",
    "    session.close()\n",
    "\n",
    "criar_pessoa(\"Lucas\", 35)"
   ]
  }
 ],
 "metadata": {
  "kernelspec": {
   "display_name": "Python 3 (ipykernel)",
   "language": "python",
   "name": "python3"
  },
  "language_info": {
   "codemirror_mode": {
    "name": "ipython",
    "version": 3
   },
   "file_extension": ".py",
   "mimetype": "text/x-python",
   "name": "python",
   "nbconvert_exporter": "python",
   "pygments_lexer": "ipython3",
   "version": "3.12.7"
  }
 },
 "nbformat": 4,
 "nbformat_minor": 5
}
