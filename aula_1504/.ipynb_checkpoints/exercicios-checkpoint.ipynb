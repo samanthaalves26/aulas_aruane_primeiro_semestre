{
 "cells": [
  {
   "cell_type": "markdown",
   "id": "979340cf-81f8-4ab2-9dd1-6b41c5cbc1fd",
   "metadata": {},
   "source": [
    "1- Como buscar um valor em uma lista encadeada\n",
    "Conceito: Percorremos a lista do início até o fim comparando com o valor procurado.\n",
    "Enunciado: Faça um teste buscando os valores 20 e 50.\n"
   ]
  },
  {
   "cell_type": "code",
   "execution_count": 7,
   "id": "58f319be-d7db-4941-bea5-7493edacd4f9",
   "metadata": {},
   "outputs": [
    {
     "name": "stdout",
     "output_type": "stream",
     "text": [
      "False\n"
     ]
    }
   ],
   "source": [
    "def buscar(inicio, valor):\n",
    "    atual = inicio\n",
    "    while atual:\n",
    "        if atual[\"valor\"] == valor:\n",
    "            return True\n",
    "        atual = atual[\"próximo\"]\n",
    "    return False\n",
    "\n",
    "lista = {\n",
    "    \"valor\": 5,\n",
    "    \"próximo\": {\n",
    "        \"valor\": 8,\n",
    "        \"próximo\": {\n",
    "            \"valor\": 12,\n",
    "            \"próximo\": None\n",
    "        }\n",
    "    }\n",
    "}\n",
    "\n",
    "print(buscar(lista, 50))  # Deve retornar False\n",
    "\n",
    "no = {\"valor\": 15, \"próximo\": None}\n",
    "no1 = {\"valor\": 5, \"próximo\": no}\n"
   ]
  },
  {
   "cell_type": "markdown",
   "id": "e1b3ee53-0805-45ef-888e-c469c2c0ea70",
   "metadata": {},
   "source": [
    "2. Como inserir um valor no final da lista encadeada\n",
    "Conceito: Andamos até o último nó (que aponta para None) e colocamos um novo nó\n",
    "lá.\n",
    "Enunciado: Adicione o valor 40 ao final de uma lista que já tem 10 → 20 → 30."
   ]
  },
  {
   "cell_type": "code",
   "execution_count": 8,
   "id": "52c15052-f6b1-48b7-8698-c3015cb93c8f",
   "metadata": {},
   "outputs": [
    {
     "name": "stdout",
     "output_type": "stream",
     "text": [
      "10 → 20 → 30 → 40\n"
     ]
    }
   ],
   "source": [
    "# Lista encadeada inicial: 10 → 20 → 30\n",
    "lista = {\n",
    "    \"valor\": 10,\n",
    "    \"próximo\": {\n",
    "        \"valor\": 20,\n",
    "        \"próximo\": {\n",
    "            \"valor\": 30,\n",
    "            \"próximo\": None\n",
    "        }\n",
    "    }\n",
    "}\n",
    "\n",
    "# Função para inserir no final\n",
    "def inserir_final(inicio, novo_valor):\n",
    "    atual = inicio\n",
    "    while atual[\"próximo\"] is not None:\n",
    "        atual = atual[\"próximo\"]\n",
    "    atual[\"próximo\"] = {\"valor\": novo_valor, \"próximo\": None}\n",
    "\n",
    "# Inserindo 40 no final\n",
    "inserir_final(lista, 40)\n",
    "\n",
    "# Função para imprimir a lista (só pra ver se deu certo)\n",
    "def imprimir_lista(inicio):\n",
    "    atual = inicio\n",
    "    while atual:\n",
    "        print(atual[\"valor\"], end=\" → \" if atual[\"próximo\"] else \"\\n\")\n",
    "        atual = atual[\"próximo\"]\n",
    "\n",
    "imprimir_lista(lista)\n"
   ]
  },
  {
   "cell_type": "markdown",
   "id": "a3dcab85-6b6d-4519-92b7-c826218d02d1",
   "metadata": {},
   "source": [
    "3. Como remover um valor da lista encadeada\n",
    "Conceito: Se for o primeiro valor, atualizamos o início. Se for no meio ou fim, fazemos\n",
    "o nó anterior apontar para o próximo.\n",
    "Enunciado: Remova o valor 20 da lis1ta 10 → 20 → 30."
   ]
  },
  {
   "cell_type": "code",
   "execution_count": 9,
   "id": "5ce09e28-16be-442a-a8c7-a1bcd7d54e98",
   "metadata": {},
   "outputs": [
    {
     "name": "stdout",
     "output_type": "stream",
     "text": [
      "10 → 30\n"
     ]
    }
   ],
   "source": [
    "# Lista inicial: 10 → 20 → 30\n",
    "lista = {\n",
    "    \"valor\": 10,\n",
    "    \"próximo\": {\n",
    "        \"valor\": 20,\n",
    "        \"próximo\": {\n",
    "            \"valor\": 30,\n",
    "            \"próximo\": None\n",
    "        }\n",
    "    }\n",
    "}\n",
    "\n",
    "# Função para remover um valor\n",
    "def remover_valor(inicio, valor):\n",
    "    # Caso especial: se o valor estiver no início\n",
    "    if inicio[\"valor\"] == valor:\n",
    "        return inicio[\"próximo\"]  # Novo início\n",
    "\n",
    "    anterior = inicio\n",
    "    atual = inicio[\"próximo\"]\n",
    "\n",
    "    while atual:\n",
    "        if atual[\"valor\"] == valor:\n",
    "            anterior[\"próximo\"] = atual[\"próximo\"]  # Remove o nó atual\n",
    "            return inicio  # Retorna o início original\n",
    "        anterior = atual\n",
    "        atual = atual[\"próximo\"]\n",
    "\n",
    "    return inicio  # Valor não encontrado, lista permanece igual\n",
    "\n",
    "# Remover o valor 20\n",
    "lista = remover_valor(lista, 20)\n",
    "\n",
    "# Função para imprimir a lista\n",
    "def imprimir_lista(inicio):\n",
    "    atual = inicio\n",
    "    while atual:\n",
    "        print(atual[\"valor\"], end=\" → \" if atual[\"próximo\"] else \"\\n\")\n",
    "        atual = atual[\"próximo\"]\n",
    "\n",
    "imprimir_lista(lista)\n"
   ]
  },
  {
   "cell_type": "code",
   "execution_count": null,
   "id": "c9be7c0c-7aca-461f-b6f6-bcee4a96c2b1",
   "metadata": {},
   "outputs": [],
   "source": []
  }
 ],
 "metadata": {
  "kernelspec": {
   "display_name": "Python 3 (ipykernel)",
   "language": "python",
   "name": "python3"
  },
  "language_info": {
   "codemirror_mode": {
    "name": "ipython",
    "version": 3
   },
   "file_extension": ".py",
   "mimetype": "text/x-python",
   "name": "python",
   "nbconvert_exporter": "python",
   "pygments_lexer": "ipython3",
   "version": "3.12.7"
  }
 },
 "nbformat": 4,
 "nbformat_minor": 5
}
