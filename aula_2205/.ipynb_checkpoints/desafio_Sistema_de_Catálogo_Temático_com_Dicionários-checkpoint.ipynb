{
 "cells": [
  {
   "cell_type": "markdown",
   "id": "78833d69-88c9-4427-b837-db289686bfcb",
   "metadata": {},
   "source": [
    "## **Cadastro de series**"
   ]
  },
  {
   "cell_type": "code",
   "execution_count": 2,
   "id": "912fcb0a-e898-4fc1-b09a-173f5c541f6d",
   "metadata": {},
   "outputs": [],
   "source": [
    "series = {\n",
    "    \"001\": {\"titulo\": \"Friends\", \"ano\": 1994, \"temporadas\": 10, \"gênero\": \"Sitcom\", \"classificação\": 12, \"disponivel\": \"Max\", \"assistido\": True},\n",
    "    \"002\": {\"titulo\": \"The Walking Dead\", \"ano\": 2010, \"temporadas\": 11, \"gênero\": \"Terror\", \"classificação\": 16, \"disponivel\": \"Netflix\", \"assistido\": True},\n",
    "    \"003\": {\"titulo\": \"Game of Thrones\", \"ano\": 2011, \"temporadas\": 8, \"gênero\": \"Drama\", \"classificação\": 18, \"disponivel\": \"Max\", \"assistido\": False},\n",
    "    \"004\": {\"titulo\": \"Breaking Bad\", \"ano\": 2008, \"temporadas\": 5, \"gênero\": \"Drama\", \"classificação\": 16, \"disponivel\": \"Netflix\", \"assistido\": False},\n",
    "    \"005\": {\"titulo\": \"Stranger Things\", \"ano\": 2016, \"temporadas\": 4, \"gênero\": \"Ficção científica\", \"classificação\": 14, \"disponivel\": \"Netflix\", \"assistido\": True}\n",
    "}"
   ]
  },
  {
   "cell_type": "markdown",
   "id": "2a15e183-9994-4598-8ead-ba320fc07800",
   "metadata": {},
   "source": [
    "**Adicionar nova serie**"
   ]
  },
  {
   "cell_type": "code",
   "execution_count": 24,
   "id": "7815e2fd-8cfb-449a-9383-39a618fbe50f",
   "metadata": {},
   "outputs": [
    {
     "name": "stdout",
     "output_type": "stream",
     "text": [
      "Serie nova adcionada\n"
     ]
    }
   ],
   "source": [
    "def adicionar_serie(catalogo, codigo, titulo, ano, temporadas, gênero, classificação, disponivel, assistido):\n",
    "    if codigo in catalogo:\n",
    "        print(\"Serie já cadastrado.\")\n",
    "    else:\n",
    "        catalogo[codigo] = {\"titulo\": titulo, \"ano\": ano, \"temporadas\": temporadas, \"gênero\": gênero, \"classificação\": classificação, \"disponivel\": disponivel, \"assistido\": True}\n",
    "        print(\"Serie nova adcionada\")\n",
    "\n",
    "adicionar_serie(series, \"006\", \"Riverdale\", 2017, 7, \"Drama\", 12, \"Netflix\", True)"
   ]
  },
  {
   "cell_type": "markdown",
   "id": "fa4245d2-b500-4718-8642-afebfdd43a65",
   "metadata": {},
   "source": [
    "**Listar todas as series**"
   ]
  },
  {
   "cell_type": "code",
   "execution_count": 34,
   "id": "74a5648d-55c2-4b21-8fa0-9bdba914d873",
   "metadata": {},
   "outputs": [
    {
     "name": "stdout",
     "output_type": "stream",
     "text": [
      "001 - Friends (1994) - 10 Temporadas - Sitcom - 12 anos - True [Assistido]\n",
      "002 - The Walking Dead (2010) - 11 Temporadas - Terror - 16 anos - True [Assistido]\n",
      "003 - Game of Thrones (2011) - 8 Temporadas - Drama - 18 anos - False [Ainda não assistido]\n",
      "004 - Breaking Bad (2008) - 5 Temporadas - Drama - 16 anos - False [Ainda não assistido]\n",
      "005 - Stranger Things (2016) - 4 Temporadas - Ficção científica - 14 anos - True [Assistido]\n",
      "006 - Riverdale (2017) - 7 Temporadas - Drama - 12 anos - True [Assistido]\n"
     ]
    }
   ],
   "source": [
    "def listar_series(catalogo):\n",
    "    for codigo, dados in catalogo.items():\n",
    "        status = \"Assistido\" if dados[\"assistido\"] else \"Ainda não assistido\"\n",
    "        print(f\"{codigo} - {dados['titulo']} ({dados['ano']}) - {dados['temporadas']} Temporadas - {dados['gênero']} - {dados['classificação']} anos - {dados['assistido']} [{status}]\")\n",
    "\n",
    "listar_series(series)"
   ]
  },
  {
   "cell_type": "markdown",
   "id": "5d8af8c0-41f1-4351-a9c7-eff7bb043e80",
   "metadata": {},
   "source": [
    "**Buscar livro por título**"
   ]
  },
  {
   "cell_type": "code",
   "execution_count": 31,
   "id": "81333ca7-f078-4ce7-bc99-925d43992ff4",
   "metadata": {},
   "outputs": [
    {
     "name": "stdout",
     "output_type": "stream",
     "text": [
      "006 - Riverdale (2017)\n"
     ]
    }
   ],
   "source": [
    "def buscar_por_titulo(catalogo, titulo):\n",
    "    for codigo, dados in catalogo.items():\n",
    "        if titulo.lower() in dados[\"titulo\"].lower():\n",
    "            print(f\"{codigo} - {dados['titulo']} ({dados['ano']})\")\n",
    "\n",
    "buscar_por_titulo(series, \"Riverdale\")"
   ]
  },
  {
   "cell_type": "markdown",
   "id": "1a2696d1-9b23-4ba1-a757-871f89347fd3",
   "metadata": {},
   "source": [
    "**Adicionar nos assistidos**"
   ]
  },
  {
   "cell_type": "code",
   "execution_count": 44,
   "id": "a21583e0-79b1-41ef-8dcc-8702b4b180ae",
   "metadata": {},
   "outputs": [
    {
     "name": "stdout",
     "output_type": "stream",
     "text": [
      "A série 'Breaking Bad' foi marcada como assistida.\n"
     ]
    }
   ],
   "source": [
    "def assistir_serie(catalogo, codigo):\n",
    "    if codigo in catalogo:\n",
    "        if not catalogo[codigo][\"assistido\"]:\n",
    "            catalogo[codigo][\"assistido\"] = True\n",
    "            print(f\"A série '{catalogo[codigo]['titulo']}' foi marcada como assistida.\")\n",
    "        else:\n",
    "            print(f\"A série '{catalogo[codigo]['titulo']}' já foi assistida.\")\n",
    "    else:\n",
    "        print(\"Serie não disponível ou código inválido.\")\n",
    "\n",
    "assistir_serie(series, \"004\")"
   ]
  },
  {
   "cell_type": "code",
   "execution_count": 45,
   "id": "c6f00e28-fc2d-4f7c-a82c-d3d09594b491",
   "metadata": {},
   "outputs": [
    {
     "name": "stdout",
     "output_type": "stream",
     "text": [
      "001 - Friends (1994) - 10 Temporadas - Sitcom - 12 anos - True [Assistido]\n",
      "002 - The Walking Dead (2010) - 11 Temporadas - Terror - 16 anos - True [Assistido]\n",
      "003 - Game of Thrones (2011) - 8 Temporadas - Drama - 18 anos - False [Ainda não assistido]\n",
      "004 - Breaking Bad (2008) - 5 Temporadas - Drama - 16 anos - True [Assistido]\n",
      "005 - Stranger Things (2016) - 4 Temporadas - Ficção científica - 14 anos - False [Ainda não assistido]\n",
      "006 - Riverdale (2017) - 7 Temporadas - Drama - 12 anos - True [Assistido]\n"
     ]
    }
   ],
   "source": [
    "listar_series(series)"
   ]
  },
  {
   "cell_type": "markdown",
   "id": "493891e2-8aaf-4ab8-a3db-2d1bc6a3871e",
   "metadata": {},
   "source": [
    "**Atualizar informações de um item**"
   ]
  },
  {
   "cell_type": "code",
   "execution_count": 46,
   "id": "07f9c8dd-3249-44a3-ac9b-5eb4cf784f0a",
   "metadata": {},
   "outputs": [
    {
     "name": "stdout",
     "output_type": "stream",
     "text": [
      "O campo 'ano' da série 'Breaking Bad' foi atualizado para '2009'.\n"
     ]
    }
   ],
   "source": [
    "def atualizar_serie(catalogo, codigo, campo, novo_valor):\n",
    "    if codigo in catalogo:\n",
    "        if campo in catalogo[codigo]:\n",
    "            catalogo[codigo][campo] = novo_valor\n",
    "            print(f\"O campo '{campo}' da série '{catalogo[codigo]['titulo']}' foi atualizado para '{novo_valor}'.\")\n",
    "        else:\n",
    "            print(f\"O campo '{campo}' não existe na série.\")\n",
    "    else:\n",
    "        print(\"Código da série não encontrado.\")\n",
    "\n",
    "atualizar_serie(series, \"004\", \"ano\", 2009)"
   ]
  },
  {
   "cell_type": "code",
   "execution_count": 47,
   "id": "4960047b-88d6-4423-93b0-6e1848b3c4c8",
   "metadata": {},
   "outputs": [
    {
     "name": "stdout",
     "output_type": "stream",
     "text": [
      "001 - Friends (1994) - 10 Temporadas - Sitcom - 12 anos - True [Assistido]\n",
      "002 - The Walking Dead (2010) - 11 Temporadas - Terror - 16 anos - True [Assistido]\n",
      "003 - Game of Thrones (2011) - 8 Temporadas - Drama - 18 anos - False [Ainda não assistido]\n",
      "004 - Breaking Bad (2009) - 5 Temporadas - Drama - 16 anos - True [Assistido]\n",
      "005 - Stranger Things (2016) - 4 Temporadas - Ficção científica - 14 anos - False [Ainda não assistido]\n",
      "006 - Riverdale (2017) - 7 Temporadas - Drama - 12 anos - True [Assistido]\n"
     ]
    }
   ],
   "source": [
    "listar_series(series)"
   ]
  }
 ],
 "metadata": {
  "kernelspec": {
   "display_name": "Python 3 (ipykernel)",
   "language": "python",
   "name": "python3"
  },
  "language_info": {
   "codemirror_mode": {
    "name": "ipython",
    "version": 3
   },
   "file_extension": ".py",
   "mimetype": "text/x-python",
   "name": "python",
   "nbconvert_exporter": "python",
   "pygments_lexer": "ipython3",
   "version": "3.12.7"
  }
 },
 "nbformat": 4,
 "nbformat_minor": 5
}
