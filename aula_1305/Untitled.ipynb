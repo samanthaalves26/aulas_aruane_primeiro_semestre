{
 "cells": [
  {
   "cell_type": "code",
   "execution_count": 4,
   "id": "b500a24b-5029-40b6-8054-5e6bda04f8e2",
   "metadata": {},
   "outputs": [
    {
     "name": "stdout",
     "output_type": "stream",
     "text": [
      "[1, 2, 3, 5, 8]\n"
     ]
    }
   ],
   "source": [
    "def bubble_sort(vetor):\n",
    "    v = len(vetor)\n",
    "\n",
    "    for i in range(v):\n",
    "        for j in range(0, v - i - 1):\n",
    "            if vetor[j] > vetor[j + 1]:\n",
    "                temp = vetor[j]\n",
    "                vetor[j] = vetor[j + 1] \n",
    "                vetor[j + 1] = temp\n",
    "    return vetor\n",
    "\n",
    "vetor = [5, 3, 8, 1, 2]\n",
    "vetor_ordenado = bubble_sort(vetor)\n",
    "print(vetor)"
   ]
  },
  {
   "cell_type": "code",
   "execution_count": 7,
   "id": "a22ce355-ab65-4102-a595-db46ea07ce03",
   "metadata": {},
   "outputs": [
    {
     "name": "stdout",
     "output_type": "stream",
     "text": [
      "[2, 15, 34]\n"
     ]
    }
   ],
   "source": [
    "vetor = [15, 34, 2]\n",
    "n = len(vetor)\n",
    "\n",
    "for i in range(n):\n",
    "    min_idx = i\n",
    "    for j in range(i + 1, n):\n",
    "        if vetor[j] < vetor[min_idx]:\n",
    "            min_idx = j\n",
    "    vetor[i], vetor[min_idx] = vetor[min_idx], vetor[i]\n",
    "\n",
    "print(vetor)\n"
   ]
  },
  {
   "cell_type": "code",
   "execution_count": 11,
   "id": "e25d7b24-62f7-42f1-94a2-4f20add4fa92",
   "metadata": {},
   "outputs": [
    {
     "name": "stdout",
     "output_type": "stream",
     "text": [
      "[1, 2, 3, 4, 5]\n"
     ]
    }
   ],
   "source": [
    "def bubble_sort(vetor):\n",
    "    v = len(vetor)\n",
    "\n",
    "    for i in range(v):\n",
    "        for j in range(0, v - i - 1):\n",
    "            if vetor[j] > vetor[j + 1]:\n",
    "                temp = vetor[j]\n",
    "                vetor[j] = vetor[j + 1] \n",
    "                vetor[j + 1] = temp\n",
    "    return vetor\n",
    "\n",
    "vetor = [1,2,3,4,5]\n",
    "vetor_ordenado = bubble_sort(vetor)\n",
    "print(vetor)"
   ]
  },
  {
   "cell_type": "code",
   "execution_count": null,
   "id": "2b7a8ca0-0057-4b3a-9837-14f2ed1f3bac",
   "metadata": {},
   "outputs": [],
   "source": []
  },
  {
   "cell_type": "code",
   "execution_count": null,
   "id": "9ed07235-aacc-4f75-8a37-f0e19f047ae0",
   "metadata": {},
   "outputs": [],
   "source": []
  }
 ],
 "metadata": {
  "kernelspec": {
   "display_name": "Python 3 (ipykernel)",
   "language": "python",
   "name": "python3"
  },
  "language_info": {
   "codemirror_mode": {
    "name": "ipython",
    "version": 3
   },
   "file_extension": ".py",
   "mimetype": "text/x-python",
   "name": "python",
   "nbconvert_exporter": "python",
   "pygments_lexer": "ipython3",
   "version": "3.12.7"
  }
 },
 "nbformat": 4,
 "nbformat_minor": 5
}
