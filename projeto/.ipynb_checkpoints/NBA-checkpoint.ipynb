{
 "cells": [
  {
   "cell_type": "markdown",
   "metadata": {
    "application/vnd.databricks.v1+cell": {
     "cellMetadata": {},
     "inputWidgets": {},
     "nuid": "b1ef4d40-106b-49c6-93ef-5965ad67ddac",
     "showTitle": false,
     "tableResultSettingsMap": {},
     "title": ""
    }
   },
   "source": [
    "# Criando databases"
   ]
  },
  {
   "cell_type": "code",
   "execution_count": 0,
   "metadata": {
    "application/vnd.databricks.v1+cell": {
     "cellMetadata": {
      "byteLimit": 2048000,
      "implicitDf": true,
      "rowLimit": 10000
     },
     "inputWidgets": {},
     "nuid": "5e85f210-a8c4-4613-8de6-99856a7f7b0f",
     "showTitle": false,
     "tableResultSettingsMap": {},
     "title": ""
    }
   },
   "outputs": [
    {
     "output_type": "display_data",
     "data": {
      "text/html": [
       "<style scoped>\n",
       "  .table-result-container {\n",
       "    max-height: 300px;\n",
       "    overflow: auto;\n",
       "  }\n",
       "  table, th, td {\n",
       "    border: 1px solid black;\n",
       "    border-collapse: collapse;\n",
       "  }\n",
       "  th, td {\n",
       "    padding: 5px;\n",
       "  }\n",
       "  th {\n",
       "    text-align: left;\n",
       "  }\n",
       "</style><div class='table-result-container'><table class='table-result'><thead style='background-color: white'><tr></tr></thead><tbody></tbody></table></div>"
      ]
     },
     "metadata": {
      "application/vnd.databricks.v1+output": {
       "addedWidgets": {},
       "aggData": [],
       "aggError": "",
       "aggOverflow": false,
       "aggSchema": [],
       "aggSeriesLimitReached": false,
       "aggType": "",
       "arguments": {},
       "columnCustomDisplayInfos": {},
       "data": [],
       "datasetInfos": [],
       "dbfsResultPath": null,
       "isJsonSchema": true,
       "metadata": {},
       "overflow": false,
       "plotOptions": {
        "customPlotOptions": {},
        "displayType": "table",
        "pivotAggregation": null,
        "pivotColumns": null,
        "xColumns": null,
        "yColumns": null
       },
       "removedWidgets": [],
       "schema": [],
       "type": "table"
      }
     },
     "output_type": "display_data"
    }
   ],
   "source": [
    "%sql\n",
    "CREATE DATABASE IF NOT EXISTS nba_modeloestrela\n",
    "LOCATION '/user/samantha.a.caetano@gmail.com/nba_modeloestrela';\n"
   ]
  },
  {
   "cell_type": "code",
   "execution_count": 0,
   "metadata": {
    "application/vnd.databricks.v1+cell": {
     "cellMetadata": {
      "byteLimit": 2048000,
      "implicitDf": true,
      "rowLimit": 10000
     },
     "inputWidgets": {},
     "nuid": "095a8b69-580e-4134-bcef-ba22ab1ff74d",
     "showTitle": false,
     "tableResultSettingsMap": {},
     "title": ""
    }
   },
   "outputs": [
    {
     "output_type": "display_data",
     "data": {
      "text/html": [
       "<style scoped>\n",
       "  .table-result-container {\n",
       "    max-height: 300px;\n",
       "    overflow: auto;\n",
       "  }\n",
       "  table, th, td {\n",
       "    border: 1px solid black;\n",
       "    border-collapse: collapse;\n",
       "  }\n",
       "  th, td {\n",
       "    padding: 5px;\n",
       "  }\n",
       "  th {\n",
       "    text-align: left;\n",
       "  }\n",
       "</style><div class='table-result-container'><table class='table-result'><thead style='background-color: white'><tr></tr></thead><tbody></tbody></table></div>"
      ]
     },
     "metadata": {
      "application/vnd.databricks.v1+output": {
       "addedWidgets": {},
       "aggData": [],
       "aggError": "",
       "aggOverflow": false,
       "aggSchema": [],
       "aggSeriesLimitReached": false,
       "aggType": "",
       "arguments": {},
       "columnCustomDisplayInfos": {},
       "data": [],
       "datasetInfos": [],
       "dbfsResultPath": null,
       "isJsonSchema": true,
       "metadata": {},
       "overflow": false,
       "plotOptions": {
        "customPlotOptions": {},
        "displayType": "table",
        "pivotAggregation": null,
        "pivotColumns": null,
        "xColumns": null,
        "yColumns": null
       },
       "removedWidgets": [],
       "schema": [],
       "type": "table"
      }
     },
     "output_type": "display_data"
    }
   ],
   "source": [
    "%sql\n",
    "CREATE DATABASE IF NOT EXISTS nba_flocodeneve\n",
    "LOCATION '/user/samantha.a.caetano@gmail.com/nba_flocodeneve';\n"
   ]
  },
  {
   "cell_type": "markdown",
   "metadata": {
    "application/vnd.databricks.v1+cell": {
     "cellMetadata": {},
     "inputWidgets": {},
     "nuid": "e640e342-d338-4f30-a46d-3a9efb405ea9",
     "showTitle": false,
     "tableResultSettingsMap": {},
     "title": ""
    }
   },
   "source": [
    "# Criando tabelas"
   ]
  },
  {
   "cell_type": "markdown",
   "metadata": {
    "application/vnd.databricks.v1+cell": {
     "cellMetadata": {},
     "inputWidgets": {},
     "nuid": "92ffb142-fb8c-4385-b506-06c04a09696e",
     "showTitle": false,
     "tableResultSettingsMap": {},
     "title": ""
    }
   },
   "source": [
    "## Criando tabelas modelo Estrela"
   ]
  },
  {
   "cell_type": "code",
   "execution_count": 0,
   "metadata": {
    "application/vnd.databricks.v1+cell": {
     "cellMetadata": {
      "byteLimit": 2048000,
      "implicitDf": true,
      "rowLimit": 10000
     },
     "inputWidgets": {},
     "nuid": "e4c790e9-6086-4d67-b4a3-362708d57524",
     "showTitle": false,
     "tableResultSettingsMap": {},
     "title": ""
    }
   },
   "outputs": [
    {
     "output_type": "display_data",
     "data": {
      "text/html": [
       "<style scoped>\n",
       "  .table-result-container {\n",
       "    max-height: 300px;\n",
       "    overflow: auto;\n",
       "  }\n",
       "  table, th, td {\n",
       "    border: 1px solid black;\n",
       "    border-collapse: collapse;\n",
       "  }\n",
       "  th, td {\n",
       "    padding: 5px;\n",
       "  }\n",
       "  th {\n",
       "    text-align: left;\n",
       "  }\n",
       "</style><div class='table-result-container'><table class='table-result'><thead style='background-color: white'><tr></tr></thead><tbody></tbody></table></div>"
      ]
     },
     "metadata": {
      "application/vnd.databricks.v1+output": {
       "addedWidgets": {},
       "aggData": [],
       "aggError": "",
       "aggOverflow": false,
       "aggSchema": [],
       "aggSeriesLimitReached": false,
       "aggType": "",
       "arguments": {},
       "columnCustomDisplayInfos": {},
       "data": [],
       "datasetInfos": [],
       "dbfsResultPath": null,
       "isJsonSchema": true,
       "metadata": {},
       "overflow": false,
       "plotOptions": {
        "customPlotOptions": {},
        "displayType": "table",
        "pivotAggregation": null,
        "pivotColumns": null,
        "xColumns": null,
        "yColumns": null
       },
       "removedWidgets": [],
       "schema": [],
       "type": "table"
      }
     },
     "output_type": "display_data"
    }
   ],
   "source": [
    "%sql\n",
    "use nba_modeloestrela"
   ]
  },
  {
   "cell_type": "code",
   "execution_count": 0,
   "metadata": {
    "application/vnd.databricks.v1+cell": {
     "cellMetadata": {
      "byteLimit": 2048000,
      "implicitDf": true,
      "rowLimit": 10000
     },
     "inputWidgets": {},
     "nuid": "b06743db-b7e1-4215-833a-501bd5fc07c8",
     "showTitle": false,
     "tableResultSettingsMap": {},
     "title": ""
    }
   },
   "outputs": [
    {
     "output_type": "display_data",
     "data": {
      "text/html": [
       "<style scoped>\n",
       "  .table-result-container {\n",
       "    max-height: 300px;\n",
       "    overflow: auto;\n",
       "  }\n",
       "  table, th, td {\n",
       "    border: 1px solid black;\n",
       "    border-collapse: collapse;\n",
       "  }\n",
       "  th, td {\n",
       "    padding: 5px;\n",
       "  }\n",
       "  th {\n",
       "    text-align: left;\n",
       "  }\n",
       "</style><div class='table-result-container'><table class='table-result'><thead style='background-color: white'><tr></tr></thead><tbody></tbody></table></div>"
      ]
     },
     "metadata": {
      "application/vnd.databricks.v1+output": {
       "addedWidgets": {},
       "aggData": [],
       "aggError": "",
       "aggOverflow": false,
       "aggSchema": [],
       "aggSeriesLimitReached": false,
       "aggType": "",
       "arguments": {},
       "columnCustomDisplayInfos": {},
       "data": [],
       "datasetInfos": [],
       "dbfsResultPath": null,
       "isJsonSchema": true,
       "metadata": {},
       "overflow": false,
       "plotOptions": {
        "customPlotOptions": {},
        "displayType": "table",
        "pivotAggregation": null,
        "pivotColumns": null,
        "xColumns": null,
        "yColumns": null
       },
       "removedWidgets": [],
       "schema": [],
       "type": "table"
      }
     },
     "output_type": "display_data"
    }
   ],
   "source": [
    "%sql\n",
    "CREATE TABLE jogador (\n",
    "  id INT,\n",
    "  rankings_id INT,\n",
    "  universidade_id INT,\n",
    "  nome STRING,\n",
    "  idade INT,\n",
    "  posicao STRING,\n",
    "  universidade_nome STRING\n",
    ")USING DELTA\n",
    "LOCATION '/user/samantha.a.caetano@gmail.com/nba_modeloestrela/jogador';\n"
   ]
  },
  {
   "cell_type": "code",
   "execution_count": 0,
   "metadata": {
    "application/vnd.databricks.v1+cell": {
     "cellMetadata": {
      "byteLimit": 2048000,
      "implicitDf": true,
      "rowLimit": 10000
     },
     "inputWidgets": {},
     "nuid": "08fd50ba-83b2-4281-9180-ecbe2ff199a0",
     "showTitle": false,
     "tableResultSettingsMap": {},
     "title": ""
    }
   },
   "outputs": [
    {
     "output_type": "display_data",
     "data": {
      "text/html": [
       "<style scoped>\n",
       "  .table-result-container {\n",
       "    max-height: 300px;\n",
       "    overflow: auto;\n",
       "  }\n",
       "  table, th, td {\n",
       "    border: 1px solid black;\n",
       "    border-collapse: collapse;\n",
       "  }\n",
       "  th, td {\n",
       "    padding: 5px;\n",
       "  }\n",
       "  th {\n",
       "    text-align: left;\n",
       "  }\n",
       "</style><div class='table-result-container'><table class='table-result'><thead style='background-color: white'><tr></tr></thead><tbody></tbody></table></div>"
      ]
     },
     "metadata": {
      "application/vnd.databricks.v1+output": {
       "addedWidgets": {},
       "aggData": [],
       "aggError": "",
       "aggOverflow": false,
       "aggSchema": [],
       "aggSeriesLimitReached": false,
       "aggType": "",
       "arguments": {},
       "columnCustomDisplayInfos": {},
       "data": [],
       "datasetInfos": [],
       "dbfsResultPath": null,
       "isJsonSchema": true,
       "metadata": {},
       "overflow": false,
       "plotOptions": {
        "customPlotOptions": {},
        "displayType": "table",
        "pivotAggregation": null,
        "pivotColumns": null,
        "xColumns": null,
        "yColumns": null
       },
       "removedWidgets": [],
       "schema": [],
       "type": "table"
      }
     },
     "output_type": "display_data"
    }
   ],
   "source": [
    "%sql\n",
    "CREATE TABLE rankings (\n",
    "  rankings_id BIGINT,\n",
    "  id_jogador INT,\n",
    "  id_universidade INT,\n",
    "  nome_jogador STRING,\n",
    "  nome_universidade STRING,\n",
    "  rsci_rankings INT,\n",
    "  espn_rankings INT,\n",
    "  rivals_rankings INT,\n",
    "  `247sports_rankings` INT\n",
    ")USING DELTA\n",
    "LOCATION '/user/samantha.a.caetano@gmail.com/nba_modeloestrela/rankings';\n"
   ]
  },
  {
   "cell_type": "code",
   "execution_count": 0,
   "metadata": {
    "application/vnd.databricks.v1+cell": {
     "cellMetadata": {
      "byteLimit": 2048000,
      "implicitDf": true,
      "rowLimit": 10000
     },
     "inputWidgets": {},
     "nuid": "dff958f3-12ea-4a97-9bd8-b9530ca50614",
     "showTitle": false,
     "tableResultSettingsMap": {},
     "title": ""
    }
   },
   "outputs": [
    {
     "output_type": "display_data",
     "data": {
      "text/html": [
       "<style scoped>\n",
       "  .table-result-container {\n",
       "    max-height: 300px;\n",
       "    overflow: auto;\n",
       "  }\n",
       "  table, th, td {\n",
       "    border: 1px solid black;\n",
       "    border-collapse: collapse;\n",
       "  }\n",
       "  th, td {\n",
       "    padding: 5px;\n",
       "  }\n",
       "  th {\n",
       "    text-align: left;\n",
       "  }\n",
       "</style><div class='table-result-container'><table class='table-result'><thead style='background-color: white'><tr></tr></thead><tbody></tbody></table></div>"
      ]
     },
     "metadata": {
      "application/vnd.databricks.v1+output": {
       "addedWidgets": {},
       "aggData": [],
       "aggError": "",
       "aggOverflow": false,
       "aggSchema": [],
       "aggSeriesLimitReached": false,
       "aggType": "",
       "arguments": {},
       "columnCustomDisplayInfos": {},
       "data": [],
       "datasetInfos": [],
       "dbfsResultPath": null,
       "isJsonSchema": true,
       "metadata": {},
       "overflow": false,
       "plotOptions": {
        "customPlotOptions": {},
        "displayType": "table",
        "pivotAggregation": null,
        "pivotColumns": null,
        "xColumns": null,
        "yColumns": null
       },
       "removedWidgets": [],
       "schema": [],
       "type": "table"
      }
     },
     "output_type": "display_data"
    }
   ],
   "source": [
    "%sql\n",
    "CREATE TABLE universidade (\n",
    "  id_universidade BIGINT,\n",
    "  nome STRING,\n",
    "  conferencia STRING,\n",
    "  ano INT,\n",
    "  jogos INT,\n",
    "  vitorias INT,\n",
    "  pos_temporada STRING\n",
    ")USING DELTA\n",
    "LOCATION '/user/samantha.a.caetano@gmail.com/nba_modeloestrela/universidade';"
   ]
  },
  {
   "cell_type": "code",
   "execution_count": 0,
   "metadata": {
    "application/vnd.databricks.v1+cell": {
     "cellMetadata": {
      "byteLimit": 2048000,
      "implicitDf": true,
      "rowLimit": 10000
     },
     "inputWidgets": {},
     "nuid": "a08937a1-7674-45f9-a29d-dd858e0eb741",
     "showTitle": false,
     "tableResultSettingsMap": {},
     "title": ""
    }
   },
   "outputs": [
    {
     "output_type": "display_data",
     "data": {
      "text/html": [
       "<style scoped>\n",
       "  .table-result-container {\n",
       "    max-height: 300px;\n",
       "    overflow: auto;\n",
       "  }\n",
       "  table, th, td {\n",
       "    border: 1px solid black;\n",
       "    border-collapse: collapse;\n",
       "  }\n",
       "  th, td {\n",
       "    padding: 5px;\n",
       "  }\n",
       "  th {\n",
       "    text-align: left;\n",
       "  }\n",
       "</style><div class='table-result-container'><table class='table-result'><thead style='background-color: white'><tr></tr></thead><tbody></tbody></table></div>"
      ]
     },
     "metadata": {
      "application/vnd.databricks.v1+output": {
       "addedWidgets": {},
       "aggData": [],
       "aggError": "",
       "aggOverflow": false,
       "aggSchema": [],
       "aggSeriesLimitReached": false,
       "aggType": "",
       "arguments": {},
       "columnCustomDisplayInfos": {},
       "data": [],
       "datasetInfos": [],
       "dbfsResultPath": null,
       "isJsonSchema": true,
       "metadata": {},
       "overflow": false,
       "plotOptions": {
        "customPlotOptions": {},
        "displayType": "table",
        "pivotAggregation": null,
        "pivotColumns": null,
        "xColumns": null,
        "yColumns": null
       },
       "removedWidgets": [],
       "schema": [],
       "type": "table"
      }
     },
     "output_type": "display_data"
    }
   ],
   "source": [
    "%sql\n",
    "CREATE TABLE estatisticas (\n",
    "  id_estatisticas BIGINT,\n",
    "  id_jogador BIGINT,\n",
    "  id_universidade BIGINT,\n",
    "  nome_jogador STRING,\n",
    "  nome_universidade STRING,\n",
    "  jogos_disputados INT,\n",
    "  pontos_jogo FLOAT,\n",
    "  rebotes_jogo FLOAT,\n",
    "  assistencias_jogo FLOAT,\n",
    "  roubos_de_bola_jogo FLOAT,\n",
    "  tocos_jogo FLOAT,\n",
    "  turnovers_jogo FLOAT,\n",
    "  fg_percent STRING,\n",
    "  `3pt_percent` STRING,\n",
    "  ft_percent STRING\n",
    ")USING DELTA\n",
    "LOCATION '/user/samantha.a.caetano@gmail.com/nba_modeloestrela/estatisticas';\n"
   ]
  },
  {
   "cell_type": "code",
   "execution_count": 0,
   "metadata": {
    "application/vnd.databricks.v1+cell": {
     "cellMetadata": {
      "byteLimit": 2048000,
      "implicitDf": true,
      "rowLimit": 10000
     },
     "inputWidgets": {},
     "nuid": "bee472df-2f14-4acd-9f5e-1248c9333587",
     "showTitle": false,
     "tableResultSettingsMap": {},
     "title": ""
    }
   },
   "outputs": [
    {
     "output_type": "display_data",
     "data": {
      "text/html": [
       "<style scoped>\n",
       "  .table-result-container {\n",
       "    max-height: 300px;\n",
       "    overflow: auto;\n",
       "  }\n",
       "  table, th, td {\n",
       "    border: 1px solid black;\n",
       "    border-collapse: collapse;\n",
       "  }\n",
       "  th, td {\n",
       "    padding: 5px;\n",
       "  }\n",
       "  th {\n",
       "    text-align: left;\n",
       "  }\n",
       "</style><div class='table-result-container'><table class='table-result'><thead style='background-color: white'><tr></tr></thead><tbody></tbody></table></div>"
      ]
     },
     "metadata": {
      "application/vnd.databricks.v1+output": {
       "addedWidgets": {},
       "aggData": [],
       "aggError": "",
       "aggOverflow": false,
       "aggSchema": [],
       "aggSeriesLimitReached": false,
       "aggType": "",
       "arguments": {},
       "columnCustomDisplayInfos": {},
       "data": [],
       "datasetInfos": [],
       "dbfsResultPath": null,
       "isJsonSchema": true,
       "metadata": {},
       "overflow": false,
       "plotOptions": {
        "customPlotOptions": {},
        "displayType": "table",
        "pivotAggregation": null,
        "pivotColumns": null,
        "xColumns": null,
        "yColumns": null
       },
       "removedWidgets": [],
       "schema": [],
       "type": "table"
      }
     },
     "output_type": "display_data"
    }
   ],
   "source": [
    "%sql\n",
    "CREATE TABLE transicao_para_nba (\n",
    "  id_transicao BIGINT,\n",
    "  id_jogador BIGINT,\n",
    "  id_universidade BIGINT,\n",
    "  id_estatisticas BIGINT,\n",
    "  nome_jogador STRING,\n",
    "  nome_universidade STRING,\n",
    "  ano_entrada_ncaa INT,\n",
    "  ano_entrada_nba INT,\n",
    "  entrou_nba INT,         -- 0 ou 1\n",
    "  anos_jogados_nba INT,\n",
    "  ainda_ativo INT         -- 0 ou 1\n",
    ")USING DELTA\n",
    "LOCATION '/user/samantha.a.caetano@gmail.com/nba_modeloestrela/transicao_para_nba';\n"
   ]
  },
  {
   "cell_type": "code",
   "execution_count": 0,
   "metadata": {
    "application/vnd.databricks.v1+cell": {
     "cellMetadata": {
      "byteLimit": 2048000,
      "implicitDf": true,
      "rowLimit": 10000
     },
     "inputWidgets": {},
     "nuid": "c385d9c4-953f-4f04-8303-047ea4537b3c",
     "showTitle": false,
     "tableResultSettingsMap": {},
     "title": ""
    }
   },
   "outputs": [
    {
     "output_type": "display_data",
     "data": {
      "text/html": [
       "<style scoped>\n",
       "  .table-result-container {\n",
       "    max-height: 300px;\n",
       "    overflow: auto;\n",
       "  }\n",
       "  table, th, td {\n",
       "    border: 1px solid black;\n",
       "    border-collapse: collapse;\n",
       "  }\n",
       "  th, td {\n",
       "    padding: 5px;\n",
       "  }\n",
       "  th {\n",
       "    text-align: left;\n",
       "  }\n",
       "</style><div class='table-result-container'><table class='table-result'><thead style='background-color: white'><tr><th>database</th><th>tableName</th><th>isTemporary</th></tr></thead><tbody><tr><td>nba_modeloestrela</td><td>estatisticas</td><td>false</td></tr><tr><td>nba_modeloestrela</td><td>jogador</td><td>false</td></tr><tr><td>nba_modeloestrela</td><td>rankings</td><td>false</td></tr><tr><td>nba_modeloestrela</td><td>transicao_para_nba</td><td>false</td></tr><tr><td>nba_modeloestrela</td><td>universidade</td><td>false</td></tr></tbody></table></div>"
      ]
     },
     "metadata": {
      "application/vnd.databricks.v1+output": {
       "addedWidgets": {},
       "aggData": [],
       "aggError": "",
       "aggOverflow": false,
       "aggSchema": [],
       "aggSeriesLimitReached": false,
       "aggType": "",
       "arguments": {},
       "columnCustomDisplayInfos": {},
       "data": [
        [
         "nba_modeloestrela",
         "estatisticas",
         false
        ],
        [
         "nba_modeloestrela",
         "jogador",
         false
        ],
        [
         "nba_modeloestrela",
         "rankings",
         false
        ],
        [
         "nba_modeloestrela",
         "transicao_para_nba",
         false
        ],
        [
         "nba_modeloestrela",
         "universidade",
         false
        ]
       ],
       "datasetInfos": [],
       "dbfsResultPath": null,
       "isJsonSchema": true,
       "metadata": {},
       "overflow": false,
       "plotOptions": {
        "customPlotOptions": {},
        "displayType": "table",
        "pivotAggregation": null,
        "pivotColumns": null,
        "xColumns": null,
        "yColumns": null
       },
       "removedWidgets": [],
       "schema": [
        {
         "metadata": "{}",
         "name": "database",
         "type": "\"string\""
        },
        {
         "metadata": "{}",
         "name": "tableName",
         "type": "\"string\""
        },
        {
         "metadata": "{}",
         "name": "isTemporary",
         "type": "\"boolean\""
        }
       ],
       "type": "table"
      }
     },
     "output_type": "display_data"
    }
   ],
   "source": [
    "%sql\n",
    "SHOW TABLES IN nba_modeloestrela;"
   ]
  },
  {
   "cell_type": "markdown",
   "metadata": {
    "application/vnd.databricks.v1+cell": {
     "cellMetadata": {},
     "inputWidgets": {},
     "nuid": "bf39837c-53c2-4cd6-8503-90e8af53a88e",
     "showTitle": false,
     "tableResultSettingsMap": {},
     "title": ""
    }
   },
   "source": [
    "## Criando tabelas modelo Floco de neve"
   ]
  },
  {
   "cell_type": "code",
   "execution_count": 0,
   "metadata": {
    "application/vnd.databricks.v1+cell": {
     "cellMetadata": {
      "byteLimit": 2048000,
      "implicitDf": true,
      "rowLimit": 10000
     },
     "inputWidgets": {},
     "nuid": "ce1b5f2d-6fb9-4f63-a1d9-8faab135f779",
     "showTitle": false,
     "tableResultSettingsMap": {},
     "title": ""
    }
   },
   "outputs": [
    {
     "output_type": "display_data",
     "data": {
      "text/html": [
       "<style scoped>\n",
       "  .table-result-container {\n",
       "    max-height: 300px;\n",
       "    overflow: auto;\n",
       "  }\n",
       "  table, th, td {\n",
       "    border: 1px solid black;\n",
       "    border-collapse: collapse;\n",
       "  }\n",
       "  th, td {\n",
       "    padding: 5px;\n",
       "  }\n",
       "  th {\n",
       "    text-align: left;\n",
       "  }\n",
       "</style><div class='table-result-container'><table class='table-result'><thead style='background-color: white'><tr></tr></thead><tbody></tbody></table></div>"
      ]
     },
     "metadata": {
      "application/vnd.databricks.v1+output": {
       "addedWidgets": {},
       "aggData": [],
       "aggError": "",
       "aggOverflow": false,
       "aggSchema": [],
       "aggSeriesLimitReached": false,
       "aggType": "",
       "arguments": {},
       "columnCustomDisplayInfos": {},
       "data": [],
       "datasetInfos": [],
       "dbfsResultPath": null,
       "isJsonSchema": true,
       "metadata": {},
       "overflow": false,
       "plotOptions": {
        "customPlotOptions": {},
        "displayType": "table",
        "pivotAggregation": null,
        "pivotColumns": null,
        "xColumns": null,
        "yColumns": null
       },
       "removedWidgets": [],
       "schema": [],
       "type": "table"
      }
     },
     "output_type": "display_data"
    }
   ],
   "source": [
    "%sql\n",
    "use nba_flocodeneve"
   ]
  },
  {
   "cell_type": "code",
   "execution_count": 0,
   "metadata": {
    "application/vnd.databricks.v1+cell": {
     "cellMetadata": {
      "byteLimit": 2048000,
      "implicitDf": true,
      "rowLimit": 10000
     },
     "inputWidgets": {},
     "nuid": "5fa1210c-5a11-4549-be93-fddf7218bc1a",
     "showTitle": false,
     "tableResultSettingsMap": {},
     "title": ""
    }
   },
   "outputs": [
    {
     "output_type": "display_data",
     "data": {
      "text/html": [
       "<style scoped>\n",
       "  .table-result-container {\n",
       "    max-height: 300px;\n",
       "    overflow: auto;\n",
       "  }\n",
       "  table, th, td {\n",
       "    border: 1px solid black;\n",
       "    border-collapse: collapse;\n",
       "  }\n",
       "  th, td {\n",
       "    padding: 5px;\n",
       "  }\n",
       "  th {\n",
       "    text-align: left;\n",
       "  }\n",
       "</style><div class='table-result-container'><table class='table-result'><thead style='background-color: white'><tr></tr></thead><tbody></tbody></table></div>"
      ]
     },
     "metadata": {
      "application/vnd.databricks.v1+output": {
       "addedWidgets": {},
       "aggData": [],
       "aggError": "",
       "aggOverflow": false,
       "aggSchema": [],
       "aggSeriesLimitReached": false,
       "aggType": "",
       "arguments": {},
       "columnCustomDisplayInfos": {},
       "data": [],
       "datasetInfos": [],
       "dbfsResultPath": null,
       "isJsonSchema": true,
       "metadata": {},
       "overflow": false,
       "plotOptions": {
        "customPlotOptions": {},
        "displayType": "table",
        "pivotAggregation": null,
        "pivotColumns": null,
        "xColumns": null,
        "yColumns": null
       },
       "removedWidgets": [],
       "schema": [],
       "type": "table"
      }
     },
     "output_type": "display_data"
    }
   ],
   "source": [
    "%sql\n",
    "CREATE TABLE transicao_jogador (\n",
    "  id_jogador INT,\n",
    "  nome_jogador VARCHAR(100),\n",
    "  idade INT,\n",
    "  nome_universidade VARCHAR(100),\n",
    "  posicao VARCHAR(50),\n",
    "  id_universidade INT,\n",
    "  id_estatisticas INT,\n",
    "  id_ranking INT,\n",
    "  id_posicao INT \n",
    ")USING DELTA\n",
    "LOCATION '/user/samantha.a.caetano@gmail.com/nba_flocodeneve/transicao_jogador';"
   ]
  },
  {
   "cell_type": "code",
   "execution_count": 0,
   "metadata": {
    "application/vnd.databricks.v1+cell": {
     "cellMetadata": {
      "byteLimit": 2048000,
      "implicitDf": true,
      "rowLimit": 10000
     },
     "inputWidgets": {},
     "nuid": "96f81c30-37f0-4946-9b39-8482561b5622",
     "showTitle": false,
     "tableResultSettingsMap": {},
     "title": ""
    }
   },
   "outputs": [
    {
     "output_type": "display_data",
     "data": {
      "text/html": [
       "<style scoped>\n",
       "  .table-result-container {\n",
       "    max-height: 300px;\n",
       "    overflow: auto;\n",
       "  }\n",
       "  table, th, td {\n",
       "    border: 1px solid black;\n",
       "    border-collapse: collapse;\n",
       "  }\n",
       "  th, td {\n",
       "    padding: 5px;\n",
       "  }\n",
       "  th {\n",
       "    text-align: left;\n",
       "  }\n",
       "</style><div class='table-result-container'><table class='table-result'><thead style='background-color: white'><tr></tr></thead><tbody></tbody></table></div>"
      ]
     },
     "metadata": {
      "application/vnd.databricks.v1+output": {
       "addedWidgets": {},
       "aggData": [],
       "aggError": "",
       "aggOverflow": false,
       "aggSchema": [],
       "aggSeriesLimitReached": false,
       "aggType": "",
       "arguments": {},
       "columnCustomDisplayInfos": {},
       "data": [],
       "datasetInfos": [],
       "dbfsResultPath": null,
       "isJsonSchema": true,
       "metadata": {},
       "overflow": false,
       "plotOptions": {
        "customPlotOptions": {},
        "displayType": "table",
        "pivotAggregation": null,
        "pivotColumns": null,
        "xColumns": null,
        "yColumns": null
       },
       "removedWidgets": [],
       "schema": [],
       "type": "table"
      }
     },
     "output_type": "display_data"
    }
   ],
   "source": [
    "%sql\n",
    "CREATE TABLE posicao (\n",
    "  id_posicao INT,\n",
    "  id_jogador INT,\n",
    "  nome_jogador VARCHAR(100),\n",
    "  posicao VARCHAR(50)\n",
    ")USING DELTA\n",
    "LOCATION '/user/samantha.a.caetano@gmail.com/nba_flocodeneve/posicao';"
   ]
  },
  {
   "cell_type": "code",
   "execution_count": 0,
   "metadata": {
    "application/vnd.databricks.v1+cell": {
     "cellMetadata": {
      "byteLimit": 2048000,
      "implicitDf": true,
      "rowLimit": 10000
     },
     "inputWidgets": {},
     "nuid": "c893c21b-5989-4f19-bb82-89ceff517a20",
     "showTitle": false,
     "tableResultSettingsMap": {},
     "title": ""
    }
   },
   "outputs": [
    {
     "output_type": "display_data",
     "data": {
      "text/html": [
       "<style scoped>\n",
       "  .table-result-container {\n",
       "    max-height: 300px;\n",
       "    overflow: auto;\n",
       "  }\n",
       "  table, th, td {\n",
       "    border: 1px solid black;\n",
       "    border-collapse: collapse;\n",
       "  }\n",
       "  th, td {\n",
       "    padding: 5px;\n",
       "  }\n",
       "  th {\n",
       "    text-align: left;\n",
       "  }\n",
       "</style><div class='table-result-container'><table class='table-result'><thead style='background-color: white'><tr></tr></thead><tbody></tbody></table></div>"
      ]
     },
     "metadata": {
      "application/vnd.databricks.v1+output": {
       "addedWidgets": {},
       "aggData": [],
       "aggError": "",
       "aggOverflow": false,
       "aggSchema": [],
       "aggSeriesLimitReached": false,
       "aggType": "",
       "arguments": {},
       "columnCustomDisplayInfos": {},
       "data": [],
       "datasetInfos": [],
       "dbfsResultPath": null,
       "isJsonSchema": true,
       "metadata": {},
       "overflow": false,
       "plotOptions": {
        "customPlotOptions": {},
        "displayType": "table",
        "pivotAggregation": null,
        "pivotColumns": null,
        "xColumns": null,
        "yColumns": null
       },
       "removedWidgets": [],
       "schema": [],
       "type": "table"
      }
     },
     "output_type": "display_data"
    }
   ],
   "source": [
    "%sql\n",
    "CREATE TABLE ranking (\n",
    "  id_ranking INT,\n",
    "  id_jogador INT,\n",
    "  nome_jogador VARCHAR(100),\n",
    "  ano INT,\n",
    "  posicao_nacional VARCHAR(100)\n",
    ")USING DELTA\n",
    "LOCATION '/user/samantha.a.caetano@gmail.com/nba_flocodeneve/ranking';"
   ]
  },
  {
   "cell_type": "code",
   "execution_count": 0,
   "metadata": {
    "application/vnd.databricks.v1+cell": {
     "cellMetadata": {
      "byteLimit": 2048000,
      "implicitDf": true,
      "rowLimit": 10000
     },
     "inputWidgets": {},
     "nuid": "c96a6d0a-7753-45f1-984a-f3fe627088f2",
     "showTitle": false,
     "tableResultSettingsMap": {},
     "title": ""
    }
   },
   "outputs": [
    {
     "output_type": "display_data",
     "data": {
      "text/html": [
       "<style scoped>\n",
       "  .table-result-container {\n",
       "    max-height: 300px;\n",
       "    overflow: auto;\n",
       "  }\n",
       "  table, th, td {\n",
       "    border: 1px solid black;\n",
       "    border-collapse: collapse;\n",
       "  }\n",
       "  th, td {\n",
       "    padding: 5px;\n",
       "  }\n",
       "  th {\n",
       "    text-align: left;\n",
       "  }\n",
       "</style><div class='table-result-container'><table class='table-result'><thead style='background-color: white'><tr></tr></thead><tbody></tbody></table></div>"
      ]
     },
     "metadata": {
      "application/vnd.databricks.v1+output": {
       "addedWidgets": {},
       "aggData": [],
       "aggError": "",
       "aggOverflow": false,
       "aggSchema": [],
       "aggSeriesLimitReached": false,
       "aggType": "",
       "arguments": {},
       "columnCustomDisplayInfos": {},
       "data": [],
       "datasetInfos": [],
       "dbfsResultPath": null,
       "isJsonSchema": true,
       "metadata": {},
       "overflow": false,
       "plotOptions": {
        "customPlotOptions": {},
        "displayType": "table",
        "pivotAggregation": null,
        "pivotColumns": null,
        "xColumns": null,
        "yColumns": null
       },
       "removedWidgets": [],
       "schema": [],
       "type": "table"
      }
     },
     "output_type": "display_data"
    }
   ],
   "source": [
    "%sql\n",
    "CREATE TABLE universidade (\n",
    "  id_universidade INT,\n",
    "  id_conferencia INT,\n",
    "  id_jogador INT,\n",
    "  id_desempenho_por_temporada INT,\n",
    "  nome_conferencia VARCHAR(100),\n",
    "  nome_universidade VARCHAR(100),\n",
    "  ano INT,\n",
    "  jogos INT,\n",
    "  vitorias INT,\n",
    "  pos_temporada VARCHAR(50)\n",
    ")USING DELTA\n",
    "LOCATION '/user/samantha.a.caetano@gmail.com/nba_flocodeneve/universidade';"
   ]
  },
  {
   "cell_type": "code",
   "execution_count": 0,
   "metadata": {
    "application/vnd.databricks.v1+cell": {
     "cellMetadata": {
      "byteLimit": 2048000,
      "implicitDf": true,
      "rowLimit": 10000
     },
     "inputWidgets": {},
     "nuid": "91c56e79-8bf0-428d-beec-19cc1a9e6134",
     "showTitle": false,
     "tableResultSettingsMap": {},
     "title": ""
    }
   },
   "outputs": [
    {
     "output_type": "display_data",
     "data": {
      "text/html": [
       "<style scoped>\n",
       "  .table-result-container {\n",
       "    max-height: 300px;\n",
       "    overflow: auto;\n",
       "  }\n",
       "  table, th, td {\n",
       "    border: 1px solid black;\n",
       "    border-collapse: collapse;\n",
       "  }\n",
       "  th, td {\n",
       "    padding: 5px;\n",
       "  }\n",
       "  th {\n",
       "    text-align: left;\n",
       "  }\n",
       "</style><div class='table-result-container'><table class='table-result'><thead style='background-color: white'><tr></tr></thead><tbody></tbody></table></div>"
      ]
     },
     "metadata": {
      "application/vnd.databricks.v1+output": {
       "addedWidgets": {},
       "aggData": [],
       "aggError": "",
       "aggOverflow": false,
       "aggSchema": [],
       "aggSeriesLimitReached": false,
       "aggType": "",
       "arguments": {},
       "columnCustomDisplayInfos": {},
       "data": [],
       "datasetInfos": [],
       "dbfsResultPath": null,
       "isJsonSchema": true,
       "metadata": {},
       "overflow": false,
       "plotOptions": {
        "customPlotOptions": {},
        "displayType": "table",
        "pivotAggregation": null,
        "pivotColumns": null,
        "xColumns": null,
        "yColumns": null
       },
       "removedWidgets": [],
       "schema": [],
       "type": "table"
      }
     },
     "output_type": "display_data"
    }
   ],
   "source": [
    "%sql\n",
    "CREATE TABLE estatisticas (\n",
    "  id_estatisticas INT,\n",
    "  id_jogador INT,\n",
    "  id_universidade INT,\n",
    "  estatisticas_jogo INT,\n",
    "  estatisticas_defesa INT,\n",
    "  estatisticas_arremesso INT,\n",
    "  estatisticas_ofensivas INT,\n",
    "  nome_jogador VARCHAR(100),\n",
    "  nome_universidade VARCHAR(100),\n",
    "  pontos_jogo FLOAT,\n",
    "  rebotes_jogo FLOAT,\n",
    "  assistencias_jogo FLOAT,\n",
    "  roubos_de_bola FLOAT,\n",
    "  tocos_jogo FLOAT,\n",
    "  turnovers_jogo FLOAT,\n",
    "  percentual_fg VARCHAR(10),\n",
    "  percentual_3pts VARCHAR(10),\n",
    "  percentual_ft VARCHAR(10)\n",
    ")USING DELTA\n",
    "LOCATION '/user/samantha.a.caetano@gmail.com/nba_flocodeneve/estatisticas';"
   ]
  },
  {
   "cell_type": "code",
   "execution_count": 0,
   "metadata": {
    "application/vnd.databricks.v1+cell": {
     "cellMetadata": {
      "byteLimit": 2048000,
      "implicitDf": true,
      "rowLimit": 10000
     },
     "inputWidgets": {},
     "nuid": "ce37fa1f-c9cb-4a03-8b86-079f859ed570",
     "showTitle": false,
     "tableResultSettingsMap": {},
     "title": ""
    }
   },
   "outputs": [
    {
     "output_type": "display_data",
     "data": {
      "text/html": [
       "<style scoped>\n",
       "  .table-result-container {\n",
       "    max-height: 300px;\n",
       "    overflow: auto;\n",
       "  }\n",
       "  table, th, td {\n",
       "    border: 1px solid black;\n",
       "    border-collapse: collapse;\n",
       "  }\n",
       "  th, td {\n",
       "    padding: 5px;\n",
       "  }\n",
       "  th {\n",
       "    text-align: left;\n",
       "  }\n",
       "</style><div class='table-result-container'><table class='table-result'><thead style='background-color: white'><tr></tr></thead><tbody></tbody></table></div>"
      ]
     },
     "metadata": {
      "application/vnd.databricks.v1+output": {
       "addedWidgets": {},
       "aggData": [],
       "aggError": "",
       "aggOverflow": false,
       "aggSchema": [],
       "aggSeriesLimitReached": false,
       "aggType": "",
       "arguments": {},
       "columnCustomDisplayInfos": {},
       "data": [],
       "datasetInfos": [],
       "dbfsResultPath": null,
       "isJsonSchema": true,
       "metadata": {},
       "overflow": false,
       "plotOptions": {
        "customPlotOptions": {},
        "displayType": "table",
        "pivotAggregation": null,
        "pivotColumns": null,
        "xColumns": null,
        "yColumns": null
       },
       "removedWidgets": [],
       "schema": [],
       "type": "table"
      }
     },
     "output_type": "display_data"
    }
   ],
   "source": [
    "%sql\n",
    "\n",
    "CREATE TABLE conferencia (\n",
    "  id_conferencia INT,\n",
    "  nome_conferencia VARCHAR(100)\n",
    ")USING DELTA\n",
    "LOCATION '/user/samantha.a.caetano@gmail.com/nba_flocodeneve/conferencia';"
   ]
  },
  {
   "cell_type": "code",
   "execution_count": 0,
   "metadata": {
    "application/vnd.databricks.v1+cell": {
     "cellMetadata": {
      "byteLimit": 2048000,
      "implicitDf": true,
      "rowLimit": 10000
     },
     "inputWidgets": {},
     "nuid": "0f923e12-b9ab-4377-94b9-eee486a79820",
     "showTitle": false,
     "tableResultSettingsMap": {},
     "title": ""
    }
   },
   "outputs": [
    {
     "output_type": "display_data",
     "data": {
      "text/html": [
       "<style scoped>\n",
       "  .table-result-container {\n",
       "    max-height: 300px;\n",
       "    overflow: auto;\n",
       "  }\n",
       "  table, th, td {\n",
       "    border: 1px solid black;\n",
       "    border-collapse: collapse;\n",
       "  }\n",
       "  th, td {\n",
       "    padding: 5px;\n",
       "  }\n",
       "  th {\n",
       "    text-align: left;\n",
       "  }\n",
       "</style><div class='table-result-container'><table class='table-result'><thead style='background-color: white'><tr></tr></thead><tbody></tbody></table></div>"
      ]
     },
     "metadata": {
      "application/vnd.databricks.v1+output": {
       "addedWidgets": {},
       "aggData": [],
       "aggError": "",
       "aggOverflow": false,
       "aggSchema": [],
       "aggSeriesLimitReached": false,
       "aggType": "",
       "arguments": {},
       "columnCustomDisplayInfos": {},
       "data": [],
       "datasetInfos": [],
       "dbfsResultPath": null,
       "isJsonSchema": true,
       "metadata": {},
       "overflow": false,
       "plotOptions": {
        "customPlotOptions": {},
        "displayType": "table",
        "pivotAggregation": null,
        "pivotColumns": null,
        "xColumns": null,
        "yColumns": null
       },
       "removedWidgets": [],
       "schema": [],
       "type": "table"
      }
     },
     "output_type": "display_data"
    }
   ],
   "source": [
    "%sql\n",
    "CREATE TABLE desempenho_por_temporada (\n",
    "  id_desempenho_por_temporada INT,\n",
    "  jogos INT,\n",
    "  vitorias INT,\n",
    "  pos_temporada VARCHAR(50)\n",
    ")USING DELTA\n",
    "LOCATION '/user/samantha.a.caetano@gmail.com/nba_flocodeneve/desempenho_por_temporada';"
   ]
  },
  {
   "cell_type": "code",
   "execution_count": 0,
   "metadata": {
    "application/vnd.databricks.v1+cell": {
     "cellMetadata": {
      "byteLimit": 2048000,
      "implicitDf": true,
      "rowLimit": 10000
     },
     "inputWidgets": {},
     "nuid": "40912427-d403-4f55-85db-2d0f3a82d950",
     "showTitle": false,
     "tableResultSettingsMap": {},
     "title": ""
    }
   },
   "outputs": [
    {
     "output_type": "display_data",
     "data": {
      "text/html": [
       "<style scoped>\n",
       "  .table-result-container {\n",
       "    max-height: 300px;\n",
       "    overflow: auto;\n",
       "  }\n",
       "  table, th, td {\n",
       "    border: 1px solid black;\n",
       "    border-collapse: collapse;\n",
       "  }\n",
       "  th, td {\n",
       "    padding: 5px;\n",
       "  }\n",
       "  th {\n",
       "    text-align: left;\n",
       "  }\n",
       "</style><div class='table-result-container'><table class='table-result'><thead style='background-color: white'><tr></tr></thead><tbody></tbody></table></div>"
      ]
     },
     "metadata": {
      "application/vnd.databricks.v1+output": {
       "addedWidgets": {},
       "aggData": [],
       "aggError": "",
       "aggOverflow": false,
       "aggSchema": [],
       "aggSeriesLimitReached": false,
       "aggType": "",
       "arguments": {},
       "columnCustomDisplayInfos": {},
       "data": [],
       "datasetInfos": [],
       "dbfsResultPath": null,
       "isJsonSchema": true,
       "metadata": {},
       "overflow": false,
       "plotOptions": {
        "customPlotOptions": {},
        "displayType": "table",
        "pivotAggregation": null,
        "pivotColumns": null,
        "xColumns": null,
        "yColumns": null
       },
       "removedWidgets": [],
       "schema": [],
       "type": "table"
      }
     },
     "output_type": "display_data"
    }
   ],
   "source": [
    "%sql\n",
    "CREATE TABLE estatisticas_jogo (\n",
    "  id_estatisticas_jogo INT,\n",
    "  id_estatisticas INT,\n",
    "  rebotes_jogo FLOAT,\n",
    "  turnovers_jogo FLOAT\n",
    ")USING DELTA\n",
    "LOCATION '/user/samantha.a.caetano@gmail.com/nba_flocodeneve/estatisticas_jogo';"
   ]
  },
  {
   "cell_type": "code",
   "execution_count": 0,
   "metadata": {
    "application/vnd.databricks.v1+cell": {
     "cellMetadata": {
      "byteLimit": 2048000,
      "implicitDf": true,
      "rowLimit": 10000
     },
     "inputWidgets": {},
     "nuid": "77930634-0c76-405f-ab7a-59796fef8297",
     "showTitle": false,
     "tableResultSettingsMap": {},
     "title": ""
    }
   },
   "outputs": [
    {
     "output_type": "display_data",
     "data": {
      "text/html": [
       "<style scoped>\n",
       "  .table-result-container {\n",
       "    max-height: 300px;\n",
       "    overflow: auto;\n",
       "  }\n",
       "  table, th, td {\n",
       "    border: 1px solid black;\n",
       "    border-collapse: collapse;\n",
       "  }\n",
       "  th, td {\n",
       "    padding: 5px;\n",
       "  }\n",
       "  th {\n",
       "    text-align: left;\n",
       "  }\n",
       "</style><div class='table-result-container'><table class='table-result'><thead style='background-color: white'><tr></tr></thead><tbody></tbody></table></div>"
      ]
     },
     "metadata": {
      "application/vnd.databricks.v1+output": {
       "addedWidgets": {},
       "aggData": [],
       "aggError": "",
       "aggOverflow": false,
       "aggSchema": [],
       "aggSeriesLimitReached": false,
       "aggType": "",
       "arguments": {},
       "columnCustomDisplayInfos": {},
       "data": [],
       "datasetInfos": [],
       "dbfsResultPath": null,
       "isJsonSchema": true,
       "metadata": {},
       "overflow": false,
       "plotOptions": {
        "customPlotOptions": {},
        "displayType": "table",
        "pivotAggregation": null,
        "pivotColumns": null,
        "xColumns": null,
        "yColumns": null
       },
       "removedWidgets": [],
       "schema": [],
       "type": "table"
      }
     },
     "output_type": "display_data"
    }
   ],
   "source": [
    "%sql\n",
    "CREATE TABLE estatisticas_ofensivas (\n",
    "  id_estatisticas_of_pk INT,\n",
    "  id_estatisticas INT,\n",
    "  assistencias_jogo FLOAT,\n",
    "  pontos_jogo FLOAT\n",
    ")USING DELTA\n",
    "LOCATION '/user/samantha.a.caetano@gmail.com/nba_flocodeneve/estatisticas_ofensivas';"
   ]
  },
  {
   "cell_type": "code",
   "execution_count": 0,
   "metadata": {
    "application/vnd.databricks.v1+cell": {
     "cellMetadata": {
      "byteLimit": 2048000,
      "implicitDf": true,
      "rowLimit": 10000
     },
     "inputWidgets": {},
     "nuid": "5a12aec9-4c7c-422f-8f79-6f036d966b93",
     "showTitle": false,
     "tableResultSettingsMap": {},
     "title": ""
    }
   },
   "outputs": [
    {
     "output_type": "display_data",
     "data": {
      "text/html": [
       "<style scoped>\n",
       "  .table-result-container {\n",
       "    max-height: 300px;\n",
       "    overflow: auto;\n",
       "  }\n",
       "  table, th, td {\n",
       "    border: 1px solid black;\n",
       "    border-collapse: collapse;\n",
       "  }\n",
       "  th, td {\n",
       "    padding: 5px;\n",
       "  }\n",
       "  th {\n",
       "    text-align: left;\n",
       "  }\n",
       "</style><div class='table-result-container'><table class='table-result'><thead style='background-color: white'><tr></tr></thead><tbody></tbody></table></div>"
      ]
     },
     "metadata": {
      "application/vnd.databricks.v1+output": {
       "addedWidgets": {},
       "aggData": [],
       "aggError": "",
       "aggOverflow": false,
       "aggSchema": [],
       "aggSeriesLimitReached": false,
       "aggType": "",
       "arguments": {},
       "columnCustomDisplayInfos": {},
       "data": [],
       "datasetInfos": [],
       "dbfsResultPath": null,
       "isJsonSchema": true,
       "metadata": {},
       "overflow": false,
       "plotOptions": {
        "customPlotOptions": {},
        "displayType": "table",
        "pivotAggregation": null,
        "pivotColumns": null,
        "xColumns": null,
        "yColumns": null
       },
       "removedWidgets": [],
       "schema": [],
       "type": "table"
      }
     },
     "output_type": "display_data"
    }
   ],
   "source": [
    "%sql\n",
    "CREATE TABLE estatisticas_arremesso (\n",
    "  id_estatisticas_arremesso INT,\n",
    "  id_estatisticas INT,\n",
    "  percentual_acerto VARCHAR(10),\n",
    "  percentual_3pts VARCHAR(10)\n",
    ")USING DELTA\n",
    "LOCATION '/user/samantha.a.caetano@gmail.com/nba_flocodeneve/estatisticas_arremesso';"
   ]
  },
  {
   "cell_type": "code",
   "execution_count": 0,
   "metadata": {
    "application/vnd.databricks.v1+cell": {
     "cellMetadata": {
      "byteLimit": 2048000,
      "implicitDf": true,
      "rowLimit": 10000
     },
     "inputWidgets": {},
     "nuid": "04f5b62e-4e43-4b8a-afaf-77bd10181dee",
     "showTitle": false,
     "tableResultSettingsMap": {},
     "title": ""
    }
   },
   "outputs": [
    {
     "output_type": "display_data",
     "data": {
      "text/html": [
       "<style scoped>\n",
       "  .table-result-container {\n",
       "    max-height: 300px;\n",
       "    overflow: auto;\n",
       "  }\n",
       "  table, th, td {\n",
       "    border: 1px solid black;\n",
       "    border-collapse: collapse;\n",
       "  }\n",
       "  th, td {\n",
       "    padding: 5px;\n",
       "  }\n",
       "  th {\n",
       "    text-align: left;\n",
       "  }\n",
       "</style><div class='table-result-container'><table class='table-result'><thead style='background-color: white'><tr></tr></thead><tbody></tbody></table></div>"
      ]
     },
     "metadata": {
      "application/vnd.databricks.v1+output": {
       "addedWidgets": {},
       "aggData": [],
       "aggError": "",
       "aggOverflow": false,
       "aggSchema": [],
       "aggSeriesLimitReached": false,
       "aggType": "",
       "arguments": {},
       "columnCustomDisplayInfos": {},
       "data": [],
       "datasetInfos": [],
       "dbfsResultPath": null,
       "isJsonSchema": true,
       "metadata": {},
       "overflow": false,
       "plotOptions": {
        "customPlotOptions": {},
        "displayType": "table",
        "pivotAggregation": null,
        "pivotColumns": null,
        "xColumns": null,
        "yColumns": null
       },
       "removedWidgets": [],
       "schema": [],
       "type": "table"
      }
     },
     "output_type": "display_data"
    }
   ],
   "source": [
    "%sql\n",
    "\n",
    "CREATE TABLE estatisticas_defesa (\n",
    "  id_estatisticas_defesa INT,\n",
    "  id_estatisticas INT,\n",
    "  roubos_de_bola INT,\n",
    "  tocos_jogo INT\n",
    ")USING DELTA\n",
    "LOCATION '/user/samantha.a.caetano@gmail.com/nba_flocodeneve/estatisticas_defesa';"
   ]
  },
  {
   "cell_type": "code",
   "execution_count": 0,
   "metadata": {
    "application/vnd.databricks.v1+cell": {
     "cellMetadata": {
      "byteLimit": 2048000,
      "implicitDf": true,
      "rowLimit": 10000
     },
     "inputWidgets": {},
     "nuid": "8822904e-2508-4771-a2f2-a088a327fe97",
     "showTitle": false,
     "tableResultSettingsMap": {},
     "title": ""
    }
   },
   "outputs": [
    {
     "output_type": "display_data",
     "data": {
      "text/html": [
       "<style scoped>\n",
       "  .table-result-container {\n",
       "    max-height: 300px;\n",
       "    overflow: auto;\n",
       "  }\n",
       "  table, th, td {\n",
       "    border: 1px solid black;\n",
       "    border-collapse: collapse;\n",
       "  }\n",
       "  th, td {\n",
       "    padding: 5px;\n",
       "  }\n",
       "  th {\n",
       "    text-align: left;\n",
       "  }\n",
       "</style><div class='table-result-container'><table class='table-result'><thead style='background-color: white'><tr><th>database</th><th>tableName</th><th>isTemporary</th></tr></thead><tbody><tr><td>nba_flocodeneve</td><td>conferencia</td><td>false</td></tr><tr><td>nba_flocodeneve</td><td>desempenho_por_temporada</td><td>false</td></tr><tr><td>nba_flocodeneve</td><td>estatisticas</td><td>false</td></tr><tr><td>nba_flocodeneve</td><td>estatisticas_arremesso</td><td>false</td></tr><tr><td>nba_flocodeneve</td><td>estatisticas_defesa</td><td>false</td></tr><tr><td>nba_flocodeneve</td><td>estatisticas_jogo</td><td>false</td></tr><tr><td>nba_flocodeneve</td><td>estatisticas_ofensivas</td><td>false</td></tr><tr><td>nba_flocodeneve</td><td>posicao</td><td>false</td></tr><tr><td>nba_flocodeneve</td><td>ranking</td><td>false</td></tr><tr><td>nba_flocodeneve</td><td>transicao_jogador</td><td>false</td></tr><tr><td>nba_flocodeneve</td><td>universidade</td><td>false</td></tr></tbody></table></div>"
      ]
     },
     "metadata": {
      "application/vnd.databricks.v1+output": {
       "addedWidgets": {},
       "aggData": [],
       "aggError": "",
       "aggOverflow": false,
       "aggSchema": [],
       "aggSeriesLimitReached": false,
       "aggType": "",
       "arguments": {},
       "columnCustomDisplayInfos": {},
       "data": [
        [
         "nba_flocodeneve",
         "conferencia",
         false
        ],
        [
         "nba_flocodeneve",
         "desempenho_por_temporada",
         false
        ],
        [
         "nba_flocodeneve",
         "estatisticas",
         false
        ],
        [
         "nba_flocodeneve",
         "estatisticas_arremesso",
         false
        ],
        [
         "nba_flocodeneve",
         "estatisticas_defesa",
         false
        ],
        [
         "nba_flocodeneve",
         "estatisticas_jogo",
         false
        ],
        [
         "nba_flocodeneve",
         "estatisticas_ofensivas",
         false
        ],
        [
         "nba_flocodeneve",
         "posicao",
         false
        ],
        [
         "nba_flocodeneve",
         "ranking",
         false
        ],
        [
         "nba_flocodeneve",
         "transicao_jogador",
         false
        ],
        [
         "nba_flocodeneve",
         "universidade",
         false
        ]
       ],
       "datasetInfos": [],
       "dbfsResultPath": null,
       "isJsonSchema": true,
       "metadata": {},
       "overflow": false,
       "plotOptions": {
        "customPlotOptions": {},
        "displayType": "table",
        "pivotAggregation": null,
        "pivotColumns": null,
        "xColumns": null,
        "yColumns": null
       },
       "removedWidgets": [],
       "schema": [
        {
         "metadata": "{}",
         "name": "database",
         "type": "\"string\""
        },
        {
         "metadata": "{}",
         "name": "tableName",
         "type": "\"string\""
        },
        {
         "metadata": "{}",
         "name": "isTemporary",
         "type": "\"boolean\""
        }
       ],
       "type": "table"
      }
     },
     "output_type": "display_data"
    }
   ],
   "source": [
    "%sql\n",
    "SHOW TABLES IN nba_flocodeneve;"
   ]
  },
  {
   "cell_type": "markdown",
   "metadata": {
    "application/vnd.databricks.v1+cell": {
     "cellMetadata": {},
     "inputWidgets": {},
     "nuid": "436ded80-186b-4947-b864-9def64b707f1",
     "showTitle": false,
     "tableResultSettingsMap": {},
     "title": ""
    }
   },
   "source": [
    "# Populando as tabelas"
   ]
  },
  {
   "cell_type": "markdown",
   "metadata": {
    "application/vnd.databricks.v1+cell": {
     "cellMetadata": {},
     "inputWidgets": {},
     "nuid": "dacd9e64-19cf-4b37-99ed-e6e1d8958328",
     "showTitle": false,
     "tableResultSettingsMap": {},
     "title": ""
    }
   },
   "source": [
    "## Populando tabela modelo estrela"
   ]
  },
  {
   "cell_type": "code",
   "execution_count": 0,
   "metadata": {
    "application/vnd.databricks.v1+cell": {
     "cellMetadata": {
      "byteLimit": 2048000,
      "implicitDf": true,
      "rowLimit": 10000
     },
     "inputWidgets": {},
     "nuid": "b29d080f-7bb0-422f-a28a-c1a06d0c219f",
     "showTitle": false,
     "tableResultSettingsMap": {},
     "title": ""
    }
   },
   "outputs": [
    {
     "output_type": "display_data",
     "data": {
      "text/html": [
       "<style scoped>\n",
       "  .table-result-container {\n",
       "    max-height: 300px;\n",
       "    overflow: auto;\n",
       "  }\n",
       "  table, th, td {\n",
       "    border: 1px solid black;\n",
       "    border-collapse: collapse;\n",
       "  }\n",
       "  th, td {\n",
       "    padding: 5px;\n",
       "  }\n",
       "  th {\n",
       "    text-align: left;\n",
       "  }\n",
       "</style><div class='table-result-container'><table class='table-result'><thead style='background-color: white'><tr></tr></thead><tbody></tbody></table></div>"
      ]
     },
     "metadata": {
      "application/vnd.databricks.v1+output": {
       "addedWidgets": {},
       "aggData": [],
       "aggError": "",
       "aggOverflow": false,
       "aggSchema": [],
       "aggSeriesLimitReached": false,
       "aggType": "",
       "arguments": {},
       "columnCustomDisplayInfos": {},
       "data": [],
       "datasetInfos": [],
       "dbfsResultPath": null,
       "isJsonSchema": true,
       "metadata": {},
       "overflow": false,
       "plotOptions": {
        "customPlotOptions": {},
        "displayType": "table",
        "pivotAggregation": null,
        "pivotColumns": null,
        "xColumns": null,
        "yColumns": null
       },
       "removedWidgets": [],
       "schema": [],
       "type": "table"
      }
     },
     "output_type": "display_data"
    }
   ],
   "source": [
    "%sql\n",
    "use nba_modeloestrela"
   ]
  },
  {
   "cell_type": "markdown",
   "metadata": {
    "application/vnd.databricks.v1+cell": {
     "cellMetadata": {},
     "inputWidgets": {},
     "nuid": "b6ccc771-44e8-446a-8fb7-8d330d15ae20",
     "showTitle": false,
     "tableResultSettingsMap": {},
     "title": ""
    }
   },
   "source": [
    "### Time VILLANOVA"
   ]
  },
  {
   "cell_type": "code",
   "execution_count": 0,
   "metadata": {
    "application/vnd.databricks.v1+cell": {
     "cellMetadata": {
      "byteLimit": 2048000,
      "implicitDf": true,
      "rowLimit": 10000
     },
     "inputWidgets": {},
     "nuid": "0ba3bd98-f4ce-42db-a1c6-09d0af476cc3",
     "showTitle": false,
     "tableResultSettingsMap": {},
     "title": ""
    }
   },
   "outputs": [
    {
     "output_type": "display_data",
     "data": {
      "text/html": [
       "<style scoped>\n",
       "  .table-result-container {\n",
       "    max-height: 300px;\n",
       "    overflow: auto;\n",
       "  }\n",
       "  table, th, td {\n",
       "    border: 1px solid black;\n",
       "    border-collapse: collapse;\n",
       "  }\n",
       "  th, td {\n",
       "    padding: 5px;\n",
       "  }\n",
       "  th {\n",
       "    text-align: left;\n",
       "  }\n",
       "</style><div class='table-result-container'><table class='table-result'><thead style='background-color: white'><tr><th>num_affected_rows</th><th>num_inserted_rows</th></tr></thead><tbody><tr><td>7</td><td>7</td></tr></tbody></table></div>"
      ]
     },
     "metadata": {
      "application/vnd.databricks.v1+output": {
       "addedWidgets": {},
       "aggData": [],
       "aggError": "",
       "aggOverflow": false,
       "aggSchema": [],
       "aggSeriesLimitReached": false,
       "aggType": "",
       "arguments": {},
       "columnCustomDisplayInfos": {},
       "data": [
        [
         7,
         7
        ]
       ],
       "datasetInfos": [],
       "dbfsResultPath": null,
       "isJsonSchema": true,
       "metadata": {},
       "overflow": false,
       "plotOptions": {
        "customPlotOptions": {},
        "displayType": "table",
        "pivotAggregation": null,
        "pivotColumns": null,
        "xColumns": null,
        "yColumns": null
       },
       "removedWidgets": [],
       "schema": [
        {
         "metadata": "{}",
         "name": "num_affected_rows",
         "type": "\"long\""
        },
        {
         "metadata": "{}",
         "name": "num_inserted_rows",
         "type": "\"long\""
        }
       ],
       "type": "table"
      }
     },
     "output_type": "display_data"
    }
   ],
   "source": [
    "%sql\n",
    "INSERT INTO transicao_para_nba (\n",
    "  id_transicao, id_jogador, id_universidade, id_estatisticas, nome_jogador, nome_universidade,\n",
    "  ano_entrada_ncaa, ano_entrada_nba, entrou_nba, anos_jogados_nba, ainda_ativo\n",
    ")\n",
    "VALUES\n",
    "  (1, 1, 1, 1, 'Jalen Brunson', 'Villanova University', 2015, 2018, 1, 6, 1),\n",
    "  (2, 2, 1, 2, 'Mikal Bridges', 'Villanova University', 2014, 2018, 1, 6, 1),\n",
    "  (3, 3, 1, 3, 'Donte DiVincenzo', 'Villanova University', 2015, 2018, 1, 6, 1),\n",
    "  (4, 4, 1, 4, 'Omari Spellman', 'Villanova University', 2017, 2018, 1, 1, 0),\n",
    "  (5, 5, 1, 5, 'Eric Paschall', 'Villanova University', 2014, 2019, 1, 4, 0),\n",
    "  (6, 7, 1, 7, 'Collin Gillespie', 'Villanova University', 2017, 2022, 1, 1, 0),\n",
    "  (7, 9, 1, 9, 'Jermaine Samuels', 'Villanova University', 2017, 2022, 1, 1, 0);\n"
   ]
  },
  {
   "cell_type": "code",
   "execution_count": 0,
   "metadata": {
    "application/vnd.databricks.v1+cell": {
     "cellMetadata": {
      "byteLimit": 2048000,
      "implicitDf": true,
      "rowLimit": 10000
     },
     "inputWidgets": {},
     "nuid": "a2d5e304-c8e7-44c3-9375-def02de0fda5",
     "showTitle": false,
     "tableResultSettingsMap": {},
     "title": ""
    }
   },
   "outputs": [
    {
     "output_type": "display_data",
     "data": {
      "text/html": [
       "<style scoped>\n",
       "  .table-result-container {\n",
       "    max-height: 300px;\n",
       "    overflow: auto;\n",
       "  }\n",
       "  table, th, td {\n",
       "    border: 1px solid black;\n",
       "    border-collapse: collapse;\n",
       "  }\n",
       "  th, td {\n",
       "    padding: 5px;\n",
       "  }\n",
       "  th {\n",
       "    text-align: left;\n",
       "  }\n",
       "</style><div class='table-result-container'><table class='table-result'><thead style='background-color: white'><tr><th>num_affected_rows</th><th>num_inserted_rows</th></tr></thead><tbody><tr><td>9</td><td>9</td></tr></tbody></table></div>"
      ]
     },
     "metadata": {
      "application/vnd.databricks.v1+output": {
       "addedWidgets": {},
       "aggData": [],
       "aggError": "",
       "aggOverflow": false,
       "aggSchema": [],
       "aggSeriesLimitReached": false,
       "aggType": "",
       "arguments": {},
       "columnCustomDisplayInfos": {},
       "data": [
        [
         9,
         9
        ]
       ],
       "datasetInfos": [],
       "dbfsResultPath": null,
       "isJsonSchema": true,
       "metadata": {},
       "overflow": false,
       "plotOptions": {
        "customPlotOptions": {},
        "displayType": "table",
        "pivotAggregation": null,
        "pivotColumns": null,
        "xColumns": null,
        "yColumns": null
       },
       "removedWidgets": [],
       "schema": [
        {
         "metadata": "{}",
         "name": "num_affected_rows",
         "type": "\"long\""
        },
        {
         "metadata": "{}",
         "name": "num_inserted_rows",
         "type": "\"long\""
        }
       ],
       "type": "table"
      }
     },
     "output_type": "display_data"
    }
   ],
   "source": [
    "%sql\n",
    "INSERT INTO rankings (\n",
    "  rankings_id, id_jogador, id_universidade, nome_jogador, nome_universidade,\n",
    "  rsci_rankings, espn_rankings, rivals_rankings, `247sports_rankings`\n",
    ")\n",
    "VALUES\n",
    "  (1, 1, 1, 'Jalen Brunson', 'Villanova University', 21, 22, 15, 20),\n",
    "  (2, 2, 1, 'Mikal Bridges', 'Villanova University', 82, 86, 91, 83),\n",
    "  (3, 3, 1, 'Donte DiVincenzo', 'Villanova University', 97, 89, 99, 98),\n",
    "  (4, 4, 1, 'Omari Spellman', 'Villanova University', 18, 18, 18, 18),\n",
    "  (5, 5, 1, 'Eric Paschall', 'Villanova University', NULL, NULL, NULL, NULL),\n",
    "  (6, 6, 1, 'Phil Booth', 'Villanova University', 85, 78, 80, 82),\n",
    "  (7, 7, 1, 'Collin Gillespie', 'Villanova University', NULL, NULL, NULL, NULL),\n",
    "  (8, 8, 1, 'Dhamir Cosby-Roundtree', 'Villanova University', 121, 117, 122, 119),\n",
    "  (9, 9, 1, 'Jermaine Samuels', 'Villanova University', 41, 44, 43, 45);\n"
   ]
  },
  {
   "cell_type": "code",
   "execution_count": 0,
   "metadata": {
    "application/vnd.databricks.v1+cell": {
     "cellMetadata": {
      "byteLimit": 2048000,
      "implicitDf": true,
      "rowLimit": 10000
     },
     "inputWidgets": {},
     "nuid": "22fc4e1e-fa75-4e83-b19a-31f09e5a04b0",
     "showTitle": false,
     "tableResultSettingsMap": {},
     "title": ""
    }
   },
   "outputs": [
    {
     "output_type": "display_data",
     "data": {
      "text/html": [
       "<style scoped>\n",
       "  .table-result-container {\n",
       "    max-height: 300px;\n",
       "    overflow: auto;\n",
       "  }\n",
       "  table, th, td {\n",
       "    border: 1px solid black;\n",
       "    border-collapse: collapse;\n",
       "  }\n",
       "  th, td {\n",
       "    padding: 5px;\n",
       "  }\n",
       "  th {\n",
       "    text-align: left;\n",
       "  }\n",
       "</style><div class='table-result-container'><table class='table-result'><thead style='background-color: white'><tr><th>num_affected_rows</th><th>num_inserted_rows</th></tr></thead><tbody><tr><td>9</td><td>9</td></tr></tbody></table></div>"
      ]
     },
     "metadata": {
      "application/vnd.databricks.v1+output": {
       "addedWidgets": {},
       "aggData": [],
       "aggError": "",
       "aggOverflow": false,
       "aggSchema": [],
       "aggSeriesLimitReached": false,
       "aggType": "",
       "arguments": {},
       "columnCustomDisplayInfos": {},
       "data": [
        [
         9,
         9
        ]
       ],
       "datasetInfos": [],
       "dbfsResultPath": null,
       "isJsonSchema": true,
       "metadata": {},
       "overflow": false,
       "plotOptions": {
        "customPlotOptions": {},
        "displayType": "table",
        "pivotAggregation": null,
        "pivotColumns": null,
        "xColumns": null,
        "yColumns": null
       },
       "removedWidgets": [],
       "schema": [
        {
         "metadata": "{}",
         "name": "num_affected_rows",
         "type": "\"long\""
        },
        {
         "metadata": "{}",
         "name": "num_inserted_rows",
         "type": "\"long\""
        }
       ],
       "type": "table"
      }
     },
     "output_type": "display_data"
    }
   ],
   "source": [
    "%sql\n",
    "INSERT INTO estatisticas (\n",
    "  id_estatisticas, id_jogador, id_universidade, nome_jogador, nome_universidade,\n",
    "  jogos_disputados, pontos_jogo, rebotes_jogo, assistencias_jogo,\n",
    "  roubos_de_bola_jogo, tocos_jogo, turnovers_jogo, fg_percent, `3pt_percent`, ft_percent\n",
    ")\n",
    "VALUES\n",
    "  (1, 1, 1, 'Jalen Brunson', 'Villanova University', 40, 18.9, 3.1, 4.6, 0.9, 0.0, 1.9, '52.1%', '40.8%', '80.2%'),\n",
    "  (2, 2, 1, 'Mikal Bridges', 'Villanova University', 40, 17.7, 5.3, 1.9, 1.5, 1.1, 1.4, '51.4%', '43.5%', '85.1%'),\n",
    "  (3, 3, 1, 'Donte DiVincenzo', 'Villanova University', 40, 13.4, 4.8, 3.5, 1.1, 0.2, 2.0, '48.1%', '40.1%', '71.0%'),\n",
    "  (4, 4, 1, 'Omari Spellman', 'Villanova University', 40, 10.9, 8.0, 0.8, 0.7, 1.5, 1.0, '47.6%', '43.3%', '70.0%'),\n",
    "  (5, 5, 1, 'Eric Paschall', 'Villanova University', 38, 10.6, 5.3, 2.2, 0.9, 0.6, 1.7, '53.3%', '35.6%', '81.3%'),\n",
    "  (6, 6, 1, 'Phil Booth', 'Villanova University', 33, 10.0, 3.2, 2.9, 0.8, 0.2, 1.4, '44.1%', '37.9%', '80.0%'),\n",
    "  (7, 7, 1, 'Collin Gillespie', 'Villanova University', 32, 4.3, 1.3, 1.1, 0.6, 0.1, 0.4, '45.2%', '39.4%', '80.0%'),\n",
    "  (8, 8, 1, 'Dhamir Cosby-Roundtree', 'Villanova University', 40, 3.1, 2.4, 0.1, 0.3, 0.4, 0.5, '77.9%', '0.0%', '64.3%'),\n",
    "  (9, 9, 1, 'Jermaine Samuels', 'Villanova University', 25, 1.1, 1.2, 0.3, 0.0, 0.1, 0.5, '25.0%', '18.8%', '62.5%');\n"
   ]
  },
  {
   "cell_type": "code",
   "execution_count": 0,
   "metadata": {
    "application/vnd.databricks.v1+cell": {
     "cellMetadata": {
      "byteLimit": 2048000,
      "implicitDf": true,
      "rowLimit": 10000
     },
     "inputWidgets": {},
     "nuid": "48ed33cb-5de3-4227-9e38-4a0fb11ae794",
     "showTitle": false,
     "tableResultSettingsMap": {},
     "title": ""
    }
   },
   "outputs": [
    {
     "output_type": "display_data",
     "data": {
      "text/html": [
       "<style scoped>\n",
       "  .table-result-container {\n",
       "    max-height: 300px;\n",
       "    overflow: auto;\n",
       "  }\n",
       "  table, th, td {\n",
       "    border: 1px solid black;\n",
       "    border-collapse: collapse;\n",
       "  }\n",
       "  th, td {\n",
       "    padding: 5px;\n",
       "  }\n",
       "  th {\n",
       "    text-align: left;\n",
       "  }\n",
       "</style><div class='table-result-container'><table class='table-result'><thead style='background-color: white'><tr><th>num_affected_rows</th><th>num_inserted_rows</th></tr></thead><tbody><tr><td>9</td><td>9</td></tr></tbody></table></div>"
      ]
     },
     "metadata": {
      "application/vnd.databricks.v1+output": {
       "addedWidgets": {},
       "aggData": [],
       "aggError": "",
       "aggOverflow": false,
       "aggSchema": [],
       "aggSeriesLimitReached": false,
       "aggType": "",
       "arguments": {},
       "columnCustomDisplayInfos": {},
       "data": [
        [
         9,
         9
        ]
       ],
       "datasetInfos": [],
       "dbfsResultPath": null,
       "isJsonSchema": true,
       "metadata": {},
       "overflow": false,
       "plotOptions": {
        "customPlotOptions": {},
        "displayType": "table",
        "pivotAggregation": null,
        "pivotColumns": null,
        "xColumns": null,
        "yColumns": null
       },
       "removedWidgets": [],
       "schema": [
        {
         "metadata": "{}",
         "name": "num_affected_rows",
         "type": "\"long\""
        },
        {
         "metadata": "{}",
         "name": "num_inserted_rows",
         "type": "\"long\""
        }
       ],
       "type": "table"
      }
     },
     "output_type": "display_data"
    }
   ],
   "source": [
    "%sql\n",
    "INSERT INTO jogador (id, rankings_id, universidade_id, nome, idade, posicao, universidade_nome)\n",
    "VALUES\n",
    "  (1, NULL, 1, 'Jalen Brunson', 21, 'G', 'Villanova University'),\n",
    "  (2, NULL, 1, 'Mikal Bridges', 21, 'F', 'Villanova University'),\n",
    "  (3, NULL, 1, 'Donte DiVincenzo', 21, 'G', 'Villanova University'),\n",
    "  (4, NULL, 1, 'Omari Spellman', 20, 'F', 'Villanova University'),\n",
    "  (5, NULL, 1, 'Eric Paschall', 21, 'F', 'Villanova University'),\n",
    "  (6, NULL, 1, 'Phil Booth', 22, 'G', 'Villanova University'),\n",
    "  (7, NULL, 1, 'Collin Gillespie', 19, 'G', 'Villanova University'),\n",
    "  (8, NULL, 1, 'Dhamir Cosby-Roundtree', 19, 'F', 'Villanova University'),\n",
    "  (9, NULL, 1, 'Jermaine Samuels', 19, 'F', 'Villanova University');\n"
   ]
  },
  {
   "cell_type": "code",
   "execution_count": 0,
   "metadata": {
    "application/vnd.databricks.v1+cell": {
     "cellMetadata": {
      "byteLimit": 2048000,
      "implicitDf": true,
      "rowLimit": 10000
     },
     "inputWidgets": {},
     "nuid": "f2257e3f-f0bd-45b0-b7f8-0d48cc3723ff",
     "showTitle": false,
     "tableResultSettingsMap": {},
     "title": ""
    }
   },
   "outputs": [
    {
     "output_type": "display_data",
     "data": {
      "text/html": [
       "<style scoped>\n",
       "  .table-result-container {\n",
       "    max-height: 300px;\n",
       "    overflow: auto;\n",
       "  }\n",
       "  table, th, td {\n",
       "    border: 1px solid black;\n",
       "    border-collapse: collapse;\n",
       "  }\n",
       "  th, td {\n",
       "    padding: 5px;\n",
       "  }\n",
       "  th {\n",
       "    text-align: left;\n",
       "  }\n",
       "</style><div class='table-result-container'><table class='table-result'><thead style='background-color: white'><tr><th>num_affected_rows</th><th>num_inserted_rows</th></tr></thead><tbody><tr><td>1</td><td>1</td></tr></tbody></table></div>"
      ]
     },
     "metadata": {
      "application/vnd.databricks.v1+output": {
       "addedWidgets": {},
       "aggData": [],
       "aggError": "",
       "aggOverflow": false,
       "aggSchema": [],
       "aggSeriesLimitReached": false,
       "aggType": "",
       "arguments": {},
       "columnCustomDisplayInfos": {},
       "data": [
        [
         1,
         1
        ]
       ],
       "datasetInfos": [],
       "dbfsResultPath": null,
       "isJsonSchema": true,
       "metadata": {},
       "overflow": false,
       "plotOptions": {
        "customPlotOptions": {},
        "displayType": "table",
        "pivotAggregation": null,
        "pivotColumns": null,
        "xColumns": null,
        "yColumns": null
       },
       "removedWidgets": [],
       "schema": [
        {
         "metadata": "{}",
         "name": "num_affected_rows",
         "type": "\"long\""
        },
        {
         "metadata": "{}",
         "name": "num_inserted_rows",
         "type": "\"long\""
        }
       ],
       "type": "table"
      }
     },
     "output_type": "display_data"
    }
   ],
   "source": [
    "%sql\n",
    "INSERT INTO universidade (id_universidade, nome, conferencia, ano, jogos, vitorias, pos_temporada)\n",
    "VALUES\n",
    "  (1, 'Villanova University', 'Big East', 2017, 40, 36, 'Campeão Nacional');\n"
   ]
  },
  {
   "cell_type": "markdown",
   "metadata": {
    "application/vnd.databricks.v1+cell": {
     "cellMetadata": {},
     "inputWidgets": {},
     "nuid": "668c0a5e-e693-4c0e-9104-e48fff7e9f23",
     "showTitle": false,
     "tableResultSettingsMap": {},
     "title": ""
    }
   },
   "source": [
    "### Time KANSAS STATE"
   ]
  },
  {
   "cell_type": "code",
   "execution_count": 0,
   "metadata": {
    "application/vnd.databricks.v1+cell": {
     "cellMetadata": {
      "byteLimit": 2048000,
      "implicitDf": true,
      "rowLimit": 10000
     },
     "inputWidgets": {},
     "nuid": "aa8feeee-520c-4f2b-8aef-967a07469077",
     "showTitle": false,
     "tableResultSettingsMap": {},
     "title": ""
    }
   },
   "outputs": [
    {
     "output_type": "display_data",
     "data": {
      "text/html": [
       "<style scoped>\n",
       "  .table-result-container {\n",
       "    max-height: 300px;\n",
       "    overflow: auto;\n",
       "  }\n",
       "  table, th, td {\n",
       "    border: 1px solid black;\n",
       "    border-collapse: collapse;\n",
       "  }\n",
       "  th, td {\n",
       "    padding: 5px;\n",
       "  }\n",
       "  th {\n",
       "    text-align: left;\n",
       "  }\n",
       "</style><div class='table-result-container'><table class='table-result'><thead style='background-color: white'><tr><th>num_affected_rows</th><th>num_inserted_rows</th></tr></thead><tbody><tr><td>1</td><td>1</td></tr></tbody></table></div>"
      ]
     },
     "metadata": {
      "application/vnd.databricks.v1+output": {
       "addedWidgets": {},
       "aggData": [],
       "aggError": "",
       "aggOverflow": false,
       "aggSchema": [],
       "aggSeriesLimitReached": false,
       "aggType": "",
       "arguments": {},
       "columnCustomDisplayInfos": {},
       "data": [
        [
         1,
         1
        ]
       ],
       "datasetInfos": [],
       "dbfsResultPath": null,
       "isJsonSchema": true,
       "metadata": {},
       "overflow": false,
       "plotOptions": {
        "customPlotOptions": {},
        "displayType": "table",
        "pivotAggregation": null,
        "pivotColumns": null,
        "xColumns": null,
        "yColumns": null
       },
       "removedWidgets": [],
       "schema": [
        {
         "metadata": "{}",
         "name": "num_affected_rows",
         "type": "\"long\""
        },
        {
         "metadata": "{}",
         "name": "num_inserted_rows",
         "type": "\"long\""
        }
       ],
       "type": "table"
      }
     },
     "output_type": "display_data"
    }
   ],
   "source": [
    "%sql\n",
    "INSERT INTO universidade VALUES\n",
    "(2, 'Kansas State', 'Big 12', 2017, 37, 25, 'Elite Eight');\n"
   ]
  },
  {
   "cell_type": "code",
   "execution_count": 0,
   "metadata": {
    "application/vnd.databricks.v1+cell": {
     "cellMetadata": {
      "byteLimit": 2048000,
      "implicitDf": true,
      "rowLimit": 10000
     },
     "inputWidgets": {},
     "nuid": "fef5459b-043d-4a9f-b322-efef090f278e",
     "showTitle": false,
     "tableResultSettingsMap": {},
     "title": ""
    }
   },
   "outputs": [
    {
     "output_type": "display_data",
     "data": {
      "text/html": [
       "<style scoped>\n",
       "  .table-result-container {\n",
       "    max-height: 300px;\n",
       "    overflow: auto;\n",
       "  }\n",
       "  table, th, td {\n",
       "    border: 1px solid black;\n",
       "    border-collapse: collapse;\n",
       "  }\n",
       "  th, td {\n",
       "    padding: 5px;\n",
       "  }\n",
       "  th {\n",
       "    text-align: left;\n",
       "  }\n",
       "</style><div class='table-result-container'><table class='table-result'><thead style='background-color: white'><tr><th>num_affected_rows</th><th>num_inserted_rows</th></tr></thead><tbody><tr><td>16</td><td>16</td></tr></tbody></table></div>"
      ]
     },
     "metadata": {
      "application/vnd.databricks.v1+output": {
       "addedWidgets": {},
       "aggData": [],
       "aggError": "",
       "aggOverflow": false,
       "aggSchema": [],
       "aggSeriesLimitReached": false,
       "aggType": "",
       "arguments": {},
       "columnCustomDisplayInfos": {},
       "data": [
        [
         16,
         16
        ]
       ],
       "datasetInfos": [],
       "dbfsResultPath": null,
       "isJsonSchema": true,
       "metadata": {},
       "overflow": false,
       "plotOptions": {
        "customPlotOptions": {},
        "displayType": "table",
        "pivotAggregation": null,
        "pivotColumns": null,
        "xColumns": null,
        "yColumns": null
       },
       "removedWidgets": [],
       "schema": [
        {
         "metadata": "{}",
         "name": "num_affected_rows",
         "type": "\"long\""
        },
        {
         "metadata": "{}",
         "name": "num_inserted_rows",
         "type": "\"long\""
        }
       ],
       "type": "table"
      }
     },
     "output_type": "display_data"
    }
   ],
   "source": [
    "%sql\n",
    "INSERT INTO jogador VALUES\n",
    "  (1, 1, 1, 'Barry Brown', 21, 'G', 'Kansas State'),\n",
    "  (2, 2, 1, 'Dean Wade', 21, 'F', 'Kansas State'),\n",
    "  (3, 3, 1, 'Xavier Sneed', 20, 'F', 'Kansas State'),\n",
    "  (4, 4, 1, 'Kamau Stokes', 22, 'G', 'Kansas State'),\n",
    "  (5, 5, 1, 'Carter Diarra', 19, 'G', 'Kansas State'),\n",
    "  (6, 6, 1, 'Makol Mawien', 21, 'F', 'Kansas State'),\n",
    "  (7, 7, 1, 'Amaad Wainright', 22, 'G', 'Kansas State'),\n",
    "  (8, 8, 1, 'Levi Stockard', 20, 'F', 'Kansas State'),\n",
    "  (9, 9, 1, 'Brian Patrick', 19, 'G', 'Kansas State'),\n",
    "  (10, 10, 1, 'Mike McGuirl', 19, 'G', 'Kansas State'),\n",
    "  (11, 11, 1, 'Mawdo Sallah', 22, 'F', 'Kansas State'),\n",
    "  (12, 12, 1, 'James Love', 19, 'F', 'Kansas State'),\n",
    "  (13, 13, 1, 'Nigel Shadd', 19, 'F', 'Kansas State'),\n",
    "  (14, 14, 1, 'Pierson McAtee', 20, 'F', 'Kansas State'),\n",
    "  (15, 15, 1, 'Kade Kinnamon', 20, 'G', 'Kansas State'),\n",
    "  (16, 16, 1, 'Mason Schoen', 22, 'G', 'Kansas State');\n"
   ]
  },
  {
   "cell_type": "code",
   "execution_count": 0,
   "metadata": {
    "application/vnd.databricks.v1+cell": {
     "cellMetadata": {
      "byteLimit": 2048000,
      "implicitDf": true,
      "rowLimit": 10000
     },
     "inputWidgets": {},
     "nuid": "6aeb1a1c-e00d-412a-baf0-2150c64f8522",
     "showTitle": false,
     "tableResultSettingsMap": {},
     "title": ""
    }
   },
   "outputs": [
    {
     "output_type": "display_data",
     "data": {
      "text/html": [
       "<style scoped>\n",
       "  .table-result-container {\n",
       "    max-height: 300px;\n",
       "    overflow: auto;\n",
       "  }\n",
       "  table, th, td {\n",
       "    border: 1px solid black;\n",
       "    border-collapse: collapse;\n",
       "  }\n",
       "  th, td {\n",
       "    padding: 5px;\n",
       "  }\n",
       "  th {\n",
       "    text-align: left;\n",
       "  }\n",
       "</style><div class='table-result-container'><table class='table-result'><thead style='background-color: white'><tr><th>num_affected_rows</th><th>num_inserted_rows</th></tr></thead><tbody><tr><td>15</td><td>15</td></tr></tbody></table></div>"
      ]
     },
     "metadata": {
      "application/vnd.databricks.v1+output": {
       "addedWidgets": {},
       "aggData": [],
       "aggError": "",
       "aggOverflow": false,
       "aggSchema": [],
       "aggSeriesLimitReached": false,
       "aggType": "",
       "arguments": {},
       "columnCustomDisplayInfos": {},
       "data": [
        [
         15,
         15
        ]
       ],
       "datasetInfos": [],
       "dbfsResultPath": null,
       "isJsonSchema": true,
       "metadata": {},
       "overflow": false,
       "plotOptions": {
        "customPlotOptions": {},
        "displayType": "table",
        "pivotAggregation": null,
        "pivotColumns": null,
        "xColumns": null,
        "yColumns": null
       },
       "removedWidgets": [],
       "schema": [
        {
         "metadata": "{}",
         "name": "num_affected_rows",
         "type": "\"long\""
        },
        {
         "metadata": "{}",
         "name": "num_inserted_rows",
         "type": "\"long\""
        }
       ],
       "type": "table"
      }
     },
     "output_type": "display_data"
    }
   ],
   "source": [
    "%sql\n",
    "INSERT INTO rankings VALUES\n",
    "(2, 2, 1, 'Dean Wade', 'Kansas State', 85, 90, 87, 89),\n",
    "(3, 3, 1, 'Xavier Sneed', 'Kansas State', 82, 88, 85, 84),\n",
    "(4, 4, 1, 'Kamau Stokes', 'Kansas State', 75, 80, 78, 77),\n",
    "(5, 5, 1, 'Carter Diarra', 'Kansas State', 70, 73, 71, 72),\n",
    "(6, 6, 1, 'Makol Mawien', 'Kansas State', 74, 79, 76, 75),\n",
    "(7, 7, 1, 'Amaad Wainright', 'Kansas State', 69, 68, 70, 67),\n",
    "(8, 8, 1, 'Levi Stockard', 'Kansas State', 65, 66, 64, 63),\n",
    "(9, 9, 1, 'Brian Patrick', 'Kansas State', 60, 62, 61, 59),\n",
    "(10, 10, 1, 'Mike McGuirl', 'Kansas State', 73, 77, 76, 75),\n",
    "(11, 11, 1, 'Mawdo Sallah', 'Kansas State', 68, 65, 67, 66),\n",
    "(12, 12, 1, 'James Love', 'Kansas State', 63, 60, 62, 61),\n",
    "(13, 13, 1, 'Nigel Shadd', 'Kansas State', 66, 68, 65, 64),\n",
    "(14, 14, 1, 'Pierson McAtee', 'Kansas State', 55, 54, 56, 53),\n",
    "(15, 15, 1, 'Kade Kinnamon', 'Kansas State', 58, 60, 59, 57),\n",
    "(16, 16, 1, 'Mason Schoen', 'Kansas State', 57, 55, 56, 54);\n"
   ]
  },
  {
   "cell_type": "code",
   "execution_count": 0,
   "metadata": {
    "application/vnd.databricks.v1+cell": {
     "cellMetadata": {
      "byteLimit": 2048000,
      "implicitDf": true,
      "rowLimit": 10000
     },
     "inputWidgets": {},
     "nuid": "2b3adba4-0fe0-4a8a-8103-da8475211acd",
     "showTitle": false,
     "tableResultSettingsMap": {},
     "title": ""
    }
   },
   "outputs": [
    {
     "output_type": "display_data",
     "data": {
      "text/html": [
       "<style scoped>\n",
       "  .table-result-container {\n",
       "    max-height: 300px;\n",
       "    overflow: auto;\n",
       "  }\n",
       "  table, th, td {\n",
       "    border: 1px solid black;\n",
       "    border-collapse: collapse;\n",
       "  }\n",
       "  th, td {\n",
       "    padding: 5px;\n",
       "  }\n",
       "  th {\n",
       "    text-align: left;\n",
       "  }\n",
       "</style><div class='table-result-container'><table class='table-result'><thead style='background-color: white'><tr><th>num_affected_rows</th><th>num_inserted_rows</th></tr></thead><tbody><tr><td>15</td><td>15</td></tr></tbody></table></div>"
      ]
     },
     "metadata": {
      "application/vnd.databricks.v1+output": {
       "addedWidgets": {},
       "aggData": [],
       "aggError": "",
       "aggOverflow": false,
       "aggSchema": [],
       "aggSeriesLimitReached": false,
       "aggType": "",
       "arguments": {},
       "columnCustomDisplayInfos": {},
       "data": [
        [
         15,
         15
        ]
       ],
       "datasetInfos": [],
       "dbfsResultPath": null,
       "isJsonSchema": true,
       "metadata": {},
       "overflow": false,
       "plotOptions": {
        "customPlotOptions": {},
        "displayType": "table",
        "pivotAggregation": null,
        "pivotColumns": null,
        "xColumns": null,
        "yColumns": null
       },
       "removedWidgets": [],
       "schema": [
        {
         "metadata": "{}",
         "name": "num_affected_rows",
         "type": "\"long\""
        },
        {
         "metadata": "{}",
         "name": "num_inserted_rows",
         "type": "\"long\""
        }
       ],
       "type": "table"
      }
     },
     "output_type": "display_data"
    }
   ],
   "source": [
    "%sql\n",
    "INSERT INTO estatisticas VALUES\n",
    "(2, 2, 1, 'Dean Wade', 'Kansas State', 30, 16.2, 6.2, 2.7, 1.1, 1.0, 2.3, '54.0%', '44.0%', '70.0%'),\n",
    "(3, 3, 1, 'Xavier Sneed', 'Kansas State', 36, 11.1, 5.1, 1.8, 1.4, 0.5, 1.7, '45.0%', '34.0%', '78.0%'),\n",
    "(4, 4, 1, 'Kamau Stokes', 'Kansas State', 28, 9.0, 2.3, 3.4, 0.8, 0.1, 1.9, '41.0%', '38.0%', '82.0%'),\n",
    "(5, 5, 1, 'Carter Diarra', 'Kansas State', 33, 6.8, 2.0, 2.0, 0.9, 0.1, 1.2, '42.0%', '36.0%', '75.0%'),\n",
    "(6, 6, 1, 'Makol Mawien', 'Kansas State', 37, 6.5, 3.5, 0.5, 0.6, 0.8, 1.0, '52.0%', '0.0%', '65.0%'),\n",
    "(7, 7, 1, 'Amaad Wainright', 'Kansas State', 35, 3.5, 1.8, 1.2, 0.7, 0.1, 0.9, '38.0%', '29.0%', '68.0%'),\n",
    "(8, 8, 1, 'Levi Stockard', 'Kansas State', 25, 2.5, 1.5, 0.2, 0.2, 0.3, 0.6, '50.0%', '0.0%', '60.0%'),\n",
    "(9, 9, 1, 'Brian Patrick', 'Kansas State', 12, 1.2, 0.8, 0.3, 0.3, 0.0, 0.4, '36.0%', '22.0%', '58.0%'),\n",
    "(10, 10, 1, 'Mike McGuirl', 'Kansas State', 20, 3.9, 1.0, 0.8, 0.6, 0.1, 0.8, '43.0%', '33.0%', '73.0%'),\n",
    "(11, 11, 1, 'Mawdo Sallah', 'Kansas State', 18, 1.8, 1.2, 0.2, 0.3, 0.4, 0.3, '47.0%', '0.0%', '62.0%'),\n",
    "(12, 12, 1, 'James Love', 'Kansas State', 5, 0.6, 0.7, 0.1, 0.2, 0.2, 0.1, '33.0%', '0.0%', '50.0%'),\n",
    "(13, 13, 1, 'Nigel Shadd', 'Kansas State', 10, 1.0, 1.0, 0.1, 0.2, 0.1, 0.2, '40.0%', '0.0%', '55.0%'),\n",
    "(14, 14, 1, 'Pierson McAtee', 'Kansas State', 3, 0.3, 0.4, 0.0, 0.1, 0.0, 0.0, '20.0%', '0.0%', '0.0%'),\n",
    "(15, 15, 1, 'Kade Kinnamon', 'Kansas State', 4, 0.4, 0.5, 0.1, 0.1, 0.0, 0.1, '25.0%', '0.0%', '50.0%'),\n",
    "(16, 16, 1, 'Mason Schoen', 'Kansas State', 2, 0.2, 0.3, 0.0, 0.1, 0.0, 0.0, '10.0%', '0.0%', '0.0%');\n"
   ]
  },
  {
   "cell_type": "code",
   "execution_count": 0,
   "metadata": {
    "application/vnd.databricks.v1+cell": {
     "cellMetadata": {
      "byteLimit": 2048000,
      "implicitDf": true,
      "rowLimit": 10000
     },
     "inputWidgets": {},
     "nuid": "56b2e3c6-5f35-4a2c-a4f4-2c933fdc9266",
     "showTitle": false,
     "tableResultSettingsMap": {},
     "title": ""
    }
   },
   "outputs": [
    {
     "output_type": "display_data",
     "data": {
      "text/html": [
       "<style scoped>\n",
       "  .table-result-container {\n",
       "    max-height: 300px;\n",
       "    overflow: auto;\n",
       "  }\n",
       "  table, th, td {\n",
       "    border: 1px solid black;\n",
       "    border-collapse: collapse;\n",
       "  }\n",
       "  th, td {\n",
       "    padding: 5px;\n",
       "  }\n",
       "  th {\n",
       "    text-align: left;\n",
       "  }\n",
       "</style><div class='table-result-container'><table class='table-result'><thead style='background-color: white'><tr><th>num_affected_rows</th><th>num_inserted_rows</th></tr></thead><tbody><tr><td>15</td><td>15</td></tr></tbody></table></div>"
      ]
     },
     "metadata": {
      "application/vnd.databricks.v1+output": {
       "addedWidgets": {},
       "aggData": [],
       "aggError": "",
       "aggOverflow": false,
       "aggSchema": [],
       "aggSeriesLimitReached": false,
       "aggType": "",
       "arguments": {},
       "columnCustomDisplayInfos": {},
       "data": [
        [
         15,
         15
        ]
       ],
       "datasetInfos": [],
       "dbfsResultPath": null,
       "isJsonSchema": true,
       "metadata": {},
       "overflow": false,
       "plotOptions": {
        "customPlotOptions": {},
        "displayType": "table",
        "pivotAggregation": null,
        "pivotColumns": null,
        "xColumns": null,
        "yColumns": null
       },
       "removedWidgets": [],
       "schema": [
        {
         "metadata": "{}",
         "name": "num_affected_rows",
         "type": "\"long\""
        },
        {
         "metadata": "{}",
         "name": "num_inserted_rows",
         "type": "\"long\""
        }
       ],
       "type": "table"
      }
     },
     "output_type": "display_data"
    }
   ],
   "source": [
    "%sql\n",
    "INSERT INTO transicao_para_nba VALUES\n",
    "(2, 2, 1, 2, 'Dean Wade', 'Kansas State', 2015, 2019, 1, 5, 1),\n",
    "(3, 3, 1, 3, 'Xavier Sneed', 'Kansas State', 2016, 2020, 1, 3, 0),\n",
    "(4, 4, 1, 4, 'Kamau Stokes', 'Kansas State', 2014, 2018, 0, 0, 0),\n",
    "(5, 5, 1, 5, 'Carter Diarra', 'Kansas State', 2017, 2021, 0, 0, 0),\n",
    "(6, 6, 1, 6, 'Makol Mawien', 'Kansas State', 2017, 2021, 0, 0, 0),\n",
    "(7, 7, 1, 7, 'Amaad Wainright', 'Kansas State', 2016, 2020, 0, 0, 0),\n",
    "(8, 8, 1, 8, 'Levi Stockard', 'Kansas State', 2017, 2021, 0, 0, 0),\n",
    "(9, 9, 1, 9, 'Brian Patrick', 'Kansas State', 2016, 2020, 0, 0, 0),\n",
    "(10, 10, 1, 10, 'Mike McGuirl', 'Kansas State', 2017, 2021, 0, 0, 0),\n",
    "(11, 11, 1, 11, 'Mawdo Sallah', 'Kansas State', 2015, 2019, 0, 0, 0),\n",
    "(12, 12, 1, 12, 'James Love', 'Kansas State', 2016, 2020, 0, 0, 0),\n",
    "(13, 13, 1, 13, 'Nigel Shadd', 'Kansas State', 2017, 2021, 0, 0, 0),\n",
    "(14, 14, 1, 14, 'Pierson McAtee', 'Kansas State', 2015, 2019, 0, 0, 0),\n",
    "(15, 15, 1, 15, 'Kade Kinnamon', 'Kansas State', 2015, 2019, 0, 0, 0),\n",
    "(16, 16, 1, 16, 'Mason Schoen', 'Kansas State', 2014, 2018, 0, 0, 0);\n"
   ]
  },
  {
   "cell_type": "markdown",
   "metadata": {
    "application/vnd.databricks.v1+cell": {
     "cellMetadata": {},
     "inputWidgets": {},
     "nuid": "855eab53-6305-4ef4-8207-2fceef29e808",
     "showTitle": false,
     "tableResultSettingsMap": {},
     "title": ""
    }
   },
   "source": [
    "### Time KENTUCKY"
   ]
  },
  {
   "cell_type": "code",
   "execution_count": 0,
   "metadata": {
    "application/vnd.databricks.v1+cell": {
     "cellMetadata": {
      "byteLimit": 2048000,
      "implicitDf": true,
      "rowLimit": 10000
     },
     "inputWidgets": {},
     "nuid": "d23e16e6-8eb4-4d3f-8e0e-0dbcbf8104df",
     "showTitle": false,
     "tableResultSettingsMap": {},
     "title": ""
    }
   },
   "outputs": [
    {
     "output_type": "display_data",
     "data": {
      "text/html": [
       "<style scoped>\n",
       "  .table-result-container {\n",
       "    max-height: 300px;\n",
       "    overflow: auto;\n",
       "  }\n",
       "  table, th, td {\n",
       "    border: 1px solid black;\n",
       "    border-collapse: collapse;\n",
       "  }\n",
       "  th, td {\n",
       "    padding: 5px;\n",
       "  }\n",
       "  th {\n",
       "    text-align: left;\n",
       "  }\n",
       "</style><div class='table-result-container'><table class='table-result'><thead style='background-color: white'><tr><th>num_affected_rows</th><th>num_inserted_rows</th></tr></thead><tbody><tr><td>1</td><td>1</td></tr></tbody></table></div>"
      ]
     },
     "metadata": {
      "application/vnd.databricks.v1+output": {
       "addedWidgets": {},
       "aggData": [],
       "aggError": "",
       "aggOverflow": false,
       "aggSchema": [],
       "aggSeriesLimitReached": false,
       "aggType": "",
       "arguments": {},
       "columnCustomDisplayInfos": {},
       "data": [
        [
         1,
         1
        ]
       ],
       "datasetInfos": [],
       "dbfsResultPath": null,
       "isJsonSchema": true,
       "metadata": {},
       "overflow": false,
       "plotOptions": {
        "customPlotOptions": {},
        "displayType": "table",
        "pivotAggregation": null,
        "pivotColumns": null,
        "xColumns": null,
        "yColumns": null
       },
       "removedWidgets": [],
       "schema": [
        {
         "metadata": "{}",
         "name": "num_affected_rows",
         "type": "\"long\""
        },
        {
         "metadata": "{}",
         "name": "num_inserted_rows",
         "type": "\"long\""
        }
       ],
       "type": "table"
      }
     },
     "output_type": "display_data"
    }
   ],
   "source": [
    "%sql\n",
    "INSERT INTO universidade (\n",
    "  id_universidade, nome, conferencia, ano, jogos, vitorias, pos_temporada\n",
    ")\n",
    "VALUES (\n",
    "  2, 'Kentucky', 'SEC', 2018, 37, 26, 'Segunda Rodada'\n",
    ");\n"
   ]
  },
  {
   "cell_type": "code",
   "execution_count": 0,
   "metadata": {
    "application/vnd.databricks.v1+cell": {
     "cellMetadata": {
      "byteLimit": 2048000,
      "implicitDf": true,
      "rowLimit": 10000
     },
     "inputWidgets": {},
     "nuid": "b16b2d95-ddbe-4048-ae34-177ff187d921",
     "showTitle": false,
     "tableResultSettingsMap": {},
     "title": ""
    }
   },
   "outputs": [
    {
     "output_type": "display_data",
     "data": {
      "text/html": [
       "<style scoped>\n",
       "  .table-result-container {\n",
       "    max-height: 300px;\n",
       "    overflow: auto;\n",
       "  }\n",
       "  table, th, td {\n",
       "    border: 1px solid black;\n",
       "    border-collapse: collapse;\n",
       "  }\n",
       "  th, td {\n",
       "    padding: 5px;\n",
       "  }\n",
       "  th {\n",
       "    text-align: left;\n",
       "  }\n",
       "</style><div class='table-result-container'><table class='table-result'><thead style='background-color: white'><tr><th>num_affected_rows</th><th>num_inserted_rows</th></tr></thead><tbody><tr><td>12</td><td>12</td></tr></tbody></table></div>"
      ]
     },
     "metadata": {
      "application/vnd.databricks.v1+output": {
       "addedWidgets": {},
       "aggData": [],
       "aggError": "",
       "aggOverflow": false,
       "aggSchema": [],
       "aggSeriesLimitReached": false,
       "aggType": "",
       "arguments": {},
       "columnCustomDisplayInfos": {},
       "data": [
        [
         12,
         12
        ]
       ],
       "datasetInfos": [],
       "dbfsResultPath": null,
       "isJsonSchema": true,
       "metadata": {},
       "overflow": false,
       "plotOptions": {
        "customPlotOptions": {},
        "displayType": "table",
        "pivotAggregation": null,
        "pivotColumns": null,
        "xColumns": null,
        "yColumns": null
       },
       "removedWidgets": [],
       "schema": [
        {
         "metadata": "{}",
         "name": "num_affected_rows",
         "type": "\"long\""
        },
        {
         "metadata": "{}",
         "name": "num_inserted_rows",
         "type": "\"long\""
        }
       ],
       "type": "table"
      }
     },
     "output_type": "display_data"
    }
   ],
   "source": [
    "%sql\n",
    "INSERT INTO jogador VALUES\n",
    "(17, 17, 2, 'Kevin Knox', 18, 'F', 'Kentucky'),\n",
    "(18, 18, 2, 'Shai Gilgeous-Alexander', 19, 'G', 'Kentucky'),\n",
    "(19, 19, 2, 'PJ Washington', 19, 'F', 'Kentucky'),\n",
    "(20, 20, 2, 'Hamidou Diallo', 19, 'G', 'Kentucky'),\n",
    "(21, 21, 2, 'Quade Green', 19, 'G', 'Kentucky'),\n",
    "(22, 22, 2, 'Wenyen Gabriel', 20, 'F', 'Kentucky'),\n",
    "(23, 23, 2, 'Sacha Killeya-Jones', 20, 'F', 'Kentucky'),\n",
    "(24, 24, 2, 'Jarred Vanderbilt', 19, 'F', 'Kentucky'),\n",
    "(25, 25, 2, 'Tai Wynyard', 20, 'F', 'Kentucky'),\n",
    "(26, 26, 2, 'Brad Calipari', 20, 'G', 'Kentucky'),\n",
    "(27, 27, 2, 'Johnny David', 21, 'G', 'Kentucky'),\n",
    "(28, 28, 2, 'Dillon Pulliam', 22, 'G', 'Kentucky');\n"
   ]
  },
  {
   "cell_type": "code",
   "execution_count": 0,
   "metadata": {
    "application/vnd.databricks.v1+cell": {
     "cellMetadata": {
      "byteLimit": 2048000,
      "implicitDf": true,
      "rowLimit": 10000
     },
     "inputWidgets": {},
     "nuid": "9d6aa523-659b-4aeb-bdb0-61b8505fcb03",
     "showTitle": false,
     "tableResultSettingsMap": {},
     "title": ""
    }
   },
   "outputs": [
    {
     "output_type": "display_data",
     "data": {
      "text/html": [
       "<style scoped>\n",
       "  .table-result-container {\n",
       "    max-height: 300px;\n",
       "    overflow: auto;\n",
       "  }\n",
       "  table, th, td {\n",
       "    border: 1px solid black;\n",
       "    border-collapse: collapse;\n",
       "  }\n",
       "  th, td {\n",
       "    padding: 5px;\n",
       "  }\n",
       "  th {\n",
       "    text-align: left;\n",
       "  }\n",
       "</style><div class='table-result-container'><table class='table-result'><thead style='background-color: white'><tr><th>num_affected_rows</th><th>num_inserted_rows</th></tr></thead><tbody><tr><td>12</td><td>12</td></tr></tbody></table></div>"
      ]
     },
     "metadata": {
      "application/vnd.databricks.v1+output": {
       "addedWidgets": {},
       "aggData": [],
       "aggError": "",
       "aggOverflow": false,
       "aggSchema": [],
       "aggSeriesLimitReached": false,
       "aggType": "",
       "arguments": {},
       "columnCustomDisplayInfos": {},
       "data": [
        [
         12,
         12
        ]
       ],
       "datasetInfos": [],
       "dbfsResultPath": null,
       "isJsonSchema": true,
       "metadata": {},
       "overflow": false,
       "plotOptions": {
        "customPlotOptions": {},
        "displayType": "table",
        "pivotAggregation": null,
        "pivotColumns": null,
        "xColumns": null,
        "yColumns": null
       },
       "removedWidgets": [],
       "schema": [
        {
         "metadata": "{}",
         "name": "num_affected_rows",
         "type": "\"long\""
        },
        {
         "metadata": "{}",
         "name": "num_inserted_rows",
         "type": "\"long\""
        }
       ],
       "type": "table"
      }
     },
     "output_type": "display_data"
    }
   ],
   "source": [
    "%sql\n",
    "INSERT INTO rankings VALUES\n",
    "(17, 17, 2, 'Kevin Knox', 'Kentucky', 67, 66, 72, 70),\n",
    "(18, 18, 2, 'Shai Gilgeous-Alexander', 'Kentucky', 68, 67, 73, 71),\n",
    "(19, 19, 2, 'PJ Washington', 'Kentucky', 69, 68, 74, 72),\n",
    "(20, 20, 2, 'Hamidou Diallo', 'Kentucky', 70, 69, 75, 73),\n",
    "(21, 21, 2, 'Quade Green', 'Kentucky', 71, 70, 76, 74),\n",
    "(22, 22, 2, 'Wenyen Gabriel', 'Kentucky', 72, 71, 77, 75),\n",
    "(23, 23, 2, 'Sacha Killeya-Jones', 'Kentucky', 73, 72, 78, 76),\n",
    "(24, 24, 2, 'Jarred Vanderbilt', 'Kentucky', 74, 73, 79, 77),\n",
    "(25, 25, 2, 'Tai Wynyard', 'Kentucky', 75, 74, 80, 78),\n",
    "(26, 26, 2, 'Brad Calipari', 'Kentucky', 76, 75, 81, 79),\n",
    "(27, 27, 2, 'Johnny David', 'Kentucky', 77, 76, 82, 80),\n",
    "(28, 28, 2, 'Dillon Pulliam', 'Kentucky', 78, 77, 83, 81);\n"
   ]
  },
  {
   "cell_type": "code",
   "execution_count": 0,
   "metadata": {
    "application/vnd.databricks.v1+cell": {
     "cellMetadata": {
      "byteLimit": 2048000,
      "implicitDf": true,
      "rowLimit": 10000
     },
     "inputWidgets": {},
     "nuid": "3ace9a1f-ecae-44eb-8777-e414749a6139",
     "showTitle": false,
     "tableResultSettingsMap": {},
     "title": ""
    }
   },
   "outputs": [
    {
     "output_type": "display_data",
     "data": {
      "text/html": [
       "<style scoped>\n",
       "  .table-result-container {\n",
       "    max-height: 300px;\n",
       "    overflow: auto;\n",
       "  }\n",
       "  table, th, td {\n",
       "    border: 1px solid black;\n",
       "    border-collapse: collapse;\n",
       "  }\n",
       "  th, td {\n",
       "    padding: 5px;\n",
       "  }\n",
       "  th {\n",
       "    text-align: left;\n",
       "  }\n",
       "</style><div class='table-result-container'><table class='table-result'><thead style='background-color: white'><tr><th>num_affected_rows</th><th>num_inserted_rows</th></tr></thead><tbody><tr><td>12</td><td>12</td></tr></tbody></table></div>"
      ]
     },
     "metadata": {
      "application/vnd.databricks.v1+output": {
       "addedWidgets": {},
       "aggData": [],
       "aggError": "",
       "aggOverflow": false,
       "aggSchema": [],
       "aggSeriesLimitReached": false,
       "aggType": "",
       "arguments": {},
       "columnCustomDisplayInfos": {},
       "data": [
        [
         12,
         12
        ]
       ],
       "datasetInfos": [],
       "dbfsResultPath": null,
       "isJsonSchema": true,
       "metadata": {},
       "overflow": false,
       "plotOptions": {
        "customPlotOptions": {},
        "displayType": "table",
        "pivotAggregation": null,
        "pivotColumns": null,
        "xColumns": null,
        "yColumns": null
       },
       "removedWidgets": [],
       "schema": [
        {
         "metadata": "{}",
         "name": "num_affected_rows",
         "type": "\"long\""
        },
        {
         "metadata": "{}",
         "name": "num_inserted_rows",
         "type": "\"long\""
        }
       ],
       "type": "table"
      }
     },
     "output_type": "display_data"
    }
   ],
   "source": [
    "%sql\n",
    "INSERT INTO estatisticas VALUES\n",
    "(17, 17, 2, 'Kevin Knox', 'Kentucky', 28, 11.0, 6.0, 4.0, 2.0, 2.0, 3.0, '45%', '35%', '75%'),\n",
    "(18, 18, 2, 'Shai Gilgeous-Alexander', 'Kentucky', 27, 12.0, 7.0, 5.0, 3.0, 3.0, 4.0, '45%', '35%', '75%'),\n",
    "(19, 19, 2, 'PJ Washington', 'Kentucky', 26, 13.0, 8.0, 3.0, 2.0, 2.0, 3.0, '45%', '35%', '75%'),\n",
    "(20, 20, 2, 'Hamidou Diallo', 'Kentucky', 25, 14.0, 5.0, 4.0, 3.0, 3.0, 4.0, '45%', '35%', '75%'),\n",
    "(21, 21, 2, 'Quade Green', 'Kentucky', 24, 15.0, 6.0, 5.0, 2.0, 2.0, 3.0, '45%', '35%', '75%'),\n",
    "(22, 22, 2, 'Wenyen Gabriel', 'Kentucky', 23, 16.0, 7.0, 3.0, 3.0, 3.0, 4.0, '45%', '35%', '75%'),\n",
    "(23, 23, 2, 'Sacha Killeya-Jones', 'Kentucky', 22, 17.0, 5.0, 4.0, 2.0, 2.0, 3.0, '45%', '35%', '75%'),\n",
    "(24, 24, 2, 'Jarred Vanderbilt', 'Kentucky', 21, 18.0, 6.0, 5.0, 3.0, 3.0, 4.0, '45%', '35%', '75%'),\n",
    "(25, 25, 2, 'Tai Wynyard', 'Kentucky', 20, 19.0, 8.0, 3.0, 2.0, 2.0, 3.0, '45%', '35%', '75%'),\n",
    "(26, 26, 2, 'Brad Calipari', 'Kentucky', 19, 10.0, 6.0, 4.0, 3.0, 3.0, 4.0, '45%', '35%', '75%'),\n",
    "(27, 27, 2, 'Johnny David', 'Kentucky', 18, 11.0, 7.0, 5.0, 2.0, 2.0, 3.0, '45%', '35%', '75%'),\n",
    "(28, 28, 2, 'Dillon Pulliam', 'Kentucky', 17, 12.0, 5.0, 3.0, 3.0, 3.0, 4.0, '45%', '35%', '75%');\n"
   ]
  },
  {
   "cell_type": "code",
   "execution_count": 0,
   "metadata": {
    "application/vnd.databricks.v1+cell": {
     "cellMetadata": {
      "byteLimit": 2048000,
      "implicitDf": true,
      "rowLimit": 10000
     },
     "inputWidgets": {},
     "nuid": "7d6a4541-a77f-42f7-95e9-616c2126aca1",
     "showTitle": false,
     "tableResultSettingsMap": {},
     "title": ""
    }
   },
   "outputs": [
    {
     "output_type": "display_data",
     "data": {
      "text/html": [
       "<style scoped>\n",
       "  .table-result-container {\n",
       "    max-height: 300px;\n",
       "    overflow: auto;\n",
       "  }\n",
       "  table, th, td {\n",
       "    border: 1px solid black;\n",
       "    border-collapse: collapse;\n",
       "  }\n",
       "  th, td {\n",
       "    padding: 5px;\n",
       "  }\n",
       "  th {\n",
       "    text-align: left;\n",
       "  }\n",
       "</style><div class='table-result-container'><table class='table-result'><thead style='background-color: white'><tr><th>num_affected_rows</th><th>num_inserted_rows</th></tr></thead><tbody><tr><td>12</td><td>12</td></tr></tbody></table></div>"
      ]
     },
     "metadata": {
      "application/vnd.databricks.v1+output": {
       "addedWidgets": {},
       "aggData": [],
       "aggError": "",
       "aggOverflow": false,
       "aggSchema": [],
       "aggSeriesLimitReached": false,
       "aggType": "",
       "arguments": {},
       "columnCustomDisplayInfos": {},
       "data": [
        [
         12,
         12
        ]
       ],
       "datasetInfos": [],
       "dbfsResultPath": null,
       "isJsonSchema": true,
       "metadata": {},
       "overflow": false,
       "plotOptions": {
        "customPlotOptions": {},
        "displayType": "table",
        "pivotAggregation": null,
        "pivotColumns": null,
        "xColumns": null,
        "yColumns": null
       },
       "removedWidgets": [],
       "schema": [
        {
         "metadata": "{}",
         "name": "num_affected_rows",
         "type": "\"long\""
        },
        {
         "metadata": "{}",
         "name": "num_inserted_rows",
         "type": "\"long\""
        }
       ],
       "type": "table"
      }
     },
     "output_type": "display_data"
    }
   ],
   "source": [
    "%sql\n",
    "INSERT INTO transicao_para_nba VALUES \n",
    "(17, 17, 2, 17, 'Kevin Knox', 'Kentucky', 2017, 2018, 1, 2, 1),\n",
    "(18, 18, 2, 18, 'Shai Gilgeous-Alexander', 'Kentucky', 2017, 2018, 1, 2, 1),\n",
    "(19, 19, 2, 19, 'PJ Washington', 'Kentucky', 2017, 2019, 1, 2, 1),\n",
    "(20, 20, 2, 20, 'Hamidou Diallo', 'Kentucky', 2017, 2018, 1, 2, 1),\n",
    "(21, 21, 2, 21, 'Quade Green', 'Kentucky', 2017, 0, 0, 0, 0),\n",
    "(22, 22, 2, 22, 'Wenyen Gabriel', 'Kentucky', 2017, 2018, 1, 2, 0),\n",
    "(23, 23, 2, 23, 'Sacha Killeya-Jones', 'Kentucky', 2017, 0, 0, 0, 0),\n",
    "(24, 24, 2, 24, 'Jarred Vanderbilt', 'Kentucky', 2017, 2018, 1, 2, 1),\n",
    "(25, 25, 2, 25, 'Tai Wynyard', 'Kentucky', 2017, 0, 0, 0, 0),\n",
    "(26, 26, 2, 26, 'Brad Calipari', 'Kentucky', 2017, 0, 0, 0, 0),\n",
    "(27, 27, 2, 27, 'Johnny David', 'Kentucky', 2017, 0, 0, 0, 0),\n",
    "(28, 28, 2, 28, 'Dillon Pulliam', 'Kentucky', 2017, 0, 0, 0, 0);\n"
   ]
  },
  {
   "cell_type": "markdown",
   "metadata": {
    "application/vnd.databricks.v1+cell": {
     "cellMetadata": {},
     "inputWidgets": {},
     "nuid": "03eb989e-2f45-4691-8020-70943643e59c",
     "showTitle": false,
     "tableResultSettingsMap": {},
     "title": ""
    }
   },
   "source": [
    "### Time LOYOLA CHICAGO"
   ]
  },
  {
   "cell_type": "code",
   "execution_count": 0,
   "metadata": {
    "application/vnd.databricks.v1+cell": {
     "cellMetadata": {
      "byteLimit": 2048000,
      "implicitDf": true,
      "rowLimit": 10000
     },
     "inputWidgets": {},
     "nuid": "0b4c4c4a-f6d5-4271-9c8a-1ba873611d35",
     "showTitle": false,
     "tableResultSettingsMap": {},
     "title": ""
    }
   },
   "outputs": [
    {
     "output_type": "display_data",
     "data": {
      "text/html": [
       "<style scoped>\n",
       "  .table-result-container {\n",
       "    max-height: 300px;\n",
       "    overflow: auto;\n",
       "  }\n",
       "  table, th, td {\n",
       "    border: 1px solid black;\n",
       "    border-collapse: collapse;\n",
       "  }\n",
       "  th, td {\n",
       "    padding: 5px;\n",
       "  }\n",
       "  th {\n",
       "    text-align: left;\n",
       "  }\n",
       "</style><div class='table-result-container'><table class='table-result'><thead style='background-color: white'><tr><th>num_affected_rows</th><th>num_inserted_rows</th></tr></thead><tbody><tr><td>1</td><td>1</td></tr></tbody></table></div>"
      ]
     },
     "metadata": {
      "application/vnd.databricks.v1+output": {
       "addedWidgets": {},
       "aggData": [],
       "aggError": "",
       "aggOverflow": false,
       "aggSchema": [],
       "aggSeriesLimitReached": false,
       "aggType": "",
       "arguments": {},
       "columnCustomDisplayInfos": {},
       "data": [
        [
         1,
         1
        ]
       ],
       "datasetInfos": [],
       "dbfsResultPath": null,
       "isJsonSchema": true,
       "metadata": {},
       "overflow": false,
       "plotOptions": {
        "customPlotOptions": {},
        "displayType": "table",
        "pivotAggregation": null,
        "pivotColumns": null,
        "xColumns": null,
        "yColumns": null
       },
       "removedWidgets": [],
       "schema": [
        {
         "metadata": "{}",
         "name": "num_affected_rows",
         "type": "\"long\""
        },
        {
         "metadata": "{}",
         "name": "num_inserted_rows",
         "type": "\"long\""
        }
       ],
       "type": "table"
      }
     },
     "output_type": "display_data"
    }
   ],
   "source": [
    "%sql\n",
    "INSERT INTO universidade VALUES\n",
    "(3, 'Loyola Chicago', 'MVC', 2018, 38, 32, 'Final Four');"
   ]
  },
  {
   "cell_type": "code",
   "execution_count": 0,
   "metadata": {
    "application/vnd.databricks.v1+cell": {
     "cellMetadata": {
      "byteLimit": 2048000,
      "implicitDf": true,
      "rowLimit": 10000
     },
     "inputWidgets": {},
     "nuid": "30dee1d4-08af-4f0b-ba24-2fe31377a761",
     "showTitle": false,
     "tableResultSettingsMap": {},
     "title": ""
    }
   },
   "outputs": [
    {
     "output_type": "display_data",
     "data": {
      "text/html": [
       "<style scoped>\n",
       "  .table-result-container {\n",
       "    max-height: 300px;\n",
       "    overflow: auto;\n",
       "  }\n",
       "  table, th, td {\n",
       "    border: 1px solid black;\n",
       "    border-collapse: collapse;\n",
       "  }\n",
       "  th, td {\n",
       "    padding: 5px;\n",
       "  }\n",
       "  th {\n",
       "    text-align: left;\n",
       "  }\n",
       "</style><div class='table-result-container'><table class='table-result'><thead style='background-color: white'><tr><th>num_affected_rows</th><th>num_inserted_rows</th></tr></thead><tbody><tr><td>14</td><td>14</td></tr></tbody></table></div>"
      ]
     },
     "metadata": {
      "application/vnd.databricks.v1+output": {
       "addedWidgets": {},
       "aggData": [],
       "aggError": "",
       "aggOverflow": false,
       "aggSchema": [],
       "aggSeriesLimitReached": false,
       "aggType": "",
       "arguments": {},
       "columnCustomDisplayInfos": {},
       "data": [
        [
         14,
         14
        ]
       ],
       "datasetInfos": [],
       "dbfsResultPath": null,
       "isJsonSchema": true,
       "metadata": {},
       "overflow": false,
       "plotOptions": {
        "customPlotOptions": {},
        "displayType": "table",
        "pivotAggregation": null,
        "pivotColumns": null,
        "xColumns": null,
        "yColumns": null
       },
       "removedWidgets": [],
       "schema": [
        {
         "metadata": "{}",
         "name": "num_affected_rows",
         "type": "\"long\""
        },
        {
         "metadata": "{}",
         "name": "num_inserted_rows",
         "type": "\"long\""
        }
       ],
       "type": "table"
      }
     },
     "output_type": "display_data"
    }
   ],
   "source": [
    "%sql\n",
    "INSERT INTO jogador VALUES\n",
    "(301, 301, 3, 'Clayton Custer', 22, 'G', 'Loyola Chicago'),\n",
    "(302, 302, 3, 'Marques Townes', 22, 'G', 'Loyola Chicago'),\n",
    "(303, 303, 3, 'Donte Ingram', 21, 'F', 'Loyola Chicago'),\n",
    "(304, 304, 3, 'Aundre Jackson', 23, 'F', 'Loyola Chicago'),\n",
    "(305, 305, 3, 'Cameron Krutwig', 19, 'C', 'Loyola Chicago'),\n",
    "(306, 306, 3, 'Ben Richardson', 22, 'G', 'Loyola Chicago'),\n",
    "(307, 307, 3, 'Lucas Williamson', 19, 'G', 'Loyola Chicago'),\n",
    "(308, 308, 3, 'Bruno Skokna', 20, 'G', 'Loyola Chicago'),\n",
    "(309, 309, 3, 'Cameron Satterwhite', 20, 'G', 'Loyola Chicago'),\n",
    "(310, 310, 3, 'Adarius Avery', 22, 'F', 'Loyola Chicago'),\n",
    "(311, 311, 3, 'Christian Negron', 18, 'F', 'Loyola Chicago'),\n",
    "(312, 312, 3, 'Carson Shanks', 23, 'C', 'Loyola Chicago'),\n",
    "(313, 313, 3, 'Jake Baughman', 20, 'F', 'Loyola Chicago'),\n",
    "(314, 314, 3, 'Nick DiNardi', 21, 'G', 'Loyola Chicago');\n"
   ]
  },
  {
   "cell_type": "code",
   "execution_count": 0,
   "metadata": {
    "application/vnd.databricks.v1+cell": {
     "cellMetadata": {
      "byteLimit": 2048000,
      "implicitDf": true,
      "rowLimit": 10000
     },
     "inputWidgets": {},
     "nuid": "199b3d65-b9cd-471b-b069-af0857b15e34",
     "showTitle": false,
     "tableResultSettingsMap": {},
     "title": ""
    }
   },
   "outputs": [
    {
     "output_type": "display_data",
     "data": {
      "text/html": [
       "<style scoped>\n",
       "  .table-result-container {\n",
       "    max-height: 300px;\n",
       "    overflow: auto;\n",
       "  }\n",
       "  table, th, td {\n",
       "    border: 1px solid black;\n",
       "    border-collapse: collapse;\n",
       "  }\n",
       "  th, td {\n",
       "    padding: 5px;\n",
       "  }\n",
       "  th {\n",
       "    text-align: left;\n",
       "  }\n",
       "</style><div class='table-result-container'><table class='table-result'><thead style='background-color: white'><tr><th>num_affected_rows</th><th>num_inserted_rows</th></tr></thead><tbody><tr><td>14</td><td>14</td></tr></tbody></table></div>"
      ]
     },
     "metadata": {
      "application/vnd.databricks.v1+output": {
       "addedWidgets": {},
       "aggData": [],
       "aggError": "",
       "aggOverflow": false,
       "aggSchema": [],
       "aggSeriesLimitReached": false,
       "aggType": "",
       "arguments": {},
       "columnCustomDisplayInfos": {},
       "data": [
        [
         14,
         14
        ]
       ],
       "datasetInfos": [],
       "dbfsResultPath": null,
       "isJsonSchema": true,
       "metadata": {},
       "overflow": false,
       "plotOptions": {
        "customPlotOptions": {},
        "displayType": "table",
        "pivotAggregation": null,
        "pivotColumns": null,
        "xColumns": null,
        "yColumns": null
       },
       "removedWidgets": [],
       "schema": [
        {
         "metadata": "{}",
         "name": "num_affected_rows",
         "type": "\"long\""
        },
        {
         "metadata": "{}",
         "name": "num_inserted_rows",
         "type": "\"long\""
        }
       ],
       "type": "table"
      }
     },
     "output_type": "display_data"
    }
   ],
   "source": [
    "%sql\n",
    "INSERT INTO rankings VALUES\n",
    "(301, 301, 3, 'Clayton Custer', 'Loyola Chicago', -1, -1, -1, -1),\n",
    "(302, 302, 3, 'Marques Townes', 'Loyola Chicago', -1, -1, -1, -1),\n",
    "(303, 303, 3, 'Donte Ingram', 'Loyola Chicago', -1, -1, -1, -1),\n",
    "(304, 304, 3, 'Aundre Jackson', 'Loyola Chicago', -1, -1, -1, -1),\n",
    "(305, 305, 3, 'Cameron Krutwig', 'Loyola Chicago', -1, -1, -1, -1),\n",
    "(306, 306, 3, 'Ben Richardson', 'Loyola Chicago', -1, -1, -1, -1),\n",
    "(307, 307, 3, 'Lucas Williamson', 'Loyola Chicago', -1, -1, -1, -1),\n",
    "(308, 308, 3, 'Bruno Skokna', 'Loyola Chicago', -1, -1, -1, -1),\n",
    "(309, 309, 3, 'Cameron Satterwhite', 'Loyola Chicago', -1, -1, -1, -1),\n",
    "(310, 310, 3, 'Adarius Avery', 'Loyola Chicago', -1, -1, -1, -1),\n",
    "(311, 311, 3, 'Christian Negron', 'Loyola Chicago', -1, -1, -1, -1),\n",
    "(312, 312, 3, 'Carson Shanks', 'Loyola Chicago', -1, -1, -1, -1),\n",
    "(313, 313, 3, 'Jake Baughman', 'Loyola Chicago', -1, -1, -1, -1),\n",
    "(314, 314, 3, 'Nick DiNardi', 'Loyola Chicago', -1, -1, -1, -1);\n"
   ]
  },
  {
   "cell_type": "code",
   "execution_count": 0,
   "metadata": {
    "application/vnd.databricks.v1+cell": {
     "cellMetadata": {
      "byteLimit": 2048000,
      "implicitDf": true,
      "rowLimit": 10000
     },
     "inputWidgets": {},
     "nuid": "0320d554-34be-4212-9507-93160f9978d6",
     "showTitle": false,
     "tableResultSettingsMap": {},
     "title": ""
    }
   },
   "outputs": [
    {
     "output_type": "display_data",
     "data": {
      "text/html": [
       "<style scoped>\n",
       "  .table-result-container {\n",
       "    max-height: 300px;\n",
       "    overflow: auto;\n",
       "  }\n",
       "  table, th, td {\n",
       "    border: 1px solid black;\n",
       "    border-collapse: collapse;\n",
       "  }\n",
       "  th, td {\n",
       "    padding: 5px;\n",
       "  }\n",
       "  th {\n",
       "    text-align: left;\n",
       "  }\n",
       "</style><div class='table-result-container'><table class='table-result'><thead style='background-color: white'><tr><th>num_affected_rows</th><th>num_inserted_rows</th></tr></thead><tbody><tr><td>8</td><td>8</td></tr></tbody></table></div>"
      ]
     },
     "metadata": {
      "application/vnd.databricks.v1+output": {
       "addedWidgets": {},
       "aggData": [],
       "aggError": "",
       "aggOverflow": false,
       "aggSchema": [],
       "aggSeriesLimitReached": false,
       "aggType": "",
       "arguments": {},
       "columnCustomDisplayInfos": {},
       "data": [
        [
         8,
         8
        ]
       ],
       "datasetInfos": [],
       "dbfsResultPath": null,
       "isJsonSchema": true,
       "metadata": {},
       "overflow": false,
       "plotOptions": {
        "customPlotOptions": {},
        "displayType": "table",
        "pivotAggregation": null,
        "pivotColumns": null,
        "xColumns": null,
        "yColumns": null
       },
       "removedWidgets": [],
       "schema": [
        {
         "metadata": "{}",
         "name": "num_affected_rows",
         "type": "\"long\""
        },
        {
         "metadata": "{}",
         "name": "num_inserted_rows",
         "type": "\"long\""
        }
       ],
       "type": "table"
      }
     },
     "output_type": "display_data"
    }
   ],
   "source": [
    "%sql\n",
    "INSERT INTO estatisticas VALUES\n",
    "(301, 301, 3, 'Clayton Custer', 'Loyola Chicago', 37, 13.2, 2.2, 4.1, 1.5, 0.1, 1.5, '52.8%', '45.1%', '76.3%'),\n",
    "(302, 302, 3, 'Marques Townes', 'Loyola Chicago', 38, 11.1, 2.6, 3.0, 1.0, 0.2, 1.7, '48.4%', '39.1%', '75.0%'),\n",
    "(303, 303, 3, 'Donte Ingram', 'Loyola Chicago', 38, 11.0, 6.4, 1.6, 0.9, 0.4, 1.4, '45.3%', '39.0%', '62.2%'),\n",
    "(304, 304, 3, 'Aundre Jackson', 'Loyola Chicago', 38, 11.0, 4.2, 0.9, 0.6, 0.4, 1.0, '61.7%', '41.2%', '73.5%'),\n",
    "(305, 305, 3, 'Cameron Krutwig', 'Loyola Chicago', 37, 10.5, 6.0, 1.8, 0.6, 0.6, 1.7, '59.1%', '0.0%', '63.8%'),\n",
    "(306, 306, 3, 'Ben Richardson', 'Loyola Chicago', 38, 6.9, 2.0, 2.9, 1.1, 0.2, 1.0, '42.4%', '36.2%', '66.0%'),\n",
    "(307, 307, 3, 'Lucas Williamson', 'Loyola Chicago', 35, 4.3, 1.8, 0.8, 0.7, 0.1, 0.9, '47.8%', '36.0%', '60.0%'),\n",
    "(308, 308, 3, 'Bruno Skokna', 'Loyola Chicago', 32, 2.9, 1.2, 0.6, 0.3, 0.0, 0.4, '42.0%', '30.0%', '70.0%');\n"
   ]
  },
  {
   "cell_type": "code",
   "execution_count": 0,
   "metadata": {
    "application/vnd.databricks.v1+cell": {
     "cellMetadata": {
      "byteLimit": 2048000,
      "implicitDf": true,
      "rowLimit": 10000
     },
     "inputWidgets": {},
     "nuid": "f80a2ce9-b218-4960-87e2-8e474f14fd90",
     "showTitle": false,
     "tableResultSettingsMap": {},
     "title": ""
    }
   },
   "outputs": [
    {
     "output_type": "display_data",
     "data": {
      "text/html": [
       "<style scoped>\n",
       "  .table-result-container {\n",
       "    max-height: 300px;\n",
       "    overflow: auto;\n",
       "  }\n",
       "  table, th, td {\n",
       "    border: 1px solid black;\n",
       "    border-collapse: collapse;\n",
       "  }\n",
       "  th, td {\n",
       "    padding: 5px;\n",
       "  }\n",
       "  th {\n",
       "    text-align: left;\n",
       "  }\n",
       "</style><div class='table-result-container'><table class='table-result'><thead style='background-color: white'><tr><th>num_affected_rows</th><th>num_inserted_rows</th></tr></thead><tbody><tr><td>7</td><td>7</td></tr></tbody></table></div>"
      ]
     },
     "metadata": {
      "application/vnd.databricks.v1+output": {
       "addedWidgets": {},
       "aggData": [],
       "aggError": "",
       "aggOverflow": false,
       "aggSchema": [],
       "aggSeriesLimitReached": false,
       "aggType": "",
       "arguments": {},
       "columnCustomDisplayInfos": {},
       "data": [
        [
         7,
         7
        ]
       ],
       "datasetInfos": [],
       "dbfsResultPath": null,
       "isJsonSchema": true,
       "metadata": {},
       "overflow": false,
       "plotOptions": {
        "customPlotOptions": {},
        "displayType": "table",
        "pivotAggregation": null,
        "pivotColumns": null,
        "xColumns": null,
        "yColumns": null
       },
       "removedWidgets": [],
       "schema": [
        {
         "metadata": "{}",
         "name": "num_affected_rows",
         "type": "\"long\""
        },
        {
         "metadata": "{}",
         "name": "num_inserted_rows",
         "type": "\"long\""
        }
       ],
       "type": "table"
      }
     },
     "output_type": "display_data"
    }
   ],
   "source": [
    "%sql\n",
    "INSERT INTO transicao_para_nba VALUES\n",
    "(301, 301, 3, 301, 'Clayton Custer', 'Loyola Chicago', 2014, NULL, 0, 0, 0),\n",
    "(302, 302, 3, 302, 'Marques Townes', 'Loyola Chicago', 2014, NULL, 0, 0, 0),\n",
    "(303, 303, 3, 303, 'Donte Ingram', 'Loyola Chicago', 2014, NULL, 0, 0, 0),\n",
    "(304, 304, 3, 304, 'Aundre Jackson', 'Loyola Chicago', 2014, NULL, 0, 0, 0),\n",
    "(305, 305, 3, 305, 'Cameron Krutwig', 'Loyola Chicago', 2017, NULL, 0, 0, 0),\n",
    "(306, 306, 3, 306, 'Ben Richardson', 'Loyola Chicago', 2014, NULL, 0, 0, 0),\n",
    "(307, 307, 3, 307, 'Lucas Williamson', 'Loyola Chicago', 2017, NULL, 0, 0, 0);\n"
   ]
  },
  {
   "cell_type": "markdown",
   "metadata": {
    "application/vnd.databricks.v1+cell": {
     "cellMetadata": {},
     "inputWidgets": {},
     "nuid": "25988d3e-f789-4404-aa1c-d63362e7fa15",
     "showTitle": false,
     "tableResultSettingsMap": {},
     "title": ""
    }
   },
   "source": [
    "### Time NEVADA"
   ]
  },
  {
   "cell_type": "code",
   "execution_count": 0,
   "metadata": {
    "application/vnd.databricks.v1+cell": {
     "cellMetadata": {
      "byteLimit": 2048000,
      "implicitDf": true,
      "rowLimit": 10000
     },
     "inputWidgets": {},
     "nuid": "8e2e0633-9eef-4269-9443-37b1884a9cd3",
     "showTitle": false,
     "tableResultSettingsMap": {},
     "title": ""
    }
   },
   "outputs": [
    {
     "output_type": "display_data",
     "data": {
      "text/html": [
       "<style scoped>\n",
       "  .table-result-container {\n",
       "    max-height: 300px;\n",
       "    overflow: auto;\n",
       "  }\n",
       "  table, th, td {\n",
       "    border: 1px solid black;\n",
       "    border-collapse: collapse;\n",
       "  }\n",
       "  th, td {\n",
       "    padding: 5px;\n",
       "  }\n",
       "  th {\n",
       "    text-align: left;\n",
       "  }\n",
       "</style><div class='table-result-container'><table class='table-result'><thead style='background-color: white'><tr><th>num_affected_rows</th><th>num_inserted_rows</th></tr></thead><tbody><tr><td>1</td><td>1</td></tr></tbody></table></div>"
      ]
     },
     "metadata": {
      "application/vnd.databricks.v1+output": {
       "addedWidgets": {},
       "aggData": [],
       "aggError": "",
       "aggOverflow": false,
       "aggSchema": [],
       "aggSeriesLimitReached": false,
       "aggType": "",
       "arguments": {},
       "columnCustomDisplayInfos": {},
       "data": [
        [
         1,
         1
        ]
       ],
       "datasetInfos": [],
       "dbfsResultPath": null,
       "isJsonSchema": true,
       "metadata": {},
       "overflow": false,
       "plotOptions": {
        "customPlotOptions": {},
        "displayType": "table",
        "pivotAggregation": null,
        "pivotColumns": null,
        "xColumns": null,
        "yColumns": null
       },
       "removedWidgets": [],
       "schema": [
        {
         "metadata": "{}",
         "name": "num_affected_rows",
         "type": "\"long\""
        },
        {
         "metadata": "{}",
         "name": "num_inserted_rows",
         "type": "\"long\""
        }
       ],
       "type": "table"
      }
     },
     "output_type": "display_data"
    }
   ],
   "source": [
    "%sql\n",
    "INSERT INTO universidade VALUES (\n",
    "  4,\n",
    "  'Nevada',\n",
    "  'Mountain West',\n",
    "  2018,\n",
    "  37,\n",
    "  29,\n",
    "  'Sweet 16'\n",
    ");\n"
   ]
  },
  {
   "cell_type": "code",
   "execution_count": 0,
   "metadata": {
    "application/vnd.databricks.v1+cell": {
     "cellMetadata": {
      "byteLimit": 2048000,
      "implicitDf": true,
      "rowLimit": 10000
     },
     "inputWidgets": {},
     "nuid": "a0833243-1ebc-4342-82cb-5c94a1802f59",
     "showTitle": false,
     "tableResultSettingsMap": {},
     "title": ""
    }
   },
   "outputs": [
    {
     "output_type": "display_data",
     "data": {
      "text/html": [
       "<style scoped>\n",
       "  .table-result-container {\n",
       "    max-height: 300px;\n",
       "    overflow: auto;\n",
       "  }\n",
       "  table, th, td {\n",
       "    border: 1px solid black;\n",
       "    border-collapse: collapse;\n",
       "  }\n",
       "  th, td {\n",
       "    padding: 5px;\n",
       "  }\n",
       "  th {\n",
       "    text-align: left;\n",
       "  }\n",
       "</style><div class='table-result-container'><table class='table-result'><thead style='background-color: white'><tr><th>num_affected_rows</th><th>num_inserted_rows</th></tr></thead><tbody><tr><td>14</td><td>14</td></tr></tbody></table></div>"
      ]
     },
     "metadata": {
      "application/vnd.databricks.v1+output": {
       "addedWidgets": {},
       "aggData": [],
       "aggError": "",
       "aggOverflow": false,
       "aggSchema": [],
       "aggSeriesLimitReached": false,
       "aggType": "",
       "arguments": {},
       "columnCustomDisplayInfos": {},
       "data": [
        [
         14,
         14
        ]
       ],
       "datasetInfos": [],
       "dbfsResultPath": null,
       "isJsonSchema": true,
       "metadata": {},
       "overflow": false,
       "plotOptions": {
        "customPlotOptions": {},
        "displayType": "table",
        "pivotAggregation": null,
        "pivotColumns": null,
        "xColumns": null,
        "yColumns": null
       },
       "removedWidgets": [],
       "schema": [
        {
         "metadata": "{}",
         "name": "num_affected_rows",
         "type": "\"long\""
        },
        {
         "metadata": "{}",
         "name": "num_inserted_rows",
         "type": "\"long\""
        }
       ],
       "type": "table"
      }
     },
     "output_type": "display_data"
    }
   ],
   "source": [
    "%sql\n",
    "INSERT INTO jogador VALUES\n",
    "(401, 401, 4, 'Caleb Martin', 22, 'F', 'Nevada'),\n",
    "(402, 402, 4, 'Jordan Caroline', 22, 'F', 'Nevada'),\n",
    "(403, 403, 4, 'Cody Martin', 22, 'F', 'Nevada'),\n",
    "(404, 404, 4, 'Kendall Stephens', 23, 'G', 'Nevada'),\n",
    "(405, 405, 4, 'Josh Hall', 20, 'G', 'Nevada'),\n",
    "(406, 406, 4, 'Lindsey Drew', 21, 'G', 'Nevada'),\n",
    "(407, 407, 4, 'Hallice Cooke', 23, 'G', 'Nevada'),\n",
    "(408, 408, 4, 'Elijah Foster', 22, 'F', 'Nevada'),\n",
    "(409, 409, 4, 'Darien Williams', 23, 'F', 'Nevada'),\n",
    "(410, 410, 4, 'Charlie Tooley', 20, 'G', 'Nevada'),\n",
    "(411, 411, 4, 'Justin Brent', 23, 'G', 'Nevada'),\n",
    "(412, 412, 4, 'David Cunningham', 21, 'G', 'Nevada'),\n",
    "(413, 413, 4, 'Elijah Cooks', 18, 'G', 'Nevada'),\n",
    "(414, 414, 4, 'John Jones', 18, 'G', 'Nevada');\n"
   ]
  },
  {
   "cell_type": "code",
   "execution_count": 0,
   "metadata": {
    "application/vnd.databricks.v1+cell": {
     "cellMetadata": {
      "byteLimit": 2048000,
      "implicitDf": true,
      "rowLimit": 10000
     },
     "inputWidgets": {},
     "nuid": "d4942e09-9aff-42ed-93c4-f578647f36cc",
     "showTitle": false,
     "tableResultSettingsMap": {},
     "title": ""
    }
   },
   "outputs": [
    {
     "output_type": "display_data",
     "data": {
      "text/html": [
       "<style scoped>\n",
       "  .table-result-container {\n",
       "    max-height: 300px;\n",
       "    overflow: auto;\n",
       "  }\n",
       "  table, th, td {\n",
       "    border: 1px solid black;\n",
       "    border-collapse: collapse;\n",
       "  }\n",
       "  th, td {\n",
       "    padding: 5px;\n",
       "  }\n",
       "  th {\n",
       "    text-align: left;\n",
       "  }\n",
       "</style><div class='table-result-container'><table class='table-result'><thead style='background-color: white'><tr><th>num_affected_rows</th><th>num_inserted_rows</th></tr></thead><tbody><tr><td>14</td><td>14</td></tr></tbody></table></div>"
      ]
     },
     "metadata": {
      "application/vnd.databricks.v1+output": {
       "addedWidgets": {},
       "aggData": [],
       "aggError": "",
       "aggOverflow": false,
       "aggSchema": [],
       "aggSeriesLimitReached": false,
       "aggType": "",
       "arguments": {},
       "columnCustomDisplayInfos": {},
       "data": [
        [
         14,
         14
        ]
       ],
       "datasetInfos": [],
       "dbfsResultPath": null,
       "isJsonSchema": true,
       "metadata": {},
       "overflow": false,
       "plotOptions": {
        "customPlotOptions": {},
        "displayType": "table",
        "pivotAggregation": null,
        "pivotColumns": null,
        "xColumns": null,
        "yColumns": null
       },
       "removedWidgets": [],
       "schema": [
        {
         "metadata": "{}",
         "name": "num_affected_rows",
         "type": "\"long\""
        },
        {
         "metadata": "{}",
         "name": "num_inserted_rows",
         "type": "\"long\""
        }
       ],
       "type": "table"
      }
     },
     "output_type": "display_data"
    }
   ],
   "source": [
    "%sql\n",
    "INSERT INTO rankings VALUES\n",
    "(401, 401, 4, 'Caleb Martin', 'Nevada', 62, -1, -1, -1),\n",
    "(402, 402, 4, 'Jordan Caroline', 'Nevada', -1, -1, -1, -1),\n",
    "(403, 403, 4, 'Cody Martin', 'Nevada', 70, -1, -1, -1),\n",
    "(404, 404, 4, 'Kendall Stephens', 'Nevada', 63, -1, -1, -1),\n",
    "(405, 405, 4, 'Josh Hall', 'Nevada', -1, -1, -1, -1),\n",
    "(406, 406, 4, 'Lindsey Drew', 'Nevada', -1, -1, -1, -1),\n",
    "(407, 407, 4, 'Hallice Cooke', 'Nevada', -1, -1, -1, -1),\n",
    "(408, 408, 4, 'Elijah Foster', 'Nevada', -1, -1, -1, -1),\n",
    "(409, 409, 4, 'Darien Williams', 'Nevada', -1, -1, -1, -1),\n",
    "(410, 410, 4, 'Charlie Tooley', 'Nevada', -1, -1, -1, -1),\n",
    "(411, 411, 4, 'Justin Brent', 'Nevada', -1, -1, -1, -1),\n",
    "(412, 412, 4, 'David Cunningham', 'Nevada', -1, -1, -1, -1),\n",
    "(413, 413, 4, 'Elijah Cooks', 'Nevada', -1, -1, -1, -1),\n",
    "(414, 414, 4, 'John Jones', 'Nevada', -1, -1, -1, -1);\n"
   ]
  },
  {
   "cell_type": "code",
   "execution_count": 0,
   "metadata": {
    "application/vnd.databricks.v1+cell": {
     "cellMetadata": {
      "byteLimit": 2048000,
      "implicitDf": true,
      "rowLimit": 10000
     },
     "inputWidgets": {},
     "nuid": "1be9befc-6e5e-4f3a-884a-0a4461bd23ae",
     "showTitle": false,
     "tableResultSettingsMap": {},
     "title": ""
    }
   },
   "outputs": [
    {
     "output_type": "display_data",
     "data": {
      "text/html": [
       "<style scoped>\n",
       "  .table-result-container {\n",
       "    max-height: 300px;\n",
       "    overflow: auto;\n",
       "  }\n",
       "  table, th, td {\n",
       "    border: 1px solid black;\n",
       "    border-collapse: collapse;\n",
       "  }\n",
       "  th, td {\n",
       "    padding: 5px;\n",
       "  }\n",
       "  th {\n",
       "    text-align: left;\n",
       "  }\n",
       "</style><div class='table-result-container'><table class='table-result'><thead style='background-color: white'><tr><th>num_affected_rows</th><th>num_inserted_rows</th></tr></thead><tbody><tr><td>14</td><td>14</td></tr></tbody></table></div>"
      ]
     },
     "metadata": {
      "application/vnd.databricks.v1+output": {
       "addedWidgets": {},
       "aggData": [],
       "aggError": "",
       "aggOverflow": false,
       "aggSchema": [],
       "aggSeriesLimitReached": false,
       "aggType": "",
       "arguments": {},
       "columnCustomDisplayInfos": {},
       "data": [
        [
         14,
         14
        ]
       ],
       "datasetInfos": [],
       "dbfsResultPath": null,
       "isJsonSchema": true,
       "metadata": {},
       "overflow": false,
       "plotOptions": {
        "customPlotOptions": {},
        "displayType": "table",
        "pivotAggregation": null,
        "pivotColumns": null,
        "xColumns": null,
        "yColumns": null
       },
       "removedWidgets": [],
       "schema": [
        {
         "metadata": "{}",
         "name": "num_affected_rows",
         "type": "\"long\""
        },
        {
         "metadata": "{}",
         "name": "num_inserted_rows",
         "type": "\"long\""
        }
       ],
       "type": "table"
      }
     },
     "output_type": "display_data"
    }
   ],
   "source": [
    "%sql\n",
    "INSERT INTO estatisticas VALUES\n",
    "(401, 401, 4, 'Caleb Martin', 'Nevada', 36, 18.9, 5.4, 2.6, 1.3, 0.6, 1.7, '45.4%', '40.3%', '74.9%'),\n",
    "(402, 402, 4, 'Jordan Caroline', 'Nevada', 37, 17.7, 8.6, 2.2, 0.7, 0.2, 1.9, '47.4%', '32.4%', '70.9%'),\n",
    "(403, 403, 4, 'Cody Martin', 'Nevada', 36, 14.0, 6.3, 4.7, 1.7, 1.5, 2.0, '51.6%', '29.4%', '70.1%'),\n",
    "(404, 404, 4, 'Kendall Stephens', 'Nevada', 37, 13.1, 2.1, 0.6, 0.5, 0.6, 0.8, '44.3%', '43.2%', '92.2%'),\n",
    "(405, 405, 4, 'Josh Hall', 'Nevada', 35, 6.9, 3.9, 1.4, 0.6, 0.4, 1.2, '50.3%', '30.0%', '71.7%'),\n",
    "(406, 406, 4, 'Lindsey Drew', 'Nevada', 27, 8.1, 4.1, 4.3, 1.0, 0.9, 1.3, '48.4%', '39.0%', '80.6%'),\n",
    "(407, 407, 4, 'Hallice Cooke', 'Nevada', 37, 4.7, 2.1, 1.5, 0.6, 0.1, 0.6, '43.4%', '47.8%', '81.8%'),\n",
    "(408, 408, 4, 'Elijah Foster', 'Nevada', 16, 1.7, 1.5, 0.3, 0.2, 0.1, 0.3, '26.3%', '0.0%', '72.7%'),\n",
    "(409, 409, 4, 'Darien Williams', 'Nevada', 3, 2.1, 1.7, 0.1, 0.0, 0.0, 0.0, '0.0%', '0.0%', '0.0%'),\n",
    "(410, 410, 4, 'Charlie Tooley', 'Nevada', 8, 0.5, 0.1, 0.0, 0.0, 0.0, 0.0, '0.0%', '0.0%', '0.0%'),\n",
    "(411, 411, 4, 'Justin Brent', 'Nevada', 2, 0.7, 0.0, 0.0, 0.0, 0.0, 0.0, '100.0%', '0.0%', '0.0%'),\n",
    "(412, 412, 4, 'David Cunningham', 'Nevada', 5, 0.4, 0.0, 0.0, 0.0, 0.0, 0.2, '50.0%', '0.0%', '0.0%'),\n",
    "(413, 413, 4, 'Elijah Cooks', 'Nevada', 4, 0.0, 0.3, 0.0, 0.0, 0.0, 0.0, '0.0%', '0.0%', '0.0%'),\n",
    "(414, 414, 4, 'John Jones', 'Nevada', 7, 0.0, 0.1, 0.0, 0.0, 0.0, 0.0, '0.0%', '0.0%', '0.0%');\n"
   ]
  },
  {
   "cell_type": "code",
   "execution_count": 0,
   "metadata": {
    "application/vnd.databricks.v1+cell": {
     "cellMetadata": {
      "byteLimit": 2048000,
      "implicitDf": true,
      "rowLimit": 10000
     },
     "inputWidgets": {},
     "nuid": "5fe94f9e-6b93-4c34-8937-c69b0570e2bb",
     "showTitle": false,
     "tableResultSettingsMap": {},
     "title": ""
    }
   },
   "outputs": [
    {
     "output_type": "display_data",
     "data": {
      "text/html": [
       "<style scoped>\n",
       "  .table-result-container {\n",
       "    max-height: 300px;\n",
       "    overflow: auto;\n",
       "  }\n",
       "  table, th, td {\n",
       "    border: 1px solid black;\n",
       "    border-collapse: collapse;\n",
       "  }\n",
       "  th, td {\n",
       "    padding: 5px;\n",
       "  }\n",
       "  th {\n",
       "    text-align: left;\n",
       "  }\n",
       "</style><div class='table-result-container'><table class='table-result'><thead style='background-color: white'><tr><th>num_affected_rows</th><th>num_inserted_rows</th></tr></thead><tbody><tr><td>14</td><td>14</td></tr></tbody></table></div>"
      ]
     },
     "metadata": {
      "application/vnd.databricks.v1+output": {
       "addedWidgets": {},
       "aggData": [],
       "aggError": "",
       "aggOverflow": false,
       "aggSchema": [],
       "aggSeriesLimitReached": false,
       "aggType": "",
       "arguments": {},
       "columnCustomDisplayInfos": {},
       "data": [
        [
         14,
         14
        ]
       ],
       "datasetInfos": [],
       "dbfsResultPath": null,
       "isJsonSchema": true,
       "metadata": {},
       "overflow": false,
       "plotOptions": {
        "customPlotOptions": {},
        "displayType": "table",
        "pivotAggregation": null,
        "pivotColumns": null,
        "xColumns": null,
        "yColumns": null
       },
       "removedWidgets": [],
       "schema": [
        {
         "metadata": "{}",
         "name": "num_affected_rows",
         "type": "\"long\""
        },
        {
         "metadata": "{}",
         "name": "num_inserted_rows",
         "type": "\"long\""
        }
       ],
       "type": "table"
      }
     },
     "output_type": "display_data"
    }
   ],
   "source": [
    "%sql\n",
    "INSERT INTO transicao_para_nba VALUES\n",
    "(401, 401, 4, 401, 'Caleb Martin', 'Nevada', 2017, 2019, 1, 6, 1),\n",
    "(402, 402, 4, 402, 'Jordan Caroline', 'Nevada', 2016, NULL, 0, 0, 0),\n",
    "(403, 403, 4, 403, 'Cody Martin', 'Nevada', 2017, 2019, 1, 6, 1),\n",
    "(404, 404, 4, 404, 'Kendall Stephens', 'Nevada', 2017, NULL, 0, 0, 0),\n",
    "(405, 405, 4, 405, 'Josh Hall', 'Nevada', 2017, NULL, 0, 0, 0),\n",
    "(406, 406, 4, 406, 'Lindsey Drew', 'Nevada', 2015, NULL, 0, 0, 0),\n",
    "(407, 407, 4, 407, 'Hallice Cooke', 'Nevada', 2017, NULL, 0, 0, 0),\n",
    "(408, 408, 4, 408, 'Elijah Foster', 'Nevada', 2014, NULL, 0, 0, 0),\n",
    "(409, 409, 4, 409, 'Darien Williams', 'Nevada', 2016, NULL, 0, 0, 0),\n",
    "(410, 410, 4, 410, 'Charlie Tooley', 'Nevada', 2016, NULL, 0, 0, 0),\n",
    "(411, 411, 4, 411, 'Justin Brent', 'Nevada', 2014, NULL, 0, 0, 0),\n",
    "(412, 412, 4, 412, 'David Cunningham', 'Nevada', 2017, NULL, 0, 0, 0),\n",
    "(413, 413, 4, 413, 'Elijah Cooks', 'Nevada', 2017, NULL, 0, 0, 0),\n",
    "(414, 414, 4, 414, 'John Jones', 'Nevada', 2017, NULL, 0, 0, 0);\n",
    " \n"
   ]
  },
  {
   "cell_type": "markdown",
   "metadata": {
    "application/vnd.databricks.v1+cell": {
     "cellMetadata": {},
     "inputWidgets": {},
     "nuid": "77947370-fcc2-4652-adcb-512a48cc3a31",
     "showTitle": false,
     "tableResultSettingsMap": {},
     "title": ""
    }
   },
   "source": [
    "### Time VILLANOVA"
   ]
  },
  {
   "cell_type": "code",
   "execution_count": 0,
   "metadata": {
    "application/vnd.databricks.v1+cell": {
     "cellMetadata": {
      "byteLimit": 2048000,
      "implicitDf": true,
      "rowLimit": 10000
     },
     "inputWidgets": {},
     "nuid": "ffd02a9c-3fc4-4d40-a077-a3b51af98132",
     "showTitle": false,
     "tableResultSettingsMap": {},
     "title": ""
    }
   },
   "outputs": [
    {
     "output_type": "display_data",
     "data": {
      "text/html": [
       "<style scoped>\n",
       "  .table-result-container {\n",
       "    max-height: 300px;\n",
       "    overflow: auto;\n",
       "  }\n",
       "  table, th, td {\n",
       "    border: 1px solid black;\n",
       "    border-collapse: collapse;\n",
       "  }\n",
       "  th, td {\n",
       "    padding: 5px;\n",
       "  }\n",
       "  th {\n",
       "    text-align: left;\n",
       "  }\n",
       "</style><div class='table-result-container'><table class='table-result'><thead style='background-color: white'><tr><th>num_affected_rows</th><th>num_inserted_rows</th></tr></thead><tbody><tr><td>1</td><td>1</td></tr></tbody></table></div>"
      ]
     },
     "metadata": {
      "application/vnd.databricks.v1+output": {
       "addedWidgets": {},
       "aggData": [],
       "aggError": "",
       "aggOverflow": false,
       "aggSchema": [],
       "aggSeriesLimitReached": false,
       "aggType": "",
       "arguments": {},
       "columnCustomDisplayInfos": {},
       "data": [
        [
         1,
         1
        ]
       ],
       "datasetInfos": [],
       "dbfsResultPath": null,
       "isJsonSchema": true,
       "metadata": {},
       "overflow": false,
       "plotOptions": {
        "customPlotOptions": {},
        "displayType": "table",
        "pivotAggregation": null,
        "pivotColumns": null,
        "xColumns": null,
        "yColumns": null
       },
       "removedWidgets": [],
       "schema": [
        {
         "metadata": "{}",
         "name": "num_affected_rows",
         "type": "\"long\""
        },
        {
         "metadata": "{}",
         "name": "num_inserted_rows",
         "type": "\"long\""
        }
       ],
       "type": "table"
      }
     },
     "output_type": "display_data"
    }
   ],
   "source": [
    "%sql\n",
    "INSERT INTO universidade VALUES (\n",
    "  6, 'Villanova', 'Big East', 2018, 40, 36, 'Campeão Nacional'\n",
    ");\n"
   ]
  },
  {
   "cell_type": "code",
   "execution_count": 0,
   "metadata": {
    "application/vnd.databricks.v1+cell": {
     "cellMetadata": {
      "byteLimit": 2048000,
      "implicitDf": true,
      "rowLimit": 10000
     },
     "inputWidgets": {},
     "nuid": "fc42b8c7-fba8-4cbb-bd9d-2c7afc1a21c8",
     "showTitle": false,
     "tableResultSettingsMap": {},
     "title": ""
    }
   },
   "outputs": [
    {
     "output_type": "display_data",
     "data": {
      "text/html": [
       "<style scoped>\n",
       "  .table-result-container {\n",
       "    max-height: 300px;\n",
       "    overflow: auto;\n",
       "  }\n",
       "  table, th, td {\n",
       "    border: 1px solid black;\n",
       "    border-collapse: collapse;\n",
       "  }\n",
       "  th, td {\n",
       "    padding: 5px;\n",
       "  }\n",
       "  th {\n",
       "    text-align: left;\n",
       "  }\n",
       "</style><div class='table-result-container'><table class='table-result'><thead style='background-color: white'><tr><th>num_affected_rows</th><th>num_inserted_rows</th></tr></thead><tbody><tr><td>14</td><td>14</td></tr></tbody></table></div>"
      ]
     },
     "metadata": {
      "application/vnd.databricks.v1+output": {
       "addedWidgets": {},
       "aggData": [],
       "aggError": "",
       "aggOverflow": false,
       "aggSchema": [],
       "aggSeriesLimitReached": false,
       "aggType": "",
       "arguments": {},
       "columnCustomDisplayInfos": {},
       "data": [
        [
         14,
         14
        ]
       ],
       "datasetInfos": [],
       "dbfsResultPath": null,
       "isJsonSchema": true,
       "metadata": {},
       "overflow": false,
       "plotOptions": {
        "customPlotOptions": {},
        "displayType": "table",
        "pivotAggregation": null,
        "pivotColumns": null,
        "xColumns": null,
        "yColumns": null
       },
       "removedWidgets": [],
       "schema": [
        {
         "metadata": "{}",
         "name": "num_affected_rows",
         "type": "\"long\""
        },
        {
         "metadata": "{}",
         "name": "num_inserted_rows",
         "type": "\"long\""
        }
       ],
       "type": "table"
      }
     },
     "output_type": "display_data"
    }
   ],
   "source": [
    "%sql\n",
    "INSERT INTO jogador VALUES\n",
    "(601, 601, 6, 'Jalen Brunson', 21, 'PG', 'Villanova'),\n",
    "(602, 602, 6, 'Mikal Bridges', 21, 'SF', 'Villanova'),\n",
    "(603, 603, 6, 'Donte DiVicenzo', 21, 'SG', 'Villanova'),\n",
    "(604, 604, 6, 'Omari Spellman', 20, 'PF', 'Villanova'),\n",
    "(605, 605, 6, 'Eric Paschall', 21, 'PF', 'Villanova'),\n",
    "(606, 606, 6, 'Phil Booth', 22, 'SG', 'Villanova'),\n",
    "(607, 607, 6, 'Collin Gillespie', 19, 'PG', 'Villanova'),\n",
    "(608, 608, 6, 'Dhamir Cosby-Roundtree', 19, 'C', 'Villanova'),\n",
    "(609, 609, 6, 'Jermaine Samuels', 18, 'SF', 'Villanova'),\n",
    "(610, 610, 6, 'Tim Delaney', 22, 'PF', 'Villanova'),\n",
    "(611, 611, 6, 'Denny Grace', 22, 'G', 'Villanova'),\n",
    "(612, 612, 6, 'Matt Kennedy', 22, 'G', 'Villanova'),\n",
    "(613, 613, 6, 'Tom Leibig', 22, 'G', 'Villanova'),\n",
    "(614, 614, 6, 'Peyton Heck', 22, 'G', 'Villanova');\n"
   ]
  },
  {
   "cell_type": "code",
   "execution_count": 0,
   "metadata": {
    "application/vnd.databricks.v1+cell": {
     "cellMetadata": {
      "byteLimit": 2048000,
      "implicitDf": true,
      "rowLimit": 10000
     },
     "inputWidgets": {},
     "nuid": "9d3f1bb0-033d-49f7-b093-c7b6f5821879",
     "showTitle": false,
     "tableResultSettingsMap": {},
     "title": ""
    }
   },
   "outputs": [
    {
     "output_type": "display_data",
     "data": {
      "text/html": [
       "<style scoped>\n",
       "  .table-result-container {\n",
       "    max-height: 300px;\n",
       "    overflow: auto;\n",
       "  }\n",
       "  table, th, td {\n",
       "    border: 1px solid black;\n",
       "    border-collapse: collapse;\n",
       "  }\n",
       "  th, td {\n",
       "    padding: 5px;\n",
       "  }\n",
       "  th {\n",
       "    text-align: left;\n",
       "  }\n",
       "</style><div class='table-result-container'><table class='table-result'><thead style='background-color: white'><tr><th>num_affected_rows</th><th>num_inserted_rows</th></tr></thead><tbody><tr><td>14</td><td>14</td></tr></tbody></table></div>"
      ]
     },
     "metadata": {
      "application/vnd.databricks.v1+output": {
       "addedWidgets": {},
       "aggData": [],
       "aggError": "",
       "aggOverflow": false,
       "aggSchema": [],
       "aggSeriesLimitReached": false,
       "aggType": "",
       "arguments": {},
       "columnCustomDisplayInfos": {},
       "data": [
        [
         14,
         14
        ]
       ],
       "datasetInfos": [],
       "dbfsResultPath": null,
       "isJsonSchema": true,
       "metadata": {},
       "overflow": false,
       "plotOptions": {
        "customPlotOptions": {},
        "displayType": "table",
        "pivotAggregation": null,
        "pivotColumns": null,
        "xColumns": null,
        "yColumns": null
       },
       "removedWidgets": [],
       "schema": [
        {
         "metadata": "{}",
         "name": "num_affected_rows",
         "type": "\"long\""
        },
        {
         "metadata": "{}",
         "name": "num_inserted_rows",
         "type": "\"long\""
        }
       ],
       "type": "table"
      }
     },
     "output_type": "display_data"
    }
   ],
   "source": [
    "%sql\n",
    "INSERT INTO rankings VALUES\n",
    "(601, 601, 6, 'Jalen Brunson', 'Villanova', 21, 22, 20, 21),\n",
    "(602, 602, 6, 'Mikal Bridges', 'Villanova', 82, 85, 78, 80),\n",
    "(603, 603, 6, 'Donte DiVicenzo', 'Villanova', 99, 101, 95, 98),\n",
    "(604, 604, 6, 'Omari Spellman', 'Villanova', 16, 18, 14, 15),\n",
    "(605, 605, 6, 'Eric Paschall', 'Villanova', 94, 92, 90, 91),\n",
    "(606, 606, 6, 'Phil Booth', 'Villanova', 76, 78, 75, 77),\n",
    "(607, 607, 6, 'Collin Gillespie', 'Villanova', 113, 110, 108, 111),\n",
    "(608, 608, 6, 'Dhamir Cosby-Roundtree', 'Villanova', 109, 107, 105, 106),\n",
    "(609, 609, 6, 'Jermaine Samuels', 'Villanova', 71, 70, 68, 69),\n",
    "(610, 610, 6, 'Tim Delaney', 'Villanova', 120, 118, 117, 119),\n",
    "(611, 611, 6, 'Denny Grace', 'Villanova', NULL, NULL, NULL, NULL),\n",
    "(612, 612, 6, 'Matt Kennedy', 'Villanova', NULL, NULL, NULL, NULL),\n",
    "(613, 613, 6, 'Tom Leibig', 'Villanova', NULL, NULL, NULL, NULL),\n",
    "(614, 614, 6, 'Peyton Heck', 'Villanova', NULL, NULL, NULL, NULL);\n"
   ]
  },
  {
   "cell_type": "code",
   "execution_count": 0,
   "metadata": {
    "application/vnd.databricks.v1+cell": {
     "cellMetadata": {
      "byteLimit": 2048000,
      "implicitDf": true,
      "rowLimit": 10000
     },
     "inputWidgets": {},
     "nuid": "430b5461-248e-4c47-966e-108f7d6857b5",
     "showTitle": false,
     "tableResultSettingsMap": {},
     "title": ""
    }
   },
   "outputs": [
    {
     "output_type": "display_data",
     "data": {
      "text/html": [
       "<style scoped>\n",
       "  .table-result-container {\n",
       "    max-height: 300px;\n",
       "    overflow: auto;\n",
       "  }\n",
       "  table, th, td {\n",
       "    border: 1px solid black;\n",
       "    border-collapse: collapse;\n",
       "  }\n",
       "  th, td {\n",
       "    padding: 5px;\n",
       "  }\n",
       "  th {\n",
       "    text-align: left;\n",
       "  }\n",
       "</style><div class='table-result-container'><table class='table-result'><thead style='background-color: white'><tr><th>num_affected_rows</th><th>num_inserted_rows</th></tr></thead><tbody><tr><td>11</td><td>11</td></tr></tbody></table></div>"
      ]
     },
     "metadata": {
      "application/vnd.databricks.v1+output": {
       "addedWidgets": {},
       "aggData": [],
       "aggError": "",
       "aggOverflow": false,
       "aggSchema": [],
       "aggSeriesLimitReached": false,
       "aggType": "",
       "arguments": {},
       "columnCustomDisplayInfos": {},
       "data": [
        [
         11,
         11
        ]
       ],
       "datasetInfos": [],
       "dbfsResultPath": null,
       "isJsonSchema": true,
       "metadata": {},
       "overflow": false,
       "plotOptions": {
        "customPlotOptions": {},
        "displayType": "table",
        "pivotAggregation": null,
        "pivotColumns": null,
        "xColumns": null,
        "yColumns": null
       },
       "removedWidgets": [],
       "schema": [
        {
         "metadata": "{}",
         "name": "num_affected_rows",
         "type": "\"long\""
        },
        {
         "metadata": "{}",
         "name": "num_inserted_rows",
         "type": "\"long\""
        }
       ],
       "type": "table"
      }
     },
     "output_type": "display_data"
    }
   ],
   "source": [
    "%sql\n",
    "INSERT INTO estatisticas VALUES\n",
    "(604, 604, 6, 'Omari Spellman', 'Villanova', 40, 10.9, 8.0, 1.5, 0.6, 1.5, 1.2, '47.6%', '43.3%', '70.0%'),\n",
    "(605, 605, 6, 'Eric Paschall', 'Villanova', 38, 10.6, 5.3, 2.2, 0.8, 0.7, 1.3, '51.0%', '35.6%', '74.0%'),\n",
    "(606, 606, 6, 'Phil Booth', 'Villanova', 28, 10.0, 2.2, 2.0, 0.8, 0.2, 1.1, '45.0%', '37.7%', '84.3%'),\n",
    "(607, 607, 6, 'Collin Gillespie', 'Villanova', 37, 4.3, 1.5, 1.1, 0.5, 0.1, 0.7, '45.0%', '39.4%', '80.0%'),\n",
    "(608, 608, 6, 'Dhamir Cosby-Roundtree', 'Villanova', 35, 3.1, 2.4, 0.2, 0.3, 0.5, 0.5, '72.4%', '0.0%', '50.0%'),\n",
    "(609, 609, 6, 'Jermaine Samuels', 'Villanova', 25, 1.1, 1.2, 0.3, 0.2, 0.1, 0.3, '38.9%', '14.3%', '66.7%'),\n",
    "(610, 610, 6, 'Tim Delaney', 'Villanova', 6, 0.5, 0.8, 0.1, 0.0, 0.0, 0.2, '25.0%', '0.0%', '100.0%'),\n",
    "(611, 611, 6, 'Denny Grace', 'Villanova', 4, 0.0, 0.0, 0.0, 0.0, 0.0, 0.0, '0.0%', '0.0%', '0.0%'),\n",
    "(612, 612, 6, 'Matt Kennedy', 'Villanova', 5, 0.0, 0.0, 0.0, 0.0, 0.0, 0.0, '0.0%', '0.0%', '0.0%'),\n",
    "(613, 613, 6, 'Tom Leibig', 'Villanova', 2, 0.0, 0.0, 0.0, 0.0, 0.0, 0.0, '0.0%', '0.0%', '0.0%'),\n",
    "(614, 614, 6, 'Peyton Heck', 'Villanova', 2, 0.0, 0.0, 0.0, 0.0, 0.0, 0.0, '0.0%', '0.0%', '0.0%');\n"
   ]
  },
  {
   "cell_type": "code",
   "execution_count": 0,
   "metadata": {
    "application/vnd.databricks.v1+cell": {
     "cellMetadata": {
      "byteLimit": 2048000,
      "implicitDf": true,
      "rowLimit": 10000
     },
     "inputWidgets": {},
     "nuid": "674b2ff5-ec7b-4669-82c0-ea15468274fe",
     "showTitle": false,
     "tableResultSettingsMap": {},
     "title": ""
    }
   },
   "outputs": [
    {
     "output_type": "display_data",
     "data": {
      "text/html": [
       "<style scoped>\n",
       "  .table-result-container {\n",
       "    max-height: 300px;\n",
       "    overflow: auto;\n",
       "  }\n",
       "  table, th, td {\n",
       "    border: 1px solid black;\n",
       "    border-collapse: collapse;\n",
       "  }\n",
       "  th, td {\n",
       "    padding: 5px;\n",
       "  }\n",
       "  th {\n",
       "    text-align: left;\n",
       "  }\n",
       "</style><div class='table-result-container'><table class='table-result'><thead style='background-color: white'><tr><th>num_affected_rows</th><th>num_inserted_rows</th></tr></thead><tbody><tr><td>8</td><td>8</td></tr></tbody></table></div>"
      ]
     },
     "metadata": {
      "application/vnd.databricks.v1+output": {
       "addedWidgets": {},
       "aggData": [],
       "aggError": "",
       "aggOverflow": false,
       "aggSchema": [],
       "aggSeriesLimitReached": false,
       "aggType": "",
       "arguments": {},
       "columnCustomDisplayInfos": {},
       "data": [
        [
         8,
         8
        ]
       ],
       "datasetInfos": [],
       "dbfsResultPath": null,
       "isJsonSchema": true,
       "metadata": {},
       "overflow": false,
       "plotOptions": {
        "customPlotOptions": {},
        "displayType": "table",
        "pivotAggregation": null,
        "pivotColumns": null,
        "xColumns": null,
        "yColumns": null
       },
       "removedWidgets": [],
       "schema": [
        {
         "metadata": "{}",
         "name": "num_affected_rows",
         "type": "\"long\""
        },
        {
         "metadata": "{}",
         "name": "num_inserted_rows",
         "type": "\"long\""
        }
       ],
       "type": "table"
      }
     },
     "output_type": "display_data"
    }
   ],
   "source": [
    "%sql\n",
    "INSERT INTO transicao_para_nba VALUES\n",
    "(607, 607, 6, 607, 'Collin Gillespie', 'Villanova', 2017, 2022, 1, 2, 1),\n",
    "(608, 608, 6, 608, 'Dhamir Cosby-Roundtree', 'Villanova', 2017, NULL, 0, 0, 0),\n",
    "(609, 609, 6, 609, 'Jermaine Samuels', 'Villanova', 2017, 2022, 1, 1, 1),\n",
    "(610, 610, 6, 610, 'Tim Delaney', 'Villanova', 2015, NULL, 0, 0, 0),\n",
    "(611, 611, 6, 611, 'Denny Grace', 'Villanova', 2014, NULL, 0, 0, 0),\n",
    "(612, 612, 6, 612, 'Matt Kennedy', 'Villanova', 2014, NULL, 0, 0, 0),\n",
    "(613, 613, 6, 613, 'Tom Leibig', 'Villanova', 2014, NULL, 0, 0, 0),\n",
    "(614, 614, 6, 614, 'Peyton Heck', 'Villanova', 2014, NULL, 0, 0, 0);\n"
   ]
  },
  {
   "cell_type": "markdown",
   "metadata": {
    "application/vnd.databricks.v1+cell": {
     "cellMetadata": {},
     "inputWidgets": {},
     "nuid": "14ee2d44-aee3-49e0-bde2-9aeb09d4998f",
     "showTitle": false,
     "tableResultSettingsMap": {},
     "title": ""
    }
   },
   "source": [
    "### Time WEST VIRGINIA\n"
   ]
  },
  {
   "cell_type": "code",
   "execution_count": 0,
   "metadata": {
    "application/vnd.databricks.v1+cell": {
     "cellMetadata": {
      "byteLimit": 2048000,
      "implicitDf": true,
      "rowLimit": 10000
     },
     "inputWidgets": {},
     "nuid": "6683dc72-07ce-463a-b395-0f7648d700f5",
     "showTitle": false,
     "tableResultSettingsMap": {},
     "title": ""
    }
   },
   "outputs": [
    {
     "output_type": "display_data",
     "data": {
      "text/html": [
       "<style scoped>\n",
       "  .table-result-container {\n",
       "    max-height: 300px;\n",
       "    overflow: auto;\n",
       "  }\n",
       "  table, th, td {\n",
       "    border: 1px solid black;\n",
       "    border-collapse: collapse;\n",
       "  }\n",
       "  th, td {\n",
       "    padding: 5px;\n",
       "  }\n",
       "  th {\n",
       "    text-align: left;\n",
       "  }\n",
       "</style><div class='table-result-container'><table class='table-result'><thead style='background-color: white'><tr><th>num_affected_rows</th><th>num_inserted_rows</th></tr></thead><tbody><tr><td>1</td><td>1</td></tr></tbody></table></div>"
      ]
     },
     "metadata": {
      "application/vnd.databricks.v1+output": {
       "addedWidgets": {},
       "aggData": [],
       "aggError": "",
       "aggOverflow": false,
       "aggSchema": [],
       "aggSeriesLimitReached": false,
       "aggType": "",
       "arguments": {},
       "columnCustomDisplayInfos": {},
       "data": [
        [
         1,
         1
        ]
       ],
       "datasetInfos": [],
       "dbfsResultPath": null,
       "isJsonSchema": true,
       "metadata": {},
       "overflow": false,
       "plotOptions": {
        "customPlotOptions": {},
        "displayType": "table",
        "pivotAggregation": null,
        "pivotColumns": null,
        "xColumns": null,
        "yColumns": null
       },
       "removedWidgets": [],
       "schema": [
        {
         "metadata": "{}",
         "name": "num_affected_rows",
         "type": "\"long\""
        },
        {
         "metadata": "{}",
         "name": "num_inserted_rows",
         "type": "\"long\""
        }
       ],
       "type": "table"
      }
     },
     "output_type": "display_data"
    }
   ],
   "source": [
    "%sql\n",
    "INSERT INTO universidade (id_universidade, nome, conferencia, ano, jogos, vitorias, pos_temporada)\n",
    "VALUES\n",
    "(7, 'West Virginia', 'Big 12', 2017, 34, 26, 'Sweet 16');\n"
   ]
  },
  {
   "cell_type": "code",
   "execution_count": 0,
   "metadata": {
    "application/vnd.databricks.v1+cell": {
     "cellMetadata": {
      "byteLimit": 2048000,
      "implicitDf": true,
      "rowLimit": 10000
     },
     "inputWidgets": {},
     "nuid": "56e2f83f-ded0-45db-ba30-8a480a2ab932",
     "showTitle": false,
     "tableResultSettingsMap": {},
     "title": ""
    }
   },
   "outputs": [
    {
     "output_type": "display_data",
     "data": {
      "text/html": [
       "<style scoped>\n",
       "  .table-result-container {\n",
       "    max-height: 300px;\n",
       "    overflow: auto;\n",
       "  }\n",
       "  table, th, td {\n",
       "    border: 1px solid black;\n",
       "    border-collapse: collapse;\n",
       "  }\n",
       "  th, td {\n",
       "    padding: 5px;\n",
       "  }\n",
       "  th {\n",
       "    text-align: left;\n",
       "  }\n",
       "</style><div class='table-result-container'><table class='table-result'><thead style='background-color: white'><tr><th>num_affected_rows</th><th>num_inserted_rows</th></tr></thead><tbody><tr><td>12</td><td>12</td></tr></tbody></table></div>"
      ]
     },
     "metadata": {
      "application/vnd.databricks.v1+output": {
       "addedWidgets": {},
       "aggData": [],
       "aggError": "",
       "aggOverflow": false,
       "aggSchema": [],
       "aggSeriesLimitReached": false,
       "aggType": "",
       "arguments": {},
       "columnCustomDisplayInfos": {},
       "data": [
        [
         12,
         12
        ]
       ],
       "datasetInfos": [],
       "dbfsResultPath": null,
       "isJsonSchema": true,
       "metadata": {},
       "overflow": false,
       "plotOptions": {
        "customPlotOptions": {},
        "displayType": "table",
        "pivotAggregation": null,
        "pivotColumns": null,
        "xColumns": null,
        "yColumns": null
       },
       "removedWidgets": [],
       "schema": [
        {
         "metadata": "{}",
         "name": "num_affected_rows",
         "type": "\"long\""
        },
        {
         "metadata": "{}",
         "name": "num_inserted_rows",
         "type": "\"long\""
        }
       ],
       "type": "table"
      }
     },
     "output_type": "display_data"
    }
   ],
   "source": [
    "%sql\n",
    "INSERT INTO jogador (id, rankings_id, universidade_id, nome, idade, posicao, universidade_nome)\n",
    "VALUES\n",
    "(1, 1, 1, 'Jevon Carter', 22, 'PG', 'West Virginia'),\n",
    "(2, 2, 1, 'Daxter Miles', 22, 'SG', 'West Virginia'),\n",
    "(3, 3, 1, 'Sagaba Konate', 20, 'C', 'West Virginia'),\n",
    "(4, 4, 1, 'Lamont West', 21, 'SF', 'West Virginia'),\n",
    "(5, 5, 1, 'James Bolden', 21, 'PG', 'West Virginia'),\n",
    "(6, 6, 1, 'Teddy Allen', 21, 'SG', 'West Virginia'),\n",
    "(7, 7, 1, 'Esa Ahmad', 22, 'SF', 'West Virginia'),\n",
    "(8, 8, 1, 'Wesley Harris', 21, 'SF', 'West Virginia'),\n",
    "(9, 9, 1, 'Chase Harler', 21, 'SG', 'West Virginia'),\n",
    "(10, 10, 1, 'Maciej Bender', 22, 'PF', 'West Virginia'),\n",
    "(11, 11, 1, 'Logan Routt', 22, 'C', 'West Virginia'),\n",
    "(12, 12, 1, 'D\\'Angelo Hunter', 21, 'SG', 'West Virginia');\n"
   ]
  },
  {
   "cell_type": "code",
   "execution_count": 0,
   "metadata": {
    "application/vnd.databricks.v1+cell": {
     "cellMetadata": {
      "byteLimit": 2048000,
      "implicitDf": true,
      "rowLimit": 10000
     },
     "inputWidgets": {},
     "nuid": "0c9bdf71-9200-488b-b9f4-472c8de465df",
     "showTitle": false,
     "tableResultSettingsMap": {},
     "title": ""
    }
   },
   "outputs": [
    {
     "output_type": "display_data",
     "data": {
      "text/html": [
       "<style scoped>\n",
       "  .table-result-container {\n",
       "    max-height: 300px;\n",
       "    overflow: auto;\n",
       "  }\n",
       "  table, th, td {\n",
       "    border: 1px solid black;\n",
       "    border-collapse: collapse;\n",
       "  }\n",
       "  th, td {\n",
       "    padding: 5px;\n",
       "  }\n",
       "  th {\n",
       "    text-align: left;\n",
       "  }\n",
       "</style><div class='table-result-container'><table class='table-result'><thead style='background-color: white'><tr><th>num_affected_rows</th><th>num_inserted_rows</th></tr></thead><tbody><tr><td>12</td><td>12</td></tr></tbody></table></div>"
      ]
     },
     "metadata": {
      "application/vnd.databricks.v1+output": {
       "addedWidgets": {},
       "aggData": [],
       "aggError": "",
       "aggOverflow": false,
       "aggSchema": [],
       "aggSeriesLimitReached": false,
       "aggType": "",
       "arguments": {},
       "columnCustomDisplayInfos": {},
       "data": [
        [
         12,
         12
        ]
       ],
       "datasetInfos": [],
       "dbfsResultPath": null,
       "isJsonSchema": true,
       "metadata": {},
       "overflow": false,
       "plotOptions": {
        "customPlotOptions": {},
        "displayType": "table",
        "pivotAggregation": null,
        "pivotColumns": null,
        "xColumns": null,
        "yColumns": null
       },
       "removedWidgets": [],
       "schema": [
        {
         "metadata": "{}",
         "name": "num_affected_rows",
         "type": "\"long\""
        },
        {
         "metadata": "{}",
         "name": "num_inserted_rows",
         "type": "\"long\""
        }
       ],
       "type": "table"
      }
     },
     "output_type": "display_data"
    }
   ],
   "source": [
    "%sql\n",
    "INSERT INTO rankings (rankings_id, id_jogador, id_universidade, nome_jogador, nome_universidade, rsci_rankings, espn_rankings, rivals_rankings, 247sports_rankings)\n",
    "VALUES\n",
    "(1, 1, 1, 'Jevon Carter', 'West Virginia', 17, 18, 20, 15),\n",
    "(2, 2, 1, 'Daxter Miles', 'West Virginia', 45, 47, 50, 42),\n",
    "(3, 3, 1, 'Sagaba Konate', 'West Virginia', 30, 32, 35, 33),\n",
    "(4, 4, 1, 'Lamont West', 'West Virginia', 75, 80, 82, 77),\n",
    "(5, 5, 1, 'James Bolden', 'West Virginia', 50, 53, 56, 58),\n",
    "(6, 6, 1, 'Teddy Allen', 'West Virginia', 70, 75, 72, 74),\n",
    "(7, 7, 1, 'Esa Ahmad', 'West Virginia', 40, 44, 45, 47),\n",
    "(8, 8, 1, 'Wesley Harris', 'West Virginia', 65, 69, 68, 63),\n",
    "(9, 9, 1, 'Chase Harler', 'West Virginia', 120, 125, 130, 122),\n",
    "(10, 10, 1, 'Maciej Bender', 'West Virginia', 50, 55, 57, 53),\n",
    "(11, 11, 1, 'Logan Routt', 'West Virginia', 100, 105, 110, 104),\n",
    "(12, 12, 1, 'D\\'Angelo Hunter', 'West Virginia', 110, 115, 120, 118);\n"
   ]
  },
  {
   "cell_type": "code",
   "execution_count": 0,
   "metadata": {
    "application/vnd.databricks.v1+cell": {
     "cellMetadata": {
      "byteLimit": 2048000,
      "implicitDf": true,
      "rowLimit": 10000
     },
     "inputWidgets": {},
     "nuid": "bdf6cac2-8291-4a8b-988a-51d53430b27b",
     "showTitle": false,
     "tableResultSettingsMap": {},
     "title": ""
    }
   },
   "outputs": [
    {
     "output_type": "display_data",
     "data": {
      "text/html": [
       "<style scoped>\n",
       "  .table-result-container {\n",
       "    max-height: 300px;\n",
       "    overflow: auto;\n",
       "  }\n",
       "  table, th, td {\n",
       "    border: 1px solid black;\n",
       "    border-collapse: collapse;\n",
       "  }\n",
       "  th, td {\n",
       "    padding: 5px;\n",
       "  }\n",
       "  th {\n",
       "    text-align: left;\n",
       "  }\n",
       "</style><div class='table-result-container'><table class='table-result'><thead style='background-color: white'><tr><th>num_affected_rows</th><th>num_inserted_rows</th></tr></thead><tbody><tr><td>12</td><td>12</td></tr></tbody></table></div>"
      ]
     },
     "metadata": {
      "application/vnd.databricks.v1+output": {
       "addedWidgets": {},
       "aggData": [],
       "aggError": "",
       "aggOverflow": false,
       "aggSchema": [],
       "aggSeriesLimitReached": false,
       "aggType": "",
       "arguments": {},
       "columnCustomDisplayInfos": {},
       "data": [
        [
         12,
         12
        ]
       ],
       "datasetInfos": [],
       "dbfsResultPath": null,
       "isJsonSchema": true,
       "metadata": {},
       "overflow": false,
       "plotOptions": {
        "customPlotOptions": {},
        "displayType": "table",
        "pivotAggregation": null,
        "pivotColumns": null,
        "xColumns": null,
        "yColumns": null
       },
       "removedWidgets": [],
       "schema": [
        {
         "metadata": "{}",
         "name": "num_affected_rows",
         "type": "\"long\""
        },
        {
         "metadata": "{}",
         "name": "num_inserted_rows",
         "type": "\"long\""
        }
       ],
       "type": "table"
      }
     },
     "output_type": "display_data"
    }
   ],
   "source": [
    "%sql\n",
    "INSERT INTO estatisticas (id_estatisticas, id_jogador, id_universidade, nome_jogador, nome_universidade, jogos_disputados, pontos_jogo, rebotes_jogo, assistencias_jogo, roubos_de_bola_jogo, tocos_jogo, turnovers_jogo, fg_percent, 3pt_percent, ft_percent)\n",
    "VALUES\n",
    "(1, 1, 1, 'Jevon Carter', 'West Virginia', 34, 16.5, 4.5, 6.3, 2.1, 0.5, 3.0, '44.0%', '37.0%', '81.0%'),\n",
    "(2, 2, 1, 'Daxter Miles', 'West Virginia', 34, 13.2, 3.0, 2.1, 1.5, 0.3, 2.0, '42.0%', '34.0%', '75.0%'),\n",
    "(3, 3, 1, 'Sagaba Konate', 'West Virginia', 34, 10.8, 7.0, 1.0, 0.5, 2.5, 1.5, '53.0%', '30.0%', '65.0%'),\n",
    "(4, 4, 1, 'Lamont West', 'West Virginia', 34, 9.5, 5.3, 1.6, 1.0, 1.0, 1.4, '46.0%', '32.0%', '78.0%'),\n",
    "(5, 5, 1, 'James Bolden', 'West Virginia', 33, 8.2, 2.3, 3.2, 0.9, 0.1, 1.8, '40.0%', '34.0%', '76.0%'),\n",
    "(6, 6, 1, 'Teddy Allen', 'West Virginia', 25, 12.0, 4.0, 1.5, 0.8, 0.4, 1.5, '45.0%', '29.0%', '77.0%'),\n",
    "(7, 7, 1, 'Esa Ahmad', 'West Virginia', 32, 11.0, 5.8, 2.0, 1.1, 0.6, 2.1, '40.0%', '30.0%', '79.0%'),\n",
    "(8, 8, 1, 'Wesley Harris', 'West Virginia', 30, 7.5, 4.2, 1.0, 0.7, 0.3, 1.3, '43.0%', '28.0%', '72.0%'),\n",
    "(9, 9, 1, 'Chase Harler', 'West Virginia', 25, 4.0, 1.5, 1.0, 0.5, 0.2, 0.8, '39.0%', '32.0%', '80.0%'),\n",
    "(10, 10, 1, 'Maciej Bender', 'West Virginia', 20, 6.0, 3.0, 0.5, 0.3, 1.0, 0.9, '49.0%', '33.0%', '71.0%'),\n",
    "(11, 11, 1, 'Logan Routt', 'West Virginia', 18, 2.0, 2.0, 0.5, 0.1, 1.2, 0.4, '50.0%', '25.0%', '60.0%'),\n",
    "(12, 12, 1, 'D\\'Angelo Hunter', 'West Virginia', 18, 5.0, 3.0, 0.5, 0.5, 0.2, 1.0, '42.0%', '31.0%', '70.0%');\n"
   ]
  },
  {
   "cell_type": "code",
   "execution_count": 0,
   "metadata": {
    "application/vnd.databricks.v1+cell": {
     "cellMetadata": {
      "byteLimit": 2048000,
      "implicitDf": true,
      "rowLimit": 10000
     },
     "inputWidgets": {},
     "nuid": "bb472328-9b6d-4bca-a576-37704ff54f60",
     "showTitle": false,
     "tableResultSettingsMap": {},
     "title": ""
    }
   },
   "outputs": [
    {
     "output_type": "display_data",
     "data": {
      "text/html": [
       "<style scoped>\n",
       "  .table-result-container {\n",
       "    max-height: 300px;\n",
       "    overflow: auto;\n",
       "  }\n",
       "  table, th, td {\n",
       "    border: 1px solid black;\n",
       "    border-collapse: collapse;\n",
       "  }\n",
       "  th, td {\n",
       "    padding: 5px;\n",
       "  }\n",
       "  th {\n",
       "    text-align: left;\n",
       "  }\n",
       "</style><div class='table-result-container'><table class='table-result'><thead style='background-color: white'><tr><th>num_affected_rows</th><th>num_inserted_rows</th></tr></thead><tbody><tr><td>12</td><td>12</td></tr></tbody></table></div>"
      ]
     },
     "metadata": {
      "application/vnd.databricks.v1+output": {
       "addedWidgets": {},
       "aggData": [],
       "aggError": "",
       "aggOverflow": false,
       "aggSchema": [],
       "aggSeriesLimitReached": false,
       "aggType": "",
       "arguments": {},
       "columnCustomDisplayInfos": {},
       "data": [
        [
         12,
         12
        ]
       ],
       "datasetInfos": [],
       "dbfsResultPath": null,
       "isJsonSchema": true,
       "metadata": {},
       "overflow": false,
       "plotOptions": {
        "customPlotOptions": {},
        "displayType": "table",
        "pivotAggregation": null,
        "pivotColumns": null,
        "xColumns": null,
        "yColumns": null
       },
       "removedWidgets": [],
       "schema": [
        {
         "metadata": "{}",
         "name": "num_affected_rows",
         "type": "\"long\""
        },
        {
         "metadata": "{}",
         "name": "num_inserted_rows",
         "type": "\"long\""
        }
       ],
       "type": "table"
      }
     },
     "output_type": "display_data"
    }
   ],
   "source": [
    "%sql\n",
    "INSERT INTO transicao_para_nba (id_transicao, id_jogador, id_universidade, id_estatisticas, nome_jogador, nome_universidade, ano_entrada_ncaa, ano_entrada_nba, entrou_nba, anos_jogados_nba, ainda_ativo)\n",
    "VALUES\n",
    "(1, 1, 1, 1, 'Jevon Carter', 'West Virginia', 2015, 2018, 1, 5, 1),\n",
    "(2, 2, 1, 2, 'Daxter Miles', 'West Virginia', 2014, 2018, 0, 0, 1),\n",
    "(3, 3, 1, 3, 'Sagaba Konate', 'West Virginia', 2016, 2019, 1, 3, 1),\n",
    "(4, 4, 1, 4, 'Lamont West', 'West Virginia', 2015, 2018, 0, 0, 1),\n",
    "(5, 5, 1, 5, 'James Bolden', 'West Virginia', 2015, 2019, 0, 0, 1),\n",
    "(6, 6, 1, 6, 'Teddy Allen', 'West Virginia', 2017, 2019, 0, 0, 1),\n",
    "(7, 7, 1, 7, 'Esa Ahmad', 'West Virginia', 2014, 2018, 0, 0, 1),\n",
    "(8, 8, 1, 8, 'Wesley Harris', 'West Virginia', 2015, 2018, 0, 0, 1),\n",
    "(9, 9, 1, 9, 'Chase Harler', 'West Virginia', 2015, 2018, 0, 0, 1),\n",
    "(10, 10, 1, 10, 'Maciej Bender', 'West Virginia', 2016, 2019, 0, 0, 1),\n",
    "(11, 11, 1, 11, 'Logan Routt', 'West Virginia', 2015, 2018, 0, 0, 1),\n",
    "(12, 12, 1, 12, 'D\\'Angelo Hunter', 'West Virginia', 2015, 2018, 0, 0, 1);\n"
   ]
  },
  {
   "cell_type": "markdown",
   "metadata": {
    "application/vnd.databricks.v1+cell": {
     "cellMetadata": {},
     "inputWidgets": {},
     "nuid": "69f0115a-345e-44f8-8ece-39f023cba758",
     "showTitle": false,
     "tableResultSettingsMap": {},
     "title": ""
    }
   },
   "source": [
    "### Time TEXAS TECH"
   ]
  },
  {
   "cell_type": "code",
   "execution_count": 0,
   "metadata": {
    "application/vnd.databricks.v1+cell": {
     "cellMetadata": {
      "byteLimit": 2048000,
      "implicitDf": true,
      "rowLimit": 10000
     },
     "inputWidgets": {},
     "nuid": "034bc749-d542-45fd-8f91-15de78b812fe",
     "showTitle": false,
     "tableResultSettingsMap": {},
     "title": ""
    }
   },
   "outputs": [
    {
     "output_type": "display_data",
     "data": {
      "text/html": [
       "<style scoped>\n",
       "  .table-result-container {\n",
       "    max-height: 300px;\n",
       "    overflow: auto;\n",
       "  }\n",
       "  table, th, td {\n",
       "    border: 1px solid black;\n",
       "    border-collapse: collapse;\n",
       "  }\n",
       "  th, td {\n",
       "    padding: 5px;\n",
       "  }\n",
       "  th {\n",
       "    text-align: left;\n",
       "  }\n",
       "</style><div class='table-result-container'><table class='table-result'><thead style='background-color: white'><tr><th>num_affected_rows</th><th>num_inserted_rows</th></tr></thead><tbody><tr><td>1</td><td>1</td></tr></tbody></table></div>"
      ]
     },
     "metadata": {
      "application/vnd.databricks.v1+output": {
       "addedWidgets": {},
       "aggData": [],
       "aggError": "",
       "aggOverflow": false,
       "aggSchema": [],
       "aggSeriesLimitReached": false,
       "aggType": "",
       "arguments": {},
       "columnCustomDisplayInfos": {},
       "data": [
        [
         1,
         1
        ]
       ],
       "datasetInfos": [],
       "dbfsResultPath": null,
       "isJsonSchema": true,
       "metadata": {},
       "overflow": false,
       "plotOptions": {
        "customPlotOptions": {},
        "displayType": "table",
        "pivotAggregation": null,
        "pivotColumns": null,
        "xColumns": null,
        "yColumns": null
       },
       "removedWidgets": [],
       "schema": [
        {
         "metadata": "{}",
         "name": "num_affected_rows",
         "type": "\"long\""
        },
        {
         "metadata": "{}",
         "name": "num_inserted_rows",
         "type": "\"long\""
        }
       ],
       "type": "table"
      }
     },
     "output_type": "display_data"
    }
   ],
   "source": [
    "%sql\n",
    "INSERT INTO universidade (id_universidade, nome, conferencia, ano, jogos, vitorias, pos_temporada)\n",
    "VALUES\n",
    "(8, 'Texas Tech', 'Big 12', 2017, 38, 26, 'Elite 8');\n"
   ]
  },
  {
   "cell_type": "code",
   "execution_count": 0,
   "metadata": {
    "application/vnd.databricks.v1+cell": {
     "cellMetadata": {
      "byteLimit": 2048000,
      "implicitDf": true,
      "rowLimit": 10000
     },
     "inputWidgets": {},
     "nuid": "4860440d-66e0-4317-8ef1-61ef23f44b6e",
     "showTitle": false,
     "tableResultSettingsMap": {},
     "title": ""
    }
   },
   "outputs": [
    {
     "output_type": "display_data",
     "data": {
      "text/html": [
       "<style scoped>\n",
       "  .table-result-container {\n",
       "    max-height: 300px;\n",
       "    overflow: auto;\n",
       "  }\n",
       "  table, th, td {\n",
       "    border: 1px solid black;\n",
       "    border-collapse: collapse;\n",
       "  }\n",
       "  th, td {\n",
       "    padding: 5px;\n",
       "  }\n",
       "  th {\n",
       "    text-align: left;\n",
       "  }\n",
       "</style><div class='table-result-container'><table class='table-result'><thead style='background-color: white'><tr><th>num_affected_rows</th><th>num_inserted_rows</th></tr></thead><tbody><tr><td>14</td><td>14</td></tr></tbody></table></div>"
      ]
     },
     "metadata": {
      "application/vnd.databricks.v1+output": {
       "addedWidgets": {},
       "aggData": [],
       "aggError": "",
       "aggOverflow": false,
       "aggSchema": [],
       "aggSeriesLimitReached": false,
       "aggType": "",
       "arguments": {},
       "columnCustomDisplayInfos": {},
       "data": [
        [
         14,
         14
        ]
       ],
       "datasetInfos": [],
       "dbfsResultPath": null,
       "isJsonSchema": true,
       "metadata": {},
       "overflow": false,
       "plotOptions": {
        "customPlotOptions": {},
        "displayType": "table",
        "pivotAggregation": null,
        "pivotColumns": null,
        "xColumns": null,
        "yColumns": null
       },
       "removedWidgets": [],
       "schema": [
        {
         "metadata": "{}",
         "name": "num_affected_rows",
         "type": "\"long\""
        },
        {
         "metadata": "{}",
         "name": "num_inserted_rows",
         "type": "\"long\""
        }
       ],
       "type": "table"
      }
     },
     "output_type": "display_data"
    }
   ],
   "source": [
    "%sql\n",
    "INSERT INTO jogador (id, rankings_id, universidade_id, nome, idade, posicao, universidade_nome)\n",
    "VALUES\n",
    "(1, 1, 2, 'Keenan Evans', 22, 'PG', 'Texas Tech'),\n",
    "(2, 2, 2, 'Zhaire Smith', 19, 'SG', 'Texas Tech'),\n",
    "(3, 3, 2, 'Jarrett Culver', 19, 'SG', 'Texas Tech'),\n",
    "(4, 4, 2, 'Niem Stevenson', 22, 'SG', 'Texas Tech'),\n",
    "(5, 5, 2, 'Tommy Hamilton', 22, 'PF', 'Texas Tech'),\n",
    "(6, 6, 2, 'Brandone Francis', 23, 'SG', 'Texas Tech'),\n",
    "(7, 7, 2, 'Justin Gray', 22, 'PG', 'Texas Tech'),\n",
    "(8, 8, 2, 'Zach Smith', 23, 'PF', 'Texas Tech'),\n",
    "(9, 9, 2, 'Norense Odiase', 22, 'C', 'Texas Tech'),\n",
    "(10, 10, 2, 'Davide Moretti', 20, 'PG', 'Texas Tech'),\n",
    "(11, 11, 2, 'Malik Ondigo', 22, 'PF', 'Texas Tech'),\n",
    "(12, 12, 2, 'Josh Webster', 22, 'PG', 'Texas Tech'),\n",
    "(13, 13, 2, 'Parker Hicks', 21, 'SF', 'Texas Tech'),\n",
    "(14, 14, 2, 'Andrew Sorrells', 22, 'SF', 'Texas Tech');\n"
   ]
  },
  {
   "cell_type": "code",
   "execution_count": 0,
   "metadata": {
    "application/vnd.databricks.v1+cell": {
     "cellMetadata": {
      "byteLimit": 2048000,
      "implicitDf": true,
      "rowLimit": 10000
     },
     "inputWidgets": {},
     "nuid": "cc0a42ad-a2fc-4c95-955b-c0184775cc94",
     "showTitle": false,
     "tableResultSettingsMap": {},
     "title": ""
    }
   },
   "outputs": [
    {
     "output_type": "display_data",
     "data": {
      "text/html": [
       "<style scoped>\n",
       "  .table-result-container {\n",
       "    max-height: 300px;\n",
       "    overflow: auto;\n",
       "  }\n",
       "  table, th, td {\n",
       "    border: 1px solid black;\n",
       "    border-collapse: collapse;\n",
       "  }\n",
       "  th, td {\n",
       "    padding: 5px;\n",
       "  }\n",
       "  th {\n",
       "    text-align: left;\n",
       "  }\n",
       "</style><div class='table-result-container'><table class='table-result'><thead style='background-color: white'><tr><th>num_affected_rows</th><th>num_inserted_rows</th></tr></thead><tbody><tr><td>14</td><td>14</td></tr></tbody></table></div>"
      ]
     },
     "metadata": {
      "application/vnd.databricks.v1+output": {
       "addedWidgets": {},
       "aggData": [],
       "aggError": "",
       "aggOverflow": false,
       "aggSchema": [],
       "aggSeriesLimitReached": false,
       "aggType": "",
       "arguments": {},
       "columnCustomDisplayInfos": {},
       "data": [
        [
         14,
         14
        ]
       ],
       "datasetInfos": [],
       "dbfsResultPath": null,
       "isJsonSchema": true,
       "metadata": {},
       "overflow": false,
       "plotOptions": {
        "customPlotOptions": {},
        "displayType": "table",
        "pivotAggregation": null,
        "pivotColumns": null,
        "xColumns": null,
        "yColumns": null
       },
       "removedWidgets": [],
       "schema": [
        {
         "metadata": "{}",
         "name": "num_affected_rows",
         "type": "\"long\""
        },
        {
         "metadata": "{}",
         "name": "num_inserted_rows",
         "type": "\"long\""
        }
       ],
       "type": "table"
      }
     },
     "output_type": "display_data"
    }
   ],
   "source": [
    "%sql\n",
    "INSERT INTO rankings (rankings_id, id_jogador, id_universidade, nome_jogador, nome_universidade, rsci_rankings, espn_rankings, rivals_rankings, 247sports_rankings)\n",
    "VALUES\n",
    "(1, 1, 2, 'Keenan Evans', 'Texas Tech', 25, 30, 32, 35),\n",
    "(2, 2, 2, 'Zhaire Smith', 'Texas Tech', 20, 18, 22, 21),\n",
    "(3, 3, 2, 'Jarrett Culver', 'Texas Tech', 12, 14, 16, 18),\n",
    "(4, 4, 2, 'Niem Stevenson', 'Texas Tech', 65, 70, 72, 67),\n",
    "(5, 5, 2, 'Tommy Hamilton', 'Texas Tech', 100, 105, 110, 108),\n",
    "(6, 6, 2, 'Brandone Francis', 'Texas Tech', 45, 48, 50, 46),\n",
    "(7, 7, 2, 'Justin Gray', 'Texas Tech', 80, 85, 87, 83),\n",
    "(8, 8, 2, 'Zach Smith', 'Texas Tech', 55, 60, 63, 58),\n",
    "(9, 9, 2, 'Norense Odiase', 'Texas Tech', 90, 95, 97, 93),\n",
    "(10, 10, 2, 'Davide Moretti', 'Texas Tech', 50, 52, 55, 53),\n",
    "(11, 11, 2, 'Malik Ondigo', 'Texas Tech', 70, 75, 78, 73),\n",
    "(12, 12, 2, 'Josh Webster', 'Texas Tech', 110, 115, 120, 118),\n",
    "(13, 13, 2, 'Parker Hicks', 'Texas Tech', 85, 88, 90, 87),\n",
    "(14, 14, 2, 'Andrew Sorrells', 'Texas Tech', 120, 125, 130, 122);\n"
   ]
  },
  {
   "cell_type": "code",
   "execution_count": 0,
   "metadata": {
    "application/vnd.databricks.v1+cell": {
     "cellMetadata": {
      "byteLimit": 2048000,
      "implicitDf": true,
      "rowLimit": 10000
     },
     "inputWidgets": {},
     "nuid": "2001ae06-b287-4dbf-acc7-d0b0e824c227",
     "showTitle": false,
     "tableResultSettingsMap": {},
     "title": ""
    }
   },
   "outputs": [
    {
     "output_type": "display_data",
     "data": {
      "text/html": [
       "<style scoped>\n",
       "  .table-result-container {\n",
       "    max-height: 300px;\n",
       "    overflow: auto;\n",
       "  }\n",
       "  table, th, td {\n",
       "    border: 1px solid black;\n",
       "    border-collapse: collapse;\n",
       "  }\n",
       "  th, td {\n",
       "    padding: 5px;\n",
       "  }\n",
       "  th {\n",
       "    text-align: left;\n",
       "  }\n",
       "</style><div class='table-result-container'><table class='table-result'><thead style='background-color: white'><tr><th>num_affected_rows</th><th>num_inserted_rows</th></tr></thead><tbody><tr><td>14</td><td>14</td></tr></tbody></table></div>"
      ]
     },
     "metadata": {
      "application/vnd.databricks.v1+output": {
       "addedWidgets": {},
       "aggData": [],
       "aggError": "",
       "aggOverflow": false,
       "aggSchema": [],
       "aggSeriesLimitReached": false,
       "aggType": "",
       "arguments": {},
       "columnCustomDisplayInfos": {},
       "data": [
        [
         14,
         14
        ]
       ],
       "datasetInfos": [],
       "dbfsResultPath": null,
       "isJsonSchema": true,
       "metadata": {},
       "overflow": false,
       "plotOptions": {
        "customPlotOptions": {},
        "displayType": "table",
        "pivotAggregation": null,
        "pivotColumns": null,
        "xColumns": null,
        "yColumns": null
       },
       "removedWidgets": [],
       "schema": [
        {
         "metadata": "{}",
         "name": "num_affected_rows",
         "type": "\"long\""
        },
        {
         "metadata": "{}",
         "name": "num_inserted_rows",
         "type": "\"long\""
        }
       ],
       "type": "table"
      }
     },
     "output_type": "display_data"
    }
   ],
   "source": [
    "%sql\n",
    "INSERT INTO estatisticas (id_estatisticas, id_jogador, id_universidade, nome_jogador, nome_universidade, jogos_disputados, pontos_jogo, rebotes_jogo, assistencias_jogo, roubos_de_bola_jogo, tocos_jogo, turnovers_jogo, fg_percent, 3pt_percent, ft_percent)\n",
    "VALUES\n",
    "(1, 1, 2, 'Keenan Evans', 'Texas Tech', 38, 17.5, 3.0, 4.5, 1.3, 0.5, 2.1, '44.0%', '38.0%', '80.0%'),\n",
    "(2, 2, 2, 'Zhaire Smith', 'Texas Tech', 38, 12.5, 5.0, 1.8, 1.2, 0.6, 1.4, '47.0%', '40.0%', '72.0%'),\n",
    "(3, 3, 2, 'Jarrett Culver', 'Texas Tech', 38, 14.2, 5.5, 3.0, 1.5, 0.7, 2.5, '45.0%', '34.0%', '78.0%'),\n",
    "(4, 4, 2, 'Niem Stevenson', 'Texas Tech', 38, 8.3, 3.1, 1.0, 0.5, 0.3, 1.9, '42.0%', '35.0%', '77.0%'),\n",
    "(5, 5, 2, 'Tommy Hamilton', 'Texas Tech', 38, 6.0, 4.0, 1.2, 0.8, 1.0, 1.2, '48.0%', '33.0%', '70.0%'),\n",
    "(6, 6, 2, 'Brandone Francis', 'Texas Tech', 32, 7.5, 2.5, 1.2, 0.9, 0.4, 1.8, '44.0%', '31.0%', '75.0%'),\n",
    "(7, 7, 2, 'Justin Gray', 'Texas Tech', 30, 5.2, 2.0, 3.0, 1.0, 0.2, 1.3, '40.0%', '35.0%', '73.0%'),\n",
    "(8, 8, 2, 'Zach Smith', 'Texas Tech', 38, 9.2, 6.3, 1.1, 0.5, 2.3, 1.0, '49.0%', '28.0%', '75.0%'),\n",
    "(9, 9, 2, 'Norense Odiase', 'Texas Tech', 38, 7.0, 6.0, 0.8, 0.4, 1.5, 1.0, '53.0%', '0.0%', '60.0%'),\n",
    "(10, 10, 2, 'Davide Moretti', 'Texas Tech', 38, 9.8, 2.2, 4.0, 1.0, 0.1, 1.7, '41.0%', '35.0%', '80.0%'),\n",
    "(11, 11, 2, 'Malik Ondigo', 'Texas Tech', 30, 3.5, 4.2, 0.4, 0.2, 1.0, 1.2, '47.0%', '25.0%', '65.0%'),\n",
    "(12, 12, 2, 'Josh Webster', 'Texas Tech', 25, 4.0, 1.5, 1.2, 0.6, 0.3, 1.5, '39.0%', '30.0%', '74.0%'),\n",
    "(13, 13, 2, 'Parker Hicks', 'Texas Tech', 20, 6.3, 3.0, 0.8, 0.7, 0.4, 1.6, '42.0%', '38.0%', '72.0%'),\n",
    "(14, 14, 2, 'Andrew Sorrells', 'Texas Tech', 18, 5.0, 2.5, 0.5, 0.3, 0.3, 1.1, '40.0%', '30.0%', '68.0%');\n"
   ]
  },
  {
   "cell_type": "code",
   "execution_count": 0,
   "metadata": {
    "application/vnd.databricks.v1+cell": {
     "cellMetadata": {
      "byteLimit": 2048000,
      "implicitDf": true,
      "rowLimit": 10000
     },
     "inputWidgets": {},
     "nuid": "218ea2d7-9d7d-4605-b5f6-6d536c8384d5",
     "showTitle": false,
     "tableResultSettingsMap": {},
     "title": ""
    }
   },
   "outputs": [
    {
     "output_type": "display_data",
     "data": {
      "text/html": [
       "<style scoped>\n",
       "  .table-result-container {\n",
       "    max-height: 300px;\n",
       "    overflow: auto;\n",
       "  }\n",
       "  table, th, td {\n",
       "    border: 1px solid black;\n",
       "    border-collapse: collapse;\n",
       "  }\n",
       "  th, td {\n",
       "    padding: 5px;\n",
       "  }\n",
       "  th {\n",
       "    text-align: left;\n",
       "  }\n",
       "</style><div class='table-result-container'><table class='table-result'><thead style='background-color: white'><tr><th>num_affected_rows</th><th>num_inserted_rows</th></tr></thead><tbody><tr><td>14</td><td>14</td></tr></tbody></table></div>"
      ]
     },
     "metadata": {
      "application/vnd.databricks.v1+output": {
       "addedWidgets": {},
       "aggData": [],
       "aggError": "",
       "aggOverflow": false,
       "aggSchema": [],
       "aggSeriesLimitReached": false,
       "aggType": "",
       "arguments": {},
       "columnCustomDisplayInfos": {},
       "data": [
        [
         14,
         14
        ]
       ],
       "datasetInfos": [],
       "dbfsResultPath": null,
       "isJsonSchema": true,
       "metadata": {},
       "overflow": false,
       "plotOptions": {
        "customPlotOptions": {},
        "displayType": "table",
        "pivotAggregation": null,
        "pivotColumns": null,
        "xColumns": null,
        "yColumns": null
       },
       "removedWidgets": [],
       "schema": [
        {
         "metadata": "{}",
         "name": "num_affected_rows",
         "type": "\"long\""
        },
        {
         "metadata": "{}",
         "name": "num_inserted_rows",
         "type": "\"long\""
        }
       ],
       "type": "table"
      }
     },
     "output_type": "display_data"
    }
   ],
   "source": [
    "%sql\n",
    "INSERT INTO transicao_para_nba (id_transicao, id_jogador, id_universidade, id_estatisticas, nome_jogador, nome_universidade, ano_entrada_ncaa, ano_entrada_nba, entrou_nba, anos_jogados_nba, ainda_ativo)\n",
    "VALUES\n",
    "(1, 1, 2, 1, 'Keenan Evans', 'Texas Tech', 2014, 2018, 1, 5, 1),\n",
    "(2, 2, 2, 2, 'Zhaire Smith', 'Texas Tech', 2017, 2018, 1, 2, 1),\n",
    "(3, 3, 2, 3, 'Jarrett Culver', 'Texas Tech', 2017, 2019, 1, 3, 1),\n",
    "(4, 4, 2, 4, 'Niem Stevenson', 'Texas Tech', 2015, 2018, 0, 0, 1),\n",
    "(5, 5, 2, 5, 'Tommy Hamilton', 'Texas Tech', 2014, 2018, 0, 0, 1),\n",
    "(6, 6, 2, 6, 'Brandone Francis', 'Texas Tech', 2014, 2018, 0, 0, 1),\n",
    "(7, 7, 2, 7, 'Justin Gray', 'Texas Tech', 2015, 2018, 0, 0, 1),\n",
    "(8, 8, 2, 8, 'Zach Smith', 'Texas Tech', 2014, 2019, 1, 4, 1),\n",
    "(9, 9, 2, 9, 'Norense Odiase', 'Texas Tech', 2014, 2018, 0, 0, 1),\n",
    "(10, 10, 2, 10, 'Davide Moretti', 'Texas Tech', 2017, 2020, 0, 0, 1),\n",
    "(11, 11, 2, 11, 'Malik Ondigo', 'Texas Tech', 2016, 2018, 0, 0, 1),\n",
    "(12, 12, 2, 12, 'Josh Webster', 'Texas Tech', 2015, 2018, 0, 0, 1),\n",
    "(13, 13, 2, 13, 'Parker Hicks', 'Texas Tech', 2015, 2018, 0, 0, 1),\n",
    "(14, 14, 2, 14, 'Andrew Sorrells', 'Texas Tech', 2015, 2018, 0, 0, 1);\n"
   ]
  },
  {
   "cell_type": "markdown",
   "metadata": {
    "application/vnd.databricks.v1+cell": {
     "cellMetadata": {},
     "inputWidgets": {},
     "nuid": "695c4212-9160-441f-bec9-96c5ba1f3292",
     "showTitle": false,
     "tableResultSettingsMap": {},
     "title": ""
    }
   },
   "source": [
    "### Time PURDUE"
   ]
  },
  {
   "cell_type": "code",
   "execution_count": 0,
   "metadata": {
    "application/vnd.databricks.v1+cell": {
     "cellMetadata": {
      "byteLimit": 2048000,
      "implicitDf": true,
      "rowLimit": 10000
     },
     "inputWidgets": {},
     "nuid": "c144121f-e235-446d-b429-ea457210f6b6",
     "showTitle": false,
     "tableResultSettingsMap": {},
     "title": ""
    }
   },
   "outputs": [
    {
     "output_type": "display_data",
     "data": {
      "text/html": [
       "<style scoped>\n",
       "  .table-result-container {\n",
       "    max-height: 300px;\n",
       "    overflow: auto;\n",
       "  }\n",
       "  table, th, td {\n",
       "    border: 1px solid black;\n",
       "    border-collapse: collapse;\n",
       "  }\n",
       "  th, td {\n",
       "    padding: 5px;\n",
       "  }\n",
       "  th {\n",
       "    text-align: left;\n",
       "  }\n",
       "</style><div class='table-result-container'><table class='table-result'><thead style='background-color: white'><tr><th>num_affected_rows</th><th>num_inserted_rows</th></tr></thead><tbody><tr><td>1</td><td>1</td></tr></tbody></table></div>"
      ]
     },
     "metadata": {
      "application/vnd.databricks.v1+output": {
       "addedWidgets": {},
       "aggData": [],
       "aggError": "",
       "aggOverflow": false,
       "aggSchema": [],
       "aggSeriesLimitReached": false,
       "aggType": "",
       "arguments": {},
       "columnCustomDisplayInfos": {},
       "data": [
        [
         1,
         1
        ]
       ],
       "datasetInfos": [],
       "dbfsResultPath": null,
       "isJsonSchema": true,
       "metadata": {},
       "overflow": false,
       "plotOptions": {
        "customPlotOptions": {},
        "displayType": "table",
        "pivotAggregation": null,
        "pivotColumns": null,
        "xColumns": null,
        "yColumns": null
       },
       "removedWidgets": [],
       "schema": [
        {
         "metadata": "{}",
         "name": "num_affected_rows",
         "type": "\"long\""
        },
        {
         "metadata": "{}",
         "name": "num_inserted_rows",
         "type": "\"long\""
        }
       ],
       "type": "table"
      }
     },
     "output_type": "display_data"
    }
   ],
   "source": [
    "%sql\n",
    "INSERT INTO universidade (id_universidade, nome, conferencia, ano, jogos, vitorias, pos_temporada)\n",
    "VALUES\n",
    "(9, 'Purdue', 'Big Ten', 2017, 38, 30, 'Sweet 16');\n"
   ]
  },
  {
   "cell_type": "code",
   "execution_count": 0,
   "metadata": {
    "application/vnd.databricks.v1+cell": {
     "cellMetadata": {
      "byteLimit": 2048000,
      "implicitDf": true,
      "rowLimit": 10000
     },
     "inputWidgets": {},
     "nuid": "8a2f5c7d-950b-499c-93cc-cc03861a552a",
     "showTitle": false,
     "tableResultSettingsMap": {},
     "title": ""
    }
   },
   "outputs": [
    {
     "output_type": "display_data",
     "data": {
      "text/html": [
       "<style scoped>\n",
       "  .table-result-container {\n",
       "    max-height: 300px;\n",
       "    overflow: auto;\n",
       "  }\n",
       "  table, th, td {\n",
       "    border: 1px solid black;\n",
       "    border-collapse: collapse;\n",
       "  }\n",
       "  th, td {\n",
       "    padding: 5px;\n",
       "  }\n",
       "  th {\n",
       "    text-align: left;\n",
       "  }\n",
       "</style><div class='table-result-container'><table class='table-result'><thead style='background-color: white'><tr><th>num_affected_rows</th><th>num_inserted_rows</th></tr></thead><tbody><tr><td>12</td><td>12</td></tr></tbody></table></div>"
      ]
     },
     "metadata": {
      "application/vnd.databricks.v1+output": {
       "addedWidgets": {},
       "aggData": [],
       "aggError": "",
       "aggOverflow": false,
       "aggSchema": [],
       "aggSeriesLimitReached": false,
       "aggType": "",
       "arguments": {},
       "columnCustomDisplayInfos": {},
       "data": [
        [
         12,
         12
        ]
       ],
       "datasetInfos": [],
       "dbfsResultPath": null,
       "isJsonSchema": true,
       "metadata": {},
       "overflow": false,
       "plotOptions": {
        "customPlotOptions": {},
        "displayType": "table",
        "pivotAggregation": null,
        "pivotColumns": null,
        "xColumns": null,
        "yColumns": null
       },
       "removedWidgets": [],
       "schema": [
        {
         "metadata": "{}",
         "name": "num_affected_rows",
         "type": "\"long\""
        },
        {
         "metadata": "{}",
         "name": "num_inserted_rows",
         "type": "\"long\""
        }
       ],
       "type": "table"
      }
     },
     "output_type": "display_data"
    }
   ],
   "source": [
    "%sql\n",
    "INSERT INTO jogador (id, rankings_id, universidade_id, nome, idade, posicao, universidade_nome)\n",
    "VALUES\n",
    "(1, 1, 3, 'Carsen Edwards', 20, 'PG', 'Purdue'),\n",
    "(2, 2, 3, 'Isaac Haas', 23, 'C', 'Purdue'),\n",
    "(3, 3, 3, 'Vince Edwards', 22, 'SF', 'Purdue'),\n",
    "(4, 4, 3, 'Dakota Mathias', 22, 'SG', 'Purdue'),\n",
    "(5, 5, 3, 'P.J. Thompson', 22, 'PG', 'Purdue'),\n",
    "(6, 6, 3, 'Matt Haarms', 21, 'C', 'Purdue'),\n",
    "(7, 7, 3, 'Ryan Cline', 22, 'SG', 'Purdue'),\n",
    "(8, 8, 3, 'Nojel Eastern', 20, 'SG', 'Purdue'),\n",
    "(9, 9, 3, 'Grady Eifert', 22, 'SF', 'Purdue'),\n",
    "(10, 10, 3, 'Jacquil Taylor', 22, 'PF', 'Purdue'),\n",
    "(11, 11, 3, 'Eden Ewing', 21, 'SF', 'Purdue'),\n",
    "(12, 12, 3, 'Tommy Luce', 22, 'SG', 'Purdue');\n"
   ]
  },
  {
   "cell_type": "code",
   "execution_count": 0,
   "metadata": {
    "application/vnd.databricks.v1+cell": {
     "cellMetadata": {
      "byteLimit": 2048000,
      "implicitDf": true,
      "rowLimit": 10000
     },
     "inputWidgets": {},
     "nuid": "fb410246-b6de-47d7-9128-6c200dd99806",
     "showTitle": false,
     "tableResultSettingsMap": {},
     "title": ""
    }
   },
   "outputs": [
    {
     "output_type": "display_data",
     "data": {
      "text/html": [
       "<style scoped>\n",
       "  .table-result-container {\n",
       "    max-height: 300px;\n",
       "    overflow: auto;\n",
       "  }\n",
       "  table, th, td {\n",
       "    border: 1px solid black;\n",
       "    border-collapse: collapse;\n",
       "  }\n",
       "  th, td {\n",
       "    padding: 5px;\n",
       "  }\n",
       "  th {\n",
       "    text-align: left;\n",
       "  }\n",
       "</style><div class='table-result-container'><table class='table-result'><thead style='background-color: white'><tr><th>num_affected_rows</th><th>num_inserted_rows</th></tr></thead><tbody><tr><td>12</td><td>12</td></tr></tbody></table></div>"
      ]
     },
     "metadata": {
      "application/vnd.databricks.v1+output": {
       "addedWidgets": {},
       "aggData": [],
       "aggError": "",
       "aggOverflow": false,
       "aggSchema": [],
       "aggSeriesLimitReached": false,
       "aggType": "",
       "arguments": {},
       "columnCustomDisplayInfos": {},
       "data": [
        [
         12,
         12
        ]
       ],
       "datasetInfos": [],
       "dbfsResultPath": null,
       "isJsonSchema": true,
       "metadata": {},
       "overflow": false,
       "plotOptions": {
        "customPlotOptions": {},
        "displayType": "table",
        "pivotAggregation": null,
        "pivotColumns": null,
        "xColumns": null,
        "yColumns": null
       },
       "removedWidgets": [],
       "schema": [
        {
         "metadata": "{}",
         "name": "num_affected_rows",
         "type": "\"long\""
        },
        {
         "metadata": "{}",
         "name": "num_inserted_rows",
         "type": "\"long\""
        }
       ],
       "type": "table"
      }
     },
     "output_type": "display_data"
    }
   ],
   "source": [
    "%sql\n",
    "INSERT INTO rankings (rankings_id, id_jogador, id_universidade, nome_jogador, nome_universidade, rsci_rankings, espn_rankings, rivals_rankings, 247sports_rankings)\n",
    "VALUES\n",
    "(1, 1, 3, 'Carsen Edwards', 'Purdue', 20, 19, 22, 21),\n",
    "(2, 2, 3, 'Isaac Haas', 'Purdue', 25, 30, 40, 37),\n",
    "(3, 3, 3, 'Vince Edwards', 'Purdue', 15, 20, 18, 16),\n",
    "(4, 4, 3, 'Dakota Mathias', 'Purdue', 65, 60, 70, 68),\n",
    "(5, 5, 3, 'P.J. Thompson', 'Purdue', 70, 75, 80, 78),\n",
    "(6, 6, 3, 'Matt Haarms', 'Purdue', 50, 60, 65, 63),\n",
    "(7, 7, 3, 'Ryan Cline', 'Purdue', 55, 60, 65, 63),\n",
    "(8, 8, 3, 'Nojel Eastern', 'Purdue', 50, 55, 60, 58),\n",
    "(9, 9, 3, 'Grady Eifert', 'Purdue', 80, 85, 90, 88),\n",
    "(10, 10, 3, 'Jacquil Taylor', 'Purdue', 85, 90, 95, 93),\n",
    "(11, 11, 3, 'Eden Ewing', 'Purdue', 90, 95, 100, 98),\n",
    "(12, 12, 3, 'Tommy Luce', 'Purdue', 95, 100, 105, 103);\n"
   ]
  },
  {
   "cell_type": "code",
   "execution_count": 0,
   "metadata": {
    "application/vnd.databricks.v1+cell": {
     "cellMetadata": {
      "byteLimit": 2048000,
      "implicitDf": true,
      "rowLimit": 10000
     },
     "inputWidgets": {},
     "nuid": "497e6805-e1c9-4ad9-9875-e29b72388eb2",
     "showTitle": false,
     "tableResultSettingsMap": {},
     "title": ""
    }
   },
   "outputs": [
    {
     "output_type": "display_data",
     "data": {
      "text/html": [
       "<style scoped>\n",
       "  .table-result-container {\n",
       "    max-height: 300px;\n",
       "    overflow: auto;\n",
       "  }\n",
       "  table, th, td {\n",
       "    border: 1px solid black;\n",
       "    border-collapse: collapse;\n",
       "  }\n",
       "  th, td {\n",
       "    padding: 5px;\n",
       "  }\n",
       "  th {\n",
       "    text-align: left;\n",
       "  }\n",
       "</style><div class='table-result-container'><table class='table-result'><thead style='background-color: white'><tr><th>num_affected_rows</th><th>num_inserted_rows</th></tr></thead><tbody><tr><td>12</td><td>12</td></tr></tbody></table></div>"
      ]
     },
     "metadata": {
      "application/vnd.databricks.v1+output": {
       "addedWidgets": {},
       "aggData": [],
       "aggError": "",
       "aggOverflow": false,
       "aggSchema": [],
       "aggSeriesLimitReached": false,
       "aggType": "",
       "arguments": {},
       "columnCustomDisplayInfos": {},
       "data": [
        [
         12,
         12
        ]
       ],
       "datasetInfos": [],
       "dbfsResultPath": null,
       "isJsonSchema": true,
       "metadata": {},
       "overflow": false,
       "plotOptions": {
        "customPlotOptions": {},
        "displayType": "table",
        "pivotAggregation": null,
        "pivotColumns": null,
        "xColumns": null,
        "yColumns": null
       },
       "removedWidgets": [],
       "schema": [
        {
         "metadata": "{}",
         "name": "num_affected_rows",
         "type": "\"long\""
        },
        {
         "metadata": "{}",
         "name": "num_inserted_rows",
         "type": "\"long\""
        }
       ],
       "type": "table"
      }
     },
     "output_type": "display_data"
    }
   ],
   "source": [
    "%sql\n",
    "INSERT INTO estatisticas (id_estatisticas, id_jogador, id_universidade, nome_jogador, nome_universidade, jogos_disputados, pontos_jogo, rebotes_jogo, assistencias_jogo, roubos_de_bola_jogo, tocos_jogo, turnovers_jogo, fg_percent, 3pt_percent, ft_percent)\n",
    "VALUES\n",
    "(1, 1, 3, 'Carsen Edwards', 'Purdue', 38, 18.5, 3.0, 4.2, 1.5, 0.3, 2.0, '44.0%', '38.0%', '80.0%'),\n",
    "(2, 2, 3, 'Isaac Haas', 'Purdue', 38, 12.6, 5.9, 1.1, 0.3, 1.6, 1.2, '59.0%', '0.0%', '70.0%'),\n",
    "(3, 3, 3, 'Vince Edwards', 'Purdue', 38, 14.6, 5.0, 3.0, 1.1, 0.5, 2.0, '48.0%', '39.0%', '74.0%'),\n",
    "(4, 4, 3, 'Dakota Mathias', 'Purdue', 38, 9.6, 3.4, 3.0, 1.3, 0.1, 1.5, '44.0%', '41.0%', '80.0%'),\n",
    "(5, 5, 3, 'P.J. Thompson', 'Purdue', 38, 7.2, 1.8, 4.5, 1.0, 0.1, 1.7, '43.0%', '38.0%', '80.0%'),\n",
    "(6, 6, 3, 'Matt Haarms', 'Purdue', 38, 8.6, 5.1, 0.7, 0.2, 1.9, 1.1, '54.0%', '28.0%', '75.0%'),\n",
    "(7, 7, 3, 'Ryan Cline', 'Purdue', 38, 8.4, 3.2, 2.2, 1.2, 0.3, 1.4, '44.0%', '41.0%', '78.0%'),\n",
    "(8, 8, 3, 'Nojel Eastern', 'Purdue', 38, 6.1, 4.2, 2.0, 1.0, 0.6, 1.7, '42.0%', '28.0%', '68.0%'),\n",
    "(9, 9, 3, 'Grady Eifert', 'Purdue', 38, 5.0, 4.0, 1.0, 0.6, 0.2, 1.2, '47.0%', '33.0%', '70.0%'),\n",
    "(10, 10, 3, 'Jacquil Taylor', 'Purdue', 38, 7.3, 6.0, 1.2, 0.4, 1.5, 1.0, '50.0%', '29.0%', '65.0%'),\n",
    "(11, 11, 3, 'Eden Ewing', 'Purdue', 38, 4.8, 3.0, 1.1, 0.6, 0.3, 1.2, '43.0%', '30.0%', '72.0%'),\n",
    "(12, 12, 3, 'Tommy Luce', 'Purdue', 38, 2.2, 1.2, 0.5, 0.3, 0.1, 0.8, '38.0%', '29.0%', '66.0%');\n"
   ]
  },
  {
   "cell_type": "code",
   "execution_count": 0,
   "metadata": {
    "application/vnd.databricks.v1+cell": {
     "cellMetadata": {
      "byteLimit": 2048000,
      "implicitDf": true,
      "rowLimit": 10000
     },
     "inputWidgets": {},
     "nuid": "ffdd14f2-06a4-4b50-b398-5d1b15f00f85",
     "showTitle": false,
     "tableResultSettingsMap": {},
     "title": ""
    }
   },
   "outputs": [
    {
     "output_type": "display_data",
     "data": {
      "text/html": [
       "<style scoped>\n",
       "  .table-result-container {\n",
       "    max-height: 300px;\n",
       "    overflow: auto;\n",
       "  }\n",
       "  table, th, td {\n",
       "    border: 1px solid black;\n",
       "    border-collapse: collapse;\n",
       "  }\n",
       "  th, td {\n",
       "    padding: 5px;\n",
       "  }\n",
       "  th {\n",
       "    text-align: left;\n",
       "  }\n",
       "</style><div class='table-result-container'><table class='table-result'><thead style='background-color: white'><tr><th>num_affected_rows</th><th>num_inserted_rows</th></tr></thead><tbody><tr><td>12</td><td>12</td></tr></tbody></table></div>"
      ]
     },
     "metadata": {
      "application/vnd.databricks.v1+output": {
       "addedWidgets": {},
       "aggData": [],
       "aggError": "",
       "aggOverflow": false,
       "aggSchema": [],
       "aggSeriesLimitReached": false,
       "aggType": "",
       "arguments": {},
       "columnCustomDisplayInfos": {},
       "data": [
        [
         12,
         12
        ]
       ],
       "datasetInfos": [],
       "dbfsResultPath": null,
       "isJsonSchema": true,
       "metadata": {},
       "overflow": false,
       "plotOptions": {
        "customPlotOptions": {},
        "displayType": "table",
        "pivotAggregation": null,
        "pivotColumns": null,
        "xColumns": null,
        "yColumns": null
       },
       "removedWidgets": [],
       "schema": [
        {
         "metadata": "{}",
         "name": "num_affected_rows",
         "type": "\"long\""
        },
        {
         "metadata": "{}",
         "name": "num_inserted_rows",
         "type": "\"long\""
        }
       ],
       "type": "table"
      }
     },
     "output_type": "display_data"
    }
   ],
   "source": [
    "%sql\n",
    "INSERT INTO transicao_para_nba (id_transicao, id_jogador, id_universidade, id_estatisticas, nome_jogador, nome_universidade, ano_entrada_ncaa, ano_entrada_nba, entrou_nba, anos_jogados_nba, ainda_ativo)\n",
    "VALUES\n",
    "(1, 1, 3, 1, 'Carsen Edwards', 'Purdue', 2015, 2019, 1, 2, 1),\n",
    "(2, 2, 3, 2, 'Isaac Haas', 'Purdue', 2014, 2018, 0, 0, 0),\n",
    "(3, 3, 3, 3, 'Vince Edwards', 'Purdue', 2015, 2018, 0, 0, 1),\n",
    "(4, 4, 3, 4, 'Dakota Mathias', 'Purdue', 2014, 2018, 0, 0, 0),\n",
    "(5, 5, 3, 5, 'P.J. Thompson', 'Purdue', 2014, 2018, 0, 0, 0),\n",
    "(6, 6, 3, 6, 'Matt Haarms', 'Purdue', 2017, 2020, 0, 0, 1),\n",
    "(7, 7, 3, 7, 'Ryan Cline', 'Purdue', 2015, 2018, 0, 0, 1),\n",
    "(8, 8, 3, 8, 'Nojel Eastern', 'Purdue', 2017, 2020, 0, 0, 1),\n",
    "(9, 9, 3, 9, 'Grady Eifert', 'Purdue', 2015, 2018, 0, 0, 1),\n",
    "(10, 10, 3, 10, 'Jacquil Taylor', 'Purdue', 2014, 2018, 0, 0, 0),\n",
    "(11, 11, 3, 11, 'Eden Ewing', 'Purdue', 2015, 2018, 0, 0, 1),\n",
    "(12, 12, 3, 12, 'Tommy Luce', 'Purdue', 2014, 2018, 0, 0, 0);\n"
   ]
  },
  {
   "cell_type": "markdown",
   "metadata": {
    "application/vnd.databricks.v1+cell": {
     "cellMetadata": {},
     "inputWidgets": {},
     "nuid": "6a41187d-9959-4d8b-b268-9858de50ac05",
     "showTitle": false,
     "tableResultSettingsMap": {},
     "title": ""
    }
   },
   "source": [
    "### Time FLORIDA STATE"
   ]
  },
  {
   "cell_type": "code",
   "execution_count": 0,
   "metadata": {
    "application/vnd.databricks.v1+cell": {
     "cellMetadata": {
      "byteLimit": 2048000,
      "implicitDf": true,
      "rowLimit": 10000
     },
     "inputWidgets": {},
     "nuid": "b87f3e8e-c8f4-41e2-8aab-54bd4c516019",
     "showTitle": false,
     "tableResultSettingsMap": {},
     "title": ""
    }
   },
   "outputs": [
    {
     "output_type": "display_data",
     "data": {
      "text/html": [
       "<style scoped>\n",
       "  .table-result-container {\n",
       "    max-height: 300px;\n",
       "    overflow: auto;\n",
       "  }\n",
       "  table, th, td {\n",
       "    border: 1px solid black;\n",
       "    border-collapse: collapse;\n",
       "  }\n",
       "  th, td {\n",
       "    padding: 5px;\n",
       "  }\n",
       "  th {\n",
       "    text-align: left;\n",
       "  }\n",
       "</style><div class='table-result-container'><table class='table-result'><thead style='background-color: white'><tr><th>num_affected_rows</th><th>num_inserted_rows</th></tr></thead><tbody><tr><td>1</td><td>1</td></tr></tbody></table></div>"
      ]
     },
     "metadata": {
      "application/vnd.databricks.v1+output": {
       "addedWidgets": {},
       "aggData": [],
       "aggError": "",
       "aggOverflow": false,
       "aggSchema": [],
       "aggSeriesLimitReached": false,
       "aggType": "",
       "arguments": {},
       "columnCustomDisplayInfos": {},
       "data": [
        [
         1,
         1
        ]
       ],
       "datasetInfos": [],
       "dbfsResultPath": null,
       "isJsonSchema": true,
       "metadata": {},
       "overflow": false,
       "plotOptions": {
        "customPlotOptions": {},
        "displayType": "table",
        "pivotAggregation": null,
        "pivotColumns": null,
        "xColumns": null,
        "yColumns": null
       },
       "removedWidgets": [],
       "schema": [
        {
         "metadata": "{}",
         "name": "num_affected_rows",
         "type": "\"long\""
        },
        {
         "metadata": "{}",
         "name": "num_inserted_rows",
         "type": "\"long\""
        }
       ],
       "type": "table"
      }
     },
     "output_type": "display_data"
    }
   ],
   "source": [
    "%sql\n",
    "INSERT INTO universidade (id_universidade, nome, conferencia, ano, jogos, vitorias, pos_temporada)\n",
    "VALUES\n",
    "(10, 'Florida State', 'Atlantic Coast', 2017, 37, 26, 'Elite 8');\n"
   ]
  },
  {
   "cell_type": "code",
   "execution_count": 0,
   "metadata": {
    "application/vnd.databricks.v1+cell": {
     "cellMetadata": {
      "byteLimit": 2048000,
      "implicitDf": true,
      "rowLimit": 10000
     },
     "inputWidgets": {},
     "nuid": "4bed7260-6802-4323-abfc-bf10ff0391f5",
     "showTitle": false,
     "tableResultSettingsMap": {},
     "title": ""
    }
   },
   "outputs": [
    {
     "output_type": "display_data",
     "data": {
      "text/html": [
       "<style scoped>\n",
       "  .table-result-container {\n",
       "    max-height: 300px;\n",
       "    overflow: auto;\n",
       "  }\n",
       "  table, th, td {\n",
       "    border: 1px solid black;\n",
       "    border-collapse: collapse;\n",
       "  }\n",
       "  th, td {\n",
       "    padding: 5px;\n",
       "  }\n",
       "  th {\n",
       "    text-align: left;\n",
       "  }\n",
       "</style><div class='table-result-container'><table class='table-result'><thead style='background-color: white'><tr><th>num_affected_rows</th><th>num_inserted_rows</th></tr></thead><tbody><tr><td>17</td><td>17</td></tr></tbody></table></div>"
      ]
     },
     "metadata": {
      "application/vnd.databricks.v1+output": {
       "addedWidgets": {},
       "aggData": [],
       "aggError": "",
       "aggOverflow": false,
       "aggSchema": [],
       "aggSeriesLimitReached": false,
       "aggType": "",
       "arguments": {},
       "columnCustomDisplayInfos": {},
       "data": [
        [
         17,
         17
        ]
       ],
       "datasetInfos": [],
       "dbfsResultPath": null,
       "isJsonSchema": true,
       "metadata": {},
       "overflow": false,
       "plotOptions": {
        "customPlotOptions": {},
        "displayType": "table",
        "pivotAggregation": null,
        "pivotColumns": null,
        "xColumns": null,
        "yColumns": null
       },
       "removedWidgets": [],
       "schema": [
        {
         "metadata": "{}",
         "name": "num_affected_rows",
         "type": "\"long\""
        },
        {
         "metadata": "{}",
         "name": "num_inserted_rows",
         "type": "\"long\""
        }
       ],
       "type": "table"
      }
     },
     "output_type": "display_data"
    }
   ],
   "source": [
    "%sql\n",
    "INSERT INTO jogador (id, rankings_id, universidade_id, nome, idade, posicao, universidade_nome)\n",
    "VALUES\n",
    "(1, 1, 4, 'Phil Cofer', 22, 'SF', 'Florida State'),\n",
    "(2, 2, 4, 'Braian Angola-Rodas', 23, 'SG', 'Florida State'),\n",
    "(3, 3, 4, 'Terance Mann', 21, 'SF', 'Florida State'),\n",
    "(4, 4, 4, 'CJ Walker', 21, 'PG', 'Florida State'),\n",
    "(5, 5, 4, 'Trent Forrest', 21, 'PG', 'Florida State'),\n",
    "(6, 6, 4, 'M.J. Walker', 19, 'SG', 'Florida State'),\n",
    "(7, 7, 4, 'Mfiondu Kabengele', 21, 'PF', 'Florida State'),\n",
    "(8, 8, 4, 'PJ Savoy', 22, 'SG', 'Florida State'),\n",
    "(9, 9, 4, 'Christ Koumadje', 24, 'C', 'Florida State'),\n",
    "(10, 10, 4, 'Ike Obiagu', 21, 'C', 'Florida State'),\n",
    "(11, 11, 4, 'Brandon Allen', 22, 'SG', 'Florida State'),\n",
    "(12, 12, 4, 'Travis Light', 22, 'SF', 'Florida State'),\n",
    "(13, 13, 4, 'Wyatt Wilkes', 22, 'SF', 'Florida State'),\n",
    "(14, 14, 4, 'Harrison Prieto', 22, 'C', 'Florida State'),\n",
    "(15, 15, 4, 'Justin Lindner', 21, 'SG', 'Florida State'),\n",
    "(16, 16, 4, 'Will Miles', 22, 'PG', 'Florida State'),\n",
    "(17, 17, 4, 'Anthony Polite', 21, 'SF', 'Florida State');\n"
   ]
  },
  {
   "cell_type": "code",
   "execution_count": 0,
   "metadata": {
    "application/vnd.databricks.v1+cell": {
     "cellMetadata": {
      "byteLimit": 2048000,
      "implicitDf": true,
      "rowLimit": 10000
     },
     "inputWidgets": {},
     "nuid": "0c525b29-21ef-4b3d-a30d-8a6822c9b55e",
     "showTitle": false,
     "tableResultSettingsMap": {},
     "title": ""
    }
   },
   "outputs": [
    {
     "output_type": "display_data",
     "data": {
      "text/html": [
       "<style scoped>\n",
       "  .table-result-container {\n",
       "    max-height: 300px;\n",
       "    overflow: auto;\n",
       "  }\n",
       "  table, th, td {\n",
       "    border: 1px solid black;\n",
       "    border-collapse: collapse;\n",
       "  }\n",
       "  th, td {\n",
       "    padding: 5px;\n",
       "  }\n",
       "  th {\n",
       "    text-align: left;\n",
       "  }\n",
       "</style><div class='table-result-container'><table class='table-result'><thead style='background-color: white'><tr><th>num_affected_rows</th><th>num_inserted_rows</th></tr></thead><tbody><tr><td>17</td><td>17</td></tr></tbody></table></div>"
      ]
     },
     "metadata": {
      "application/vnd.databricks.v1+output": {
       "addedWidgets": {},
       "aggData": [],
       "aggError": "",
       "aggOverflow": false,
       "aggSchema": [],
       "aggSeriesLimitReached": false,
       "aggType": "",
       "arguments": {},
       "columnCustomDisplayInfos": {},
       "data": [
        [
         17,
         17
        ]
       ],
       "datasetInfos": [],
       "dbfsResultPath": null,
       "isJsonSchema": true,
       "metadata": {},
       "overflow": false,
       "plotOptions": {
        "customPlotOptions": {},
        "displayType": "table",
        "pivotAggregation": null,
        "pivotColumns": null,
        "xColumns": null,
        "yColumns": null
       },
       "removedWidgets": [],
       "schema": [
        {
         "metadata": "{}",
         "name": "num_affected_rows",
         "type": "\"long\""
        },
        {
         "metadata": "{}",
         "name": "num_inserted_rows",
         "type": "\"long\""
        }
       ],
       "type": "table"
      }
     },
     "output_type": "display_data"
    }
   ],
   "source": [
    "%sql\n",
    "INSERT INTO rankings (rankings_id, id_jogador, id_universidade, nome_jogador, nome_universidade, rsci_rankings, espn_rankings, rivals_rankings, 247sports_rankings)\n",
    "VALUES\n",
    "(1, 1, 4, 'Phil Cofer', 'Florida State', 45, 60, 80, 75),\n",
    "(2, 2, 4, 'Braian Angola-Rodas', 'Florida State', 100, 120, 110, 105),\n",
    "(3, 3, 4, 'Terance Mann', 'Florida State', 35, 50, 55, 52),\n",
    "(4, 4, 4, 'CJ Walker', 'Florida State', 50, 70, 80, 78),\n",
    "(5, 5, 4, 'Trent Forrest', 'Florida State', 80, 85, 95, 90),\n",
    "(6, 6, 4, 'M.J. Walker', 'Florida State', 60, 75, 85, 80),\n",
    "(7, 7, 4, 'Mfiondu Kabengele', 'Florida State', 50, 55, 60, 58),\n",
    "(8, 8, 4, 'PJ Savoy', 'Florida State', 70, 80, 90, 88),\n",
    "(9, 9, 4, 'Christ Koumadje', 'Florida State', 95, 100, 110, 108),\n",
    "(10, 10, 4, 'Ike Obiagu', 'Florida State', 110, 115, 120, 118),\n",
    "(11, 11, 4, 'Brandon Allen', 'Florida State', 100, 110, 115, 112),\n",
    "(12, 12, 4, 'Travis Light', 'Florida State', 120, 130, 140, 138),\n",
    "(13, 13, 4, 'Wyatt Wilkes', 'Florida State', 130, 140, 150, 148),\n",
    "(14, 14, 4, 'Harrison Prieto', 'Florida State', 140, 150, 160, 158),\n",
    "(15, 15, 4, 'Justin Lindner', 'Florida State', 150, 160, 170, 168),\n",
    "(16, 16, 4, 'Will Miles', 'Florida State', 160, 170, 180, 178),\n",
    "(17, 17, 4, 'Anthony Polite', 'Florida State', 140, 155, 160, 158);\n"
   ]
  },
  {
   "cell_type": "code",
   "execution_count": 0,
   "metadata": {
    "application/vnd.databricks.v1+cell": {
     "cellMetadata": {
      "byteLimit": 2048000,
      "implicitDf": true,
      "rowLimit": 10000
     },
     "inputWidgets": {},
     "nuid": "d39f0a6b-013b-4655-9b8a-5580ad37f247",
     "showTitle": false,
     "tableResultSettingsMap": {},
     "title": ""
    }
   },
   "outputs": [
    {
     "output_type": "display_data",
     "data": {
      "text/html": [
       "<style scoped>\n",
       "  .table-result-container {\n",
       "    max-height: 300px;\n",
       "    overflow: auto;\n",
       "  }\n",
       "  table, th, td {\n",
       "    border: 1px solid black;\n",
       "    border-collapse: collapse;\n",
       "  }\n",
       "  th, td {\n",
       "    padding: 5px;\n",
       "  }\n",
       "  th {\n",
       "    text-align: left;\n",
       "  }\n",
       "</style><div class='table-result-container'><table class='table-result'><thead style='background-color: white'><tr><th>num_affected_rows</th><th>num_inserted_rows</th></tr></thead><tbody><tr><td>17</td><td>17</td></tr></tbody></table></div>"
      ]
     },
     "metadata": {
      "application/vnd.databricks.v1+output": {
       "addedWidgets": {},
       "aggData": [],
       "aggError": "",
       "aggOverflow": false,
       "aggSchema": [],
       "aggSeriesLimitReached": false,
       "aggType": "",
       "arguments": {},
       "columnCustomDisplayInfos": {},
       "data": [
        [
         17,
         17
        ]
       ],
       "datasetInfos": [],
       "dbfsResultPath": null,
       "isJsonSchema": true,
       "metadata": {},
       "overflow": false,
       "plotOptions": {
        "customPlotOptions": {},
        "displayType": "table",
        "pivotAggregation": null,
        "pivotColumns": null,
        "xColumns": null,
        "yColumns": null
       },
       "removedWidgets": [],
       "schema": [
        {
         "metadata": "{}",
         "name": "num_affected_rows",
         "type": "\"long\""
        },
        {
         "metadata": "{}",
         "name": "num_inserted_rows",
         "type": "\"long\""
        }
       ],
       "type": "table"
      }
     },
     "output_type": "display_data"
    }
   ],
   "source": [
    "%sql\n",
    "INSERT INTO estatisticas (id_estatisticas, id_jogador, id_universidade, nome_jogador, nome_universidade, jogos_disputados, pontos_jogo, rebotes_jogo, assistencias_jogo, roubos_de_bola_jogo, tocos_jogo, turnovers_jogo, fg_percent, 3pt_percent, ft_percent)\n",
    "VALUES\n",
    "(1, 1, 4, 'Phil Cofer', 'Florida State', 37, 12.6, 5.0, 2.1, 1.2, 0.8, 2.1, '47.0%', '35.0%', '72.0%'),\n",
    "(2, 2, 4, 'Braian Angola-Rodas', 'Florida State', 37, 9.7, 3.0, 2.5, 1.4, 0.2, 1.5, '43.0%', '39.0%', '80.0%'),\n",
    "(3, 3, 4, 'Terance Mann', 'Florida State', 37, 9.5, 6.5, 2.1, 1.5, 0.5, 1.7, '51.0%', '30.0%', '72.0%'),\n",
    "(4, 4, 4, 'CJ Walker', 'Florida State', 37, 5.1, 2.0, 3.4, 0.9, 0.1, 1.9, '39.0%', '30.0%', '65.0%'),\n",
    "(5, 5, 4, 'Trent Forrest', 'Florida State', 37, 8.0, 3.2, 4.4, 1.5, 0.6, 2.1, '48.0%', '28.0%', '72.0%'),\n",
    "(6, 6, 4, 'M.J. Walker', 'Florida State', 37, 8.0, 2.5, 1.8, 1.1, 0.4, 1.6, '42.0%', '34.0%', '70.0%'),\n",
    "(7, 7, 4, 'Mfiondu Kabengele', 'Florida State', 37, 10.0, 5.3, 0.9, 0.6, 1.2, 1.0, '59.0%', '34.0%', '72.0%'),\n",
    "(8, 8, 4, 'PJ Savoy', 'Florida State', 37, 6.0, 1.2, 1.5, 0.7, 0.2, 1.4, '42.0%', '40.0%', '75.0%'),\n",
    "(9, 9, 4, 'Christ Koumadje', 'Florida State', 37, 3.4, 3.6, 0.1, 0.1, 2.0, 0.8, '64.0%', '0.0%', '70.0%'),\n",
    "(10, 10, 4, 'Ike Obiagu', 'Florida State', 37, 1.4, 1.8, 0.2, 0.2, 1.5, 0.4, '53.0%', '0.0%', '50.0%'),\n",
    "(11, 11, 4, 'Brandon Allen', 'Florida State', 37, 2.0, 1.0, 0.3, 0.3, 0.1, 0.6, '35.0%', '33.0%', '60.0%'),\n",
    "(12, 12, 4, 'Travis Light', 'Florida State', 37, 1.0, 0.5, 0.3, 0.2, 0.1, 0.3, '30.0%', '25.0%', '70.0%'),\n",
    "(13, 13, 4, 'Wyatt Wilkes', 'Florida State', 37, 3.0, 1.5, 0.8, 0.5, 0.2, 0.9, '42.0%', '35.0%', '60.0%'),\n",
    "(14, 14, 4, 'Harrison Prieto', 'Florida State', 37, 2.5, 3.5, 0.1, 0.2, 0.8, 0.3, '55.0%', '0.0%', '68.0%'),\n",
    "(15, 15, 4, 'Justin Lindner', 'Florida State', 37, 2.0, 0.7, 0.8, 0.4, 0.2, 0.5, '38.0%', '33.0%', '70.0%'),\n",
    "(16, 16, 4, 'Will Miles', 'Florida State', 37, 1.5, 0.6, 0.5, 0.3, 0.1, 0.3, '40.0%', '30.0%', '65.0%'),\n",
    "(17, 17, 4, 'Anthony Polite', 'Florida State', 37, 4.0, 3.0, 1.2, 0.7, 0.2, 1.2, '44.0%', '36.0%', '72.0%');\n"
   ]
  },
  {
   "cell_type": "code",
   "execution_count": 0,
   "metadata": {
    "application/vnd.databricks.v1+cell": {
     "cellMetadata": {
      "byteLimit": 2048000,
      "implicitDf": true,
      "rowLimit": 10000
     },
     "inputWidgets": {},
     "nuid": "fa7677c8-229c-4c99-baf5-48c894e58016",
     "showTitle": false,
     "tableResultSettingsMap": {},
     "title": ""
    }
   },
   "outputs": [
    {
     "output_type": "display_data",
     "data": {
      "text/html": [
       "<style scoped>\n",
       "  .table-result-container {\n",
       "    max-height: 300px;\n",
       "    overflow: auto;\n",
       "  }\n",
       "  table, th, td {\n",
       "    border: 1px solid black;\n",
       "    border-collapse: collapse;\n",
       "  }\n",
       "  th, td {\n",
       "    padding: 5px;\n",
       "  }\n",
       "  th {\n",
       "    text-align: left;\n",
       "  }\n",
       "</style><div class='table-result-container'><table class='table-result'><thead style='background-color: white'><tr><th>num_affected_rows</th><th>num_inserted_rows</th></tr></thead><tbody><tr><td>17</td><td>17</td></tr></tbody></table></div>"
      ]
     },
     "metadata": {
      "application/vnd.databricks.v1+output": {
       "addedWidgets": {},
       "aggData": [],
       "aggError": "",
       "aggOverflow": false,
       "aggSchema": [],
       "aggSeriesLimitReached": false,
       "aggType": "",
       "arguments": {},
       "columnCustomDisplayInfos": {},
       "data": [
        [
         17,
         17
        ]
       ],
       "datasetInfos": [],
       "dbfsResultPath": null,
       "isJsonSchema": true,
       "metadata": {},
       "overflow": false,
       "plotOptions": {
        "customPlotOptions": {},
        "displayType": "table",
        "pivotAggregation": null,
        "pivotColumns": null,
        "xColumns": null,
        "yColumns": null
       },
       "removedWidgets": [],
       "schema": [
        {
         "metadata": "{}",
         "name": "num_affected_rows",
         "type": "\"long\""
        },
        {
         "metadata": "{}",
         "name": "num_inserted_rows",
         "type": "\"long\""
        }
       ],
       "type": "table"
      }
     },
     "output_type": "display_data"
    }
   ],
   "source": [
    "%sql\n",
    "INSERT INTO transicao_para_nba (id_transicao, id_jogador, id_universidade, nome_jogador, nome_universidade, ano_entrada_ncaa, ano_entrada_nba, entrou_nba, anos_jogados_nba, ainda_ativo)\n",
    "VALUES\n",
    "(1, 7, 4, 'Mfiondu Kabengele', 'Florida State', 2017, 2019, 1, 2, 1),\n",
    "(2, 3, 4, 'Terance Mann', 'Florida State', 2015, 2019, 1, 1, 1),\n",
    "(3, 1, 4, 'Phil Cofer', 'Florida State', 2014, NULL, 0, 0, 0),\n",
    "(4, 2, 4, 'Braian Angola-Rodas', 'Florida State', 2016, NULL, 0, 0, 0),\n",
    "(5, 4, 4, 'CJ Walker', 'Florida State', 2015, NULL, 0, 0, 0),\n",
    "(6, 5, 4, 'Trent Forrest', 'Florida State', 2015, NULL, 0, 0, 0),\n",
    "(7, 6, 4, 'M.J. Walker', 'Florida State', 2017, NULL, 0, 0, 0),\n",
    "(8, 8, 4, 'PJ Savoy', 'Florida State', 2015, NULL, 0, 0, 0),\n",
    "(9, 9, 4, 'Christ Koumadje', 'Florida State', 2014, NULL, 0, 0, 0),\n",
    "(10, 10, 4, 'Ike Obiagu', 'Florida State', 2016, NULL, 0, 0, 0),\n",
    "(11, 11, 4, 'Brandon Allen', 'Florida State', 2015, NULL, 0, 0, 0),\n",
    "(12, 12, 4, 'Travis Light', 'Florida State', 2015, NULL, 0, 0, 0),\n",
    "(13, 13, 4, 'Wyatt Wilkes', 'Florida State', 2015, NULL, 0, 0, 0),\n",
    "(14, 14, 4, 'Harrison Prieto', 'Florida State', 2015, NULL, 0, 0, 0),\n",
    "(15, 15, 4, 'Justin Lindner', 'Florida State', 2015, NULL, 0, 0, 0),\n",
    "(16, 16, 4, 'Will Miles', 'Florida State', 2015, NULL, 0, 0, 0),\n",
    "(17, 17, 4, 'Anthony Polite', 'Florida State', 2017, NULL, 0, 0, 0);\n"
   ]
  },
  {
   "cell_type": "markdown",
   "metadata": {
    "application/vnd.databricks.v1+cell": {
     "cellMetadata": {},
     "inputWidgets": {},
     "nuid": "465ad29a-65af-4d31-b2f6-15ff316d8141",
     "showTitle": false,
     "tableResultSettingsMap": {},
     "title": ""
    }
   },
   "source": [
    "### Time GONZAGA"
   ]
  },
  {
   "cell_type": "code",
   "execution_count": 0,
   "metadata": {
    "application/vnd.databricks.v1+cell": {
     "cellMetadata": {
      "byteLimit": 2048000,
      "implicitDf": true,
      "rowLimit": 10000
     },
     "inputWidgets": {},
     "nuid": "56dccad2-84de-4ba0-92e3-cc4b4704c71a",
     "showTitle": false,
     "tableResultSettingsMap": {},
     "title": ""
    }
   },
   "outputs": [
    {
     "output_type": "display_data",
     "data": {
      "text/html": [
       "<style scoped>\n",
       "  .table-result-container {\n",
       "    max-height: 300px;\n",
       "    overflow: auto;\n",
       "  }\n",
       "  table, th, td {\n",
       "    border: 1px solid black;\n",
       "    border-collapse: collapse;\n",
       "  }\n",
       "  th, td {\n",
       "    padding: 5px;\n",
       "  }\n",
       "  th {\n",
       "    text-align: left;\n",
       "  }\n",
       "</style><div class='table-result-container'><table class='table-result'><thead style='background-color: white'><tr><th>num_affected_rows</th><th>num_inserted_rows</th></tr></thead><tbody><tr><td>1</td><td>1</td></tr></tbody></table></div>"
      ]
     },
     "metadata": {
      "application/vnd.databricks.v1+output": {
       "addedWidgets": {},
       "aggData": [],
       "aggError": "",
       "aggOverflow": false,
       "aggSchema": [],
       "aggSeriesLimitReached": false,
       "aggType": "",
       "arguments": {},
       "columnCustomDisplayInfos": {},
       "data": [
        [
         1,
         1
        ]
       ],
       "datasetInfos": [],
       "dbfsResultPath": null,
       "isJsonSchema": true,
       "metadata": {},
       "overflow": false,
       "plotOptions": {
        "customPlotOptions": {},
        "displayType": "table",
        "pivotAggregation": null,
        "pivotColumns": null,
        "xColumns": null,
        "yColumns": null
       },
       "removedWidgets": [],
       "schema": [
        {
         "metadata": "{}",
         "name": "num_affected_rows",
         "type": "\"long\""
        },
        {
         "metadata": "{}",
         "name": "num_inserted_rows",
         "type": "\"long\""
        }
       ],
       "type": "table"
      }
     },
     "output_type": "display_data"
    }
   ],
   "source": [
    "%sql\n",
    "INSERT INTO universidade (id_universidade, nome, conferencia, ano, jogos, vitorias, pos_temporada)\n",
    "VALUES\n",
    "(5, 'Gonzaga', 'West Coast Conference', 2017, 36, 32, 'Sweet 16');\n"
   ]
  },
  {
   "cell_type": "code",
   "execution_count": 0,
   "metadata": {
    "application/vnd.databricks.v1+cell": {
     "cellMetadata": {
      "byteLimit": 2048000,
      "implicitDf": true,
      "rowLimit": 10000
     },
     "inputWidgets": {},
     "nuid": "dc57b7d7-12cd-4cbe-b4b7-bad7e12d6f31",
     "showTitle": false,
     "tableResultSettingsMap": {},
     "title": ""
    }
   },
   "outputs": [
    {
     "output_type": "display_data",
     "data": {
      "text/html": [
       "<style scoped>\n",
       "  .table-result-container {\n",
       "    max-height: 300px;\n",
       "    overflow: auto;\n",
       "  }\n",
       "  table, th, td {\n",
       "    border: 1px solid black;\n",
       "    border-collapse: collapse;\n",
       "  }\n",
       "  th, td {\n",
       "    padding: 5px;\n",
       "  }\n",
       "  th {\n",
       "    text-align: left;\n",
       "  }\n",
       "</style><div class='table-result-container'><table class='table-result'><thead style='background-color: white'><tr><th>num_affected_rows</th><th>num_inserted_rows</th></tr></thead><tbody><tr><td>13</td><td>13</td></tr></tbody></table></div>"
      ]
     },
     "metadata": {
      "application/vnd.databricks.v1+output": {
       "addedWidgets": {},
       "aggData": [],
       "aggError": "",
       "aggOverflow": false,
       "aggSchema": [],
       "aggSeriesLimitReached": false,
       "aggType": "",
       "arguments": {},
       "columnCustomDisplayInfos": {},
       "data": [
        [
         13,
         13
        ]
       ],
       "datasetInfos": [],
       "dbfsResultPath": null,
       "isJsonSchema": true,
       "metadata": {},
       "overflow": false,
       "plotOptions": {
        "customPlotOptions": {},
        "displayType": "table",
        "pivotAggregation": null,
        "pivotColumns": null,
        "xColumns": null,
        "yColumns": null
       },
       "removedWidgets": [],
       "schema": [
        {
         "metadata": "{}",
         "name": "num_affected_rows",
         "type": "\"long\""
        },
        {
         "metadata": "{}",
         "name": "num_inserted_rows",
         "type": "\"long\""
        }
       ],
       "type": "table"
      }
     },
     "output_type": "display_data"
    }
   ],
   "source": [
    "%sql\n",
    "INSERT INTO jogador (id, rankings_id, universidade_id, nome, idade, posicao, universidade_nome)\n",
    "VALUES\n",
    "(1, 1, 5, 'Jonathan Williams', 24, 'PF', 'Gonzaga'),\n",
    "(2, 2, 5, 'Zach Norvell', 21, 'SG', 'Gonzaga'),\n",
    "(3, 3, 5, 'Killian Tillie', 21, 'PF', 'Gonzaga'),\n",
    "(4, 4, 5, 'Josh Perkins', 23, 'PG', 'Gonzaga'),\n",
    "(5, 5, 5, 'Rui Hachimura', 21, 'PF', 'Gonzaga'),\n",
    "(6, 6, 5, 'Silas Melson', 23, 'SG', 'Gonzaga'),\n",
    "(7, 7, 5, 'Corey Kispert', 21, 'SF', 'Gonzaga'),\n",
    "(8, 8, 5, 'Jacob Larsen', 22, 'C', 'Gonzaga'),\n",
    "(9, 9, 5, 'Jeremy Jones', 22, 'SF', 'Gonzaga'),\n",
    "(10, 10, 5, 'Jesse Wade', 21, 'SG', 'Gonzaga'),\n",
    "(11, 11, 5, 'Brian Pete', 22, 'SG', 'Gonzaga'),\n",
    "(12, 12, 5, 'Alex Martin', 21, 'SG', 'Gonzaga'),\n",
    "(13, 13, 5, 'Jack Beach', 22, 'SF', 'Gonzaga');\n"
   ]
  },
  {
   "cell_type": "code",
   "execution_count": 0,
   "metadata": {
    "application/vnd.databricks.v1+cell": {
     "cellMetadata": {
      "byteLimit": 2048000,
      "implicitDf": true,
      "rowLimit": 10000
     },
     "inputWidgets": {},
     "nuid": "ffcfdaea-b4f3-4826-87d0-55069292ed93",
     "showTitle": false,
     "tableResultSettingsMap": {},
     "title": ""
    }
   },
   "outputs": [
    {
     "output_type": "display_data",
     "data": {
      "text/html": [
       "<style scoped>\n",
       "  .table-result-container {\n",
       "    max-height: 300px;\n",
       "    overflow: auto;\n",
       "  }\n",
       "  table, th, td {\n",
       "    border: 1px solid black;\n",
       "    border-collapse: collapse;\n",
       "  }\n",
       "  th, td {\n",
       "    padding: 5px;\n",
       "  }\n",
       "  th {\n",
       "    text-align: left;\n",
       "  }\n",
       "</style><div class='table-result-container'><table class='table-result'><thead style='background-color: white'><tr><th>num_affected_rows</th><th>num_inserted_rows</th></tr></thead><tbody><tr><td>13</td><td>13</td></tr></tbody></table></div>"
      ]
     },
     "metadata": {
      "application/vnd.databricks.v1+output": {
       "addedWidgets": {},
       "aggData": [],
       "aggError": "",
       "aggOverflow": false,
       "aggSchema": [],
       "aggSeriesLimitReached": false,
       "aggType": "",
       "arguments": {},
       "columnCustomDisplayInfos": {},
       "data": [
        [
         13,
         13
        ]
       ],
       "datasetInfos": [],
       "dbfsResultPath": null,
       "isJsonSchema": true,
       "metadata": {},
       "overflow": false,
       "plotOptions": {
        "customPlotOptions": {},
        "displayType": "table",
        "pivotAggregation": null,
        "pivotColumns": null,
        "xColumns": null,
        "yColumns": null
       },
       "removedWidgets": [],
       "schema": [
        {
         "metadata": "{}",
         "name": "num_affected_rows",
         "type": "\"long\""
        },
        {
         "metadata": "{}",
         "name": "num_inserted_rows",
         "type": "\"long\""
        }
       ],
       "type": "table"
      }
     },
     "output_type": "display_data"
    }
   ],
   "source": [
    "%sql\n",
    "INSERT INTO rankings (rankings_id, id_jogador, id_universidade, nome_jogador, nome_universidade, rsci_rankings, espn_rankings, rivals_rankings, 247sports_rankings)\n",
    "VALUES\n",
    "(1, 1, 5, 'Jonathan Williams', 'Gonzaga', 23, 25, 30, 20),\n",
    "(2, 2, 5, 'Zach Norvell', 'Gonzaga', 42, 50, 60, 55),\n",
    "(3, 3, 5, 'Killian Tillie', 'Gonzaga', 40, 45, 48, 52),\n",
    "(4, 4, 5, 'Josh Perkins', 'Gonzaga', 80, 90, 75, 85),\n",
    "(5, 5, 5, 'Rui Hachimura', 'Gonzaga', 8, 12, 15, 10),\n",
    "(6, 6, 5, 'Silas Melson', 'Gonzaga', 100, 110, 120, 115),\n",
    "(7, 7, 5, 'Corey Kispert', 'Gonzaga', 35, 45, 50, 60),\n",
    "(8, 8, 5, 'Jacob Larsen', 'Gonzaga', 200, 150, 180, 190),\n",
    "(9, 9, 5, 'Jeremy Jones', 'Gonzaga', 150, 145, 160, 170),\n",
    "(10, 10, 5, 'Jesse Wade', 'Gonzaga', 90, 95, 100, 110),\n",
    "(11, 11, 5, 'Brian Pete', 'Gonzaga', 180, 160, 190, 200),\n",
    "(12, 12, 5, 'Alex Martin', 'Gonzaga', 220, 230, 240, 250),\n",
    "(13, 13, 5, 'Jack Beach', 'Gonzaga', 250, 260, 270, 280);\n"
   ]
  },
  {
   "cell_type": "code",
   "execution_count": 0,
   "metadata": {
    "application/vnd.databricks.v1+cell": {
     "cellMetadata": {
      "byteLimit": 2048000,
      "implicitDf": true,
      "rowLimit": 10000
     },
     "inputWidgets": {},
     "nuid": "62302075-34e2-4812-a72e-9ad674856ba6",
     "showTitle": false,
     "tableResultSettingsMap": {},
     "title": ""
    }
   },
   "outputs": [
    {
     "output_type": "display_data",
     "data": {
      "text/html": [
       "<style scoped>\n",
       "  .table-result-container {\n",
       "    max-height: 300px;\n",
       "    overflow: auto;\n",
       "  }\n",
       "  table, th, td {\n",
       "    border: 1px solid black;\n",
       "    border-collapse: collapse;\n",
       "  }\n",
       "  th, td {\n",
       "    padding: 5px;\n",
       "  }\n",
       "  th {\n",
       "    text-align: left;\n",
       "  }\n",
       "</style><div class='table-result-container'><table class='table-result'><thead style='background-color: white'><tr><th>num_affected_rows</th><th>num_inserted_rows</th></tr></thead><tbody><tr><td>13</td><td>13</td></tr></tbody></table></div>"
      ]
     },
     "metadata": {
      "application/vnd.databricks.v1+output": {
       "addedWidgets": {},
       "aggData": [],
       "aggError": "",
       "aggOverflow": false,
       "aggSchema": [],
       "aggSeriesLimitReached": false,
       "aggType": "",
       "arguments": {},
       "columnCustomDisplayInfos": {},
       "data": [
        [
         13,
         13
        ]
       ],
       "datasetInfos": [],
       "dbfsResultPath": null,
       "isJsonSchema": true,
       "metadata": {},
       "overflow": false,
       "plotOptions": {
        "customPlotOptions": {},
        "displayType": "table",
        "pivotAggregation": null,
        "pivotColumns": null,
        "xColumns": null,
        "yColumns": null
       },
       "removedWidgets": [],
       "schema": [
        {
         "metadata": "{}",
         "name": "num_affected_rows",
         "type": "\"long\""
        },
        {
         "metadata": "{}",
         "name": "num_inserted_rows",
         "type": "\"long\""
        }
       ],
       "type": "table"
      }
     },
     "output_type": "display_data"
    }
   ],
   "source": [
    "%sql\n",
    "INSERT INTO estatisticas (id_estatisticas, id_jogador, id_universidade, nome_jogador, nome_universidade, jogos_disputados, pontos_jogo, rebotes_jogo, assistencias_jogo, roubos_de_bola_jogo, tocos_jogo, turnovers_jogo, fg_percent, 3pt_percent, ft_percent)\n",
    "VALUES\n",
    "(1, 1, 5, 'Jonathan Williams', 'Gonzaga', 38, 13.6, 6.9, 2.1, 1.4, 0.8, 2.0, '45.3%', '33.2%', '78.6%'),\n",
    "(2, 2, 5, 'Zach Norvell', 'Gonzaga', 37, 12.7, 5.0, 3.3, 1.0, 0.3, 1.8, '44.0%', '36.2%', '75.0%'),\n",
    "(3, 3, 5, 'Killian Tillie', 'Gonzaga', 36, 12.9, 5.1, 1.6, 1.1, 1.0, 1.4, '56.3%', '41.2%', '77.2%'),\n",
    "(4, 4, 5, 'Josh Perkins', 'Gonzaga', 39, 10.5, 2.7, 5.4, 1.0, 0.2, 2.1, '43.8%', '38.0%', '78.0%'),\n",
    "(5, 5, 5, 'Rui Hachimura', 'Gonzaga', 39, 19.7, 6.5, 1.5, 0.7, 0.6, 1.5, '59.0%', '32.6%', '75.0%'),\n",
    "(6, 6, 5, 'Silas Melson', 'Gonzaga', 37, 7.1, 2.0, 1.3, 0.7, 0.4, 1.0, '40.2%', '29.6%', '73.5%'),\n",
    "(7, 7, 5, 'Corey Kispert', 'Gonzaga', 38, 8.6, 5.0, 1.4, 0.8, 0.5, 1.0, '45.5%', '40.3%', '80.2%'),\n",
    "(8, 8, 5, 'Jacob Larsen', 'Gonzaga', 12, 3.2, 2.1, 0.3, 0.1, 0.7, 0.4, '48.3%', '0.0%', '0.0%'),\n",
    "(9, 9, 5, 'Jeremy Jones', 'Gonzaga', 24, 5.3, 3.1, 1.1, 0.6, 0.5, 0.9, '42.5%', '33.0%', '72.5%'),\n",
    "(10, 10, 5, 'Jesse Wade', 'Gonzaga', 15, 4.0, 1.2, 1.0, 0.5, 0.2, 0.7, '39.4%', '34.2%', '80.5%'),\n",
    "(11, 11, 5, 'Brian Pete', 'Gonzaga', 17, 2.3, 0.9, 0.3, 0.2, 0.1, 0.6, '38.8%', '33.4%', '76.0%'),\n",
    "(12, 12, 5, 'Alex Martin', 'Gonzaga', 9, 1.1, 0.4, 0.2, 0.1, 0.0, 0.3, '30.0%', '20.0%', '65.0%'),\n",
    "(13, 13, 5, 'Jack Beach', 'Gonzaga', 7, 0.9, 0.2, 0.1, 0.1, 0.1, 0.2, '33.3%', '16.7%', '62.5%');\n"
   ]
  },
  {
   "cell_type": "code",
   "execution_count": 0,
   "metadata": {
    "application/vnd.databricks.v1+cell": {
     "cellMetadata": {
      "byteLimit": 2048000,
      "implicitDf": true,
      "rowLimit": 10000
     },
     "inputWidgets": {},
     "nuid": "75fd186b-ddfe-4fb9-b05b-0a290bed5686",
     "showTitle": false,
     "tableResultSettingsMap": {},
     "title": ""
    }
   },
   "outputs": [
    {
     "output_type": "display_data",
     "data": {
      "text/html": [
       "<style scoped>\n",
       "  .table-result-container {\n",
       "    max-height: 300px;\n",
       "    overflow: auto;\n",
       "  }\n",
       "  table, th, td {\n",
       "    border: 1px solid black;\n",
       "    border-collapse: collapse;\n",
       "  }\n",
       "  th, td {\n",
       "    padding: 5px;\n",
       "  }\n",
       "  th {\n",
       "    text-align: left;\n",
       "  }\n",
       "</style><div class='table-result-container'><table class='table-result'><thead style='background-color: white'><tr><th>num_affected_rows</th><th>num_inserted_rows</th></tr></thead><tbody><tr><td>13</td><td>13</td></tr></tbody></table></div>"
      ]
     },
     "metadata": {
      "application/vnd.databricks.v1+output": {
       "addedWidgets": {},
       "aggData": [],
       "aggError": "",
       "aggOverflow": false,
       "aggSchema": [],
       "aggSeriesLimitReached": false,
       "aggType": "",
       "arguments": {},
       "columnCustomDisplayInfos": {},
       "data": [
        [
         13,
         13
        ]
       ],
       "datasetInfos": [],
       "dbfsResultPath": null,
       "isJsonSchema": true,
       "metadata": {},
       "overflow": false,
       "plotOptions": {
        "customPlotOptions": {},
        "displayType": "table",
        "pivotAggregation": null,
        "pivotColumns": null,
        "xColumns": null,
        "yColumns": null
       },
       "removedWidgets": [],
       "schema": [
        {
         "metadata": "{}",
         "name": "num_affected_rows",
         "type": "\"long\""
        },
        {
         "metadata": "{}",
         "name": "num_inserted_rows",
         "type": "\"long\""
        }
       ],
       "type": "table"
      }
     },
     "output_type": "display_data"
    }
   ],
   "source": [
    "%sql\n",
    "INSERT INTO transicao_para_nba (id_transicao, id_jogador, id_universidade, nome_jogador, nome_universidade, ano_entrada_ncaa, ano_entrada_nba, entrou_nba, anos_jogados_nba, ainda_ativo)\n",
    "VALUES\n",
    "(1, 1, 5, 'Jonathan Williams', 'Gonzaga', 2014, 2018, 1, 1, 0),\n",
    "(2, 2, 5, 'Zach Norvell', 'Gonzaga', 2016, NULL, 0, 0, 0),\n",
    "(3, 3, 5, 'Killian Tillie', 'Gonzaga', 2016, NULL, 0, 0, 1),\n",
    "(4, 4, 5, 'Josh Perkins', 'Gonzaga', 2014, NULL, 0, 0, 0),\n",
    "(5, 5, 5, 'Rui Hachimura', 'Gonzaga', 2016, 2019, 1, 4, 1),\n",
    "(6, 6, 5, 'Silas Melson', 'Gonzaga', 2014, NULL, 0, 0, 0),\n",
    "(7, 7, 5, 'Corey Kispert', 'Gonzaga', 2016, NULL, 0, 0, 1),\n",
    "(8, 8, 5, 'Jacob Larsen', 'Gonzaga', 2015, NULL, 0, 0, 0),\n",
    "(9, 9, 5, 'Jeremy Jones', 'Gonzaga', 2015, NULL, 0, 0, 0),\n",
    "(10, 10, 5, 'Jesse Wade', 'Gonzaga', 2016, NULL, 0, 0, 0),\n",
    "(11, 11, 5, 'Brian Pete', 'Gonzaga', 2015, NULL, 0, 0, 0),\n",
    "(12, 12, 5, 'Alex Martin', 'Gonzaga', 2015, NULL, 0, 0, 0),\n",
    "(13, 13, 5, 'Jack Beach', 'Gonzaga', 2015, NULL, 0, 0, 0);\n"
   ]
  },
  {
   "cell_type": "markdown",
   "metadata": {
    "application/vnd.databricks.v1+cell": {
     "cellMetadata": {},
     "inputWidgets": {},
     "nuid": "cf5b31ac-b334-490a-b622-31f59d207fa2",
     "showTitle": false,
     "tableResultSettingsMap": {},
     "title": ""
    }
   },
   "source": [
    "### Time MICHIGAN"
   ]
  },
  {
   "cell_type": "code",
   "execution_count": 0,
   "metadata": {
    "application/vnd.databricks.v1+cell": {
     "cellMetadata": {
      "byteLimit": 2048000,
      "implicitDf": true,
      "rowLimit": 10000
     },
     "inputWidgets": {},
     "nuid": "168f5e78-35bf-4c70-8a28-8fb4472571d0",
     "showTitle": false,
     "tableResultSettingsMap": {},
     "title": ""
    }
   },
   "outputs": [
    {
     "output_type": "display_data",
     "data": {
      "text/html": [
       "<style scoped>\n",
       "  .table-result-container {\n",
       "    max-height: 300px;\n",
       "    overflow: auto;\n",
       "  }\n",
       "  table, th, td {\n",
       "    border: 1px solid black;\n",
       "    border-collapse: collapse;\n",
       "  }\n",
       "  th, td {\n",
       "    padding: 5px;\n",
       "  }\n",
       "  th {\n",
       "    text-align: left;\n",
       "  }\n",
       "</style><div class='table-result-container'><table class='table-result'><thead style='background-color: white'><tr><th>num_affected_rows</th><th>num_inserted_rows</th></tr></thead><tbody><tr><td>1</td><td>1</td></tr></tbody></table></div>"
      ]
     },
     "metadata": {
      "application/vnd.databricks.v1+output": {
       "addedWidgets": {},
       "aggData": [],
       "aggError": "",
       "aggOverflow": false,
       "aggSchema": [],
       "aggSeriesLimitReached": false,
       "aggType": "",
       "arguments": {},
       "columnCustomDisplayInfos": {},
       "data": [
        [
         1,
         1
        ]
       ],
       "datasetInfos": [],
       "dbfsResultPath": null,
       "isJsonSchema": true,
       "metadata": {},
       "overflow": false,
       "plotOptions": {
        "customPlotOptions": {},
        "displayType": "table",
        "pivotAggregation": null,
        "pivotColumns": null,
        "xColumns": null,
        "yColumns": null
       },
       "removedWidgets": [],
       "schema": [
        {
         "metadata": "{}",
         "name": "num_affected_rows",
         "type": "\"long\""
        },
        {
         "metadata": "{}",
         "name": "num_inserted_rows",
         "type": "\"long\""
        }
       ],
       "type": "table"
      }
     },
     "output_type": "display_data"
    }
   ],
   "source": [
    "%sql\n",
    "INSERT INTO universidade (id_universidade, nome, conferencia, ano, jogos, vitorias, pos_temporada)\n",
    "VALUES\n",
    "(12, 'Michigan', 'Big Ten Conference', 2017, 37, 33, 'Final Four');\n"
   ]
  },
  {
   "cell_type": "code",
   "execution_count": 0,
   "metadata": {
    "application/vnd.databricks.v1+cell": {
     "cellMetadata": {
      "byteLimit": 2048000,
      "implicitDf": true,
      "rowLimit": 10000
     },
     "inputWidgets": {},
     "nuid": "33e18b81-3290-436c-8548-11e1f3d72312",
     "showTitle": false,
     "tableResultSettingsMap": {},
     "title": ""
    }
   },
   "outputs": [
    {
     "output_type": "display_data",
     "data": {
      "text/html": [
       "<style scoped>\n",
       "  .table-result-container {\n",
       "    max-height: 300px;\n",
       "    overflow: auto;\n",
       "  }\n",
       "  table, th, td {\n",
       "    border: 1px solid black;\n",
       "    border-collapse: collapse;\n",
       "  }\n",
       "  th, td {\n",
       "    padding: 5px;\n",
       "  }\n",
       "  th {\n",
       "    text-align: left;\n",
       "  }\n",
       "</style><div class='table-result-container'><table class='table-result'><thead style='background-color: white'><tr><th>num_affected_rows</th><th>num_inserted_rows</th></tr></thead><tbody><tr><td>17</td><td>17</td></tr></tbody></table></div>"
      ]
     },
     "metadata": {
      "application/vnd.databricks.v1+output": {
       "addedWidgets": {},
       "aggData": [],
       "aggError": "",
       "aggOverflow": false,
       "aggSchema": [],
       "aggSeriesLimitReached": false,
       "aggType": "",
       "arguments": {},
       "columnCustomDisplayInfos": {},
       "data": [
        [
         17,
         17
        ]
       ],
       "datasetInfos": [],
       "dbfsResultPath": null,
       "isJsonSchema": true,
       "metadata": {},
       "overflow": false,
       "plotOptions": {
        "customPlotOptions": {},
        "displayType": "table",
        "pivotAggregation": null,
        "pivotColumns": null,
        "xColumns": null,
        "yColumns": null
       },
       "removedWidgets": [],
       "schema": [
        {
         "metadata": "{}",
         "name": "num_affected_rows",
         "type": "\"long\""
        },
        {
         "metadata": "{}",
         "name": "num_inserted_rows",
         "type": "\"long\""
        }
       ],
       "type": "table"
      }
     },
     "output_type": "display_data"
    }
   ],
   "source": [
    "%sql\n",
    "INSERT INTO jogador (id, rankings_id, universidade_id, nome, idade, posicao, universidade_nome)\n",
    "VALUES\n",
    "(1, 1, 6, 'Moritz Wagner', 21, 'C', 'Michigan'),\n",
    "(2, 2, 6, 'Charles Matthews', 22, 'SG', 'Michigan'),\n",
    "(3, 3, 6, 'Muhammad-Ali Abdur-Rahkman', 24, 'SG', 'Michigan'),\n",
    "(4, 4, 6, 'Duncan Robinson', 24, 'SF', 'Michigan'),\n",
    "(5, 5, 6, 'Zavier Simpson', 21, 'PG', 'Michigan'),\n",
    "(6, 6, 6, 'Jordan Poole', 19, 'SG', 'Michigan'),\n",
    "(7, 7, 6, 'Jon Teske', 22, 'C', 'Michigan'),\n",
    "(8, 8, 6, 'Isaiah Livers', 20, 'SF', 'Michigan'),\n",
    "(9, 9, 6, 'Ibi Watson', 22, 'SG', 'Michigan'),\n",
    "(10, 10, 6, 'Eli Brooks', 20, 'PG', 'Michigan'),\n",
    "(11, 11, 6, 'Jaaron Simmons', 23, 'PG', 'Michigan'),\n",
    "(12, 12, 6, 'Austin Davis', 22, 'C', 'Michigan'),\n",
    "(13, 13, 6, 'Brent Hibbitts', 22, 'SG', 'Michigan'),\n",
    "(14, 14, 6, 'C.J. Baird', 22, 'SF', 'Michigan'),\n",
    "(15, 15, 6, 'Naji Ozeir', 22, 'SG', 'Michigan'),\n",
    "(16, 16, 6, 'Rico Ozuna-Harrison', 22, 'SG', 'Michigan'),\n",
    "(17, 17, 6, 'Luke Wilson', 21, 'SG', 'Michigan');\n"
   ]
  },
  {
   "cell_type": "code",
   "execution_count": 0,
   "metadata": {
    "application/vnd.databricks.v1+cell": {
     "cellMetadata": {
      "byteLimit": 2048000,
      "implicitDf": true,
      "rowLimit": 10000
     },
     "inputWidgets": {},
     "nuid": "8ec93e33-03c0-485f-a5a0-754cf7abaa0f",
     "showTitle": false,
     "tableResultSettingsMap": {},
     "title": ""
    }
   },
   "outputs": [
    {
     "output_type": "display_data",
     "data": {
      "text/html": [
       "<style scoped>\n",
       "  .table-result-container {\n",
       "    max-height: 300px;\n",
       "    overflow: auto;\n",
       "  }\n",
       "  table, th, td {\n",
       "    border: 1px solid black;\n",
       "    border-collapse: collapse;\n",
       "  }\n",
       "  th, td {\n",
       "    padding: 5px;\n",
       "  }\n",
       "  th {\n",
       "    text-align: left;\n",
       "  }\n",
       "</style><div class='table-result-container'><table class='table-result'><thead style='background-color: white'><tr><th>num_affected_rows</th><th>num_inserted_rows</th></tr></thead><tbody><tr><td>17</td><td>17</td></tr></tbody></table></div>"
      ]
     },
     "metadata": {
      "application/vnd.databricks.v1+output": {
       "addedWidgets": {},
       "aggData": [],
       "aggError": "",
       "aggOverflow": false,
       "aggSchema": [],
       "aggSeriesLimitReached": false,
       "aggType": "",
       "arguments": {},
       "columnCustomDisplayInfos": {},
       "data": [
        [
         17,
         17
        ]
       ],
       "datasetInfos": [],
       "dbfsResultPath": null,
       "isJsonSchema": true,
       "metadata": {},
       "overflow": false,
       "plotOptions": {
        "customPlotOptions": {},
        "displayType": "table",
        "pivotAggregation": null,
        "pivotColumns": null,
        "xColumns": null,
        "yColumns": null
       },
       "removedWidgets": [],
       "schema": [
        {
         "metadata": "{}",
         "name": "num_affected_rows",
         "type": "\"long\""
        },
        {
         "metadata": "{}",
         "name": "num_inserted_rows",
         "type": "\"long\""
        }
       ],
       "type": "table"
      }
     },
     "output_type": "display_data"
    }
   ],
   "source": [
    "%sql\n",
    "INSERT INTO rankings (rankings_id, id_jogador, id_universidade, nome_jogador, nome_universidade, rsci_rankings, espn_rankings, rivals_rankings, 247sports_rankings)\n",
    "VALUES\n",
    "(1, 1, 6, 'Moritz Wagner', 'Michigan', 13, 15, 17, 12),\n",
    "(2, 2, 6, 'Charles Matthews', 'Michigan', 30, 35, 40, 38),\n",
    "(3, 3, 6, 'Muhammad-Ali Abdur-Rahkman', 'Michigan', 90, 80, 85, 95),\n",
    "(4, 4, 6, 'Duncan Robinson', 'Michigan', 70, 75, 65, 60),\n",
    "(5, 5, 6, 'Zavier Simpson', 'Michigan', 65, 60, 55, 50),\n",
    "(6, 6, 6, 'Jordan Poole', 'Michigan', 45, 40, 45, 42),\n",
    "(7, 7, 6, 'Jon Teske', 'Michigan', 200, 180, 190, 210),\n",
    "(8, 8, 6, 'Isaiah Livers', 'Michigan', 60, 50, 55, 53),\n",
    "(9, 9, 6, 'Ibi Watson', 'Michigan', 120, 110, 115, 130),\n",
    "(10, 10, 6, 'Eli Brooks', 'Michigan', 160, 150, 140, 170),\n",
    "(11, 11, 6, 'Jaaron Simmons', 'Michigan', 180, 170, 160, 190),\n",
    "(12, 12, 6, 'Austin Davis', 'Michigan', 220, 210, 230, 240),\n",
    "(13, 13, 6, 'Brent Hibbitts', 'Michigan', 230, 240, 250, 260),\n",
    "(14, 14, 6, 'C.J. Baird', 'Michigan', 250, 260, 270, 280),\n",
    "(15, 15, 6, 'Naji Ozeir', 'Michigan', 240, 230, 220, 210),\n",
    "(16, 16, 6, 'Rico Ozuna-Harrison', 'Michigan', 230, 220, 210, 200),\n",
    "(17, 17, 6, 'Luke Wilson', 'Michigan', 240, 250, 260, 270);\n"
   ]
  },
  {
   "cell_type": "code",
   "execution_count": 0,
   "metadata": {
    "application/vnd.databricks.v1+cell": {
     "cellMetadata": {
      "byteLimit": 2048000,
      "implicitDf": true,
      "rowLimit": 10000
     },
     "inputWidgets": {},
     "nuid": "bceea5c0-ff28-4971-bef9-0f657d582e32",
     "showTitle": false,
     "tableResultSettingsMap": {},
     "title": ""
    }
   },
   "outputs": [
    {
     "output_type": "display_data",
     "data": {
      "text/html": [
       "<style scoped>\n",
       "  .table-result-container {\n",
       "    max-height: 300px;\n",
       "    overflow: auto;\n",
       "  }\n",
       "  table, th, td {\n",
       "    border: 1px solid black;\n",
       "    border-collapse: collapse;\n",
       "  }\n",
       "  th, td {\n",
       "    padding: 5px;\n",
       "  }\n",
       "  th {\n",
       "    text-align: left;\n",
       "  }\n",
       "</style><div class='table-result-container'><table class='table-result'><thead style='background-color: white'><tr><th>num_affected_rows</th><th>num_inserted_rows</th></tr></thead><tbody><tr><td>17</td><td>17</td></tr></tbody></table></div>"
      ]
     },
     "metadata": {
      "application/vnd.databricks.v1+output": {
       "addedWidgets": {},
       "aggData": [],
       "aggError": "",
       "aggOverflow": false,
       "aggSchema": [],
       "aggSeriesLimitReached": false,
       "aggType": "",
       "arguments": {},
       "columnCustomDisplayInfos": {},
       "data": [
        [
         17,
         17
        ]
       ],
       "datasetInfos": [],
       "dbfsResultPath": null,
       "isJsonSchema": true,
       "metadata": {},
       "overflow": false,
       "plotOptions": {
        "customPlotOptions": {},
        "displayType": "table",
        "pivotAggregation": null,
        "pivotColumns": null,
        "xColumns": null,
        "yColumns": null
       },
       "removedWidgets": [],
       "schema": [
        {
         "metadata": "{}",
         "name": "num_affected_rows",
         "type": "\"long\""
        },
        {
         "metadata": "{}",
         "name": "num_inserted_rows",
         "type": "\"long\""
        }
       ],
       "type": "table"
      }
     },
     "output_type": "display_data"
    }
   ],
   "source": [
    "%sql\n",
    "INSERT INTO estatisticas (id_estatisticas, id_jogador, id_universidade, nome_jogador, nome_universidade, jogos_disputados, pontos_jogo, rebotes_jogo, assistencias_jogo, roubos_de_bola_jogo, tocos_jogo, turnovers_jogo, fg_percent, 3pt_percent, ft_percent)\n",
    "VALUES\n",
    "(1, 1, 6, 'Moritz Wagner', 'Michigan', 38, 14.6, 7.1, 1.5, 0.6, 1.1, 1.8, '52.0%', '39.4%', '73.8%'),\n",
    "(2, 2, 6, 'Charles Matthews', 'Michigan', 37, 13.0, 5.0, 2.1, 1.1, 0.5, 1.7, '48.5%', '32.0%', '75.0%'),\n",
    "(3, 3, 6, 'Muhammad-Ali Abdur-Rahkman', 'Michigan', 37, 11.0, 3.1, 4.3, 1.2, 0.2, 2.1, '46.0%', '36.2%', '80.0%'),\n",
    "(4, 4, 6, 'Duncan Robinson', 'Michigan', 39, 6.1, 2.0, 0.8, 0.4, 0.2, 0.8, '48.3%', '44.4%', '83.3%'),\n",
    "(5, 5, 6, 'Zavier Simpson', 'Michigan', 38, 8.7, 3.1, 6.6, 1.3, 0.2, 2.2, '43.5%', '32.5%', '69.0%'),\n",
    "(6, 6, 6, 'Jordan Poole', 'Michigan', 38, 6.0, 2.5, 1.4, 0.7, 0.2, 1.1, '42.6%', '35.0%', '77.1%'),\n",
    "(7, 7, 6, 'Jon Teske', 'Michigan', 38, 6.1, 5.0, 0.7, 0.4, 1.9, 1.3, '56.8%', '33.3%', '66.7%'),\n",
    "(8, 8, 6, 'Isaiah Livers', 'Michigan', 34, 7.5, 4.1, 0.9, 0.8, 0.4, 1.0, '48.9%', '40.4%', '80.3%'),\n",
    "(9, 9, 6, 'Ibi Watson', 'Michigan', 29, 3.6, 1.2, 0.6, 0.5, 0.2, 0.5, '40.0%', '30.0%', '70.0%'),\n",
    "(10, 10, 6, 'Eli Brooks', 'Michigan', 34, 4.1, 2.0, 2.3, 0.5, 0.2, 1.3, '44.6%', '34.0%', '70.1%'),\n",
    "(11, 11, 6, 'Jaaron Simmons', 'Michigan', 23, 4.0, 1.5, 3.5, 0.6, 0.1, 1.5, '38.9%', '30.0%', '65.0%'),\n",
    "(12, 12, 6, 'Austin Davis', 'Michigan', 17, 4.5, 2.5, 0.6, 0.1, 1.2, 0.8, '52.2%', '0.0%', '60.0%'),\n",
    "(13, 13, 6, 'Brent Hibbitts', 'Michigan', 10, 2.1, 0.5, 0.2, 0.2, 0.0, 0.5, '45.0%', '25.0%', '70.0%'),\n",
    "(14, 14, 6, 'C.J. Baird', 'Michigan', 5, 1.2, 0.5, 0.1, 0.1, 0.0, 0.3, '40.0%', '33.0%', '72.5%'),\n",
    "(15, 15, 6, 'Naji Ozeir', 'Michigan', 5, 0.8, 0.2, 0.1, 0.0, 0.0, 0.2, '36.0%', '30.0%', '60.0%'),\n",
    "(16, 16, 6, 'Rico Ozuna-Harrison', 'Michigan', 3, 1.0, 0.3, 0.0, 0.1, 0.0, 0.1, '40.0%', '35.0%', '65.0%'),\n",
    "(17, 17, 6, 'Luke Wilson', 'Michigan', 1, 0.2, 0.1, 0.0, 0.0, 0.0, 0.1, '30.0%', '40.0%', '60.0%');\n"
   ]
  },
  {
   "cell_type": "code",
   "execution_count": 0,
   "metadata": {
    "application/vnd.databricks.v1+cell": {
     "cellMetadata": {
      "byteLimit": 2048000,
      "implicitDf": true,
      "rowLimit": 10000
     },
     "inputWidgets": {},
     "nuid": "b5b0ae6d-d5fb-4128-9480-3420b2f3643f",
     "showTitle": false,
     "tableResultSettingsMap": {},
     "title": ""
    }
   },
   "outputs": [
    {
     "output_type": "display_data",
     "data": {
      "text/html": [
       "<style scoped>\n",
       "  .table-result-container {\n",
       "    max-height: 300px;\n",
       "    overflow: auto;\n",
       "  }\n",
       "  table, th, td {\n",
       "    border: 1px solid black;\n",
       "    border-collapse: collapse;\n",
       "  }\n",
       "  th, td {\n",
       "    padding: 5px;\n",
       "  }\n",
       "  th {\n",
       "    text-align: left;\n",
       "  }\n",
       "</style><div class='table-result-container'><table class='table-result'><thead style='background-color: white'><tr><th>num_affected_rows</th><th>num_inserted_rows</th></tr></thead><tbody><tr><td>17</td><td>17</td></tr></tbody></table></div>"
      ]
     },
     "metadata": {
      "application/vnd.databricks.v1+output": {
       "addedWidgets": {},
       "aggData": [],
       "aggError": "",
       "aggOverflow": false,
       "aggSchema": [],
       "aggSeriesLimitReached": false,
       "aggType": "",
       "arguments": {},
       "columnCustomDisplayInfos": {},
       "data": [
        [
         17,
         17
        ]
       ],
       "datasetInfos": [],
       "dbfsResultPath": null,
       "isJsonSchema": true,
       "metadata": {},
       "overflow": false,
       "plotOptions": {
        "customPlotOptions": {},
        "displayType": "table",
        "pivotAggregation": null,
        "pivotColumns": null,
        "xColumns": null,
        "yColumns": null
       },
       "removedWidgets": [],
       "schema": [
        {
         "metadata": "{}",
         "name": "num_affected_rows",
         "type": "\"long\""
        },
        {
         "metadata": "{}",
         "name": "num_inserted_rows",
         "type": "\"long\""
        }
       ],
       "type": "table"
      }
     },
     "output_type": "display_data"
    }
   ],
   "source": [
    "%sql\n",
    "INSERT INTO transicao_para_nba (id_transicao, id_jogador, id_universidade, nome_jogador, nome_universidade, ano_entrada_ncaa, ano_entrada_nba, entrou_nba, anos_jogados_nba, ainda_ativo)\n",
    "VALUES\n",
    "(1, 1, 6, 'Moritz Wagner', 'Michigan', 2015, 2018, 1, 5, 1),\n",
    "(2, 2, 6, 'Charles Matthews', 'Michigan', 2015, 2019, 0, 0, 0),\n",
    "(3, 3, 6, 'Muhammad-Ali Abdur-Rahkman', 'Michigan', 2014, 2018, 0, 0, 0),\n",
    "(4, 4, 6, 'Duncan Robinson', 'Michigan', 2014, 2018, 1, 4, 1),\n",
    "(5, 5, 6, 'Zavier Simpson', 'Michigan', 2016, NULL, 0, 0, 0),\n",
    "(6, 6, 6, 'Jordan Poole', 'Michigan', 2017, 2019, 1, 4, 1),\n",
    "(7, 7, 6, 'Jon Teske', 'Michigan', 2015, NULL, 0, 0, 0),\n",
    "(8, 8, 6, 'Isaiah Livers', 'Michigan', 2017, 2021, 1, 2, 1),\n",
    "(9, 9, 6, 'Ibi Watson', 'Michigan', 2016, NULL, 0, 0, 0),\n",
    "(10, 10, 6, 'Eli Brooks', 'Michigan', 2016, NULL, 0, 0, 1),\n",
    "(11, 11, 6, 'Jaaron Simmons', 'Michigan', 2016, NULL, 0, 0, 0),\n",
    "(12, 12, 6, 'Austin Davis', 'Michigan', 2015, NULL, 0, 0, 0),\n",
    "(13, 13, 6, 'Brent Hibbitts', 'Michigan', 2015, NULL, 0, 0, 0),\n",
    "(14, 14, 6, 'C.J. Baird', 'Michigan', 2015, NULL, 0, 0, 0),\n",
    "(15, 15, 6, 'Naji Ozeir', 'Michigan', 2017, NULL, 0, 0, 0),\n",
    "(16, 16, 6, 'Rico Ozuna-Harrison', 'Michigan', 2017, NULL, 0, 0, 0),\n",
    "(17, 17, 6, 'Luke Wilson', 'Michigan', 2017, NULL, 0, 0, 0);\n"
   ]
  },
  {
   "cell_type": "markdown",
   "metadata": {
    "application/vnd.databricks.v1+cell": {
     "cellMetadata": {},
     "inputWidgets": {},
     "nuid": "576475c8-89d6-4ee0-a971-4638ad9df03f",
     "showTitle": false,
     "tableResultSettingsMap": {},
     "title": ""
    }
   },
   "source": [
    "### Time Texas A&M"
   ]
  },
  {
   "cell_type": "code",
   "execution_count": 0,
   "metadata": {
    "application/vnd.databricks.v1+cell": {
     "cellMetadata": {
      "byteLimit": 2048000,
      "implicitDf": true,
      "rowLimit": 10000
     },
     "inputWidgets": {},
     "nuid": "19e7adbe-3e6c-459f-b11a-293e5e03e5bf",
     "showTitle": false,
     "tableResultSettingsMap": {},
     "title": ""
    }
   },
   "outputs": [
    {
     "output_type": "display_data",
     "data": {
      "text/html": [
       "<style scoped>\n",
       "  .table-result-container {\n",
       "    max-height: 300px;\n",
       "    overflow: auto;\n",
       "  }\n",
       "  table, th, td {\n",
       "    border: 1px solid black;\n",
       "    border-collapse: collapse;\n",
       "  }\n",
       "  th, td {\n",
       "    padding: 5px;\n",
       "  }\n",
       "  th {\n",
       "    text-align: left;\n",
       "  }\n",
       "</style><div class='table-result-container'><table class='table-result'><thead style='background-color: white'><tr><th>num_affected_rows</th><th>num_inserted_rows</th></tr></thead><tbody><tr><td>1</td><td>1</td></tr></tbody></table></div>"
      ]
     },
     "metadata": {
      "application/vnd.databricks.v1+output": {
       "addedWidgets": {},
       "aggData": [],
       "aggError": "",
       "aggOverflow": false,
       "aggSchema": [],
       "aggSeriesLimitReached": false,
       "aggType": "",
       "arguments": {},
       "columnCustomDisplayInfos": {},
       "data": [
        [
         1,
         1
        ]
       ],
       "datasetInfos": [],
       "dbfsResultPath": null,
       "isJsonSchema": true,
       "metadata": {},
       "overflow": false,
       "plotOptions": {
        "customPlotOptions": {},
        "displayType": "table",
        "pivotAggregation": null,
        "pivotColumns": null,
        "xColumns": null,
        "yColumns": null
       },
       "removedWidgets": [],
       "schema": [
        {
         "metadata": "{}",
         "name": "num_affected_rows",
         "type": "\"long\""
        },
        {
         "metadata": "{}",
         "name": "num_inserted_rows",
         "type": "\"long\""
        }
       ],
       "type": "table"
      }
     },
     "output_type": "display_data"
    }
   ],
   "source": [
    "%sql\n",
    "INSERT INTO universidade VALUES (\n",
    "  7, -- ID fictício para Texas A&M\n",
    "  'Texas A&M',\n",
    "  'SEC',\n",
    "  2018,\n",
    "  37,\n",
    "  22,\n",
    "  'Sweet 16'\n",
    ");\n"
   ]
  },
  {
   "cell_type": "code",
   "execution_count": 0,
   "metadata": {
    "application/vnd.databricks.v1+cell": {
     "cellMetadata": {
      "byteLimit": 2048000,
      "implicitDf": true,
      "rowLimit": 10000
     },
     "inputWidgets": {},
     "nuid": "03fa2e77-3c2a-408e-8b15-b1c59e95423c",
     "showTitle": false,
     "tableResultSettingsMap": {},
     "title": ""
    }
   },
   "outputs": [
    {
     "output_type": "display_data",
     "data": {
      "text/html": [
       "<style scoped>\n",
       "  .table-result-container {\n",
       "    max-height: 300px;\n",
       "    overflow: auto;\n",
       "  }\n",
       "  table, th, td {\n",
       "    border: 1px solid black;\n",
       "    border-collapse: collapse;\n",
       "  }\n",
       "  th, td {\n",
       "    padding: 5px;\n",
       "  }\n",
       "  th {\n",
       "    text-align: left;\n",
       "  }\n",
       "</style><div class='table-result-container'><table class='table-result'><thead style='background-color: white'><tr><th>num_affected_rows</th><th>num_inserted_rows</th></tr></thead><tbody><tr><td>15</td><td>15</td></tr></tbody></table></div>"
      ]
     },
     "metadata": {
      "application/vnd.databricks.v1+output": {
       "addedWidgets": {},
       "aggData": [],
       "aggError": "",
       "aggOverflow": false,
       "aggSchema": [],
       "aggSeriesLimitReached": false,
       "aggType": "",
       "arguments": {},
       "columnCustomDisplayInfos": {},
       "data": [
        [
         15,
         15
        ]
       ],
       "datasetInfos": [],
       "dbfsResultPath": null,
       "isJsonSchema": true,
       "metadata": {},
       "overflow": false,
       "plotOptions": {
        "customPlotOptions": {},
        "displayType": "table",
        "pivotAggregation": null,
        "pivotColumns": null,
        "xColumns": null,
        "yColumns": null
       },
       "removedWidgets": [],
       "schema": [
        {
         "metadata": "{}",
         "name": "num_affected_rows",
         "type": "\"long\""
        },
        {
         "metadata": "{}",
         "name": "num_inserted_rows",
         "type": "\"long\""
        }
       ],
       "type": "table"
      }
     },
     "output_type": "display_data"
    }
   ],
   "source": [
    "%sql\n",
    "INSERT INTO jogador VALUES\n",
    "(701, 701, 7, 'Tyler Davis', 21, 'C', 'Texas A&M'),\n",
    "(702, 702, 7, 'Admon Gilder', 22, 'SG', 'Texas A&M'),\n",
    "(703, 703, 7, 'DJ Hogg', 21, 'SF', 'Texas A&M'),\n",
    "(704, 704, 7, 'TJ Starks', 19, 'PG', 'Texas A&M'),\n",
    "(705, 705, 7, 'Robert Williams', 20, 'PF', 'Texas A&M'),\n",
    "(706, 706, 7, 'Tonny Trocha-Morelos', 23, 'C', 'Texas A&M'),\n",
    "(707, 707, 7, 'Duane Wilson', 23, 'PG', 'Texas A&M'),\n",
    "(708, 708, 7, 'Jay Jay Chandler', 19, 'SG', 'Texas A&M'),\n",
    "(709, 709, 7, 'Savion Flagg', 18, 'SF', 'Texas A&M'),\n",
    "(710, 710, 7, 'JJ Caldwell', 20, 'PG', 'Texas A&M'),\n",
    "(711, 711, 7, 'Chris Collins', 22, 'G', 'Texas A&M'),\n",
    "(712, 712, 7, 'Isiah Jasey', 19, 'F', 'Texas A&M'),\n",
    "(713, 713, 7, 'Cameron Alo', 22, 'G', 'Texas A&M'),\n",
    "(714, 714, 7, 'Frank Byers', 22, 'F', 'Texas A&M'),\n",
    "(715, 715, 7, 'Mark French', 19, 'G', 'Texas A&M');\n"
   ]
  },
  {
   "cell_type": "code",
   "execution_count": 0,
   "metadata": {
    "application/vnd.databricks.v1+cell": {
     "cellMetadata": {
      "byteLimit": 2048000,
      "implicitDf": true,
      "rowLimit": 10000
     },
     "inputWidgets": {},
     "nuid": "8dac022e-85e9-4ae2-9816-5f3a43984333",
     "showTitle": false,
     "tableResultSettingsMap": {},
     "title": ""
    }
   },
   "outputs": [
    {
     "output_type": "display_data",
     "data": {
      "text/html": [
       "<style scoped>\n",
       "  .table-result-container {\n",
       "    max-height: 300px;\n",
       "    overflow: auto;\n",
       "  }\n",
       "  table, th, td {\n",
       "    border: 1px solid black;\n",
       "    border-collapse: collapse;\n",
       "  }\n",
       "  th, td {\n",
       "    padding: 5px;\n",
       "  }\n",
       "  th {\n",
       "    text-align: left;\n",
       "  }\n",
       "</style><div class='table-result-container'><table class='table-result'><thead style='background-color: white'><tr><th>num_affected_rows</th><th>num_inserted_rows</th></tr></thead><tbody><tr><td>15</td><td>15</td></tr></tbody></table></div>"
      ]
     },
     "metadata": {
      "application/vnd.databricks.v1+output": {
       "addedWidgets": {},
       "aggData": [],
       "aggError": "",
       "aggOverflow": false,
       "aggSchema": [],
       "aggSeriesLimitReached": false,
       "aggType": "",
       "arguments": {},
       "columnCustomDisplayInfos": {},
       "data": [
        [
         15,
         15
        ]
       ],
       "datasetInfos": [],
       "dbfsResultPath": null,
       "isJsonSchema": true,
       "metadata": {},
       "overflow": false,
       "plotOptions": {
        "customPlotOptions": {},
        "displayType": "table",
        "pivotAggregation": null,
        "pivotColumns": null,
        "xColumns": null,
        "yColumns": null
       },
       "removedWidgets": [],
       "schema": [
        {
         "metadata": "{}",
         "name": "num_affected_rows",
         "type": "\"long\""
        },
        {
         "metadata": "{}",
         "name": "num_inserted_rows",
         "type": "\"long\""
        }
       ],
       "type": "table"
      }
     },
     "output_type": "display_data"
    }
   ],
   "source": [
    "%sql\n",
    "INSERT INTO rankings VALUES\n",
    "(701, 701, 7, 'Tyler Davis', 'Texas A&M', 31, 37, 34, 30),\n",
    "(702, 702, 7, 'Admon Gilder', 'Texas A&M', 85, 91, 88, 87),\n",
    "(703, 703, 7, 'DJ Hogg', 'Texas A&M', 56, 58, 60, 59),\n",
    "(704, 704, 7, 'TJ Starks', 'Texas A&M', 110, 105, 108, 107),\n",
    "(705, 705, 7, 'Robert Williams', 'Texas A&M', 50, 51, 45, 47),\n",
    "(706, 706, 7, 'Tonny Trocha-Morelos', 'Texas A&M', NULL, NULL, NULL, NULL),\n",
    "(707, 707, 7, 'Duane Wilson', 'Texas A&M', 92, 90, 88, 89),\n",
    "(708, 708, 7, 'Jay Jay Chandler', 'Texas A&M', 120, 122, 119, 121),\n",
    "(709, 709, 7, 'Savion Flagg', 'Texas A&M', 100, 97, 98, 99),\n",
    "(710, 710, 7, 'JJ Caldwell', 'Texas A&M', 72, 70, 68, 71),\n",
    "(711, 711, 7, 'Chris Collins', 'Texas A&M', NULL, NULL, NULL, NULL),\n",
    "(712, 712, 7, 'Isiah Jasey', 'Texas A&M', 108, 109, 111, 110),\n",
    "(713, 713, 7, 'Cameron Alo', 'Texas A&M', NULL, NULL, NULL, NULL),\n",
    "(714, 714, 7, 'Frank Byers', 'Texas A&M', NULL, NULL, NULL, NULL),\n",
    "(715, 715, 7, 'Mark French', 'Texas A&M', NULL, NULL, NULL, NULL);\n"
   ]
  },
  {
   "cell_type": "code",
   "execution_count": 0,
   "metadata": {
    "application/vnd.databricks.v1+cell": {
     "cellMetadata": {
      "byteLimit": 2048000,
      "implicitDf": true,
      "rowLimit": 10000
     },
     "inputWidgets": {},
     "nuid": "2a7a079c-21ea-4db6-80e9-648869f58784",
     "showTitle": false,
     "tableResultSettingsMap": {},
     "title": ""
    }
   },
   "outputs": [
    {
     "output_type": "display_data",
     "data": {
      "text/html": [
       "<style scoped>\n",
       "  .table-result-container {\n",
       "    max-height: 300px;\n",
       "    overflow: auto;\n",
       "  }\n",
       "  table, th, td {\n",
       "    border: 1px solid black;\n",
       "    border-collapse: collapse;\n",
       "  }\n",
       "  th, td {\n",
       "    padding: 5px;\n",
       "  }\n",
       "  th {\n",
       "    text-align: left;\n",
       "  }\n",
       "</style><div class='table-result-container'><table class='table-result'><thead style='background-color: white'><tr><th>num_affected_rows</th><th>num_inserted_rows</th></tr></thead><tbody><tr><td>6</td><td>6</td></tr></tbody></table></div>"
      ]
     },
     "metadata": {
      "application/vnd.databricks.v1+output": {
       "addedWidgets": {},
       "aggData": [],
       "aggError": "",
       "aggOverflow": false,
       "aggSchema": [],
       "aggSeriesLimitReached": false,
       "aggType": "",
       "arguments": {},
       "columnCustomDisplayInfos": {},
       "data": [
        [
         6,
         6
        ]
       ],
       "datasetInfos": [],
       "dbfsResultPath": null,
       "isJsonSchema": true,
       "metadata": {},
       "overflow": false,
       "plotOptions": {
        "customPlotOptions": {},
        "displayType": "table",
        "pivotAggregation": null,
        "pivotColumns": null,
        "xColumns": null,
        "yColumns": null
       },
       "removedWidgets": [],
       "schema": [
        {
         "metadata": "{}",
         "name": "num_affected_rows",
         "type": "\"long\""
        },
        {
         "metadata": "{}",
         "name": "num_inserted_rows",
         "type": "\"long\""
        }
       ],
       "type": "table"
      }
     },
     "output_type": "display_data"
    }
   ],
   "source": [
    "%sql\n",
    "INSERT INTO estatisticas VALUES\n",
    "(701, 701, 7, 'Tyler Davis', 'Texas A&M', 35, 14.9, 8.9, 1.3, 0.6, 1.3, 2.2, '58.5%', '00.0%', '62.0%'),\n",
    "(702, 702, 7, 'Admon Gilder', 'Texas A&M', 30, 12.3, 4.1, 2.6, 1.4, 0.1, 1.6, '44.1%', '39.5%', '80.2%'),\n",
    "(703, 703, 7, 'DJ Hogg', 'Texas A&M', 30, 11.1, 5.3, 2.6, 0.5, 0.5, 2.3, '41.3%', '37.1%', '72.7%'),\n",
    "(704, 704, 7, 'TJ Starks', 'Texas A&M', 32, 9.9, 2.0, 2.3, 0.7, 0.1, 2.4, '37.0%', '29.5%', '66.0%'),\n",
    "(705, 705, 7, 'Robert Williams', 'Texas A&M', 30, 10.4, 9.2, 1.4, 0.8, 2.6, 1.9, '46.2%', '25.0%', '47.1%'),\n",
    "(706, 706, 7, 'Tonny Trocha-Morelos', 'Texas A&M', 35, 6.6, 4.4, 1.3, 0.6, 0.9, 1.2, '41.7%', '34.3%', '67.7%');\n",
    "-- Os demais jogadores tiveram minutos limitados ou não jogaram o suficiente para estatísticas completas.\n"
   ]
  },
  {
   "cell_type": "code",
   "execution_count": 0,
   "metadata": {
    "application/vnd.databricks.v1+cell": {
     "cellMetadata": {
      "byteLimit": 2048000,
      "implicitDf": true,
      "rowLimit": 10000
     },
     "inputWidgets": {},
     "nuid": "b1b17c74-64e9-492e-8441-29c395379d88",
     "showTitle": false,
     "tableResultSettingsMap": {},
     "title": ""
    }
   },
   "outputs": [
    {
     "output_type": "display_data",
     "data": {
      "text/html": [
       "<style scoped>\n",
       "  .table-result-container {\n",
       "    max-height: 300px;\n",
       "    overflow: auto;\n",
       "  }\n",
       "  table, th, td {\n",
       "    border: 1px solid black;\n",
       "    border-collapse: collapse;\n",
       "  }\n",
       "  th, td {\n",
       "    padding: 5px;\n",
       "  }\n",
       "  th {\n",
       "    text-align: left;\n",
       "  }\n",
       "</style><div class='table-result-container'><table class='table-result'><thead style='background-color: white'><tr><th>num_affected_rows</th><th>num_inserted_rows</th></tr></thead><tbody><tr><td>6</td><td>6</td></tr></tbody></table></div>"
      ]
     },
     "metadata": {
      "application/vnd.databricks.v1+output": {
       "addedWidgets": {},
       "aggData": [],
       "aggError": "",
       "aggOverflow": false,
       "aggSchema": [],
       "aggSeriesLimitReached": false,
       "aggType": "",
       "arguments": {},
       "columnCustomDisplayInfos": {},
       "data": [
        [
         6,
         6
        ]
       ],
       "datasetInfos": [],
       "dbfsResultPath": null,
       "isJsonSchema": true,
       "metadata": {},
       "overflow": false,
       "plotOptions": {
        "customPlotOptions": {},
        "displayType": "table",
        "pivotAggregation": null,
        "pivotColumns": null,
        "xColumns": null,
        "yColumns": null
       },
       "removedWidgets": [],
       "schema": [
        {
         "metadata": "{}",
         "name": "num_affected_rows",
         "type": "\"long\""
        },
        {
         "metadata": "{}",
         "name": "num_inserted_rows",
         "type": "\"long\""
        }
       ],
       "type": "table"
      }
     },
     "output_type": "display_data"
    }
   ],
   "source": [
    "%sql\n",
    "INSERT INTO transicao_para_nba VALUES\n",
    "(701, 701, 7, 701, 'Tyler Davis', 'Texas A&M', 2015, 2018, 1, 1, 0),\n",
    "(702, 702, 7, 702, 'Admon Gilder', 'Texas A&M', 2015, NULL, 0, 0, 0),\n",
    "(703, 703, 7, 703, 'DJ Hogg', 'Texas A&M', 2015, NULL, 0, 0, 0),\n",
    "(704, 704, 7, 704, 'TJ Starks', 'Texas A&M', 2017, NULL, 0, 0, 0),\n",
    "(705, 705, 7, 705, 'Robert Williams', 'Texas A&M', 2016, 2018, 5, 3, 1),\n",
    "(706, 706, 7, 706, 'Tonny Trocha-Morelos', 'Texas A&M', 2014, NULL, 0, 0, 0);\n",
    "-- Os demais jogadores não entraram na NBA.\n"
   ]
  },
  {
   "cell_type": "markdown",
   "metadata": {
    "application/vnd.databricks.v1+cell": {
     "cellMetadata": {},
     "inputWidgets": {},
     "nuid": "36dca404-a991-4353-8c37-77fe95d6067d",
     "showTitle": false,
     "tableResultSettingsMap": {},
     "title": ""
    }
   },
   "source": [
    "### Time KANSAS"
   ]
  },
  {
   "cell_type": "code",
   "execution_count": 0,
   "metadata": {
    "application/vnd.databricks.v1+cell": {
     "cellMetadata": {
      "byteLimit": 2048000,
      "implicitDf": true,
      "rowLimit": 10000
     },
     "inputWidgets": {},
     "nuid": "a5ee0e28-604c-4b5f-9a47-8a813fb251d9",
     "showTitle": false,
     "tableResultSettingsMap": {},
     "title": ""
    }
   },
   "outputs": [
    {
     "output_type": "display_data",
     "data": {
      "text/html": [
       "<style scoped>\n",
       "  .table-result-container {\n",
       "    max-height: 300px;\n",
       "    overflow: auto;\n",
       "  }\n",
       "  table, th, td {\n",
       "    border: 1px solid black;\n",
       "    border-collapse: collapse;\n",
       "  }\n",
       "  th, td {\n",
       "    padding: 5px;\n",
       "  }\n",
       "  th {\n",
       "    text-align: left;\n",
       "  }\n",
       "</style><div class='table-result-container'><table class='table-result'><thead style='background-color: white'><tr><th>num_affected_rows</th><th>num_inserted_rows</th></tr></thead><tbody><tr><td>1</td><td>1</td></tr></tbody></table></div>"
      ]
     },
     "metadata": {
      "application/vnd.databricks.v1+output": {
       "addedWidgets": {},
       "aggData": [],
       "aggError": "",
       "aggOverflow": false,
       "aggSchema": [],
       "aggSeriesLimitReached": false,
       "aggType": "",
       "arguments": {},
       "columnCustomDisplayInfos": {},
       "data": [
        [
         1,
         1
        ]
       ],
       "datasetInfos": [],
       "dbfsResultPath": null,
       "isJsonSchema": true,
       "metadata": {},
       "overflow": false,
       "plotOptions": {
        "customPlotOptions": {},
        "displayType": "table",
        "pivotAggregation": null,
        "pivotColumns": null,
        "xColumns": null,
        "yColumns": null
       },
       "removedWidgets": [],
       "schema": [
        {
         "metadata": "{}",
         "name": "num_affected_rows",
         "type": "\"long\""
        },
        {
         "metadata": "{}",
         "name": "num_inserted_rows",
         "type": "\"long\""
        }
       ],
       "type": "table"
      }
     },
     "output_type": "display_data"
    }
   ],
   "source": [
    "%sql\n",
    "INSERT INTO universidade VALUES (\n",
    "  13, -- ID fictício para Kansas\n",
    "  'Kansas',\n",
    "  'Big 12',\n",
    "  2018,\n",
    "  39,\n",
    "  31,\n",
    "  'Final Four'\n",
    ");\n"
   ]
  },
  {
   "cell_type": "code",
   "execution_count": 0,
   "metadata": {
    "application/vnd.databricks.v1+cell": {
     "cellMetadata": {
      "byteLimit": 2048000,
      "implicitDf": true,
      "rowLimit": 10000
     },
     "inputWidgets": {},
     "nuid": "6b037cb7-554c-4709-8df2-0482bfccc49d",
     "showTitle": false,
     "tableResultSettingsMap": {},
     "title": ""
    }
   },
   "outputs": [
    {
     "output_type": "display_data",
     "data": {
      "text/html": [
       "<style scoped>\n",
       "  .table-result-container {\n",
       "    max-height: 300px;\n",
       "    overflow: auto;\n",
       "  }\n",
       "  table, th, td {\n",
       "    border: 1px solid black;\n",
       "    border-collapse: collapse;\n",
       "  }\n",
       "  th, td {\n",
       "    padding: 5px;\n",
       "  }\n",
       "  th {\n",
       "    text-align: left;\n",
       "  }\n",
       "</style><div class='table-result-container'><table class='table-result'><thead style='background-color: white'><tr><th>num_affected_rows</th><th>num_inserted_rows</th></tr></thead><tbody><tr><td>12</td><td>12</td></tr></tbody></table></div>"
      ]
     },
     "metadata": {
      "application/vnd.databricks.v1+output": {
       "addedWidgets": {},
       "aggData": [],
       "aggError": "",
       "aggOverflow": false,
       "aggSchema": [],
       "aggSeriesLimitReached": false,
       "aggType": "",
       "arguments": {},
       "columnCustomDisplayInfos": {},
       "data": [
        [
         12,
         12
        ]
       ],
       "datasetInfos": [],
       "dbfsResultPath": null,
       "isJsonSchema": true,
       "metadata": {},
       "overflow": false,
       "plotOptions": {
        "customPlotOptions": {},
        "displayType": "table",
        "pivotAggregation": null,
        "pivotColumns": null,
        "xColumns": null,
        "yColumns": null
       },
       "removedWidgets": [],
       "schema": [
        {
         "metadata": "{}",
         "name": "num_affected_rows",
         "type": "\"long\""
        },
        {
         "metadata": "{}",
         "name": "num_inserted_rows",
         "type": "\"long\""
        }
       ],
       "type": "table"
      }
     },
     "output_type": "display_data"
    }
   ],
   "source": [
    "%sql\n",
    "INSERT INTO jogador VALUES\n",
    "(801, 801, 8, 'Devonte'' Graham', 23, 'PG', 'Kansas'),\n",
    "(802, 802, 8, 'Sviatoslav Mykhailiuk', 20, 'SG', 'Kansas'),\n",
    "(803, 803, 8, 'Malik Newman', 21, 'SG', 'Kansas'),\n",
    "(804, 804, 8, 'Lagerald Vick', 21, 'SG', 'Kansas'),\n",
    "(805, 805, 8, 'Udoka Azubuike', 18, 'C', 'Kansas'),\n",
    "(806, 806, 8, 'Marcus Garrett', 19, 'SG', 'Kansas'),\n",
    "(807, 807, 8, 'Mitch Lightfoot', 20, 'PF', 'Kansas'),\n",
    "(808, 808, 8, 'Silvio De Sousa', 19, 'PF', 'Kansas'),\n",
    "(809, 809, 8, 'Sam Cunliffe', 20, 'SG', 'Kansas'),\n",
    "(810, 810, 8, 'Chris Teahan', 20, 'SG', 'Kansas'),\n",
    "(811, 811, 8, 'Clay Young', 22, 'SF', 'Kansas'),\n",
    "(812, 812, 8, 'James Sosinski', 23, 'PF', 'Kansas');\n"
   ]
  },
  {
   "cell_type": "code",
   "execution_count": 0,
   "metadata": {
    "application/vnd.databricks.v1+cell": {
     "cellMetadata": {
      "byteLimit": 2048000,
      "implicitDf": true,
      "rowLimit": 10000
     },
     "inputWidgets": {},
     "nuid": "fa85480c-8749-48a7-a65a-9832307d115c",
     "showTitle": false,
     "tableResultSettingsMap": {},
     "title": ""
    }
   },
   "outputs": [
    {
     "output_type": "display_data",
     "data": {
      "text/html": [
       "<style scoped>\n",
       "  .table-result-container {\n",
       "    max-height: 300px;\n",
       "    overflow: auto;\n",
       "  }\n",
       "  table, th, td {\n",
       "    border: 1px solid black;\n",
       "    border-collapse: collapse;\n",
       "  }\n",
       "  th, td {\n",
       "    padding: 5px;\n",
       "  }\n",
       "  th {\n",
       "    text-align: left;\n",
       "  }\n",
       "</style><div class='table-result-container'><table class='table-result'><thead style='background-color: white'><tr><th>num_affected_rows</th><th>num_inserted_rows</th></tr></thead><tbody><tr><td>12</td><td>12</td></tr></tbody></table></div>"
      ]
     },
     "metadata": {
      "application/vnd.databricks.v1+output": {
       "addedWidgets": {},
       "aggData": [],
       "aggError": "",
       "aggOverflow": false,
       "aggSchema": [],
       "aggSeriesLimitReached": false,
       "aggType": "",
       "arguments": {},
       "columnCustomDisplayInfos": {},
       "data": [
        [
         12,
         12
        ]
       ],
       "datasetInfos": [],
       "dbfsResultPath": null,
       "isJsonSchema": true,
       "metadata": {},
       "overflow": false,
       "plotOptions": {
        "customPlotOptions": {},
        "displayType": "table",
        "pivotAggregation": null,
        "pivotColumns": null,
        "xColumns": null,
        "yColumns": null
       },
       "removedWidgets": [],
       "schema": [
        {
         "metadata": "{}",
         "name": "num_affected_rows",
         "type": "\"long\""
        },
        {
         "metadata": "{}",
         "name": "num_inserted_rows",
         "type": "\"long\""
        }
       ],
       "type": "table"
      }
     },
     "output_type": "display_data"
    }
   ],
   "source": [
    "%sql\n",
    "INSERT INTO rankings VALUES\n",
    "(801, 801, 8, 'Devonte'' Graham', 'Kansas', 36, 36, 36, 36),\n",
    "(802, 802, 8, 'Sviatoslav Mykhailiuk', 'Kansas', 25, 25, 25, 25),\n",
    "(803, 803, 8, 'Malik Newman', 'Kansas', 8, 8, 8, 8),\n",
    "(804, 804, 8, 'Lagerald Vick', 'Kansas', 79, 79, 79, 79),\n",
    "(805, 805, 8, 'Udoka Azubuike', 'Kansas', 22, 22, 22, 22),\n",
    "(806, 806, 8, 'Marcus Garrett', 'Kansas', 85, 85, 85, 85),\n",
    "(807, 807, 8, 'Mitch Lightfoot', 'Kansas', 100, 100, 100, 100),\n",
    "(808, 808, 8, 'Silvio De Sousa', 'Kansas', 28, 28, 28, 28),\n",
    "(809, 809, 8, 'Sam Cunliffe', 'Kansas', 60, 60, 60, 60),\n",
    "(810, 810, 8, 'Chris Teahan', 'Kansas', NULL, NULL, NULL, NULL),\n",
    "(811, 811, 8, 'Clay Young', 'Kansas', NULL, NULL, NULL, NULL),\n",
    "(812, 812, 8, 'James Sosinski', 'Kansas', NULL, NULL, NULL, NULL);\n"
   ]
  },
  {
   "cell_type": "code",
   "execution_count": 0,
   "metadata": {
    "application/vnd.databricks.v1+cell": {
     "cellMetadata": {
      "byteLimit": 2048000,
      "implicitDf": true,
      "rowLimit": 10000
     },
     "inputWidgets": {},
     "nuid": "f57ec02d-558d-443e-9609-96fd1fac2c45",
     "showTitle": false,
     "tableResultSettingsMap": {},
     "title": ""
    }
   },
   "outputs": [
    {
     "output_type": "display_data",
     "data": {
      "text/html": [
       "<style scoped>\n",
       "  .table-result-container {\n",
       "    max-height: 300px;\n",
       "    overflow: auto;\n",
       "  }\n",
       "  table, th, td {\n",
       "    border: 1px solid black;\n",
       "    border-collapse: collapse;\n",
       "  }\n",
       "  th, td {\n",
       "    padding: 5px;\n",
       "  }\n",
       "  th {\n",
       "    text-align: left;\n",
       "  }\n",
       "</style><div class='table-result-container'><table class='table-result'><thead style='background-color: white'><tr><th>num_affected_rows</th><th>num_inserted_rows</th></tr></thead><tbody><tr><td>12</td><td>12</td></tr></tbody></table></div>"
      ]
     },
     "metadata": {
      "application/vnd.databricks.v1+output": {
       "addedWidgets": {},
       "aggData": [],
       "aggError": "",
       "aggOverflow": false,
       "aggSchema": [],
       "aggSeriesLimitReached": false,
       "aggType": "",
       "arguments": {},
       "columnCustomDisplayInfos": {},
       "data": [
        [
         12,
         12
        ]
       ],
       "datasetInfos": [],
       "dbfsResultPath": null,
       "isJsonSchema": true,
       "metadata": {},
       "overflow": false,
       "plotOptions": {
        "customPlotOptions": {},
        "displayType": "table",
        "pivotAggregation": null,
        "pivotColumns": null,
        "xColumns": null,
        "yColumns": null
       },
       "removedWidgets": [],
       "schema": [
        {
         "metadata": "{}",
         "name": "num_affected_rows",
         "type": "\"long\""
        },
        {
         "metadata": "{}",
         "name": "num_inserted_rows",
         "type": "\"long\""
        }
       ],
       "type": "table"
      }
     },
     "output_type": "display_data"
    }
   ],
   "source": [
    "%sql\n",
    "INSERT INTO estatisticas VALUES\n",
    "(801, 801, 8, 'Devonte'' Graham', 'Kansas', 39, 17.3, 4.0, 7.2, 1.6, 0.1, 2.9, '40.0%', '40.6%', '82.7%'),\n",
    "(802, 802, 8, 'Sviatoslav Mykhailiuk', 'Kansas', 39, 14.6, 3.9, 2.7, 1.2, 0.3, 1.5, '43.4%', '44.4%', '80.4%'),\n",
    "(803, 803, 8, 'Malik Newman', 'Kansas', 39, 14.2, 5.0, 2.1, 1.1, 0.2, 1.6, '46.3%', '41.5%', '83.5%'),\n",
    "(804, 804, 8, 'Lagerald Vick', 'Kansas', 39, 12.1, 4.8, 2.1, 0.9, 0.3, 1.6, '48.8%', '37.3%', '67.3%'),\n",
    "(805, 805, 8, 'Udoka Azubuike', 'Kansas', 36, 13.0, 7.0, 0.3, 0.3, 1.7, 1.7, '77.0%', '0.0%', '41.3%'),\n",
    "(806, 806, 8, 'Marcus Garrett', 'Kansas', 39, 4.1, 3.4, 1.1, 1.1, 0.2, 0.9, '45.6%', '26.7%', '49.0%'),\n",
    "(807, 807, 8, 'Mitch Lightfoot', 'Kansas', 38, 3.8, 3.1, 0.3, 0.3, 1.4, 0.5, '57.1%', '35.3%', '72.0%'),\n",
    "(808, 808, 8, 'Silvio De Sousa', 'Kansas', 20, 4.0, 3.7, 0.2, 0.2, 0.3, 0.5, '68.1%', '0.0%', '71.4%'),\n",
    "(809, 809, 8, 'Sam Cunliffe', 'Kansas', 15, 1.9, 0.8, 0.3, 0.1, 0.1, 0.3, '54.1%', '52.0%', '80.0%'),\n",
    "(810, 810, 8, 'Chris Teahan', 'Kansas', 11, 0.5, 0.2, 0.1, 0.1, 0.0, 0.1, '50.0%', '33.3%', '100.0%'),\n",
    "(811, 811, 8, 'Clay Young', 'Kansas', 20, 0.3, 0.5, 0.2, 0.1, 0.1, 0.1, '40.0%', '0.0%', '50.0%'),\n",
    "(812, 812, 8, 'James Sosinski', 'Kansas', 7, 0.1, 0.3, 0.1, 0.0, 0.0, 0.0, '33.3%', '0.0%', '0.0%');\n"
   ]
  },
  {
   "cell_type": "code",
   "execution_count": 0,
   "metadata": {
    "application/vnd.databricks.v1+cell": {
     "cellMetadata": {
      "byteLimit": 2048000,
      "implicitDf": true,
      "rowLimit": 10000
     },
     "inputWidgets": {},
     "nuid": "f3ce11d0-120f-465a-a105-9feb4988b5ff",
     "showTitle": false,
     "tableResultSettingsMap": {},
     "title": ""
    }
   },
   "outputs": [
    {
     "output_type": "display_data",
     "data": {
      "text/html": [
       "<style scoped>\n",
       "  .table-result-container {\n",
       "    max-height: 300px;\n",
       "    overflow: auto;\n",
       "  }\n",
       "  table, th, td {\n",
       "    border: 1px solid black;\n",
       "    border-collapse: collapse;\n",
       "  }\n",
       "  th, td {\n",
       "    padding: 5px;\n",
       "  }\n",
       "  th {\n",
       "    text-align: left;\n",
       "  }\n",
       "</style><div class='table-result-container'><table class='table-result'><thead style='background-color: white'><tr><th>num_affected_rows</th><th>num_inserted_rows</th></tr></thead><tbody><tr><td>12</td><td>12</td></tr></tbody></table></div>"
      ]
     },
     "metadata": {
      "application/vnd.databricks.v1+output": {
       "addedWidgets": {},
       "aggData": [],
       "aggError": "",
       "aggOverflow": false,
       "aggSchema": [],
       "aggSeriesLimitReached": false,
       "aggType": "",
       "arguments": {},
       "columnCustomDisplayInfos": {},
       "data": [
        [
         12,
         12
        ]
       ],
       "datasetInfos": [],
       "dbfsResultPath": null,
       "isJsonSchema": true,
       "metadata": {},
       "overflow": false,
       "plotOptions": {
        "customPlotOptions": {},
        "displayType": "table",
        "pivotAggregation": null,
        "pivotColumns": null,
        "xColumns": null,
        "yColumns": null
       },
       "removedWidgets": [],
       "schema": [
        {
         "metadata": "{}",
         "name": "num_affected_rows",
         "type": "\"long\""
        },
        {
         "metadata": "{}",
         "name": "num_inserted_rows",
         "type": "\"long\""
        }
       ],
       "type": "table"
      }
     },
     "output_type": "display_data"
    }
   ],
   "source": [
    "%sql\n",
    "INSERT INTO transicao_para_nba VALUES\n",
    "(801, 801, 8, 801, 'Devonte'' Graham', 'Kansas', 2014, 2018, 1, 5, 1),\n",
    "(802, 802, 8, 802, 'Sviatoslav Mykhailiuk', 'Kansas', 2014, 2018, 1, 5, 1),\n",
    "(803, 803, 8, 803, 'Malik Newman', 'Kansas', 2017, 2018, 1, 1, 0),\n",
    "(804, 804, 8, 804, 'Lagerald Vick', 'Kansas', 2015, NULL, 0, 0, 0),\n",
    "(805, 805, 8, 805, 'Udoka Azubuike', 'Kansas', 2016, 2018, 1, 5, 1),\n",
    "(806, 806, 8, 806, 'Marcus Garrett', 'Kansas', 2017, 2021, 1, 2, 0),\n",
    "(807, 807, 8, 807, 'Mitch Lightfoot', 'Kansas', 2016, NULL, 0, 0, 0),\n",
    "(808, 808, 8, 808, 'Silvio De Sousa', 'Kansas', 2017, NULL, 0, 0, 0),\n",
    "(809, 809, 8, 809, 'Sam Cunliffe', 'Kansas', 2017, NULL, 0, 0, 0),\n",
    "(810, 810, 8, 810, 'Chris Teahan', 'Kansas', 2017, NULL, 0, 0, 0),\n",
    "(811, 811, 8, 811, 'Clay Young', 'Kansas', 2015, NULL, 0, 0, 0),\n",
    "(812, 812, 8, 812, 'James Sosinski', 'Kansas', 2017, NULL, 0, 0, 0);\n"
   ]
  },
  {
   "cell_type": "markdown",
   "metadata": {
    "application/vnd.databricks.v1+cell": {
     "cellMetadata": {},
     "inputWidgets": {},
     "nuid": "d707473a-fdbd-49cc-a1b4-1fe5dbe97ea3",
     "showTitle": false,
     "tableResultSettingsMap": {},
     "title": ""
    }
   },
   "source": [
    "### Time CLEMSON"
   ]
  },
  {
   "cell_type": "code",
   "execution_count": 0,
   "metadata": {
    "application/vnd.databricks.v1+cell": {
     "cellMetadata": {
      "byteLimit": 2048000,
      "implicitDf": true,
      "rowLimit": 10000
     },
     "inputWidgets": {},
     "nuid": "828aee73-8adb-441d-99ef-adc2bd5b5d43",
     "showTitle": false,
     "tableResultSettingsMap": {},
     "title": ""
    }
   },
   "outputs": [
    {
     "output_type": "display_data",
     "data": {
      "text/html": [
       "<style scoped>\n",
       "  .table-result-container {\n",
       "    max-height: 300px;\n",
       "    overflow: auto;\n",
       "  }\n",
       "  table, th, td {\n",
       "    border: 1px solid black;\n",
       "    border-collapse: collapse;\n",
       "  }\n",
       "  th, td {\n",
       "    padding: 5px;\n",
       "  }\n",
       "  th {\n",
       "    text-align: left;\n",
       "  }\n",
       "</style><div class='table-result-container'><table class='table-result'><thead style='background-color: white'><tr><th>num_affected_rows</th><th>num_inserted_rows</th></tr></thead><tbody><tr><td>1</td><td>1</td></tr></tbody></table></div>"
      ]
     },
     "metadata": {
      "application/vnd.databricks.v1+output": {
       "addedWidgets": {},
       "aggData": [],
       "aggError": "",
       "aggOverflow": false,
       "aggSchema": [],
       "aggSeriesLimitReached": false,
       "aggType": "",
       "arguments": {},
       "columnCustomDisplayInfos": {},
       "data": [
        [
         1,
         1
        ]
       ],
       "datasetInfos": [],
       "dbfsResultPath": null,
       "isJsonSchema": true,
       "metadata": {},
       "overflow": false,
       "plotOptions": {
        "customPlotOptions": {},
        "displayType": "table",
        "pivotAggregation": null,
        "pivotColumns": null,
        "xColumns": null,
        "yColumns": null
       },
       "removedWidgets": [],
       "schema": [
        {
         "metadata": "{}",
         "name": "num_affected_rows",
         "type": "\"long\""
        },
        {
         "metadata": "{}",
         "name": "num_inserted_rows",
         "type": "\"long\""
        }
       ],
       "type": "table"
      }
     },
     "output_type": "display_data"
    }
   ],
   "source": [
    "%sql\n",
    "INSERT INTO universidade VALUES (\n",
    "  14, 'Clemson', 'ACC', 2018, 35, 25, 'Sweet Sixteen'\n",
    ");\n"
   ]
  },
  {
   "cell_type": "code",
   "execution_count": 0,
   "metadata": {
    "application/vnd.databricks.v1+cell": {
     "cellMetadata": {
      "byteLimit": 2048000,
      "implicitDf": true,
      "rowLimit": 10000
     },
     "inputWidgets": {},
     "nuid": "77350182-ecc4-48a8-bef1-704065d5a81c",
     "showTitle": false,
     "tableResultSettingsMap": {},
     "title": ""
    }
   },
   "outputs": [
    {
     "output_type": "display_data",
     "data": {
      "text/html": [
       "<style scoped>\n",
       "  .table-result-container {\n",
       "    max-height: 300px;\n",
       "    overflow: auto;\n",
       "  }\n",
       "  table, th, td {\n",
       "    border: 1px solid black;\n",
       "    border-collapse: collapse;\n",
       "  }\n",
       "  th, td {\n",
       "    padding: 5px;\n",
       "  }\n",
       "  th {\n",
       "    text-align: left;\n",
       "  }\n",
       "</style><div class='table-result-container'><table class='table-result'><thead style='background-color: white'><tr><th>num_affected_rows</th><th>num_inserted_rows</th></tr></thead><tbody><tr><td>14</td><td>14</td></tr></tbody></table></div>"
      ]
     },
     "metadata": {
      "application/vnd.databricks.v1+output": {
       "addedWidgets": {},
       "aggData": [],
       "aggError": "",
       "aggOverflow": false,
       "aggSchema": [],
       "aggSeriesLimitReached": false,
       "aggType": "",
       "arguments": {},
       "columnCustomDisplayInfos": {},
       "data": [
        [
         14,
         14
        ]
       ],
       "datasetInfos": [],
       "dbfsResultPath": null,
       "isJsonSchema": true,
       "metadata": {},
       "overflow": false,
       "plotOptions": {
        "customPlotOptions": {},
        "displayType": "table",
        "pivotAggregation": null,
        "pivotColumns": null,
        "xColumns": null,
        "yColumns": null
       },
       "removedWidgets": [],
       "schema": [
        {
         "metadata": "{}",
         "name": "num_affected_rows",
         "type": "\"long\""
        },
        {
         "metadata": "{}",
         "name": "num_inserted_rows",
         "type": "\"long\""
        }
       ],
       "type": "table"
      }
     },
     "output_type": "display_data"
    }
   ],
   "source": [
    "%sql\n",
    "INSERT INTO jogador VALUES\n",
    "(901, 901, 9, 'Marcquise Reed', 22, 'G', 'Clemson'),\n",
    "(902, 902, 9, 'Gabe DeVoe', 23, 'G', 'Clemson'),\n",
    "(903, 903, 9, 'Shelton Mitchell', 23, 'G', 'Clemson'),\n",
    "(904, 904, 9, 'Elijah Thomas', 21, 'F', 'Clemson'),\n",
    "(905, 905, 9, 'Donte Grantham', 22, 'F', 'Clemson'),\n",
    "(906, 906, 9, 'Aamir Simms', 19, 'F', 'Clemson'),\n",
    "(907, 907, 9, 'Mark Donnal', 24, 'F', 'Clemson'),\n",
    "(908, 908, 9, 'David Skara', 23, 'F', 'Clemson'),\n",
    "(909, 909, 9, 'Clyde Trapp', 19, 'G', 'Clemson'),\n",
    "(910, 910, 9, 'A.J. Oliver', 19, 'G', 'Clemson'),\n",
    "(911, 911, 9, 'Malik William', 18, 'F', 'Clemson'),\n",
    "(912, 912, 9, 'Scott Spencer', 20, 'G', 'Clemson'),\n",
    "(913, 913, 9, 'Lyles Davis', 21, 'G', 'Clemson'),\n",
    "(914, 914, 9, 'Isaac Fields', 21, 'G', 'Clemson');\n"
   ]
  },
  {
   "cell_type": "code",
   "execution_count": 0,
   "metadata": {
    "application/vnd.databricks.v1+cell": {
     "cellMetadata": {
      "byteLimit": 2048000,
      "implicitDf": true,
      "rowLimit": 10000
     },
     "inputWidgets": {},
     "nuid": "9947f9ae-f6f2-473f-8401-df78cf7c2051",
     "showTitle": false,
     "tableResultSettingsMap": {},
     "title": ""
    }
   },
   "outputs": [
    {
     "output_type": "display_data",
     "data": {
      "text/html": [
       "<style scoped>\n",
       "  .table-result-container {\n",
       "    max-height: 300px;\n",
       "    overflow: auto;\n",
       "  }\n",
       "  table, th, td {\n",
       "    border: 1px solid black;\n",
       "    border-collapse: collapse;\n",
       "  }\n",
       "  th, td {\n",
       "    padding: 5px;\n",
       "  }\n",
       "  th {\n",
       "    text-align: left;\n",
       "  }\n",
       "</style><div class='table-result-container'><table class='table-result'><thead style='background-color: white'><tr><th>num_affected_rows</th><th>num_inserted_rows</th></tr></thead><tbody><tr><td>14</td><td>14</td></tr></tbody></table></div>"
      ]
     },
     "metadata": {
      "application/vnd.databricks.v1+output": {
       "addedWidgets": {},
       "aggData": [],
       "aggError": "",
       "aggOverflow": false,
       "aggSchema": [],
       "aggSeriesLimitReached": false,
       "aggType": "",
       "arguments": {},
       "columnCustomDisplayInfos": {},
       "data": [
        [
         14,
         14
        ]
       ],
       "datasetInfos": [],
       "dbfsResultPath": null,
       "isJsonSchema": true,
       "metadata": {},
       "overflow": false,
       "plotOptions": {
        "customPlotOptions": {},
        "displayType": "table",
        "pivotAggregation": null,
        "pivotColumns": null,
        "xColumns": null,
        "yColumns": null
       },
       "removedWidgets": [],
       "schema": [
        {
         "metadata": "{}",
         "name": "num_affected_rows",
         "type": "\"long\""
        },
        {
         "metadata": "{}",
         "name": "num_inserted_rows",
         "type": "\"long\""
        }
       ],
       "type": "table"
      }
     },
     "output_type": "display_data"
    }
   ],
   "source": [
    "%sql\n",
    "INSERT INTO rankings VALUES\n",
    "(901, 901, 9, 'Marcquise Reed', 'Clemson', NULL, NULL, NULL, NULL),\n",
    "(902, 902, 9, 'Gabe DeVoe', 'Clemson', NULL, NULL, NULL, NULL),\n",
    "(903, 903, 9, 'Shelton Mitchell', 'Clemson', 77, 76, 78, 75),\n",
    "(904, 904, 9, 'Elijah Thomas', 'Clemson', 45, 48, 46, 44),\n",
    "(905, 905, 9, 'Donte Grantham', 'Clemson', 95, 92, 94, 93),\n",
    "(906, 906, 9, 'Aamir Simms', 'Clemson', 120, 116, 115, 118),\n",
    "(907, 907, 9, 'Mark Donnal', 'Clemson', 85, 83, 82, 84),\n",
    "(908, 908, 9, 'David Skara', 'Clemson', NULL, NULL, NULL, NULL),\n",
    "(909, 909, 9, 'Clyde Trapp', 'Clemson', 110, 109, 108, 112),\n",
    "(910, 910, 9, 'A.J. Oliver', 'Clemson', 113, 112, 111, 114),\n",
    "(911, 911, 9, 'Malik William', 'Clemson', 135, 132, 131, 134),\n",
    "(912, 912, 9, 'Scott Spencer', 'Clemson', NULL, NULL, NULL, NULL),\n",
    "(913, 913, 9, 'Lyles Davis', 'Clemson', NULL, NULL, NULL, NULL),\n",
    "(914, 914, 9, 'Isaac Fields', 'Clemson', NULL, NULL, NULL, NULL);\n"
   ]
  },
  {
   "cell_type": "code",
   "execution_count": 0,
   "metadata": {
    "application/vnd.databricks.v1+cell": {
     "cellMetadata": {
      "byteLimit": 2048000,
      "implicitDf": true,
      "rowLimit": 10000
     },
     "inputWidgets": {},
     "nuid": "9b9590ea-51b3-4c58-9ff5-8c0e7c966ec0",
     "showTitle": false,
     "tableResultSettingsMap": {},
     "title": ""
    }
   },
   "outputs": [
    {
     "output_type": "display_data",
     "data": {
      "text/html": [
       "<style scoped>\n",
       "  .table-result-container {\n",
       "    max-height: 300px;\n",
       "    overflow: auto;\n",
       "  }\n",
       "  table, th, td {\n",
       "    border: 1px solid black;\n",
       "    border-collapse: collapse;\n",
       "  }\n",
       "  th, td {\n",
       "    padding: 5px;\n",
       "  }\n",
       "  th {\n",
       "    text-align: left;\n",
       "  }\n",
       "</style><div class='table-result-container'><table class='table-result'><thead style='background-color: white'><tr><th>num_affected_rows</th><th>num_inserted_rows</th></tr></thead><tbody><tr><td>5</td><td>5</td></tr></tbody></table></div>"
      ]
     },
     "metadata": {
      "application/vnd.databricks.v1+output": {
       "addedWidgets": {},
       "aggData": [],
       "aggError": "",
       "aggOverflow": false,
       "aggSchema": [],
       "aggSeriesLimitReached": false,
       "aggType": "",
       "arguments": {},
       "columnCustomDisplayInfos": {},
       "data": [
        [
         5,
         5
        ]
       ],
       "datasetInfos": [],
       "dbfsResultPath": null,
       "isJsonSchema": true,
       "metadata": {},
       "overflow": false,
       "plotOptions": {
        "customPlotOptions": {},
        "displayType": "table",
        "pivotAggregation": null,
        "pivotColumns": null,
        "xColumns": null,
        "yColumns": null
       },
       "removedWidgets": [],
       "schema": [
        {
         "metadata": "{}",
         "name": "num_affected_rows",
         "type": "\"long\""
        },
        {
         "metadata": "{}",
         "name": "num_inserted_rows",
         "type": "\"long\""
        }
       ],
       "type": "table"
      }
     },
     "output_type": "display_data"
    }
   ],
   "source": [
    "%sql\n",
    "INSERT INTO estatisticas VALUES\n",
    "(901, 901, 9, 'Marcquise Reed', 'Clemson', 35, 15.8, 4.0, 3.3, 1.4, 0.1, 1.8, '44.5%', '36.7%', '84.2%'),\n",
    "(902, 902, 9, 'Gabe DeVoe', 'Clemson', 35, 14.2, 4.7, 2.1, 0.6, 0.2, 1.5, '43.6%', '39.6%', '74.6%'),\n",
    "(903, 903, 9, 'Shelton Mitchell', 'Clemson', 32, 12.2, 3.0, 3.6, 0.9, 0.1, 2.0, '44.0%', '37.2%', '82.0%'),\n",
    "(904, 904, 9, 'Elijah Thomas', 'Clemson', 34, 10.7, 8.1, 1.0, 0.6, 2.3, 1.9, '57.1%', 'N/A', '62.5%'),\n",
    "(905, 905, 9, 'Donte Grantham', 'Clemson', 19, 14.2, 6.9, 2.4, 0.9, 0.7, 1.5, '56.0%', '42.0%', '69.0%');\n",
    "-- Jogadores reservas ou com pouco tempo de quadra podem ser omitidos por ora\n"
   ]
  },
  {
   "cell_type": "code",
   "execution_count": 0,
   "metadata": {
    "application/vnd.databricks.v1+cell": {
     "cellMetadata": {
      "byteLimit": 2048000,
      "implicitDf": true,
      "rowLimit": 10000
     },
     "inputWidgets": {},
     "nuid": "f29dfb91-79d0-4755-bc76-1504d140557e",
     "showTitle": false,
     "tableResultSettingsMap": {},
     "title": ""
    }
   },
   "outputs": [
    {
     "output_type": "display_data",
     "data": {
      "text/html": [
       "<style scoped>\n",
       "  .table-result-container {\n",
       "    max-height: 300px;\n",
       "    overflow: auto;\n",
       "  }\n",
       "  table, th, td {\n",
       "    border: 1px solid black;\n",
       "    border-collapse: collapse;\n",
       "  }\n",
       "  th, td {\n",
       "    padding: 5px;\n",
       "  }\n",
       "  th {\n",
       "    text-align: left;\n",
       "  }\n",
       "</style><div class='table-result-container'><table class='table-result'><thead style='background-color: white'><tr><th>num_affected_rows</th><th>num_inserted_rows</th></tr></thead><tbody><tr><td>5</td><td>5</td></tr></tbody></table></div>"
      ]
     },
     "metadata": {
      "application/vnd.databricks.v1+output": {
       "addedWidgets": {},
       "aggData": [],
       "aggError": "",
       "aggOverflow": false,
       "aggSchema": [],
       "aggSeriesLimitReached": false,
       "aggType": "",
       "arguments": {},
       "columnCustomDisplayInfos": {},
       "data": [
        [
         5,
         5
        ]
       ],
       "datasetInfos": [],
       "dbfsResultPath": null,
       "isJsonSchema": true,
       "metadata": {},
       "overflow": false,
       "plotOptions": {
        "customPlotOptions": {},
        "displayType": "table",
        "pivotAggregation": null,
        "pivotColumns": null,
        "xColumns": null,
        "yColumns": null
       },
       "removedWidgets": [],
       "schema": [
        {
         "metadata": "{}",
         "name": "num_affected_rows",
         "type": "\"long\""
        },
        {
         "metadata": "{}",
         "name": "num_inserted_rows",
         "type": "\"long\""
        }
       ],
       "type": "table"
      }
     },
     "output_type": "display_data"
    }
   ],
   "source": [
    "%sql\n",
    "INSERT INTO transicao_para_nba VALUES\n",
    "(901, 901, 9, 901, 'Marcquise Reed', 'Clemson', 2015, NULL, 0, 0, 0),\n",
    "(902, 902, 9, 902, 'Gabe DeVoe', 'Clemson', 2014, NULL, 0, 0, 0),\n",
    "(903, 903, 9, 903, 'Shelton Mitchell', 'Clemson', 2014, NULL, 0, 0, 0),\n",
    "(904, 904, 9, 904, 'Elijah Thomas', 'Clemson', 2015, NULL, 0, 0, 0),\n",
    "(905, 905, 9, 905, 'Donte Grantham', 'Clemson', 2014, 2018, 1, 2, 0);\n"
   ]
  },
  {
   "cell_type": "markdown",
   "metadata": {
    "application/vnd.databricks.v1+cell": {
     "cellMetadata": {},
     "inputWidgets": {},
     "nuid": "471b6199-2c69-4353-b539-239f06978dd9",
     "showTitle": false,
     "tableResultSettingsMap": {},
     "title": ""
    }
   },
   "source": [
    "### Time SYRACUSE"
   ]
  },
  {
   "cell_type": "code",
   "execution_count": 0,
   "metadata": {
    "application/vnd.databricks.v1+cell": {
     "cellMetadata": {
      "byteLimit": 2048000,
      "implicitDf": true,
      "rowLimit": 10000
     },
     "inputWidgets": {},
     "nuid": "12da633a-445d-4a03-adf5-5c7622d31f5d",
     "showTitle": false,
     "tableResultSettingsMap": {},
     "title": ""
    }
   },
   "outputs": [
    {
     "output_type": "display_data",
     "data": {
      "text/html": [
       "<style scoped>\n",
       "  .table-result-container {\n",
       "    max-height: 300px;\n",
       "    overflow: auto;\n",
       "  }\n",
       "  table, th, td {\n",
       "    border: 1px solid black;\n",
       "    border-collapse: collapse;\n",
       "  }\n",
       "  th, td {\n",
       "    padding: 5px;\n",
       "  }\n",
       "  th {\n",
       "    text-align: left;\n",
       "  }\n",
       "</style><div class='table-result-container'><table class='table-result'><thead style='background-color: white'><tr><th>num_affected_rows</th><th>num_inserted_rows</th></tr></thead><tbody><tr><td>1</td><td>1</td></tr></tbody></table></div>"
      ]
     },
     "metadata": {
      "application/vnd.databricks.v1+output": {
       "addedWidgets": {},
       "aggData": [],
       "aggError": "",
       "aggOverflow": false,
       "aggSchema": [],
       "aggSeriesLimitReached": false,
       "aggType": "",
       "arguments": {},
       "columnCustomDisplayInfos": {},
       "data": [
        [
         1,
         1
        ]
       ],
       "datasetInfos": [],
       "dbfsResultPath": null,
       "isJsonSchema": true,
       "metadata": {},
       "overflow": false,
       "plotOptions": {
        "customPlotOptions": {},
        "displayType": "table",
        "pivotAggregation": null,
        "pivotColumns": null,
        "xColumns": null,
        "yColumns": null
       },
       "removedWidgets": [],
       "schema": [
        {
         "metadata": "{}",
         "name": "num_affected_rows",
         "type": "\"long\""
        },
        {
         "metadata": "{}",
         "name": "num_inserted_rows",
         "type": "\"long\""
        }
       ],
       "type": "table"
      }
     },
     "output_type": "display_data"
    }
   ],
   "source": [
    "%sql\n",
    "INSERT INTO universidade VALUES (\n",
    "  15, 'Syracuse', 'ACC', 2018, 37, 23, 'Sweet Sixteen'\n",
    ");\n"
   ]
  },
  {
   "cell_type": "code",
   "execution_count": 0,
   "metadata": {
    "application/vnd.databricks.v1+cell": {
     "cellMetadata": {
      "byteLimit": 2048000,
      "implicitDf": true,
      "rowLimit": 10000
     },
     "inputWidgets": {},
     "nuid": "6cde36f2-3541-450d-b5cc-5dddf2eebf5f",
     "showTitle": false,
     "tableResultSettingsMap": {},
     "title": ""
    }
   },
   "outputs": [
    {
     "output_type": "display_data",
     "data": {
      "text/html": [
       "<style scoped>\n",
       "  .table-result-container {\n",
       "    max-height: 300px;\n",
       "    overflow: auto;\n",
       "  }\n",
       "  table, th, td {\n",
       "    border: 1px solid black;\n",
       "    border-collapse: collapse;\n",
       "  }\n",
       "  th, td {\n",
       "    padding: 5px;\n",
       "  }\n",
       "  th {\n",
       "    text-align: left;\n",
       "  }\n",
       "</style><div class='table-result-container'><table class='table-result'><thead style='background-color: white'><tr><th>num_affected_rows</th><th>num_inserted_rows</th></tr></thead><tbody><tr><td>14</td><td>14</td></tr></tbody></table></div>"
      ]
     },
     "metadata": {
      "application/vnd.databricks.v1+output": {
       "addedWidgets": {},
       "aggData": [],
       "aggError": "",
       "aggOverflow": false,
       "aggSchema": [],
       "aggSeriesLimitReached": false,
       "aggType": "",
       "arguments": {},
       "columnCustomDisplayInfos": {},
       "data": [
        [
         14,
         14
        ]
       ],
       "datasetInfos": [],
       "dbfsResultPath": null,
       "isJsonSchema": true,
       "metadata": {},
       "overflow": false,
       "plotOptions": {
        "customPlotOptions": {},
        "displayType": "table",
        "pivotAggregation": null,
        "pivotColumns": null,
        "xColumns": null,
        "yColumns": null
       },
       "removedWidgets": [],
       "schema": [
        {
         "metadata": "{}",
         "name": "num_affected_rows",
         "type": "\"long\""
        },
        {
         "metadata": "{}",
         "name": "num_inserted_rows",
         "type": "\"long\""
        }
       ],
       "type": "table"
      }
     },
     "output_type": "display_data"
    }
   ],
   "source": [
    "%sql\n",
    "INSERT INTO jogador VALUES\n",
    "(1001, 1001, 10, 'Tyus Battle', 20, 'G', 'Syracuse'),\n",
    "(1002, 1002, 10, 'Oshae Brissett', 19, 'F', 'Syracuse'),\n",
    "(1003, 1003, 10, 'Frank Howard', 21, 'G', 'Syracuse'),\n",
    "(1004, 1004, 10, 'Marek Dolezaj', 19, 'F', 'Syracuse'),\n",
    "(1005, 1005, 10, 'Paschal Chukwu', 23, 'C', 'Syracuse'),\n",
    "(1006, 1006, 10, 'Matthew Moyer', 20, 'F', 'Syracuse'),\n",
    "(1007, 1007, 10, 'Bourama Sidibe', 20, 'C', 'Syracuse'),\n",
    "(1008, 1008, 10, 'Geno Thorpe', 23, 'G', 'Syracuse'),\n",
    "(1009, 1009, 10, 'Howard Washington', 19, 'G', 'Syracuse'),\n",
    "(1010, 1010, 10, 'Braedon Bayer', 22, 'G', 'Syracuse'),\n",
    "(1011, 1011, 10, 'Shaun Belbey', 21, 'G', 'Syracuse'),\n",
    "(1012, 1012, 10, 'Patrick Herlihy', 22, 'F', 'Syracuse'),\n",
    "(1013, 1013, 10, 'Adrian Autry Jr.', 20, 'G', 'Syracuse'),\n",
    "(1014, 1014, 10, 'Ray Featherston', 21, 'G', 'Syracuse');\n"
   ]
  },
  {
   "cell_type": "code",
   "execution_count": 0,
   "metadata": {
    "application/vnd.databricks.v1+cell": {
     "cellMetadata": {
      "byteLimit": 2048000,
      "implicitDf": true,
      "rowLimit": 10000
     },
     "inputWidgets": {},
     "nuid": "955c8984-6459-4e59-b1eb-4e1460dcadc6",
     "showTitle": false,
     "tableResultSettingsMap": {},
     "title": ""
    }
   },
   "outputs": [
    {
     "output_type": "display_data",
     "data": {
      "text/html": [
       "<style scoped>\n",
       "  .table-result-container {\n",
       "    max-height: 300px;\n",
       "    overflow: auto;\n",
       "  }\n",
       "  table, th, td {\n",
       "    border: 1px solid black;\n",
       "    border-collapse: collapse;\n",
       "  }\n",
       "  th, td {\n",
       "    padding: 5px;\n",
       "  }\n",
       "  th {\n",
       "    text-align: left;\n",
       "  }\n",
       "</style><div class='table-result-container'><table class='table-result'><thead style='background-color: white'><tr><th>num_affected_rows</th><th>num_inserted_rows</th></tr></thead><tbody><tr><td>14</td><td>14</td></tr></tbody></table></div>"
      ]
     },
     "metadata": {
      "application/vnd.databricks.v1+output": {
       "addedWidgets": {},
       "aggData": [],
       "aggError": "",
       "aggOverflow": false,
       "aggSchema": [],
       "aggSeriesLimitReached": false,
       "aggType": "",
       "arguments": {},
       "columnCustomDisplayInfos": {},
       "data": [
        [
         14,
         14
        ]
       ],
       "datasetInfos": [],
       "dbfsResultPath": null,
       "isJsonSchema": true,
       "metadata": {},
       "overflow": false,
       "plotOptions": {
        "customPlotOptions": {},
        "displayType": "table",
        "pivotAggregation": null,
        "pivotColumns": null,
        "xColumns": null,
        "yColumns": null
       },
       "removedWidgets": [],
       "schema": [
        {
         "metadata": "{}",
         "name": "num_affected_rows",
         "type": "\"long\""
        },
        {
         "metadata": "{}",
         "name": "num_inserted_rows",
         "type": "\"long\""
        }
       ],
       "type": "table"
      }
     },
     "output_type": "display_data"
    }
   ],
   "source": [
    "%sql\n",
    "INSERT INTO rankings VALUES\n",
    "(1001, 1001, 10, 'Tyus Battle', 'Syracuse', 25, 24, 26, 23),\n",
    "(1002, 1002, 10, 'Oshae Brissett', 'Syracuse', 45, 47, 46, 44),\n",
    "(1003, 1003, 10, 'Frank Howard', 'Syracuse', 60, 58, 59, 61),\n",
    "(1004, 1004, 10, 'Marek Dolezaj', 'Syracuse', NULL, NULL, NULL, NULL),\n",
    "(1005, 1005, 10, 'Paschal Chukwu', 'Syracuse', NULL, NULL, NULL, NULL),\n",
    "(1006, 1006, 10, 'Matthew Moyer', 'Syracuse', 80, 82, 81, 79),\n",
    "(1007, 1007, 10, 'Bourama Sidibe', 'Syracuse', 90, 88, 89, 91),\n",
    "(1008, 1008, 10, 'Geno Thorpe', 'Syracuse', NULL, NULL, NULL, NULL),\n",
    "(1009, 1009, 10, 'Howard Washington', 'Syracuse', 100, 102, 101, 99),\n",
    "(1010, 1010, 10, 'Braedon Bayer', 'Syracuse', NULL, NULL, NULL, NULL),\n",
    "(1011, 1011, 10, 'Shaun Belbey', 'Syracuse', NULL, NULL, NULL, NULL),\n",
    "(1012, 1012, 10, 'Patrick Herlihy', 'Syracuse', NULL, NULL, NULL, NULL),\n",
    "(1013, 1013, 10, 'Adrian Autry Jr.', 'Syracuse', NULL, NULL, NULL, NULL),\n",
    "(1014, 1014, 10, 'Ray Featherston', 'Syracuse', NULL, NULL, NULL, NULL);\n"
   ]
  },
  {
   "cell_type": "code",
   "execution_count": 0,
   "metadata": {
    "application/vnd.databricks.v1+cell": {
     "cellMetadata": {
      "byteLimit": 2048000,
      "implicitDf": true,
      "rowLimit": 10000
     },
     "inputWidgets": {},
     "nuid": "71722985-6f20-46e3-b4b3-ca07165a68f3",
     "showTitle": false,
     "tableResultSettingsMap": {},
     "title": ""
    }
   },
   "outputs": [
    {
     "output_type": "display_data",
     "data": {
      "text/html": [
       "<style scoped>\n",
       "  .table-result-container {\n",
       "    max-height: 300px;\n",
       "    overflow: auto;\n",
       "  }\n",
       "  table, th, td {\n",
       "    border: 1px solid black;\n",
       "    border-collapse: collapse;\n",
       "  }\n",
       "  th, td {\n",
       "    padding: 5px;\n",
       "  }\n",
       "  th {\n",
       "    text-align: left;\n",
       "  }\n",
       "</style><div class='table-result-container'><table class='table-result'><thead style='background-color: white'><tr><th>num_affected_rows</th><th>num_inserted_rows</th></tr></thead><tbody><tr><td>14</td><td>14</td></tr></tbody></table></div>"
      ]
     },
     "metadata": {
      "application/vnd.databricks.v1+output": {
       "addedWidgets": {},
       "aggData": [],
       "aggError": "",
       "aggOverflow": false,
       "aggSchema": [],
       "aggSeriesLimitReached": false,
       "aggType": "",
       "arguments": {},
       "columnCustomDisplayInfos": {},
       "data": [
        [
         14,
         14
        ]
       ],
       "datasetInfos": [],
       "dbfsResultPath": null,
       "isJsonSchema": true,
       "metadata": {},
       "overflow": false,
       "plotOptions": {
        "customPlotOptions": {},
        "displayType": "table",
        "pivotAggregation": null,
        "pivotColumns": null,
        "xColumns": null,
        "yColumns": null
       },
       "removedWidgets": [],
       "schema": [
        {
         "metadata": "{}",
         "name": "num_affected_rows",
         "type": "\"long\""
        },
        {
         "metadata": "{}",
         "name": "num_inserted_rows",
         "type": "\"long\""
        }
       ],
       "type": "table"
      }
     },
     "output_type": "display_data"
    }
   ],
   "source": [
    "%sql\n",
    "INSERT INTO estatisticas VALUES\n",
    "(1001, 1001, 10, 'Tyus Battle', 'Syracuse', 37, 19.2, 2.9, 2.1, 1.5, 0.2, 2.4, '39.9%', '32.2%', '83.9%'),\n",
    "(1002, 1002, 10, 'Oshae Brissett', 'Syracuse', 37, 14.9, 8.8, 0.9, 1.2, 0.8, 1.9, '35.4%', '33.1%', '78.7%'),\n",
    "(1003, 1003, 10, 'Frank Howard', 'Syracuse', 37, 14.4, 3.5, 4.7, 1.8, 0.3, 3.4, '38.3%', '32.7%', '75.0%'),\n",
    "(1004, 1004, 10, 'Marek Dolezaj', 'Syracuse', 37, 5.8, 4.8, 1.5, 0.8, 0.8, 1.4, '56.1%', '25.0%', '70.0%'),\n",
    "(1005, 1005, 10, 'Paschal Chukwu', 'Syracuse', 37, 5.4, 6.8, 0.4, 0.7, 2.5, 1.1, '65.0%', NULL, '50.0%'),\n",
    "(1006, 1006, 10, 'Matthew Moyer', 'Syracuse', 35, 3.2, 3.4, 0.5, 0.4, 0.3, 0.7, '40.0%', '30.0%', '60.0%'),\n",
    "(1007, 1007, 10, 'Bourama Sidibe', 'Syracuse', 30, 2.7, 3.2, 0.1, 0.3, 0.7, 0.9, '45.0%', NULL, '55.0%'),\n",
    "(1008, 1008, 10, 'Geno Thorpe', 'Syracuse', 6, 6.0, 0.8, 1.0, 1.0, 0.0, 1.2, '35.0%', '25.0%', '70.0%'),\n",
    "(1009, 1009, 10, 'Howard Washington', 'Syracuse', 18, 1.1, 0.8, 0.6, 0.3, 0.1, 0.4, '30.0%', '20.0%', '50.0%'),\n",
    "(1010, 1010, 10, 'Braedon Bayer', 'Syracuse', 9, 0.2, 0.4, 0.0, 0.1, 0.1, 0.1, '25.0%', NULL, '50.0%'),\n",
    "(1011, 1011, 10, 'Shaun Belbey', 'Syracuse', 3, 0.7, 0.0, 0.3, 0.3, 0.0, 0.0, '50.0%', NULL, NULL),\n",
    "(1012, 1012, 10, 'Patrick Herlihy', 'Syracuse', 4, 0.5, 0.2, 0.0, 0.0, 0.0, 0.0, '33.3%', NULL, NULL),\n",
    "(1013, 1013, 10, 'Adrian Autry Jr.', 'Syracuse', 3, 0.0, 0.0, 0.0, 0.0, 0.0, 0.0, NULL, NULL, NULL),\n",
    "(1014, 1014, 10, 'Ray Featherston', 'Syracuse', 3, 0.0, 0.0, 0.3, 0.0, 0.0, 0.0, NULL, NULL, NULL);\n"
   ]
  },
  {
   "cell_type": "code",
   "execution_count": 0,
   "metadata": {
    "application/vnd.databricks.v1+cell": {
     "cellMetadata": {
      "byteLimit": 2048000,
      "implicitDf": true,
      "rowLimit": 10000
     },
     "inputWidgets": {},
     "nuid": "0ca803dd-8bfa-41c6-8acc-01c99562c54f",
     "showTitle": false,
     "tableResultSettingsMap": {},
     "title": ""
    }
   },
   "outputs": [
    {
     "output_type": "display_data",
     "data": {
      "text/html": [
       "<style scoped>\n",
       "  .table-result-container {\n",
       "    max-height: 300px;\n",
       "    overflow: auto;\n",
       "  }\n",
       "  table, th, td {\n",
       "    border: 1px solid black;\n",
       "    border-collapse: collapse;\n",
       "  }\n",
       "  th, td {\n",
       "    padding: 5px;\n",
       "  }\n",
       "  th {\n",
       "    text-align: left;\n",
       "  }\n",
       "</style><div class='table-result-container'><table class='table-result'><thead style='background-color: white'><tr><th>num_affected_rows</th><th>num_inserted_rows</th></tr></thead><tbody><tr><td>14</td><td>14</td></tr></tbody></table></div>"
      ]
     },
     "metadata": {
      "application/vnd.databricks.v1+output": {
       "addedWidgets": {},
       "aggData": [],
       "aggError": "",
       "aggOverflow": false,
       "aggSchema": [],
       "aggSeriesLimitReached": false,
       "aggType": "",
       "arguments": {},
       "columnCustomDisplayInfos": {},
       "data": [
        [
         14,
         14
        ]
       ],
       "datasetInfos": [],
       "dbfsResultPath": null,
       "isJsonSchema": true,
       "metadata": {},
       "overflow": false,
       "plotOptions": {
        "customPlotOptions": {},
        "displayType": "table",
        "pivotAggregation": null,
        "pivotColumns": null,
        "xColumns": null,
        "yColumns": null
       },
       "removedWidgets": [],
       "schema": [
        {
         "metadata": "{}",
         "name": "num_affected_rows",
         "type": "\"long\""
        },
        {
         "metadata": "{}",
         "name": "num_inserted_rows",
         "type": "\"long\""
        }
       ],
       "type": "table"
      }
     },
     "output_type": "display_data"
    }
   ],
   "source": [
    "%sql\n",
    "INSERT INTO transicao_para_nba VALUES\n",
    "(1001, 1001, 10, 1001, 'Tyus Battle', 'Syracuse', 2016, 2019, 0, 0, 0),\n",
    "(1002, 1002, 10, 1002, 'Oshae Brissett', 'Syracuse', 2017, 2019, 1, 4, 1),\n",
    "(1003, 1003, 10, 1003, 'Frank Howard', 'Syracuse', 2015, NULL, 0, 0, 0),\n",
    "(1004, 1004, 10, 1004, 'Marek Dolezaj', 'Syracuse', 2017, NULL, 0, 0, 0),\n",
    "(1005, 1005, 10, 1005, 'Paschal Chukwu', 'Syracuse', 2015, NULL, 0, 0, 0),\n",
    "(1006, 1006, 10, 1006, 'Matthew Moyer', 'Syracuse', 2016, NULL, 0, 0, 0),\n",
    "(1007, 1007, 10, 1007, 'Bourama Sidibe', 'Syracuse', 2017, NULL, 0, 0, 0),\n",
    "(1008, 1008, 10, 1008, 'Geno Thorpe', 'Syracuse', 2013, 2018, 0, 0, 0),\n",
    "(1009, 1009, 10, 1009, 'Howard Washington', 'Syracuse', 2017, NULL, 0, 0, 0),\n",
    "(1010, 1010, 10, 1010, 'Braedon Bayer', 'Syracuse', 2017, NULL, 0, 0, 0),\n",
    "(1011, 1011, 10, 1011, 'Shaun Belbey', 'Syracuse', 2015, NULL, 0, 0, 0),\n",
    "(1012, 1012, 10, 1012, 'Patrick Herlihy', 'Syracuse', 2015, NULL, 0, 0, 0),\n",
    "(1013, 1013, 10, 1013, 'Adrian Autry Jr.', 'Syracuse', 2016, NULL, 0, 0, 0),\n",
    "(1014, 1014, 10, 1014, 'Ray Featherston', 'Syracuse', 2016, NULL, 0, 0, 0);\n"
   ]
  },
  {
   "cell_type": "markdown",
   "metadata": {
    "application/vnd.databricks.v1+cell": {
     "cellMetadata": {},
     "inputWidgets": {},
     "nuid": "d4823cbc-9c59-48cc-b5c0-e8fb77243bca",
     "showTitle": false,
     "tableResultSettingsMap": {},
     "title": ""
    }
   },
   "source": [
    "### Time DUKE"
   ]
  },
  {
   "cell_type": "code",
   "execution_count": 0,
   "metadata": {
    "application/vnd.databricks.v1+cell": {
     "cellMetadata": {
      "byteLimit": 2048000,
      "implicitDf": true,
      "rowLimit": 10000
     },
     "inputWidgets": {},
     "nuid": "f8dbdd1b-5930-4ced-ba48-339c40f9dbf3",
     "showTitle": false,
     "tableResultSettingsMap": {},
     "title": ""
    }
   },
   "outputs": [
    {
     "output_type": "display_data",
     "data": {
      "text/html": [
       "<style scoped>\n",
       "  .table-result-container {\n",
       "    max-height: 300px;\n",
       "    overflow: auto;\n",
       "  }\n",
       "  table, th, td {\n",
       "    border: 1px solid black;\n",
       "    border-collapse: collapse;\n",
       "  }\n",
       "  th, td {\n",
       "    padding: 5px;\n",
       "  }\n",
       "  th {\n",
       "    text-align: left;\n",
       "  }\n",
       "</style><div class='table-result-container'><table class='table-result'><thead style='background-color: white'><tr><th>num_affected_rows</th><th>num_inserted_rows</th></tr></thead><tbody><tr><td>1</td><td>1</td></tr></tbody></table></div>"
      ]
     },
     "metadata": {
      "application/vnd.databricks.v1+output": {
       "addedWidgets": {},
       "aggData": [],
       "aggError": "",
       "aggOverflow": false,
       "aggSchema": [],
       "aggSeriesLimitReached": false,
       "aggType": "",
       "arguments": {},
       "columnCustomDisplayInfos": {},
       "data": [
        [
         1,
         1
        ]
       ],
       "datasetInfos": [],
       "dbfsResultPath": null,
       "isJsonSchema": true,
       "metadata": {},
       "overflow": false,
       "plotOptions": {
        "customPlotOptions": {},
        "displayType": "table",
        "pivotAggregation": null,
        "pivotColumns": null,
        "xColumns": null,
        "yColumns": null
       },
       "removedWidgets": [],
       "schema": [
        {
         "metadata": "{}",
         "name": "num_affected_rows",
         "type": "\"long\""
        },
        {
         "metadata": "{}",
         "name": "num_inserted_rows",
         "type": "\"long\""
        }
       ],
       "type": "table"
      }
     },
     "output_type": "display_data"
    }
   ],
   "source": [
    "%sql\n",
    "INSERT INTO universidade VALUES (\n",
    "  16, 'Duke', 'ACC', 2018, 37, 29, 'Elite Eight'\n",
    ");\n"
   ]
  },
  {
   "cell_type": "code",
   "execution_count": 0,
   "metadata": {
    "application/vnd.databricks.v1+cell": {
     "cellMetadata": {
      "byteLimit": 2048000,
      "implicitDf": true,
      "rowLimit": 10000
     },
     "inputWidgets": {},
     "nuid": "0b6dcdd5-7593-452c-9caf-b9e8ef39386c",
     "showTitle": false,
     "tableResultSettingsMap": {},
     "title": ""
    }
   },
   "outputs": [
    {
     "output_type": "display_data",
     "data": {
      "text/html": [
       "<style scoped>\n",
       "  .table-result-container {\n",
       "    max-height: 300px;\n",
       "    overflow: auto;\n",
       "  }\n",
       "  table, th, td {\n",
       "    border: 1px solid black;\n",
       "    border-collapse: collapse;\n",
       "  }\n",
       "  th, td {\n",
       "    padding: 5px;\n",
       "  }\n",
       "  th {\n",
       "    text-align: left;\n",
       "  }\n",
       "</style><div class='table-result-container'><table class='table-result'><thead style='background-color: white'><tr><th>num_affected_rows</th><th>num_inserted_rows</th></tr></thead><tbody><tr><td>14</td><td>14</td></tr></tbody></table></div>"
      ]
     },
     "metadata": {
      "application/vnd.databricks.v1+output": {
       "addedWidgets": {},
       "aggData": [],
       "aggError": "",
       "aggOverflow": false,
       "aggSchema": [],
       "aggSeriesLimitReached": false,
       "aggType": "",
       "arguments": {},
       "columnCustomDisplayInfos": {},
       "data": [
        [
         14,
         14
        ]
       ],
       "datasetInfos": [],
       "dbfsResultPath": null,
       "isJsonSchema": true,
       "metadata": {},
       "overflow": false,
       "plotOptions": {
        "customPlotOptions": {},
        "displayType": "table",
        "pivotAggregation": null,
        "pivotColumns": null,
        "xColumns": null,
        "yColumns": null
       },
       "removedWidgets": [],
       "schema": [
        {
         "metadata": "{}",
         "name": "num_affected_rows",
         "type": "\"long\""
        },
        {
         "metadata": "{}",
         "name": "num_inserted_rows",
         "type": "\"long\""
        }
       ],
       "type": "table"
      }
     },
     "output_type": "display_data"
    }
   ],
   "source": [
    "%sql\n",
    "INSERT INTO jogador VALUES \n",
    "(81, 81, 9, 'Marvin Bagley', 18, 'PF', 'Duke'),\n",
    "(82, 82, 9, 'Grayson Allen', 22, 'SG', 'Duke'),\n",
    "(83, 83, 9, 'Gary Trent', 18, 'SG', 'Duke'),\n",
    "(84, 84, 9, 'Wendell Carter', 18, 'C', 'Duke'),\n",
    "(85, 85, 9, 'Trevon Duval', 19, 'PG', 'Duke'),\n",
    "(86, 86, 9, 'Alex O''Connell', 18, 'SG', 'Duke'),\n",
    "(87, 87, 9, 'Marques Bolden', 20, 'C', 'Duke'),\n",
    "(88, 88, 9, 'Javin DeLaurier', 19, 'F', 'Duke'),\n",
    "(89, 89, 9, 'Jordan Goldwire', 18, 'PG', 'Duke'),\n",
    "(90, 90, 9, 'Justin Robinson', 20, 'F', 'Duke'),\n",
    "(91, 91, 9, 'Jack White', 20, 'F', 'Duke'),\n",
    "(92, 92, 9, 'Antônio Vrankovic', 20, 'C', 'Duke'),\n",
    "(93, 93, 9, 'Jordan Tucker', 19, 'F', 'Duke'),\n",
    "(94, 94, 9, 'Mike Buckmire', 19, 'G', 'Duke');\n"
   ]
  },
  {
   "cell_type": "code",
   "execution_count": 0,
   "metadata": {
    "application/vnd.databricks.v1+cell": {
     "cellMetadata": {
      "byteLimit": 2048000,
      "implicitDf": true,
      "rowLimit": 10000
     },
     "inputWidgets": {},
     "nuid": "036542f5-5db3-457a-863b-81c7a74a96d0",
     "showTitle": false,
     "tableResultSettingsMap": {},
     "title": ""
    }
   },
   "outputs": [
    {
     "output_type": "display_data",
     "data": {
      "text/html": [
       "<style scoped>\n",
       "  .table-result-container {\n",
       "    max-height: 300px;\n",
       "    overflow: auto;\n",
       "  }\n",
       "  table, th, td {\n",
       "    border: 1px solid black;\n",
       "    border-collapse: collapse;\n",
       "  }\n",
       "  th, td {\n",
       "    padding: 5px;\n",
       "  }\n",
       "  th {\n",
       "    text-align: left;\n",
       "  }\n",
       "</style><div class='table-result-container'><table class='table-result'><thead style='background-color: white'><tr><th>num_affected_rows</th><th>num_inserted_rows</th></tr></thead><tbody><tr><td>14</td><td>14</td></tr></tbody></table></div>"
      ]
     },
     "metadata": {
      "application/vnd.databricks.v1+output": {
       "addedWidgets": {},
       "aggData": [],
       "aggError": "",
       "aggOverflow": false,
       "aggSchema": [],
       "aggSeriesLimitReached": false,
       "aggType": "",
       "arguments": {},
       "columnCustomDisplayInfos": {},
       "data": [
        [
         14,
         14
        ]
       ],
       "datasetInfos": [],
       "dbfsResultPath": null,
       "isJsonSchema": true,
       "metadata": {},
       "overflow": false,
       "plotOptions": {
        "customPlotOptions": {},
        "displayType": "table",
        "pivotAggregation": null,
        "pivotColumns": null,
        "xColumns": null,
        "yColumns": null
       },
       "removedWidgets": [],
       "schema": [
        {
         "metadata": "{}",
         "name": "num_affected_rows",
         "type": "\"long\""
        },
        {
         "metadata": "{}",
         "name": "num_inserted_rows",
         "type": "\"long\""
        }
       ],
       "type": "table"
      }
     },
     "output_type": "display_data"
    }
   ],
   "source": [
    "%sql\n",
    "INSERT INTO rankings VALUES \n",
    "(81, 81, 9, 'Marvin Bagley', 'Duke', 1, 1, 1, 1),\n",
    "(82, 82, 9, 'Grayson Allen', 'Duke', 30, 21, 25, 27),\n",
    "(83, 83, 9, 'Gary Trent', 'Duke', 18, 16, 20, 17),\n",
    "(84, 84, 9, 'Wendell Carter', 'Duke', 4, 5, 6, 6),\n",
    "(85, 85, 9, 'Trevon Duval', 'Duke', 6, 7, 5, 8),\n",
    "(86, 86, 9, 'Alex O''Connell', 'Duke', 90, 80, 85, 88),\n",
    "(87, 87, 9, 'Marques Bolden', 'Duke', 11, 12, 14, 10),\n",
    "(88, 88, 9, 'Javin DeLaurier', 'Duke', 50, 45, 55, 52),\n",
    "(89, 89, 9, 'Jordan Goldwire', 'Duke', 150, 140, 135, 138),\n",
    "(90, 90, 9, 'Justin Robinson', 'Duke', NULL, NULL, NULL, NULL),\n",
    "(91, 91, 9, 'Jack White', 'Duke', NULL, NULL, NULL, NULL),\n",
    "(92, 92, 9, 'Antônio Vrankovic', 'Duke', NULL, NULL, NULL, NULL),\n",
    "(93, 93, 9, 'Jordan Tucker', 'Duke', 40, 42, 43, 41),\n",
    "(94, 94, 9, 'Mike Buckmire', 'Duke', NULL, NULL, NULL, NULL);\n"
   ]
  },
  {
   "cell_type": "code",
   "execution_count": 0,
   "metadata": {
    "application/vnd.databricks.v1+cell": {
     "cellMetadata": {
      "byteLimit": 2048000,
      "implicitDf": true,
      "rowLimit": 10000
     },
     "inputWidgets": {},
     "nuid": "79eab5b3-f30c-4e63-8f07-0bc0f1d8ffd3",
     "showTitle": false,
     "tableResultSettingsMap": {},
     "title": ""
    }
   },
   "outputs": [
    {
     "output_type": "display_data",
     "data": {
      "text/html": [
       "<style scoped>\n",
       "  .table-result-container {\n",
       "    max-height: 300px;\n",
       "    overflow: auto;\n",
       "  }\n",
       "  table, th, td {\n",
       "    border: 1px solid black;\n",
       "    border-collapse: collapse;\n",
       "  }\n",
       "  th, td {\n",
       "    padding: 5px;\n",
       "  }\n",
       "  th {\n",
       "    text-align: left;\n",
       "  }\n",
       "</style><div class='table-result-container'><table class='table-result'><thead style='background-color: white'><tr><th>num_affected_rows</th><th>num_inserted_rows</th></tr></thead><tbody><tr><td>5</td><td>5</td></tr></tbody></table></div>"
      ]
     },
     "metadata": {
      "application/vnd.databricks.v1+output": {
       "addedWidgets": {},
       "aggData": [],
       "aggError": "",
       "aggOverflow": false,
       "aggSchema": [],
       "aggSeriesLimitReached": false,
       "aggType": "",
       "arguments": {},
       "columnCustomDisplayInfos": {},
       "data": [
        [
         5,
         5
        ]
       ],
       "datasetInfos": [],
       "dbfsResultPath": null,
       "isJsonSchema": true,
       "metadata": {},
       "overflow": false,
       "plotOptions": {
        "customPlotOptions": {},
        "displayType": "table",
        "pivotAggregation": null,
        "pivotColumns": null,
        "xColumns": null,
        "yColumns": null
       },
       "removedWidgets": [],
       "schema": [
        {
         "metadata": "{}",
         "name": "num_affected_rows",
         "type": "\"long\""
        },
        {
         "metadata": "{}",
         "name": "num_inserted_rows",
         "type": "\"long\""
        }
       ],
       "type": "table"
      }
     },
     "output_type": "display_data"
    }
   ],
   "source": [
    "%sql\n",
    "INSERT INTO estatisticas VALUES \n",
    "(81, 81, 9, 'Marvin Bagley', 'Duke', 33, 21.0, 11.1, 1.5, 0.9, 0.8, 2.3, '61.4%', '39.7%', '62.7%'),\n",
    "(82, 82, 9, 'Grayson Allen', 'Duke', 37, 15.5, 3.3, 4.6, 1.7, 0.2, 2.3, '41.8%', '35.6%', '85.0%'),\n",
    "(83, 83, 9, 'Gary Trent', 'Duke', 37, 14.5, 4.2, 1.4, 1.2, 0.2, 1.0, '41.5%', '40.2%', '87.6%'),\n",
    "(84, 84, 9, 'Wendell Carter', 'Duke', 37, 13.5, 9.1, 2.0, 0.8, 2.1, 2.0, '56.1%', '41.3%', '73.8%'),\n",
    "(85, 85, 9, 'Trevon Duval', 'Duke', 37, 10.3, 2.0, 5.6, 1.5, 0.2, 3.0, '42.8%', '29.0%', '59.6%');\n"
   ]
  },
  {
   "cell_type": "code",
   "execution_count": 0,
   "metadata": {
    "application/vnd.databricks.v1+cell": {
     "cellMetadata": {
      "byteLimit": 2048000,
      "implicitDf": true,
      "rowLimit": 10000
     },
     "inputWidgets": {},
     "nuid": "cf3c27bf-2683-4c74-ad5e-e19dd9d6cd3b",
     "showTitle": false,
     "tableResultSettingsMap": {},
     "title": ""
    }
   },
   "outputs": [
    {
     "output_type": "display_data",
     "data": {
      "text/html": [
       "<style scoped>\n",
       "  .table-result-container {\n",
       "    max-height: 300px;\n",
       "    overflow: auto;\n",
       "  }\n",
       "  table, th, td {\n",
       "    border: 1px solid black;\n",
       "    border-collapse: collapse;\n",
       "  }\n",
       "  th, td {\n",
       "    padding: 5px;\n",
       "  }\n",
       "  th {\n",
       "    text-align: left;\n",
       "  }\n",
       "</style><div class='table-result-container'><table class='table-result'><thead style='background-color: white'><tr><th>num_affected_rows</th><th>num_inserted_rows</th></tr></thead><tbody><tr><td>5</td><td>5</td></tr></tbody></table></div>"
      ]
     },
     "metadata": {
      "application/vnd.databricks.v1+output": {
       "addedWidgets": {},
       "aggData": [],
       "aggError": "",
       "aggOverflow": false,
       "aggSchema": [],
       "aggSeriesLimitReached": false,
       "aggType": "",
       "arguments": {},
       "columnCustomDisplayInfos": {},
       "data": [
        [
         5,
         5
        ]
       ],
       "datasetInfos": [],
       "dbfsResultPath": null,
       "isJsonSchema": true,
       "metadata": {},
       "overflow": false,
       "plotOptions": {
        "customPlotOptions": {},
        "displayType": "table",
        "pivotAggregation": null,
        "pivotColumns": null,
        "xColumns": null,
        "yColumns": null
       },
       "removedWidgets": [],
       "schema": [
        {
         "metadata": "{}",
         "name": "num_affected_rows",
         "type": "\"long\""
        },
        {
         "metadata": "{}",
         "name": "num_inserted_rows",
         "type": "\"long\""
        }
       ],
       "type": "table"
      }
     },
     "output_type": "display_data"
    }
   ],
   "source": [
    "%sql\n",
    "INSERT INTO transicao_para_nba VALUES \n",
    "(81, 81, 9, 81, 'Marvin Bagley', 'Duke', 2017, 2018, 1, 5, 1),\n",
    "(82, 82, 9, 82, 'Grayson Allen', 'Duke', 2014, 2018, 1, 6, 1),\n",
    "(83, 83, 9, 83, 'Gary Trent', 'Duke', 2017, 2018, 1, 5, 1),\n",
    "(84, 84, 9, 84, 'Wendell Carter', 'Duke', 2017, 2018, 1, 5, 1),\n",
    "(85, 85, 9, 85, 'Trevon Duval', 'Duke', 2017, 2018, 1, 1, 0);\n"
   ]
  },
  {
   "cell_type": "code",
   "execution_count": 0,
   "metadata": {
    "application/vnd.databricks.v1+cell": {
     "cellMetadata": {},
     "inputWidgets": {},
     "nuid": "ef0daac0-97dc-4f7a-b11e-3e8e95ae7204",
     "showTitle": false,
     "tableResultSettingsMap": {},
     "title": ""
    }
   },
   "outputs": [],
   "source": []
  }
 ],
 "metadata": {
  "application/vnd.databricks.v1+notebook": {
   "computePreferences": null,
   "dashboards": [],
   "environmentMetadata": {
    "base_environment": "",
    "environment_version": "1"
   },
   "inputWidgetPreferences": null,
   "language": "python",
   "notebookMetadata": {
    "mostRecentlyExecutedCommandWithImplicitDF": {
     "commandId": 278285363308071,
     "dataframes": [
      "_sqldf"
     ]
    },
    "pythonIndentUnit": 4
   },
   "notebookName": "NBA",
   "widgets": {}
  }
 },
 "nbformat": 4,
 "nbformat_minor": 0
}