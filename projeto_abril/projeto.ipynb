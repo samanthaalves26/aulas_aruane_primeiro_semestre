{
 "cells": [
  {
   "cell_type": "code",
   "execution_count": null,
   "id": "ee35f133-3acc-40b2-80df-f61cef2490c3",
   "metadata": {},
   "outputs": [
    {
     "name": "stdout",
     "output_type": "stream",
     "text": [
      "\u001b[1mBem-vindo ao sistema de atendimento bancário!\u001b[0m\n",
      "1 - Adicionar cliente\n",
      "2 - Atender cliente\n",
      "3 - Exibir filas\n",
      "4 - Exibir histórico de atendimentos\n",
      "5 - Sair\n"
     ]
    },
    {
     "name": "stdin",
     "output_type": "stream",
     "text": [
      "Escolha uma opção:  1\n",
      "Digite o nome do cliente:  matheus\n",
      "O cliente é preferencial? (S/N):  n\n"
     ]
    },
    {
     "name": "stdout",
     "output_type": "stream",
     "text": [
      "Cliente matheus foi adicionado à fila normal.\n",
      "\u001b[1mBem-vindo ao sistema de atendimento bancário!\u001b[0m\n",
      "1 - Adicionar cliente\n",
      "2 - Atender cliente\n",
      "3 - Exibir filas\n",
      "4 - Exibir histórico de atendimentos\n",
      "5 - Sair\n"
     ]
    },
    {
     "name": "stdin",
     "output_type": "stream",
     "text": [
      "Escolha uma opção:  3\n"
     ]
    },
    {
     "name": "stdout",
     "output_type": "stream",
     "text": [
      "1 - Fila preferencial\n",
      "2 - Fila normal\n"
     ]
    },
    {
     "name": "stdin",
     "output_type": "stream",
     "text": [
      "Qual fila você gostaria de vizualizar: 1\n"
     ]
    },
    {
     "name": "stdout",
     "output_type": "stream",
     "text": [
      "Essa é a fila preferencial: []\n",
      "\u001b[1mBem-vindo ao sistema de atendimento bancário!\u001b[0m\n",
      "1 - Adicionar cliente\n",
      "2 - Atender cliente\n",
      "3 - Exibir filas\n",
      "4 - Exibir histórico de atendimentos\n",
      "5 - Sair\n"
     ]
    },
    {
     "name": "stdin",
     "output_type": "stream",
     "text": [
      "Escolha uma opção:  3\n"
     ]
    },
    {
     "name": "stdout",
     "output_type": "stream",
     "text": [
      "1 - Fila preferencial\n",
      "2 - Fila normal\n"
     ]
    },
    {
     "name": "stdin",
     "output_type": "stream",
     "text": [
      "Qual fila você gostaria de vizualizar: 2\n"
     ]
    },
    {
     "name": "stdout",
     "output_type": "stream",
     "text": [
      "Essa é a fila normal: ['matheus']\n",
      "\u001b[1mBem-vindo ao sistema de atendimento bancário!\u001b[0m\n",
      "1 - Adicionar cliente\n",
      "2 - Atender cliente\n",
      "3 - Exibir filas\n",
      "4 - Exibir histórico de atendimentos\n",
      "5 - Sair\n"
     ]
    }
   ],
   "source": [
    "fila_preferencial = []\n",
    "fila_normal = []\n",
    "historico_atendimentos = []\n",
    "\n",
    "\n",
    "def adicionar_cliente():\n",
    "    p1 = input(\"Digite o nome do cliente: \")\n",
    "    tipo_cliente = input(\"O cliente é preferencial? (S/N): \").strip().upper() \n",
    "    if tipo_cliente == \"S\":\n",
    "        fila_preferencial.append(p1)\n",
    "        print(f\"Cliente {p1} foi adicionado à fila preferencial.\")\n",
    "    elif tipo_cliente == \"N\":\n",
    "        fila_normal.append(p1)\n",
    "        print(f\"Cliente {p1} foi adicionado à fila normal.\")\n",
    "    else:\n",
    "        print(\"Opção inválida. Cliente não adicionado.\")\n",
    "\n",
    "def atender_cliente():\n",
    "\n",
    "    if fila_preferencial:\n",
    "        cliente = fila_preferencial.pop(0)\n",
    "        print(f\"Atendendo cliente preferencial: {cliente}\")\n",
    "        historico_atendimentos.append((cliente, \"Preferencial\"))\n",
    "\n",
    "\n",
    "    elif fila_normal:\n",
    "        cliente = fila_normal.pop(0)\n",
    "        print(f\"Atendendo cliente normal: {cliente}\")\n",
    "        historico_atendimentos.append((cliente, \"Normal\"))\n",
    "        \n",
    "    else:\n",
    "        print(\"Nenhum cliente na fila para atender.\")\n",
    "\n",
    "def exibir_filas():\n",
    "    print(\"1 - Fila preferencial\")\n",
    "    print(\"2 - Fila normal\")\n",
    "    \n",
    "    escolha = input(\"Qual fila você gostaria de vizualizar:\")\n",
    "    \n",
    "    if escolha == \"1\":\n",
    "        print(f\"Essa é a fila preferencial: {fila_preferencial}\")\n",
    "    elif escolha == \"2\":\n",
    "        print(f\"Essa é a fila normal: {fila_normal}\")\n",
    "    else:\n",
    "        print(\"Opção inválida\")\n",
    "\n",
    "def exibir_historico():\n",
    "    print(\"Histórico de atendimentos:\")\n",
    "    \n",
    "    if not historico_atendimentos:\n",
    "        print(\"Nenhum atendimento realizado ainda.\")\n",
    "    else:\n",
    "        print(\"Histórico de atendimentos:\")\n",
    "        for i, (cliente, tipo) in enumerate(historico_atendimentos, start=1):\n",
    "            print(f\"{i} - {cliente} ({tipo})\")\n",
    "\n",
    "    \n",
    "\n",
    "# Menu\n",
    "while True:\n",
    "    print(\"\\033[1mBem-vindo ao sistema de atendimento bancário!\\033[0m\")\n",
    "    \n",
    "    print(\"1 - Adicionar cliente\")\n",
    "    print(\"2 - Atender cliente\")\n",
    "    print(\"3 - Exibir filas\")\n",
    "    print(\"4 - Exibir histórico de atendimentos\")\n",
    "    print(\"5 - Sair\")\n",
    "    \n",
    "    opcao = input(\"Escolha uma opção: \")\n",
    "    \n",
    "    if opcao == \"1\":\n",
    "        adicionar_cliente()\n",
    "    elif opcao == \"2\":\n",
    "        atender_cliente()\n",
    "    elif opcao == \"3\":\n",
    "        exibir_filas()\n",
    "    elif opcao == \"4\":\n",
    "        exibir_historico()\n",
    "    elif opcao == \"5\":\n",
    "        print(\"Saindo do sistema. Até logo!\")\n",
    "        break\n",
    "    else:\n",
    "        print(\"Opção inválida.\")"
   ]
  },
  {
   "cell_type": "code",
   "execution_count": null,
   "id": "c09e8e23-bc4f-4f88-bf84-6466a371580c",
   "metadata": {},
   "outputs": [],
   "source": []
  }
 ],
 "metadata": {
  "kernelspec": {
   "display_name": "Python 3 (ipykernel)",
   "language": "python",
   "name": "python3"
  },
  "language_info": {
   "codemirror_mode": {
    "name": "ipython",
    "version": 3
   },
   "file_extension": ".py",
   "mimetype": "text/x-python",
   "name": "python",
   "nbconvert_exporter": "python",
   "pygments_lexer": "ipython3",
   "version": "3.12.7"
  }
 },
 "nbformat": 4,
 "nbformat_minor": 5
}
